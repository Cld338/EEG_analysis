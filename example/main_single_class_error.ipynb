{
 "cells": [
  {
   "cell_type": "code",
   "execution_count": 2,
   "metadata": {},
   "outputs": [],
   "source": [
    "from sklearn.preprocessing import StandardScaler, RobustScaler\n",
    "from mpl_toolkits.mplot3d import Axes3D \n",
    "import matplotlib.pyplot as plt\n",
    "from dataAnalyzer import *\n",
    "from private_tool import *\n",
    "from dataHandler import *\n",
    "import pandas as pd\n"
   ]
  },
  {
   "cell_type": "code",
   "execution_count": null,
   "metadata": {},
   "outputs": [],
   "source": [
    "experimentNum = 9\n",
    "experimentIdx = 4\n",
    "Experiments = [MotorImageryDataset(parentDirectory(dir=currDir, separator=\"\\\\\", n=1)+'/bcicompetitionIV2a/A0'+str(i+1)+'T.npz') for i in range(experimentNum)]"
   ]
  },
  {
   "cell_type": "code",
   "execution_count": null,
   "metadata": {},
   "outputs": [],
   "source": [
    "# [7, 9, 10, 11]\n",
    "channels = [i for i in range(1, 23)]\n",
    "\n",
    "samplingRate = 250 #Hz\n",
    "trialsByClasses =np.array([i.get_trials_by_classes(channels=channels) for i in Experiments])"
   ]
  },
  {
   "cell_type": "code",
   "execution_count": null,
   "metadata": {},
   "outputs": [
    {
     "data": {
      "text/plain": [
       "69"
      ]
     },
     "execution_count": 20,
     "metadata": {},
     "output_type": "execute_result"
    }
   ],
   "source": [
    "len(trialsByClasses[0][\"left\"][0])"
   ]
  },
  {
   "cell_type": "code",
   "execution_count": null,
   "metadata": {},
   "outputs": [
    {
     "data": {
      "text/plain": [
       "(22, 22)"
      ]
     },
     "execution_count": 21,
     "metadata": {},
     "output_type": "execute_result"
    }
   ],
   "source": [
    "channelNum = len(channels)\n",
    "m = len(trialsByClasses[0][\"left\"])\n",
    "channelNum, m"
   ]
  },
  {
   "cell_type": "code",
   "execution_count": null,
   "metadata": {},
   "outputs": [],
   "source": [
    "bandpassedTrialsByClasses = [{i:[[] for _ in range(channelNum)] for i in j.mi_types.values()} for j in Experiments]\n",
    "for k in range(experimentNum):\n",
    "    for key in trialsByClasses[k].keys():\n",
    "        for i in range(channelNum):\n",
    "            bandpassedTrialsByClasses[k][key][i] = np.array([bandpass_filter(data=trialsByClasses[k][key][i][j], \n",
    "                                                                sample_rate=samplingRate, \n",
    "                                                                cutoff_low=5, \n",
    "                                                                cutoff_high=50)\\\n",
    "                                                for j in range(len(trialsByClasses[k][key][i]))])"
   ]
  },
  {
   "cell_type": "code",
   "execution_count": null,
   "metadata": {},
   "outputs": [],
   "source": [
    "# bandpassedTrialsByClasses[2][\"left\"][2].shape"
   ]
  },
  {
   "cell_type": "code",
   "execution_count": null,
   "metadata": {},
   "outputs": [],
   "source": []
  },
  {
   "cell_type": "code",
   "execution_count": null,
   "metadata": {},
   "outputs": [
    {
     "name": "stderr",
     "output_type": "stream",
     "text": [
      "C:\\Users\\jihun\\AppData\\Local\\Temp\\ipykernel_16040\\2945900984.py:3: VisibleDeprecationWarning: Creating an ndarray from ragged nested sequences (which is a list-or-tuple of lists-or-tuples-or ndarrays with different lengths or shapes) is deprecated. If you meant to do this, you must specify 'dtype=object' when creating the ndarray.\n",
      "  bandpassedTrialsByClasses = {key: np.array([[bandpassedTrialsByClasses[i][key][j] for j in range(channelNum)] for i in range(experimentNum)]) for key in Experiments[0].mi_types.values()}\n"
     ]
    }
   ],
   "source": [
    "# 현재 상태는 experiment - class - channel - trial - signal\n",
    "# class - experiment - trial - channel - signal로 수정하자\n",
    "bandpassedTrialsByClasses = {key: np.array([[bandpassedTrialsByClasses[i][key][j] for j in range(channelNum)] for i in range(experimentNum)]) for key in Experiments[0].mi_types.values()}\n",
    "# bandpassedTrialsByClasses[\"left\"][8][0].shape\n",
    "# i: experiment\n",
    "# j: trial"
   ]
  },
  {
   "cell_type": "code",
   "execution_count": null,
   "metadata": {},
   "outputs": [],
   "source": [
    "minTrialsNum = sorted([len(bandpassedTrialsByClasses[\"left\"][i][0]) for i in range(experimentNum)])[0]\n",
    "bandpassedTrialsByClasses = {i:[bandpassedTrialsByClasses[i][j] for j in range(experimentNum)] for i in Experiments[0].mi_types.values()}"
   ]
  },
  {
   "cell_type": "code",
   "execution_count": null,
   "metadata": {},
   "outputs": [],
   "source": [
    "left_csp_filter = CSP_filter(len(bandpassedTrialsByClasses[\"left\"][experimentIdx]), bandpassedTrialsByClasses[\"left\"][experimentIdx])\n",
    "right_csp_filter = CSP_filter(len(bandpassedTrialsByClasses[\"right\"][experimentIdx]), bandpassedTrialsByClasses[\"right\"][experimentIdx])\n",
    "tongue_csp_filter = CSP_filter(len(bandpassedTrialsByClasses[\"tongue\"][experimentIdx]), bandpassedTrialsByClasses[\"tongue\"][experimentIdx])\n",
    "foot_csp_filter = CSP_filter(len(bandpassedTrialsByClasses[\"foot\"][experimentIdx]), bandpassedTrialsByClasses[\"foot\"][experimentIdx])"
   ]
  },
  {
   "cell_type": "code",
   "execution_count": null,
   "metadata": {},
   "outputs": [],
   "source": [
    "bandpassedTrials = {i:[] for i in Experiments[0].mi_types.values()}\n",
    "for i in Experiments[0].mi_types.values():\n",
    "    for j in range(len(bandpassedTrialsByClasses)):\n",
    "        bandpassedTrials[i]"
   ]
  },
  {
   "cell_type": "code",
   "execution_count": null,
   "metadata": {},
   "outputs": [],
   "source": [
    "# CSP_passed_left_data = np.array([[bandpassedTrialsByClasses[i][j].T@left_csp_filter for j in range(minTrialsNum)] for i in range(experimentNum)])\n",
    "CSP_passed_left_data = [j.T@left_csp_filter for j in bandpassedTrialsByClasses[\"left\"][experimentIdx]]\n",
    "CSP_passed_right_data = [j.T@right_csp_filter for j in bandpassedTrialsByClasses[\"right\"][experimentIdx]]\n",
    "CSP_passed_tongue_data = [j.T@tongue_csp_filter for j in bandpassedTrialsByClasses[\"tongue\"][experimentIdx]]\n",
    "CSP_passed_foot_data = [j.T@foot_csp_filter for j in bandpassedTrialsByClasses[\"foot\"][experimentIdx]]"
   ]
  },
  {
   "cell_type": "code",
   "execution_count": null,
   "metadata": {},
   "outputs": [
    {
     "data": {
      "text/plain": [
       "22"
      ]
     },
     "execution_count": 29,
     "metadata": {},
     "output_type": "execute_result"
    }
   ],
   "source": [
    "len(CSP_passed_left_data)"
   ]
  },
  {
   "cell_type": "code",
   "execution_count": null,
   "metadata": {},
   "outputs": [],
   "source": [
    "# bandpassedTrialsByClasses[\"right\"][0][\"right\"][0]"
   ]
  },
  {
   "cell_type": "code",
   "execution_count": null,
   "metadata": {},
   "outputs": [],
   "source": [
    "# print(array(CSP_passed_left_data).shape)\n",
    "CSP_passed_left_data = [np.array([j.T for j in i]).T for i in CSP_passed_left_data]\n",
    "CSP_passed_right_data = [np.array([j.T for j in i]).T for i in CSP_passed_right_data]\n",
    "CSP_passed_tongue_data = [np.array([j.T for j in i]).T for i in CSP_passed_tongue_data]\n",
    "CSP_passed_foot_data = [np.array([j.T for j in i]).T for i in CSP_passed_foot_data]"
   ]
  },
  {
   "cell_type": "code",
   "execution_count": null,
   "metadata": {},
   "outputs": [],
   "source": [
    "# array(CSP_passed_left_data).shape"
   ]
  },
  {
   "cell_type": "code",
   "execution_count": null,
   "metadata": {},
   "outputs": [],
   "source": [
    "CSP_passed_left_data = np.array([i.T for i in np.array(CSP_passed_left_data).T]).T\n",
    "CSP_passed_right_data = np.array([i.T for i in np.array(CSP_passed_right_data).T]).T\n",
    "CSP_passed_tongue_data = np.array([i.T for i in np.array(CSP_passed_tongue_data).T]).T\n",
    "CSP_passed_foot_data = np.array([i.T for i in np.array(CSP_passed_foot_data).T]).T"
   ]
  },
  {
   "cell_type": "code",
   "execution_count": null,
   "metadata": {},
   "outputs": [
    {
     "ename": "IndexError",
     "evalue": "index 22 is out of bounds for axis 0 with size 22",
     "output_type": "error",
     "traceback": [
      "\u001b[1;31m---------------------------------------------------------------------------\u001b[0m",
      "\u001b[1;31mIndexError\u001b[0m                                Traceback (most recent call last)",
      "\u001b[1;32mc:\\Users\\jihun\\OneDrive\\바탕 화면\\openvibe\\source code\\EEG_analysis\\example\\main_single_class.ipynb 셀 19\u001b[0m in \u001b[0;36m<cell line: 4>\u001b[1;34m()\u001b[0m\n\u001b[0;32m      <a href='vscode-notebook-cell:/c%3A/Users/jihun/OneDrive/%EB%B0%94%ED%83%95%20%ED%99%94%EB%A9%B4/openvibe/source%20code/EEG_analysis/example/main_single_class.ipynb#X24sZmlsZQ%3D%3D?line=0'>1</a>\u001b[0m \u001b[39mfrom\u001b[39;00m \u001b[39mmath\u001b[39;00m \u001b[39mimport\u001b[39;00m log\n\u001b[0;32m      <a href='vscode-notebook-cell:/c%3A/Users/jihun/OneDrive/%EB%B0%94%ED%83%95%20%ED%99%94%EB%A9%B4/openvibe/source%20code/EEG_analysis/example/main_single_class.ipynb#X24sZmlsZQ%3D%3D?line=1'>2</a>\u001b[0m m \u001b[39m=\u001b[39m \u001b[39m3\u001b[39m\n\u001b[1;32m----> <a href='vscode-notebook-cell:/c%3A/Users/jihun/OneDrive/%EB%B0%94%ED%83%95%20%ED%99%94%EB%A9%B4/openvibe/source%20code/EEG_analysis/example/main_single_class.ipynb#X24sZmlsZQ%3D%3D?line=3'>4</a>\u001b[0m leftVar \u001b[39m=\u001b[39m np\u001b[39m.\u001b[39marray([np\u001b[39m.\u001b[39marray([np\u001b[39m.\u001b[39mvar(CSP_passed_left_data[i][j]) \u001b[39mfor\u001b[39;00m j \u001b[39min\u001b[39;00m \u001b[39mrange\u001b[39m(channelNum)]) \u001b[39mfor\u001b[39;00m i \u001b[39min\u001b[39;00m \u001b[39mrange\u001b[39m(minTrialsNum)])\n\u001b[0;32m      <a href='vscode-notebook-cell:/c%3A/Users/jihun/OneDrive/%EB%B0%94%ED%83%95%20%ED%99%94%EB%A9%B4/openvibe/source%20code/EEG_analysis/example/main_single_class.ipynb#X24sZmlsZQ%3D%3D?line=4'>5</a>\u001b[0m rightVar \u001b[39m=\u001b[39m np\u001b[39m.\u001b[39marray([np\u001b[39m.\u001b[39marray([np\u001b[39m.\u001b[39mvar(CSP_passed_right_data[i][j]) \u001b[39mfor\u001b[39;00m j \u001b[39min\u001b[39;00m \u001b[39mrange\u001b[39m(channelNum)]) \u001b[39mfor\u001b[39;00m i \u001b[39min\u001b[39;00m \u001b[39mrange\u001b[39m(minTrialsNum)])\n\u001b[0;32m      <a href='vscode-notebook-cell:/c%3A/Users/jihun/OneDrive/%EB%B0%94%ED%83%95%20%ED%99%94%EB%A9%B4/openvibe/source%20code/EEG_analysis/example/main_single_class.ipynb#X24sZmlsZQ%3D%3D?line=5'>6</a>\u001b[0m tongueVar \u001b[39m=\u001b[39m np\u001b[39m.\u001b[39marray([np\u001b[39m.\u001b[39marray([np\u001b[39m.\u001b[39mvar(CSP_passed_tongue_data[i][j]) \u001b[39mfor\u001b[39;00m j \u001b[39min\u001b[39;00m \u001b[39mrange\u001b[39m(channelNum)]) \u001b[39mfor\u001b[39;00m i \u001b[39min\u001b[39;00m \u001b[39mrange\u001b[39m(minTrialsNum)])\n",
      "\u001b[1;32mc:\\Users\\jihun\\OneDrive\\바탕 화면\\openvibe\\source code\\EEG_analysis\\example\\main_single_class.ipynb 셀 19\u001b[0m in \u001b[0;36m<listcomp>\u001b[1;34m(.0)\u001b[0m\n\u001b[0;32m      <a href='vscode-notebook-cell:/c%3A/Users/jihun/OneDrive/%EB%B0%94%ED%83%95%20%ED%99%94%EB%A9%B4/openvibe/source%20code/EEG_analysis/example/main_single_class.ipynb#X24sZmlsZQ%3D%3D?line=0'>1</a>\u001b[0m \u001b[39mfrom\u001b[39;00m \u001b[39mmath\u001b[39;00m \u001b[39mimport\u001b[39;00m log\n\u001b[0;32m      <a href='vscode-notebook-cell:/c%3A/Users/jihun/OneDrive/%EB%B0%94%ED%83%95%20%ED%99%94%EB%A9%B4/openvibe/source%20code/EEG_analysis/example/main_single_class.ipynb#X24sZmlsZQ%3D%3D?line=1'>2</a>\u001b[0m m \u001b[39m=\u001b[39m \u001b[39m3\u001b[39m\n\u001b[1;32m----> <a href='vscode-notebook-cell:/c%3A/Users/jihun/OneDrive/%EB%B0%94%ED%83%95%20%ED%99%94%EB%A9%B4/openvibe/source%20code/EEG_analysis/example/main_single_class.ipynb#X24sZmlsZQ%3D%3D?line=3'>4</a>\u001b[0m leftVar \u001b[39m=\u001b[39m np\u001b[39m.\u001b[39marray([np\u001b[39m.\u001b[39marray([np\u001b[39m.\u001b[39mvar(CSP_passed_left_data[i][j]) \u001b[39mfor\u001b[39;00m j \u001b[39min\u001b[39;00m \u001b[39mrange\u001b[39m(channelNum)]) \u001b[39mfor\u001b[39;00m i \u001b[39min\u001b[39;00m \u001b[39mrange\u001b[39m(minTrialsNum)])\n\u001b[0;32m      <a href='vscode-notebook-cell:/c%3A/Users/jihun/OneDrive/%EB%B0%94%ED%83%95%20%ED%99%94%EB%A9%B4/openvibe/source%20code/EEG_analysis/example/main_single_class.ipynb#X24sZmlsZQ%3D%3D?line=4'>5</a>\u001b[0m rightVar \u001b[39m=\u001b[39m np\u001b[39m.\u001b[39marray([np\u001b[39m.\u001b[39marray([np\u001b[39m.\u001b[39mvar(CSP_passed_right_data[i][j]) \u001b[39mfor\u001b[39;00m j \u001b[39min\u001b[39;00m \u001b[39mrange\u001b[39m(channelNum)]) \u001b[39mfor\u001b[39;00m i \u001b[39min\u001b[39;00m \u001b[39mrange\u001b[39m(minTrialsNum)])\n\u001b[0;32m      <a href='vscode-notebook-cell:/c%3A/Users/jihun/OneDrive/%EB%B0%94%ED%83%95%20%ED%99%94%EB%A9%B4/openvibe/source%20code/EEG_analysis/example/main_single_class.ipynb#X24sZmlsZQ%3D%3D?line=5'>6</a>\u001b[0m tongueVar \u001b[39m=\u001b[39m np\u001b[39m.\u001b[39marray([np\u001b[39m.\u001b[39marray([np\u001b[39m.\u001b[39mvar(CSP_passed_tongue_data[i][j]) \u001b[39mfor\u001b[39;00m j \u001b[39min\u001b[39;00m \u001b[39mrange\u001b[39m(channelNum)]) \u001b[39mfor\u001b[39;00m i \u001b[39min\u001b[39;00m \u001b[39mrange\u001b[39m(minTrialsNum)])\n",
      "\u001b[1;32mc:\\Users\\jihun\\OneDrive\\바탕 화면\\openvibe\\source code\\EEG_analysis\\example\\main_single_class.ipynb 셀 19\u001b[0m in \u001b[0;36m<listcomp>\u001b[1;34m(.0)\u001b[0m\n\u001b[0;32m      <a href='vscode-notebook-cell:/c%3A/Users/jihun/OneDrive/%EB%B0%94%ED%83%95%20%ED%99%94%EB%A9%B4/openvibe/source%20code/EEG_analysis/example/main_single_class.ipynb#X24sZmlsZQ%3D%3D?line=0'>1</a>\u001b[0m \u001b[39mfrom\u001b[39;00m \u001b[39mmath\u001b[39;00m \u001b[39mimport\u001b[39;00m log\n\u001b[0;32m      <a href='vscode-notebook-cell:/c%3A/Users/jihun/OneDrive/%EB%B0%94%ED%83%95%20%ED%99%94%EB%A9%B4/openvibe/source%20code/EEG_analysis/example/main_single_class.ipynb#X24sZmlsZQ%3D%3D?line=1'>2</a>\u001b[0m m \u001b[39m=\u001b[39m \u001b[39m3\u001b[39m\n\u001b[1;32m----> <a href='vscode-notebook-cell:/c%3A/Users/jihun/OneDrive/%EB%B0%94%ED%83%95%20%ED%99%94%EB%A9%B4/openvibe/source%20code/EEG_analysis/example/main_single_class.ipynb#X24sZmlsZQ%3D%3D?line=3'>4</a>\u001b[0m leftVar \u001b[39m=\u001b[39m np\u001b[39m.\u001b[39marray([np\u001b[39m.\u001b[39marray([np\u001b[39m.\u001b[39mvar(CSP_passed_left_data[i][j]) \u001b[39mfor\u001b[39;00m j \u001b[39min\u001b[39;00m \u001b[39mrange\u001b[39m(channelNum)]) \u001b[39mfor\u001b[39;00m i \u001b[39min\u001b[39;00m \u001b[39mrange\u001b[39m(minTrialsNum)])\n\u001b[0;32m      <a href='vscode-notebook-cell:/c%3A/Users/jihun/OneDrive/%EB%B0%94%ED%83%95%20%ED%99%94%EB%A9%B4/openvibe/source%20code/EEG_analysis/example/main_single_class.ipynb#X24sZmlsZQ%3D%3D?line=4'>5</a>\u001b[0m rightVar \u001b[39m=\u001b[39m np\u001b[39m.\u001b[39marray([np\u001b[39m.\u001b[39marray([np\u001b[39m.\u001b[39mvar(CSP_passed_right_data[i][j]) \u001b[39mfor\u001b[39;00m j \u001b[39min\u001b[39;00m \u001b[39mrange\u001b[39m(channelNum)]) \u001b[39mfor\u001b[39;00m i \u001b[39min\u001b[39;00m \u001b[39mrange\u001b[39m(minTrialsNum)])\n\u001b[0;32m      <a href='vscode-notebook-cell:/c%3A/Users/jihun/OneDrive/%EB%B0%94%ED%83%95%20%ED%99%94%EB%A9%B4/openvibe/source%20code/EEG_analysis/example/main_single_class.ipynb#X24sZmlsZQ%3D%3D?line=5'>6</a>\u001b[0m tongueVar \u001b[39m=\u001b[39m np\u001b[39m.\u001b[39marray([np\u001b[39m.\u001b[39marray([np\u001b[39m.\u001b[39mvar(CSP_passed_tongue_data[i][j]) \u001b[39mfor\u001b[39;00m j \u001b[39min\u001b[39;00m \u001b[39mrange\u001b[39m(channelNum)]) \u001b[39mfor\u001b[39;00m i \u001b[39min\u001b[39;00m \u001b[39mrange\u001b[39m(minTrialsNum)])\n",
      "\u001b[1;31mIndexError\u001b[0m: index 22 is out of bounds for axis 0 with size 22"
     ]
    }
   ],
   "source": [
    "from math import log\n",
    "m = 3\n",
    "\n",
    "leftVar = np.array([np.array([np.var(CSP_passed_left_data[i][j]) for j in range(channelNum)]) for i in range(minTrialsNum)])\n",
    "rightVar = np.array([np.array([np.var(CSP_passed_right_data[i][j]) for j in range(channelNum)]) for i in range(minTrialsNum)])\n",
    "tongueVar = np.array([np.array([np.var(CSP_passed_tongue_data[i][j]) for j in range(channelNum)]) for i in range(minTrialsNum)])\n",
    "footVar = np.array([np.array([np.var(CSP_passed_foot_data[i][j]) for j in range(channelNum)]) for i in range(minTrialsNum)])\n",
    "\n",
    "\n",
    "leftVarRatio = np.array([np.array([log(leftVar[i][j-m]/sum(leftVar[i])) for j in range(m*2)]) for i in range(minTrialsNum)])\n",
    "rightVarRatio = np.array([np.array([log(rightVar[i][j-m]/sum(rightVar[i])) for j in range(m*2)]) for i in range(minTrialsNum)])\n",
    "tongueVarRatio = np.array([np.array([log(tongueVar[i][j-m]/sum(tongueVar[i])) for j in range(m*2)]) for i in range(minTrialsNum)])\n",
    "footVarRatio = np.array([np.array([log(footVar[i][j-m]/sum(footVar[i])) for j in range(m*2)]) for i in range(minTrialsNum)])"
   ]
  },
  {
   "cell_type": "code",
   "execution_count": null,
   "metadata": {},
   "outputs": [],
   "source": [
    "leftVarRatioDF = pd.DataFrame(leftVarRatio)\n",
    "rightVarRatioDF = pd.DataFrame(rightVarRatio)\n",
    "tongueVarRatioDF = pd.DataFrame(tongueVarRatio)\n",
    "footVarRatioDF = pd.DataFrame(footVarRatio)\n",
    "\n",
    "labelDF = pd.DataFrame([0]*minTrialsNum + [1]*minTrialsNum + [2]*minTrialsNum + [3]*minTrialsNum)"
   ]
  },
  {
   "cell_type": "code",
   "execution_count": null,
   "metadata": {},
   "outputs": [
    {
     "data": {
      "text/html": [
       "<div>\n",
       "<style scoped>\n",
       "    .dataframe tbody tr th:only-of-type {\n",
       "        vertical-align: middle;\n",
       "    }\n",
       "\n",
       "    .dataframe tbody tr th {\n",
       "        vertical-align: top;\n",
       "    }\n",
       "\n",
       "    .dataframe thead th {\n",
       "        text-align: right;\n",
       "    }\n",
       "</style>\n",
       "<table border=\"1\" class=\"dataframe\">\n",
       "  <thead>\n",
       "    <tr style=\"text-align: right;\">\n",
       "      <th></th>\n",
       "      <th>0</th>\n",
       "      <th>1</th>\n",
       "      <th>2</th>\n",
       "      <th>3</th>\n",
       "      <th>4</th>\n",
       "      <th>5</th>\n",
       "      <th>target</th>\n",
       "    </tr>\n",
       "  </thead>\n",
       "  <tbody>\n",
       "    <tr>\n",
       "      <th>0</th>\n",
       "      <td>-3.204462</td>\n",
       "      <td>-3.278096</td>\n",
       "      <td>-3.546410</td>\n",
       "      <td>-2.934509</td>\n",
       "      <td>-2.889075</td>\n",
       "      <td>-2.795803</td>\n",
       "      <td>0</td>\n",
       "    </tr>\n",
       "    <tr>\n",
       "      <th>1</th>\n",
       "      <td>-3.102497</td>\n",
       "      <td>-3.058768</td>\n",
       "      <td>-3.523554</td>\n",
       "      <td>-3.077271</td>\n",
       "      <td>-2.976087</td>\n",
       "      <td>-2.847130</td>\n",
       "      <td>0</td>\n",
       "    </tr>\n",
       "    <tr>\n",
       "      <th>2</th>\n",
       "      <td>-3.055502</td>\n",
       "      <td>-3.055088</td>\n",
       "      <td>-3.666315</td>\n",
       "      <td>-3.131898</td>\n",
       "      <td>-3.052173</td>\n",
       "      <td>-2.931650</td>\n",
       "      <td>0</td>\n",
       "    </tr>\n",
       "    <tr>\n",
       "      <th>3</th>\n",
       "      <td>-3.048343</td>\n",
       "      <td>-3.115265</td>\n",
       "      <td>-3.437050</td>\n",
       "      <td>-3.108878</td>\n",
       "      <td>-3.065573</td>\n",
       "      <td>-2.993128</td>\n",
       "      <td>0</td>\n",
       "    </tr>\n",
       "    <tr>\n",
       "      <th>4</th>\n",
       "      <td>-3.160291</td>\n",
       "      <td>-3.115734</td>\n",
       "      <td>-3.255756</td>\n",
       "      <td>-3.030997</td>\n",
       "      <td>-2.960478</td>\n",
       "      <td>-2.933203</td>\n",
       "      <td>0</td>\n",
       "    </tr>\n",
       "    <tr>\n",
       "      <th>...</th>\n",
       "      <td>...</td>\n",
       "      <td>...</td>\n",
       "      <td>...</td>\n",
       "      <td>...</td>\n",
       "      <td>...</td>\n",
       "      <td>...</td>\n",
       "      <td>...</td>\n",
       "    </tr>\n",
       "    <tr>\n",
       "      <th>207</th>\n",
       "      <td>-3.197580</td>\n",
       "      <td>-3.225693</td>\n",
       "      <td>-3.566081</td>\n",
       "      <td>-3.005665</td>\n",
       "      <td>-2.928129</td>\n",
       "      <td>-2.832527</td>\n",
       "      <td>3</td>\n",
       "    </tr>\n",
       "    <tr>\n",
       "      <th>208</th>\n",
       "      <td>-3.070706</td>\n",
       "      <td>-3.111524</td>\n",
       "      <td>-3.493111</td>\n",
       "      <td>-3.046889</td>\n",
       "      <td>-2.974649</td>\n",
       "      <td>-2.904300</td>\n",
       "      <td>3</td>\n",
       "    </tr>\n",
       "    <tr>\n",
       "      <th>209</th>\n",
       "      <td>-3.199614</td>\n",
       "      <td>-3.208341</td>\n",
       "      <td>-3.510539</td>\n",
       "      <td>-2.999750</td>\n",
       "      <td>-2.890645</td>\n",
       "      <td>-2.777343</td>\n",
       "      <td>3</td>\n",
       "    </tr>\n",
       "    <tr>\n",
       "      <th>210</th>\n",
       "      <td>-3.160221</td>\n",
       "      <td>-3.215271</td>\n",
       "      <td>-3.553770</td>\n",
       "      <td>-2.902825</td>\n",
       "      <td>-2.850609</td>\n",
       "      <td>-2.797292</td>\n",
       "      <td>3</td>\n",
       "    </tr>\n",
       "    <tr>\n",
       "      <th>211</th>\n",
       "      <td>-3.147195</td>\n",
       "      <td>-3.055328</td>\n",
       "      <td>-3.510334</td>\n",
       "      <td>-3.012682</td>\n",
       "      <td>-2.972289</td>\n",
       "      <td>-2.902065</td>\n",
       "      <td>3</td>\n",
       "    </tr>\n",
       "  </tbody>\n",
       "</table>\n",
       "<p>212 rows × 7 columns</p>\n",
       "</div>"
      ],
      "text/plain": [
       "            0         1         2         3         4         5  target\n",
       "0   -3.204462 -3.278096 -3.546410 -2.934509 -2.889075 -2.795803       0\n",
       "1   -3.102497 -3.058768 -3.523554 -3.077271 -2.976087 -2.847130       0\n",
       "2   -3.055502 -3.055088 -3.666315 -3.131898 -3.052173 -2.931650       0\n",
       "3   -3.048343 -3.115265 -3.437050 -3.108878 -3.065573 -2.993128       0\n",
       "4   -3.160291 -3.115734 -3.255756 -3.030997 -2.960478 -2.933203       0\n",
       "..        ...       ...       ...       ...       ...       ...     ...\n",
       "207 -3.197580 -3.225693 -3.566081 -3.005665 -2.928129 -2.832527       3\n",
       "208 -3.070706 -3.111524 -3.493111 -3.046889 -2.974649 -2.904300       3\n",
       "209 -3.199614 -3.208341 -3.510539 -2.999750 -2.890645 -2.777343       3\n",
       "210 -3.160221 -3.215271 -3.553770 -2.902825 -2.850609 -2.797292       3\n",
       "211 -3.147195 -3.055328 -3.510334 -3.012682 -2.972289 -2.902065       3\n",
       "\n",
       "[212 rows x 7 columns]"
      ]
     },
     "execution_count": 36,
     "metadata": {},
     "output_type": "execute_result"
    }
   ],
   "source": [
    "VarRatioDF = pd.concat([leftVarRatioDF, rightVarRatioDF, tongueVarRatioDF, footVarRatioDF], axis=0)\n",
    "VarRatioDF = VarRatioDF.reset_index()\n",
    "VarRatioDF = pd.concat([VarRatioDF, labelDF], axis=1).iloc[:,1:]\n",
    "VarRatioDF.columns = [f\"{n}\" for n in range(m*2)] + [\"target\"]\n",
    "VarRatioDF"
   ]
  },
  {
   "cell_type": "code",
   "execution_count": null,
   "metadata": {},
   "outputs": [
    {
     "data": {
      "text/html": [
       "<div>\n",
       "<style scoped>\n",
       "    .dataframe tbody tr th:only-of-type {\n",
       "        vertical-align: middle;\n",
       "    }\n",
       "\n",
       "    .dataframe tbody tr th {\n",
       "        vertical-align: top;\n",
       "    }\n",
       "\n",
       "    .dataframe thead th {\n",
       "        text-align: right;\n",
       "    }\n",
       "</style>\n",
       "<table border=\"1\" class=\"dataframe\">\n",
       "  <thead>\n",
       "    <tr style=\"text-align: right;\">\n",
       "      <th></th>\n",
       "      <th>0</th>\n",
       "      <th>1</th>\n",
       "      <th>2</th>\n",
       "      <th>3</th>\n",
       "      <th>4</th>\n",
       "      <th>5</th>\n",
       "    </tr>\n",
       "  </thead>\n",
       "  <tbody>\n",
       "    <tr>\n",
       "      <th>0</th>\n",
       "      <td>-1.585506</td>\n",
       "      <td>-1.520058</td>\n",
       "      <td>0.207519</td>\n",
       "      <td>1.450585</td>\n",
       "      <td>1.140547</td>\n",
       "      <td>1.464010</td>\n",
       "    </tr>\n",
       "    <tr>\n",
       "      <th>1</th>\n",
       "      <td>0.428679</td>\n",
       "      <td>1.487403</td>\n",
       "      <td>0.375116</td>\n",
       "      <td>-0.989192</td>\n",
       "      <td>-0.602234</td>\n",
       "      <td>0.421684</td>\n",
       "    </tr>\n",
       "    <tr>\n",
       "      <th>2</th>\n",
       "      <td>1.357022</td>\n",
       "      <td>1.537862</td>\n",
       "      <td>-0.671726</td>\n",
       "      <td>-1.922760</td>\n",
       "      <td>-2.126194</td>\n",
       "      <td>-1.294702</td>\n",
       "    </tr>\n",
       "    <tr>\n",
       "      <th>3</th>\n",
       "      <td>1.498442</td>\n",
       "      <td>0.712713</td>\n",
       "      <td>1.009441</td>\n",
       "      <td>-1.529349</td>\n",
       "      <td>-2.394580</td>\n",
       "      <td>-2.543164</td>\n",
       "    </tr>\n",
       "    <tr>\n",
       "      <th>4</th>\n",
       "      <td>-0.712958</td>\n",
       "      <td>0.706280</td>\n",
       "      <td>2.338838</td>\n",
       "      <td>-0.198383</td>\n",
       "      <td>-0.289597</td>\n",
       "      <td>-1.326235</td>\n",
       "    </tr>\n",
       "    <tr>\n",
       "      <th>...</th>\n",
       "      <td>...</td>\n",
       "      <td>...</td>\n",
       "      <td>...</td>\n",
       "      <td>...</td>\n",
       "      <td>...</td>\n",
       "      <td>...</td>\n",
       "    </tr>\n",
       "    <tr>\n",
       "      <th>207</th>\n",
       "      <td>-1.449569</td>\n",
       "      <td>-0.801507</td>\n",
       "      <td>0.063278</td>\n",
       "      <td>0.234543</td>\n",
       "      <td>0.358323</td>\n",
       "      <td>0.718236</td>\n",
       "    </tr>\n",
       "    <tr>\n",
       "      <th>208</th>\n",
       "      <td>1.056688</td>\n",
       "      <td>0.763999</td>\n",
       "      <td>0.598351</td>\n",
       "      <td>-0.469965</td>\n",
       "      <td>-0.573440</td>\n",
       "      <td>-0.739289</td>\n",
       "    </tr>\n",
       "    <tr>\n",
       "      <th>209</th>\n",
       "      <td>-1.489748</td>\n",
       "      <td>-0.563567</td>\n",
       "      <td>0.470552</td>\n",
       "      <td>0.335624</td>\n",
       "      <td>1.109096</td>\n",
       "      <td>1.838896</td>\n",
       "    </tr>\n",
       "    <tr>\n",
       "      <th>210</th>\n",
       "      <td>-0.711573</td>\n",
       "      <td>-0.658600</td>\n",
       "      <td>0.153552</td>\n",
       "      <td>1.992056</td>\n",
       "      <td>1.910995</td>\n",
       "      <td>1.433780</td>\n",
       "    </tr>\n",
       "    <tr>\n",
       "      <th>211</th>\n",
       "      <td>-0.454260</td>\n",
       "      <td>1.534578</td>\n",
       "      <td>0.472057</td>\n",
       "      <td>0.114618</td>\n",
       "      <td>-0.526174</td>\n",
       "      <td>-0.693910</td>\n",
       "    </tr>\n",
       "  </tbody>\n",
       "</table>\n",
       "<p>212 rows × 6 columns</p>\n",
       "</div>"
      ],
      "text/plain": [
       "            0         1         2         3         4         5\n",
       "0   -1.585506 -1.520058  0.207519  1.450585  1.140547  1.464010\n",
       "1    0.428679  1.487403  0.375116 -0.989192 -0.602234  0.421684\n",
       "2    1.357022  1.537862 -0.671726 -1.922760 -2.126194 -1.294702\n",
       "3    1.498442  0.712713  1.009441 -1.529349 -2.394580 -2.543164\n",
       "4   -0.712958  0.706280  2.338838 -0.198383 -0.289597 -1.326235\n",
       "..        ...       ...       ...       ...       ...       ...\n",
       "207 -1.449569 -0.801507  0.063278  0.234543  0.358323  0.718236\n",
       "208  1.056688  0.763999  0.598351 -0.469965 -0.573440 -0.739289\n",
       "209 -1.489748 -0.563567  0.470552  0.335624  1.109096  1.838896\n",
       "210 -0.711573 -0.658600  0.153552  1.992056  1.910995  1.433780\n",
       "211 -0.454260  1.534578  0.472057  0.114618 -0.526174 -0.693910\n",
       "\n",
       "[212 rows x 6 columns]"
      ]
     },
     "execution_count": 37,
     "metadata": {},
     "output_type": "execute_result"
    }
   ],
   "source": [
    "\n",
    "x = VarRatioDF.drop(['target'], axis=1).values \n",
    "y = VarRatioDF['target'].values # 종속변인 추출\n",
    "x = StandardScaler().fit_transform(x)\n",
    "pd.DataFrame(x)"
   ]
  },
  {
   "cell_type": "code",
   "execution_count": null,
   "metadata": {},
   "outputs": [],
   "source": [
    "n_componunts = 3\n",
    "\n",
    "PCA = PrincipalComponuntAnalysis(n_componunts=n_componunts, data=x)\n",
    "principalDD = PCA.principalDf"
   ]
  },
  {
   "cell_type": "code",
   "execution_count": null,
   "metadata": {},
   "outputs": [
    {
     "data": {
      "text/plain": [
       "0.8933650494235956"
      ]
     },
     "execution_count": 39,
     "metadata": {},
     "output_type": "execute_result"
    }
   ],
   "source": [
    "sum(PCA.explained_variance_ratio_())"
   ]
  },
  {
   "cell_type": "code",
   "execution_count": null,
   "metadata": {},
   "outputs": [
    {
     "ename": "NameError",
     "evalue": "name 'principalDf' is not defined",
     "output_type": "error",
     "traceback": [
      "\u001b[1;31m---------------------------------------------------------------------------\u001b[0m",
      "\u001b[1;31mNameError\u001b[0m                                 Traceback (most recent call last)",
      "\u001b[1;32mc:\\Users\\jihun\\OneDrive\\바탕 화면\\openvibe\\source code\\EEG_analysis\\example\\main_single_class.ipynb 셀 25\u001b[0m in \u001b[0;36m<cell line: 1>\u001b[1;34m()\u001b[0m\n\u001b[1;32m----> <a href='vscode-notebook-cell:/c%3A/Users/jihun/OneDrive/%EB%B0%94%ED%83%95%20%ED%99%94%EB%A9%B4/openvibe/source%20code/EEG_analysis/example/main_single_class.ipynb#X33sZmlsZQ%3D%3D?line=0'>1</a>\u001b[0m pd\u001b[39m.\u001b[39mconcat([principalDf, labelDF], axis\u001b[39m=\u001b[39m\u001b[39m1\u001b[39m)\n",
      "\u001b[1;31mNameError\u001b[0m: name 'principalDf' is not defined"
     ]
    }
   ],
   "source": [
    "pd.concat([principalDf, labelDF], axis=1)"
   ]
  },
  {
   "cell_type": "code",
   "execution_count": null,
   "metadata": {},
   "outputs": [],
   "source": [
    "# import matplotlib.pyplot as plt\n",
    "\n",
    "# fig = plt.figure(figsize = (8, 8))\n",
    "# ax = fig.add_subplot(1, 1, 1)\n",
    "# ax.set_xlabel('Principal componunt 1', fontsize = 15)\n",
    "# ax.set_ylabel('Principal componunt 2', fontsize = 15)\n",
    "# ax.set_title('1 componunt PCA', fontsize=20)\n",
    "\n",
    "# targets = [0, 1, 2, 3]\n",
    "# colors = ['r', 'g', 'b', 'purple']\n",
    "# for target, color in zip(targets,colors):\n",
    "#     indicesToKeep = VarRatioDF['target'] == target\n",
    "#     ax.scatter(principalDf.loc[indicesToKeep, 'principal componunt1']\n",
    "#                , principalDf.loc[indicesToKeep, 'principal componunt3']\n",
    "#                , c = color\n",
    "#                , s = 50, alpha=0.5)\n",
    "# ax.legend(targets)\n",
    "# ax.grid()"
   ]
  },
  {
   "cell_type": "code",
   "execution_count": null,
   "metadata": {},
   "outputs": [],
   "source": [
    "# last_data = pd.concat([principalDf.loc[:, 'principal componunt1'], \n",
    "#     principalDf.loc[:, 'principal componunt2'], \n",
    "#     labelDF], axis=1)\n",
    "\n",
    "# last_data.columns = ['principal componunt1', 'principal componunt2', 'label']           "
   ]
  },
  {
   "cell_type": "code",
   "execution_count": null,
   "metadata": {},
   "outputs": [],
   "source": []
  },
  {
   "cell_type": "code",
   "execution_count": null,
   "metadata": {},
   "outputs": [
    {
     "name": "stdout",
     "output_type": "stream",
     "text": [
      "Index(['principal componunt1', 'principal componunt2', 'principal componunt3',\n",
      "       'label'],\n",
      "      dtype='object')\n"
     ]
    }
   ],
   "source": [
    "# # 데이터를 DataFrame으로 생성\n",
    "df = pd.concat([principalDD, labelDF], axis=1)\n",
    "df.columns = [f\"principal componunt{i+1}\" for i in range(n_componunts)]+[\"label\"]\n",
    "print(df.columns)\n",
    "\n",
    "# # 3D scatter plot 그리기\n",
    "# fig = plt.figure()\n",
    "# ax = fig.add_subplot(111, projection='3d')\n",
    "\n",
    "# # 클래스별로 색상을 다르게 설정\n",
    "# colors = ['r', 'g', 'b', 'c']\n",
    "# for i in range(4):  # 클래스 개수에 맞게 범위 설정\n",
    "#     subset = df[df['label'] == i]\n",
    "#     ax.scatter(subset['principal componunt1'], subset['principal componunt2'], subset['principal componunt3'], c=colors[i], label=f'Class {i}')\n",
    "\n",
    "# ax.set_xlabel('Principal componunt 1')\n",
    "# ax.set_ylabel('Principal componunt 2')\n",
    "# ax.set_zlabel('Principal componunt 3')\n",
    "# ax.set_title('3D Scatter Plot of Principal componunts')\n",
    "# ax.legend()\n",
    "# plt.show()"
   ]
  },
  {
   "cell_type": "code",
   "execution_count": null,
   "metadata": {},
   "outputs": [],
   "source": []
  },
  {
   "cell_type": "code",
   "execution_count": null,
   "metadata": {},
   "outputs": [
    {
     "ename": "NameError",
     "evalue": "name 'pd' is not defined",
     "output_type": "error",
     "traceback": [
      "\u001b[1;31m---------------------------------------------------------------------------\u001b[0m",
      "\u001b[1;31mNameError\u001b[0m                                 Traceback (most recent call last)",
      "\u001b[1;32mc:\\Users\\jihun\\OneDrive\\바탕 화면\\openvibe\\source code\\EEG_analysis\\example\\main_single_class_error.ipynb 셀 31\u001b[0m in \u001b[0;36m<cell line: 1>\u001b[1;34m()\u001b[0m\n\u001b[1;32m----> <a href='vscode-notebook-cell:/c%3A/Users/jihun/OneDrive/%EB%B0%94%ED%83%95%20%ED%99%94%EB%A9%B4/openvibe/source%20code/EEG_analysis/example/main_single_class_error.ipynb#X42sZmlsZQ%3D%3D?line=0'>1</a>\u001b[0m LDA_DF \u001b[39m=\u001b[39m pd\u001b[39m.\u001b[39mconcat([LDA(principalDF, labelDF, \u001b[39m3\u001b[39m), labelDF], axis\u001b[39m=\u001b[39m\u001b[39m1\u001b[39m)\n",
      "\u001b[1;31mNameError\u001b[0m: name 'pd' is not defined"
     ]
    }
   ],
   "source": [
    "LDA_DF = pd.concat([LDA(principalDF, labelDF, 3), labelDF], axis=1)"
   ]
  },
  {
   "cell_type": "code",
   "execution_count": null,
   "metadata": {},
   "outputs": [],
   "source": [
    "import numpy as np\n",
    "np.save(\"./dataframe\", LDA_DF)"
   ]
  }
 ],
 "metadata": {
  "kernelspec": {
   "display_name": "Python 3",
   "language": "python",
   "name": "python3"
  },
  "language_info": {
   "codemirror_mode": {
    "name": "ipython",
    "version": 3
   },
   "file_extension": ".py",
   "mimetype": "text/x-python",
   "name": "python",
   "nbconvert_exporter": "python",
   "pygments_lexer": "ipython3",
   "version": "3.10.5"
  },
  "orig_nbformat": 4
 },
 "nbformat": 4,
 "nbformat_minor": 2
}
