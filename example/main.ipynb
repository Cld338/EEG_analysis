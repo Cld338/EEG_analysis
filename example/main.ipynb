{
 "cells": [
  {
   "cell_type": "code",
   "execution_count": 2,
   "metadata": {},
   "outputs": [],
   "source": [
    "from sklearn.model_selection import cross_val_score, cross_validate\n",
    "from sklearn.preprocessing import StandardScaler\n",
    "import matplotlib.pyplot as plt\n",
    "import sklearn.svm as svm\n",
    "import pandas as pd\n",
    "import warnings"
   ]
  },
  {
   "cell_type": "code",
   "execution_count": 3,
   "metadata": {},
   "outputs": [],
   "source": [
    "from featureExtraction import *\n",
    "from dataAnalyzer import *\n",
    "from private_tool import *\n",
    "from dataHandler import *"
   ]
  },
  {
   "cell_type": "code",
   "execution_count": 4,
   "metadata": {},
   "outputs": [],
   "source": [
    "warnings.filterwarnings('ignore')"
   ]
  },
  {
   "cell_type": "code",
   "execution_count": 5,
   "metadata": {},
   "outputs": [],
   "source": [
    "experimentNum = 9\n",
    "experimentIdx = 4\n",
    "Experiments = [MotorImageryDataset(parentDirectory(dir=currDir, separator=\"\\\\\", n=1)+'/bcicompetitionIV2a/A0'+str(i+1)+'T.npz') for i in range(experimentNum)]"
   ]
  },
  {
   "cell_type": "code",
   "execution_count": 6,
   "metadata": {},
   "outputs": [],
   "source": [
    "channels = list(range(25))\n",
    "samplingRate = 250 #Hz\n",
    "trialsByClasses = np.array([i.get_trials_by_classes(channels=channels) for i in Experiments])"
   ]
  },
  {
   "cell_type": "code",
   "execution_count": 7,
   "metadata": {},
   "outputs": [
    {
     "data": {
      "text/plain": [
       "(25, 25)"
      ]
     },
     "execution_count": 7,
     "metadata": {},
     "output_type": "execute_result"
    }
   ],
   "source": [
    "channelNum = len(channels)\n",
    "m = len(trialsByClasses[0][\"left\"])\n",
    "channelNum, m"
   ]
  },
  {
   "cell_type": "code",
   "execution_count": 8,
   "metadata": {},
   "outputs": [],
   "source": [
    "bandpassedTrialsByClasses = [{i:[[] for _ in range(channelNum)] for i in j.mi_types.values()} for j in Experiments]\n",
    "for k in range(experimentNum):\n",
    "    for key in trialsByClasses[k].keys():\n",
    "        for i in range(channelNum):\n",
    "            bandpassedTrialsByClasses[k][key][i] = np.array([bandpass_filter(data=trialsByClasses[k][key][i][j], \n",
    "                                                                sample_rate=samplingRate, \n",
    "                                                                cutoff_low=7, \n",
    "                                                                cutoff_high=30)\\\n",
    "                                                for j in range(len(trialsByClasses[k][key][i]))])"
   ]
  },
  {
   "cell_type": "code",
   "execution_count": 9,
   "metadata": {},
   "outputs": [],
   "source": [
    "# 현재 상태는 experiment - class - channel - trial - signal\n",
    "# class - experiment - trial - channel - signal로 수정하자\n",
    "bandpassedTrialsByClasses = {key: np.array([[bandpassedTrialsByClasses[i][key][j] for j in range(channelNum)] for i in range(experimentNum)]) for key in Experiments[0].mi_types.values()}\n",
    "# bandpassedTrialsByClasses[\"left\"][8][0].shape\n",
    "# i: experiment\n",
    "# j: trial"
   ]
  },
  {
   "cell_type": "code",
   "execution_count": 10,
   "metadata": {},
   "outputs": [
    {
     "data": {
      "text/plain": [
       "49"
      ]
     },
     "execution_count": 10,
     "metadata": {},
     "output_type": "execute_result"
    }
   ],
   "source": [
    "minTrialsNum = sorted([sorted([len(bandpassedTrialsByClasses[\"left\"][i][0]) for i in range(experimentNum)])[0], sorted([len(bandpassedTrialsByClasses[\"right\"][i][0]) for i in range(experimentNum)])[0], sorted([len(bandpassedTrialsByClasses[\"tongue\"][i][0]) for i in range(experimentNum)])[0], sorted([len(bandpassedTrialsByClasses[\"foot\"][i][0]) for i in range(experimentNum)])[0]])[0]\n",
    "bandpassedTrialsByClasses = {i:[bandpassedTrialsByClasses[i][j] for j in range(experimentNum)] for i in Experiments[0].mi_types.values()}\n",
    "minTrialsNum"
   ]
  },
  {
   "cell_type": "code",
   "execution_count": 11,
   "metadata": {},
   "outputs": [],
   "source": [
    "left_csp_filter = CSP_filter(np.array([i[:minTrialsNum] for i in bandpassedTrialsByClasses[\"left\"][experimentIdx]]), np.array([j[:minTrialsNum] for i in [\"right\", \"tongue\", \"foot\"] for j in bandpassedTrialsByClasses[i][experimentIdx]]))\n",
    "right_csp_filter = CSP_filter(np.array([i[:minTrialsNum] for i in bandpassedTrialsByClasses[\"right\"][experimentIdx]]), np.array([j[:minTrialsNum] for i in [\"left\", \"right\", \"tongue\", \"foot\"] for j in bandpassedTrialsByClasses[i][experimentIdx]]))\n",
    "tongue_csp_filter = CSP_filter(np.array([i[:minTrialsNum] for i in bandpassedTrialsByClasses[\"tongue\"][experimentIdx]]), np.array([j[:minTrialsNum] for i in [\"left\", \"tongue\", \"foot\"] for j in bandpassedTrialsByClasses[i][experimentIdx]]))\n",
    "foot_csp_filter = CSP_filter(np.array([i[:minTrialsNum] for i in bandpassedTrialsByClasses[\"foot\"][experimentIdx]]), np.array([j[:minTrialsNum] for i in [\"left\", \"right\", \"tongue\"] for j in bandpassedTrialsByClasses[i][experimentIdx]]))"
   ]
  },
  {
   "cell_type": "code",
   "execution_count": 12,
   "metadata": {},
   "outputs": [],
   "source": [
    "bandpassedTrials = {i:[] for i in Experiments[0].mi_types.values()}\n",
    "for i in Experiments[0].mi_types.values():\n",
    "    for j in range(len(bandpassedTrialsByClasses)):\n",
    "        bandpassedTrials[i]"
   ]
  },
  {
   "cell_type": "code",
   "execution_count": 13,
   "metadata": {},
   "outputs": [],
   "source": [
    "# CSP_passed_left_data = np.array([[bandpassedTrialsByClasses[i][j].T@left_csp_filter for j in range(minTrialsNum)] for i in range(experimentNum)])\n",
    "CSP_passed_left_data = [j[:minTrialsNum].T@left_csp_filter for j in bandpassedTrialsByClasses[\"left\"][experimentIdx]]\n",
    "CSP_passed_right_data = [j[:minTrialsNum].T@right_csp_filter for j in bandpassedTrialsByClasses[\"right\"][experimentIdx]]\n",
    "CSP_passed_tongue_data = [j[:minTrialsNum].T@tongue_csp_filter for j in bandpassedTrialsByClasses[\"tongue\"][experimentIdx]]\n",
    "CSP_passed_foot_data = [j[:minTrialsNum].T@foot_csp_filter for j in bandpassedTrialsByClasses[\"foot\"][experimentIdx]]"
   ]
  },
  {
   "cell_type": "code",
   "execution_count": 14,
   "metadata": {},
   "outputs": [
    {
     "data": {
      "text/plain": [
       "25"
      ]
     },
     "execution_count": 14,
     "metadata": {},
     "output_type": "execute_result"
    }
   ],
   "source": [
    "len(CSP_passed_left_data)"
   ]
  },
  {
   "cell_type": "code",
   "execution_count": 15,
   "metadata": {},
   "outputs": [],
   "source": [
    "# bandpassedTrialsByClasses[\"right\"][0][\"right\"][0]"
   ]
  },
  {
   "cell_type": "code",
   "execution_count": 16,
   "metadata": {},
   "outputs": [
    {
     "data": {
      "text/plain": [
       "(25, 49, 1875)"
      ]
     },
     "execution_count": 16,
     "metadata": {},
     "output_type": "execute_result"
    }
   ],
   "source": [
    "CSP_passed_left_data = [np.array([j.T for j in i]).T for i in CSP_passed_left_data]\n",
    "CSP_passed_right_data = [np.array([j.T for j in i]).T for i in CSP_passed_right_data]\n",
    "CSP_passed_tongue_data = [np.array([j.T for j in i]).T for i in CSP_passed_tongue_data]\n",
    "CSP_passed_foot_data = [np.array([j.T for j in i]).T for i in CSP_passed_foot_data]\n",
    "np.array(CSP_passed_left_data).shape"
   ]
  },
  {
   "cell_type": "code",
   "execution_count": 17,
   "metadata": {},
   "outputs": [
    {
     "data": {
      "text/plain": [
       "(49, 25, 1875)"
      ]
     },
     "execution_count": 17,
     "metadata": {},
     "output_type": "execute_result"
    }
   ],
   "source": [
    "CSP_passed_left_data = np.array([i.T for i in np.array(CSP_passed_left_data).T]).T\n",
    "CSP_passed_right_data = np.array([i.T for i in np.array(CSP_passed_right_data).T]).T\n",
    "CSP_passed_tongue_data = np.array([i.T for i in np.array(CSP_passed_tongue_data).T]).T\n",
    "CSP_passed_foot_data = np.array([i.T for i in np.array(CSP_passed_foot_data).T]).T\n",
    "CSP_passed_left_data.shape"
   ]
  },
  {
   "cell_type": "code",
   "execution_count": 41,
   "metadata": {},
   "outputs": [
    {
     "data": {
      "text/plain": [
       "0      0\n",
       "1      0\n",
       "2      0\n",
       "3      0\n",
       "4      0\n",
       "      ..\n",
       "191    3\n",
       "192    3\n",
       "193    3\n",
       "194    3\n",
       "195    3\n",
       "Name: target, Length: 196, dtype: int64"
      ]
     },
     "execution_count": 41,
     "metadata": {},
     "output_type": "execute_result"
    }
   ],
   "source": [
    "from math import log\n",
    "m = 3\n",
    "\n",
    "leftVarRatioDF = log_variance(CSP_passed_left_data, 0, channelNum, minTrialsNum, m)\n",
    "rightVarRatioDF = log_variance(CSP_passed_right_data, 1, channelNum, minTrialsNum, m)\n",
    "tongueVarRatioDF = log_variance(CSP_passed_tongue_data, 2, channelNum, minTrialsNum, m)\n",
    "footVarRatioDF = log_variance(CSP_passed_foot_data, 3, channelNum, minTrialsNum, m)\n",
    "\n",
    "VarRatioDF = pd.concat([leftVarRatioDF, rightVarRatioDF, tongueVarRatioDF, footVarRatioDF], axis=0)\n",
    "VarRatioDF.columns = [f\"{n}\" for n in range(m*2)] + [\"target\"]\n",
    "labelDF = VarRatioDF.reset_index().iloc[:, -1]\n",
    "\n",
    "labelDF"
   ]
  },
  {
   "cell_type": "code",
   "execution_count": 42,
   "metadata": {},
   "outputs": [
    {
     "data": {
      "text/html": [
       "<div>\n",
       "<style scoped>\n",
       "    .dataframe tbody tr th:only-of-type {\n",
       "        vertical-align: middle;\n",
       "    }\n",
       "\n",
       "    .dataframe tbody tr th {\n",
       "        vertical-align: top;\n",
       "    }\n",
       "\n",
       "    .dataframe thead th {\n",
       "        text-align: right;\n",
       "    }\n",
       "</style>\n",
       "<table border=\"1\" class=\"dataframe\">\n",
       "  <thead>\n",
       "    <tr style=\"text-align: right;\">\n",
       "      <th></th>\n",
       "      <th>0</th>\n",
       "      <th>1</th>\n",
       "      <th>2</th>\n",
       "      <th>3</th>\n",
       "      <th>4</th>\n",
       "      <th>5</th>\n",
       "    </tr>\n",
       "  </thead>\n",
       "  <tbody>\n",
       "    <tr>\n",
       "      <th>0</th>\n",
       "      <td>-2.186883</td>\n",
       "      <td>-0.382475</td>\n",
       "      <td>-2.658824</td>\n",
       "      <td>-0.004662</td>\n",
       "      <td>1.502982</td>\n",
       "      <td>1.528069</td>\n",
       "    </tr>\n",
       "    <tr>\n",
       "      <th>1</th>\n",
       "      <td>1.123292</td>\n",
       "      <td>0.730853</td>\n",
       "      <td>0.444682</td>\n",
       "      <td>1.398329</td>\n",
       "      <td>-0.237661</td>\n",
       "      <td>0.412700</td>\n",
       "    </tr>\n",
       "    <tr>\n",
       "      <th>2</th>\n",
       "      <td>-0.324485</td>\n",
       "      <td>0.386834</td>\n",
       "      <td>0.372212</td>\n",
       "      <td>0.943769</td>\n",
       "      <td>0.210739</td>\n",
       "      <td>0.919372</td>\n",
       "    </tr>\n",
       "    <tr>\n",
       "      <th>3</th>\n",
       "      <td>-0.922355</td>\n",
       "      <td>-0.777590</td>\n",
       "      <td>0.324806</td>\n",
       "      <td>-0.370649</td>\n",
       "      <td>0.846370</td>\n",
       "      <td>1.858520</td>\n",
       "    </tr>\n",
       "    <tr>\n",
       "      <th>4</th>\n",
       "      <td>0.848807</td>\n",
       "      <td>0.647577</td>\n",
       "      <td>1.712289</td>\n",
       "      <td>1.269625</td>\n",
       "      <td>0.773789</td>\n",
       "      <td>0.404596</td>\n",
       "    </tr>\n",
       "    <tr>\n",
       "      <th>...</th>\n",
       "      <td>...</td>\n",
       "      <td>...</td>\n",
       "      <td>...</td>\n",
       "      <td>...</td>\n",
       "      <td>...</td>\n",
       "      <td>...</td>\n",
       "    </tr>\n",
       "    <tr>\n",
       "      <th>191</th>\n",
       "      <td>0.934740</td>\n",
       "      <td>0.714015</td>\n",
       "      <td>-1.408700</td>\n",
       "      <td>-0.113427</td>\n",
       "      <td>0.442501</td>\n",
       "      <td>0.235985</td>\n",
       "    </tr>\n",
       "    <tr>\n",
       "      <th>192</th>\n",
       "      <td>1.589268</td>\n",
       "      <td>0.192301</td>\n",
       "      <td>2.011833</td>\n",
       "      <td>0.938523</td>\n",
       "      <td>-0.340202</td>\n",
       "      <td>-0.572104</td>\n",
       "    </tr>\n",
       "    <tr>\n",
       "      <th>193</th>\n",
       "      <td>-1.432423</td>\n",
       "      <td>-1.066228</td>\n",
       "      <td>-1.070670</td>\n",
       "      <td>-2.399793</td>\n",
       "      <td>-2.474525</td>\n",
       "      <td>-1.364984</td>\n",
       "    </tr>\n",
       "    <tr>\n",
       "      <th>194</th>\n",
       "      <td>-0.658072</td>\n",
       "      <td>0.701611</td>\n",
       "      <td>-1.331686</td>\n",
       "      <td>-0.182070</td>\n",
       "      <td>-0.518782</td>\n",
       "      <td>-0.476509</td>\n",
       "    </tr>\n",
       "    <tr>\n",
       "      <th>195</th>\n",
       "      <td>1.060184</td>\n",
       "      <td>-0.237367</td>\n",
       "      <td>-1.273560</td>\n",
       "      <td>-0.904533</td>\n",
       "      <td>-0.573657</td>\n",
       "      <td>-0.996192</td>\n",
       "    </tr>\n",
       "  </tbody>\n",
       "</table>\n",
       "<p>196 rows × 6 columns</p>\n",
       "</div>"
      ],
      "text/plain": [
       "            0         1         2         3         4         5\n",
       "0   -2.186883 -0.382475 -2.658824 -0.004662  1.502982  1.528069\n",
       "1    1.123292  0.730853  0.444682  1.398329 -0.237661  0.412700\n",
       "2   -0.324485  0.386834  0.372212  0.943769  0.210739  0.919372\n",
       "3   -0.922355 -0.777590  0.324806 -0.370649  0.846370  1.858520\n",
       "4    0.848807  0.647577  1.712289  1.269625  0.773789  0.404596\n",
       "..        ...       ...       ...       ...       ...       ...\n",
       "191  0.934740  0.714015 -1.408700 -0.113427  0.442501  0.235985\n",
       "192  1.589268  0.192301  2.011833  0.938523 -0.340202 -0.572104\n",
       "193 -1.432423 -1.066228 -1.070670 -2.399793 -2.474525 -1.364984\n",
       "194 -0.658072  0.701611 -1.331686 -0.182070 -0.518782 -0.476509\n",
       "195  1.060184 -0.237367 -1.273560 -0.904533 -0.573657 -0.996192\n",
       "\n",
       "[196 rows x 6 columns]"
      ]
     },
     "execution_count": 42,
     "metadata": {},
     "output_type": "execute_result"
    }
   ],
   "source": [
    "\n",
    "x = VarRatioDF.drop(['target'], axis=1).values \n",
    "y = VarRatioDF['target'].values # 종속변인 추출\n",
    "x = StandardScaler().fit_transform(x)\n",
    "pd.DataFrame(x)"
   ]
  },
  {
   "cell_type": "code",
   "execution_count": 43,
   "metadata": {},
   "outputs": [],
   "source": [
    "n_componunts = 5\n",
    "PCA = PrincipalComponuntAnalysis(n_componunts=n_componunts, data=x)\n",
    "principalDF = PCA.principalDf"
   ]
  },
  {
   "cell_type": "code",
   "execution_count": 44,
   "metadata": {},
   "outputs": [
    {
     "data": {
      "text/plain": [
       "0.9715840915593257"
      ]
     },
     "execution_count": 44,
     "metadata": {},
     "output_type": "execute_result"
    }
   ],
   "source": [
    "sum(PCA.explained_variance_ratio_())"
   ]
  },
  {
   "cell_type": "code",
   "execution_count": 47,
   "metadata": {},
   "outputs": [
    {
     "data": {
      "image/png": "[encoded data removed]",
      "text/plain": [
       "<Figure size 640x480 with 1 Axes>"
      ]
     },
     "metadata": {},
     "output_type": "display_data"
    },
    {
     "data": {
      "text/html": [
       "<div>\n",
       "<style scoped>\n",
       "    .dataframe tbody tr th:only-of-type {\n",
       "        vertical-align: middle;\n",
       "    }\n",
       "\n",
       "    .dataframe tbody tr th {\n",
       "        vertical-align: top;\n",
       "    }\n",
       "\n",
       "    .dataframe thead th {\n",
       "        text-align: right;\n",
       "    }\n",
       "</style>\n",
       "<table border=\"1\" class=\"dataframe\">\n",
       "  <thead>\n",
       "    <tr style=\"text-align: right;\">\n",
       "      <th></th>\n",
       "      <th>axis1</th>\n",
       "      <th>axis2</th>\n",
       "      <th>axis3</th>\n",
       "      <th>axis4</th>\n",
       "      <th>axis5</th>\n",
       "      <th>label</th>\n",
       "    </tr>\n",
       "  </thead>\n",
       "  <tbody>\n",
       "    <tr>\n",
       "      <th>0</th>\n",
       "      <td>2.406140</td>\n",
       "      <td>-3.036315</td>\n",
       "      <td>0.628002</td>\n",
       "      <td>0.876854</td>\n",
       "      <td>0.637683</td>\n",
       "      <td>0</td>\n",
       "    </tr>\n",
       "    <tr>\n",
       "      <th>1</th>\n",
       "      <td>0.699755</td>\n",
       "      <td>1.553110</td>\n",
       "      <td>0.434547</td>\n",
       "      <td>-0.353896</td>\n",
       "      <td>-0.953596</td>\n",
       "      <td>0</td>\n",
       "    </tr>\n",
       "    <tr>\n",
       "      <th>2</th>\n",
       "      <td>1.125602</td>\n",
       "      <td>0.356424</td>\n",
       "      <td>0.339739</td>\n",
       "      <td>-0.740610</td>\n",
       "      <td>0.096062</td>\n",
       "      <td>0</td>\n",
       "    </tr>\n",
       "    <tr>\n",
       "      <th>3</th>\n",
       "      <td>1.413595</td>\n",
       "      <td>-0.810379</td>\n",
       "      <td>-1.071851</td>\n",
       "      <td>-0.464875</td>\n",
       "      <td>1.078048</td>\n",
       "      <td>0</td>\n",
       "    </tr>\n",
       "    <tr>\n",
       "      <th>4</th>\n",
       "      <td>0.988339</td>\n",
       "      <td>2.119097</td>\n",
       "      <td>-0.207626</td>\n",
       "      <td>-0.877303</td>\n",
       "      <td>0.183078</td>\n",
       "      <td>0</td>\n",
       "    </tr>\n",
       "    <tr>\n",
       "      <th>...</th>\n",
       "      <td>...</td>\n",
       "      <td>...</td>\n",
       "      <td>...</td>\n",
       "      <td>...</td>\n",
       "      <td>...</td>\n",
       "      <td>...</td>\n",
       "    </tr>\n",
       "    <tr>\n",
       "      <th>191</th>\n",
       "      <td>0.580815</td>\n",
       "      <td>0.128125</td>\n",
       "      <td>0.502988</td>\n",
       "      <td>1.649713</td>\n",
       "      <td>-0.526260</td>\n",
       "      <td>3</td>\n",
       "    </tr>\n",
       "    <tr>\n",
       "      <th>192</th>\n",
       "      <td>-0.536386</td>\n",
       "      <td>2.434540</td>\n",
       "      <td>-0.552899</td>\n",
       "      <td>-0.952611</td>\n",
       "      <td>-0.591293</td>\n",
       "      <td>3</td>\n",
       "    </tr>\n",
       "    <tr>\n",
       "      <th>193</th>\n",
       "      <td>-3.224513</td>\n",
       "      <td>-2.640032</td>\n",
       "      <td>0.125836</td>\n",
       "      <td>0.172903</td>\n",
       "      <td>0.016654</td>\n",
       "      <td>3</td>\n",
       "    </tr>\n",
       "    <tr>\n",
       "      <th>194</th>\n",
       "      <td>-0.371892</td>\n",
       "      <td>-0.932307</td>\n",
       "      <td>1.350035</td>\n",
       "      <td>0.600341</td>\n",
       "      <td>-0.179171</td>\n",
       "      <td>3</td>\n",
       "    </tr>\n",
       "    <tr>\n",
       "      <th>195</th>\n",
       "      <td>-1.230341</td>\n",
       "      <td>-0.349655</td>\n",
       "      <td>-0.076365</td>\n",
       "      <td>1.538607</td>\n",
       "      <td>-0.960493</td>\n",
       "      <td>3</td>\n",
       "    </tr>\n",
       "  </tbody>\n",
       "</table>\n",
       "<p>196 rows × 6 columns</p>\n",
       "</div>"
      ],
      "text/plain": [
       "        axis1     axis2     axis3     axis4     axis5  label\n",
       "0    2.406140 -3.036315  0.628002  0.876854  0.637683      0\n",
       "1    0.699755  1.553110  0.434547 -0.353896 -0.953596      0\n",
       "2    1.125602  0.356424  0.339739 -0.740610  0.096062      0\n",
       "3    1.413595 -0.810379 -1.071851 -0.464875  1.078048      0\n",
       "4    0.988339  2.119097 -0.207626 -0.877303  0.183078      0\n",
       "..        ...       ...       ...       ...       ...    ...\n",
       "191  0.580815  0.128125  0.502988  1.649713 -0.526260      3\n",
       "192 -0.536386  2.434540 -0.552899 -0.952611 -0.591293      3\n",
       "193 -3.224513 -2.640032  0.125836  0.172903  0.016654      3\n",
       "194 -0.371892 -0.932307  1.350035  0.600341 -0.179171      3\n",
       "195 -1.230341 -0.349655 -0.076365  1.538607 -0.960493      3\n",
       "\n",
       "[196 rows x 6 columns]"
      ]
     },
     "execution_count": 47,
     "metadata": {},
     "output_type": "execute_result"
    }
   ],
   "source": [
    "# 데이터를 DataFrame으로 생성\n",
    "df = pd.concat([principalDF, labelDF], axis=1)\n",
    "plotDF3D(df ,4)\n",
    "df"
   ]
  },
  {
   "cell_type": "code",
   "execution_count": 48,
   "metadata": {},
   "outputs": [],
   "source": [
    "LDA_DF = pd.concat([pd.DataFrame(LDATransform(principalDF, labelDF, 3, \"eigen\")), labelDF], axis=1)"
   ]
  },
  {
   "cell_type": "code",
   "execution_count": 49,
   "metadata": {},
   "outputs": [],
   "source": [
    "LDA_DF.columns = [f\"axis{i+1}\" for i in range(3)] + [\"label\"]"
   ]
  },
  {
   "cell_type": "code",
   "execution_count": 50,
   "metadata": {},
   "outputs": [],
   "source": [
    "scaler = StandardScaler()\n",
    "scaler.fit(LDA_DF.loc[:, :\"axis3\"])\n",
    "LDA_DF_Scaled = pd.concat([pd.DataFrame(scaler.transform(LDA_DF.loc[:, :\"axis3\"])), labelDF], axis=1)\n",
    "LDA_DF_Scaled.columns = [f\"axis{i+1}\" for i in range(3)] + [\"label\"]"
   ]
  },
  {
   "cell_type": "code",
   "execution_count": 51,
   "metadata": {},
   "outputs": [],
   "source": [
    "# np.save(f\"./data/raw/dataframe_raw_{experimentIdx}\", LDA_DF)"
   ]
  },
  {
   "cell_type": "code",
   "execution_count": 52,
   "metadata": {},
   "outputs": [
    {
     "name": "stdout",
     "output_type": "stream",
     "text": [
      "교차검증 평균:  0.3211538461538462\n",
      "교차검증 평균:  0.316025641025641\n"
     ]
    }
   ],
   "source": [
    "# SVM, kernel = 'linear'로 선형분리 진행\n",
    "svm_clf =svm.SVC(kernel = 'linear', random_state=100)\n",
    "\n",
    "# 교차검증\n",
    "scores = cross_val_score(svm_clf, LDA_DF_Scaled.loc[:, :\"axis3\"], labelDF, cv = 5)\n",
    "\n",
    "pd.DataFrame(cross_validate(svm_clf, LDA_DF_Scaled.loc[:, :\"axis3\"], labelDF, cv =5))\n",
    "\n",
    "print('교차검증 평균: ', scores.mean())\n",
    "\n",
    "# SVM, kernel = 'rbf'로 비선형분리 진행\n",
    "svm_clf = svm.SVC(kernel = 'rbf')\n",
    "\n",
    "# 교차검증\n",
    "scores = cross_val_score(svm_clf, LDA_DF_Scaled.loc[:, :\"axis3\"], labelDF, cv = 5)\n",
    "scores\n",
    "\n",
    "pd.DataFrame(cross_validate(svm_clf, LDA_DF_Scaled.loc[:, :\"axis3\"], labelDF, cv =5))\n",
    "\n",
    "print('교차검증 평균: ', scores.mean())"
   ]
  },
  {
   "cell_type": "code",
   "execution_count": null,
   "metadata": {},
   "outputs": [],
   "source": []
  }
 ],
 "metadata": {
  "kernelspec": {
   "display_name": "Python 3",
   "language": "python",
   "name": "python3"
  },
  "language_info": {
   "codemirror_mode": {
    "name": "ipython",
    "version": 3
   },
   "file_extension": ".py",
   "mimetype": "text/x-python",
   "name": "python",
   "nbconvert_exporter": "python",
   "pygments_lexer": "ipython3",
   "version": "3.10.5"
  },
  "orig_nbformat": 4
 },
 "nbformat": 4,
 "nbformat_minor": 2
}
