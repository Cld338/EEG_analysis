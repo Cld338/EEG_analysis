{
 "cells": [
  {
   "cell_type": "code",
   "execution_count": 35,
   "metadata": {},
   "outputs": [],
   "source": [
    "from dataAnalyzer import *\n",
    "from private_tool import *\n",
    "from dataHandler import *\n",
    "from numpy import array"
   ]
  },
  {
   "cell_type": "code",
   "execution_count": 36,
   "metadata": {},
   "outputs": [],
   "source": [
    "experimentNum = 9\n",
    "Experiments = [MotorImageryDataset(parentDirectory(dir=currDir, separator=\"\\\\\", n=1)+'/bcicompetitionIV2a/A0'+str(i+1)+'T.npz') for i in range(experimentNum)]"
   ]
  },
  {
   "cell_type": "code",
   "execution_count": 37,
   "metadata": {},
   "outputs": [],
   "source": [
    "channels = [7, 9, 10, 11]\n",
    "samplingRate = 250 #Hz\n",
    "trialsByClasses = array([i.get_trials_by_classes(channels=channels) for i in Experiments])"
   ]
  },
  {
   "cell_type": "code",
   "execution_count": 38,
   "metadata": {},
   "outputs": [
    {
     "data": {
      "text/plain": [
       "69"
      ]
     },
     "execution_count": 38,
     "metadata": {},
     "output_type": "execute_result"
    }
   ],
   "source": [
    "len(trialsByClasses[0][\"left\"][0])"
   ]
  },
  {
   "cell_type": "code",
   "execution_count": 39,
   "metadata": {},
   "outputs": [
    {
     "data": {
      "text/plain": [
       "(4, 4)"
      ]
     },
     "execution_count": 39,
     "metadata": {},
     "output_type": "execute_result"
    }
   ],
   "source": [
    "channelNum = len(channels)\n",
    "m = len(trialsByClasses[0][\"left\"])\n",
    "channelNum, m"
   ]
  },
  {
   "cell_type": "code",
   "execution_count": 40,
   "metadata": {},
   "outputs": [],
   "source": [
    "bandpassedTrialsByClasses = [{i:[[] for _ in range(channelNum)] for i in j.mi_types.values()} for j in Experiments]\n",
    "for k in range(experimentNum):\n",
    "    for key in trialsByClasses[k].keys():\n",
    "        for i in range(channelNum):\n",
    "            bandpassedTrialsByClasses[k][key][i] = np.array([bandpass_filter(data=trialsByClasses[k][key][i][j], \n",
    "                                                                sample_rate=samplingRate, \n",
    "                                                                cutoff_low=5, \n",
    "                                                                cutoff_high=50)\\\n",
    "                                                for j in range(len(trialsByClasses[k][key][i]))])"
   ]
  },
  {
   "cell_type": "code",
   "execution_count": 41,
   "metadata": {},
   "outputs": [],
   "source": [
    "# bandpassedTrialsByClasses[2][\"left\"][2].shape"
   ]
  },
  {
   "cell_type": "code",
   "execution_count": 49,
   "metadata": {},
   "outputs": [
    {
     "name": "stdout",
     "output_type": "stream",
     "text": [
      "2\n",
      "Hero\n",
      "Paladin\n"
     ]
    }
   ],
   "source": []
  },
  {
   "cell_type": "code",
   "execution_count": 42,
   "metadata": {},
   "outputs": [
    {
     "name": "stderr",
     "output_type": "stream",
     "text": [
      "C:\\Users\\jihun\\AppData\\Local\\Temp\\ipykernel_11200\\3323506164.py:3: VisibleDeprecationWarning: Creating an ndarray from ragged nested sequences (which is a list-or-tuple of lists-or-tuples-or ndarrays with different lengths or shapes) is deprecated. If you meant to do this, you must specify 'dtype=object' when creating the ndarray.\n",
      "  bandpassedTrialsByClasses = {key:array([[bandpassedTrialsByClasses[i][key][j] for j in range(channelNum)] for i in range(experimentNum)]) for key in Experiments[0].mi_types.values()}\n"
     ]
    }
   ],
   "source": [
    "# 현재 상태는 experiment - class - channel - trial - signal\n",
    "# class - experiment - trial - channel - signal로 수정하자\n",
    "bandpassedTrialsByClasses = {key:array([[bandpassedTrialsByClasses[i][key][j] for j in range(channelNum)] for i in range(experimentNum)]) for key in Experiments[0].mi_types.values()}\n",
    "# bandpassedTrialsByClasses[\"left\"][8][0].shape\n",
    "# i: experiment\n",
    "# j: trial"
   ]
  },
  {
   "cell_type": "code",
   "execution_count": 43,
   "metadata": {},
   "outputs": [],
   "source": [
    "minTrialsNum = sorted([len(bandpassedTrialsByClasses[\"left\"][i]) for i in range(experimentNum)])[0]\n",
    "bandpassedTrialsByClasses = {i:bandpassedTrialsByClasses[i][0] for i in Experiments[0].mi_types.values()}"
   ]
  },
  {
   "cell_type": "code",
   "execution_count": 44,
   "metadata": {},
   "outputs": [
    {
     "ename": "ValueError",
     "evalue": "diag requires an array of at least two dimensions",
     "output_type": "error",
     "traceback": [
      "\u001b[1;31m---------------------------------------------------------------------------\u001b[0m",
      "\u001b[1;31mValueError\u001b[0m                                Traceback (most recent call last)",
      "\u001b[1;32mc:\\Users\\jihun\\OneDrive\\바탕 화면\\openvibe\\source code\\EEG_analyze\\example\\main.ipynb 셀 11\u001b[0m in \u001b[0;36m<cell line: 1>\u001b[1;34m()\u001b[0m\n\u001b[1;32m----> <a href='vscode-notebook-cell:/c%3A/Users/jihun/OneDrive/%EB%B0%94%ED%83%95%20%ED%99%94%EB%A9%B4/openvibe/source%20code/EEG_analyze/example/main.ipynb#X12sZmlsZQ%3D%3D?line=0'>1</a>\u001b[0m left_csp_filter \u001b[39m=\u001b[39m CSP_filter(\u001b[39mlen\u001b[39;49m(bandpassedTrialsByClasses[\u001b[39m\"\u001b[39;49m\u001b[39mleft\u001b[39;49m\u001b[39m\"\u001b[39;49m][\u001b[39m0\u001b[39;49m]), bandpassedTrialsByClasses[\u001b[39m\"\u001b[39;49m\u001b[39mleft\u001b[39;49m\u001b[39m\"\u001b[39;49m][\u001b[39m0\u001b[39;49m])\n\u001b[0;32m      <a href='vscode-notebook-cell:/c%3A/Users/jihun/OneDrive/%EB%B0%94%ED%83%95%20%ED%99%94%EB%A9%B4/openvibe/source%20code/EEG_analyze/example/main.ipynb#X12sZmlsZQ%3D%3D?line=1'>2</a>\u001b[0m right_csp_filter \u001b[39m=\u001b[39m CSP_filter(\u001b[39mlen\u001b[39m(bandpassedTrialsByClasses[\u001b[39m\"\u001b[39m\u001b[39mright\u001b[39m\u001b[39m\"\u001b[39m][\u001b[39m0\u001b[39m]), bandpassedTrialsByClasses[\u001b[39m\"\u001b[39m\u001b[39mright\u001b[39m\u001b[39m\"\u001b[39m][\u001b[39m0\u001b[39m])\n",
      "File \u001b[1;32mc:\\Users\\jihun\\OneDrive\\바탕 화면\\openvibe\\source code\\EEG_analyze\\example\\dataAnalyzer.py:35\u001b[0m, in \u001b[0;36mCSP_filter\u001b[1;34m(experimentNum, *classes)\u001b[0m\n\u001b[0;32m     33\u001b[0m \u001b[39mdef\u001b[39;00m \u001b[39mCSP_filter\u001b[39m(experimentNum, \u001b[39m*\u001b[39mclasses):\n\u001b[0;32m     34\u001b[0m     classNum \u001b[39m=\u001b[39m \u001b[39mlen\u001b[39m(classes)\n\u001b[1;32m---> 35\u001b[0m     classes_covariance_matrix_per_subject \u001b[39m=\u001b[39m np\u001b[39m.\u001b[39marray([np\u001b[39m.\u001b[39marray([covariance(classes[i][j]) \u001b[39mfor\u001b[39;00m j \u001b[39min\u001b[39;00m \u001b[39mrange\u001b[39m(experimentNum)]) \u001b[39mfor\u001b[39;00m i \u001b[39min\u001b[39;00m \u001b[39mrange\u001b[39m(classNum)])\n\u001b[0;32m     36\u001b[0m     classes_mean_covariance_matrix \u001b[39m=\u001b[39m np\u001b[39m.\u001b[39mzeros_like(classes_covariance_matrix_per_subject[\u001b[39m0\u001b[39m][\u001b[39m0\u001b[39m])\n\u001b[0;32m     37\u001b[0m     \u001b[39mfor\u001b[39;00m i \u001b[39min\u001b[39;00m \u001b[39mrange\u001b[39m(classNum):\n",
      "File \u001b[1;32mc:\\Users\\jihun\\OneDrive\\바탕 화면\\openvibe\\source code\\EEG_analyze\\example\\dataAnalyzer.py:35\u001b[0m, in \u001b[0;36m<listcomp>\u001b[1;34m(.0)\u001b[0m\n\u001b[0;32m     33\u001b[0m \u001b[39mdef\u001b[39;00m \u001b[39mCSP_filter\u001b[39m(experimentNum, \u001b[39m*\u001b[39mclasses):\n\u001b[0;32m     34\u001b[0m     classNum \u001b[39m=\u001b[39m \u001b[39mlen\u001b[39m(classes)\n\u001b[1;32m---> 35\u001b[0m     classes_covariance_matrix_per_subject \u001b[39m=\u001b[39m np\u001b[39m.\u001b[39marray([np\u001b[39m.\u001b[39marray([covariance(classes[i][j]) \u001b[39mfor\u001b[39;00m j \u001b[39min\u001b[39;00m \u001b[39mrange\u001b[39m(experimentNum)]) \u001b[39mfor\u001b[39;00m i \u001b[39min\u001b[39;00m \u001b[39mrange\u001b[39m(classNum)])\n\u001b[0;32m     36\u001b[0m     classes_mean_covariance_matrix \u001b[39m=\u001b[39m np\u001b[39m.\u001b[39mzeros_like(classes_covariance_matrix_per_subject[\u001b[39m0\u001b[39m][\u001b[39m0\u001b[39m])\n\u001b[0;32m     37\u001b[0m     \u001b[39mfor\u001b[39;00m i \u001b[39min\u001b[39;00m \u001b[39mrange\u001b[39m(classNum):\n",
      "File \u001b[1;32mc:\\Users\\jihun\\OneDrive\\바탕 화면\\openvibe\\source code\\EEG_analyze\\example\\dataAnalyzer.py:35\u001b[0m, in \u001b[0;36m<listcomp>\u001b[1;34m(.0)\u001b[0m\n\u001b[0;32m     33\u001b[0m \u001b[39mdef\u001b[39;00m \u001b[39mCSP_filter\u001b[39m(experimentNum, \u001b[39m*\u001b[39mclasses):\n\u001b[0;32m     34\u001b[0m     classNum \u001b[39m=\u001b[39m \u001b[39mlen\u001b[39m(classes)\n\u001b[1;32m---> 35\u001b[0m     classes_covariance_matrix_per_subject \u001b[39m=\u001b[39m np\u001b[39m.\u001b[39marray([np\u001b[39m.\u001b[39marray([covariance(classes[i][j]) \u001b[39mfor\u001b[39;00m j \u001b[39min\u001b[39;00m \u001b[39mrange\u001b[39m(experimentNum)]) \u001b[39mfor\u001b[39;00m i \u001b[39min\u001b[39;00m \u001b[39mrange\u001b[39m(classNum)])\n\u001b[0;32m     36\u001b[0m     classes_mean_covariance_matrix \u001b[39m=\u001b[39m np\u001b[39m.\u001b[39mzeros_like(classes_covariance_matrix_per_subject[\u001b[39m0\u001b[39m][\u001b[39m0\u001b[39m])\n\u001b[0;32m     37\u001b[0m     \u001b[39mfor\u001b[39;00m i \u001b[39min\u001b[39;00m \u001b[39mrange\u001b[39m(classNum):\n",
      "File \u001b[1;32mc:\\Users\\jihun\\OneDrive\\바탕 화면\\openvibe\\source code\\EEG_analyze\\example\\dataAnalyzer.py:25\u001b[0m, in \u001b[0;36mcovariance\u001b[1;34m(X)\u001b[0m\n\u001b[0;32m     23\u001b[0m \u001b[39mdef\u001b[39;00m \u001b[39mcovariance\u001b[39m(X):\n\u001b[0;32m     24\u001b[0m     cov_data \u001b[39m=\u001b[39m X\u001b[39m@np\u001b[39m\u001b[39m.\u001b[39mtranspose(X)\n\u001b[1;32m---> 25\u001b[0m     covariance_matrix \u001b[39m=\u001b[39m cov_data \u001b[39m/\u001b[39m np\u001b[39m.\u001b[39;49mtrace(cov_data)\n\u001b[0;32m     26\u001b[0m     \u001b[39mreturn\u001b[39;00m covariance_matrix\n",
      "File \u001b[1;32m<__array_function__ internals>:180\u001b[0m, in \u001b[0;36mtrace\u001b[1;34m(*args, **kwargs)\u001b[0m\n",
      "File \u001b[1;32mc:\\Users\\jihun\\AppData\\Local\\Programs\\Python\\Python310\\lib\\site-packages\\numpy\\core\\fromnumeric.py:1748\u001b[0m, in \u001b[0;36mtrace\u001b[1;34m(a, offset, axis1, axis2, dtype, out)\u001b[0m\n\u001b[0;32m   1746\u001b[0m     \u001b[39mreturn\u001b[39;00m asarray(a)\u001b[39m.\u001b[39mtrace(offset\u001b[39m=\u001b[39moffset, axis1\u001b[39m=\u001b[39maxis1, axis2\u001b[39m=\u001b[39maxis2, dtype\u001b[39m=\u001b[39mdtype, out\u001b[39m=\u001b[39mout)\n\u001b[0;32m   1747\u001b[0m \u001b[39melse\u001b[39;00m:\n\u001b[1;32m-> 1748\u001b[0m     \u001b[39mreturn\u001b[39;00m asanyarray(a)\u001b[39m.\u001b[39;49mtrace(offset\u001b[39m=\u001b[39;49moffset, axis1\u001b[39m=\u001b[39;49maxis1, axis2\u001b[39m=\u001b[39;49maxis2, dtype\u001b[39m=\u001b[39;49mdtype, out\u001b[39m=\u001b[39;49mout)\n",
      "\u001b[1;31mValueError\u001b[0m: diag requires an array of at least two dimensions"
     ]
    }
   ],
   "source": [
    "left_csp_filter = CSP_filter(len(bandpassedTrialsByClasses[\"left\"][0]), bandpassedTrialsByClasses[\"left\"][0])\n",
    "right_csp_filter = CSP_filter(len(bandpassedTrialsByClasses[\"right\"][0]), bandpassedTrialsByClasses[\"right\"][0])"
   ]
  },
  {
   "cell_type": "code",
   "execution_count": 45,
   "metadata": {},
   "outputs": [
    {
     "data": {
      "text/plain": [
       "(4, 4)"
      ]
     },
     "execution_count": 45,
     "metadata": {},
     "output_type": "execute_result"
    }
   ],
   "source": [
    "len(bandpassedTrialsByClasses[\"left\"]), len(bandpassedTrialsByClasses[\"right\"])"
   ]
  },
  {
   "cell_type": "code",
   "execution_count": 46,
   "metadata": {},
   "outputs": [],
   "source": [
    "bandpassedTrials = {i:[] for i in Experiments[0].mi_types.values()}\n",
    "for i in Experiments[0].mi_types.values():\n",
    "    for j in range(len(bandpassedTrialsByClasses)):\n",
    "        bandpassedTrials[i] "
   ]
  },
  {
   "cell_type": "code",
   "execution_count": 47,
   "metadata": {},
   "outputs": [
    {
     "ename": "ValueError",
     "evalue": "matmul: Input operand 1 has a mismatch in its core dimension 0, with gufunc signature (n?,k),(k,m?)->(n?,m?) (size 69 is different from 1875)",
     "output_type": "error",
     "traceback": [
      "\u001b[1;31m---------------------------------------------------------------------------\u001b[0m",
      "\u001b[1;31mValueError\u001b[0m                                Traceback (most recent call last)",
      "\u001b[1;32mc:\\Users\\jihun\\OneDrive\\바탕 화면\\openvibe\\source code\\EEG_analyze\\example\\main.ipynb 셀 14\u001b[0m in \u001b[0;36m<cell line: 2>\u001b[1;34m()\u001b[0m\n\u001b[0;32m      <a href='vscode-notebook-cell:/c%3A/Users/jihun/OneDrive/%EB%B0%94%ED%83%95%20%ED%99%94%EB%A9%B4/openvibe/source%20code/EEG_analyze/example/main.ipynb#X15sZmlsZQ%3D%3D?line=0'>1</a>\u001b[0m \u001b[39m# CSP_passed_left_data = np.array([[bandpassedTrialsByClasses[i][j].T@left_csp_filter for j in range(minTrialsNum)] for i in range(experimentNum)])\u001b[39;00m\n\u001b[1;32m----> <a href='vscode-notebook-cell:/c%3A/Users/jihun/OneDrive/%EB%B0%94%ED%83%95%20%ED%99%94%EB%A9%B4/openvibe/source%20code/EEG_analyze/example/main.ipynb#X15sZmlsZQ%3D%3D?line=1'>2</a>\u001b[0m CSP_passed_left_data \u001b[39m=\u001b[39m [j\u001b[39m.\u001b[39mT\u001b[39m@left_csp_filter\u001b[39m \u001b[39mfor\u001b[39;00m j \u001b[39min\u001b[39;00m bandpassedTrialsByClasses[\u001b[39m\"\u001b[39m\u001b[39mleft\u001b[39m\u001b[39m\"\u001b[39m][\u001b[39m0\u001b[39m]]\n\u001b[0;32m      <a href='vscode-notebook-cell:/c%3A/Users/jihun/OneDrive/%EB%B0%94%ED%83%95%20%ED%99%94%EB%A9%B4/openvibe/source%20code/EEG_analyze/example/main.ipynb#X15sZmlsZQ%3D%3D?line=2'>3</a>\u001b[0m CSP_passed_right_data \u001b[39m=\u001b[39m [j\u001b[39m.\u001b[39mT\u001b[39m@right_csp_filter\u001b[39m \u001b[39mfor\u001b[39;00m j \u001b[39min\u001b[39;00m bandpassedTrialsByClasses[\u001b[39m\"\u001b[39m\u001b[39mright\u001b[39m\u001b[39m\"\u001b[39m][\u001b[39m0\u001b[39m]]\n",
      "\u001b[1;32mc:\\Users\\jihun\\OneDrive\\바탕 화면\\openvibe\\source code\\EEG_analyze\\example\\main.ipynb 셀 14\u001b[0m in \u001b[0;36m<listcomp>\u001b[1;34m(.0)\u001b[0m\n\u001b[0;32m      <a href='vscode-notebook-cell:/c%3A/Users/jihun/OneDrive/%EB%B0%94%ED%83%95%20%ED%99%94%EB%A9%B4/openvibe/source%20code/EEG_analyze/example/main.ipynb#X15sZmlsZQ%3D%3D?line=0'>1</a>\u001b[0m \u001b[39m# CSP_passed_left_data = np.array([[bandpassedTrialsByClasses[i][j].T@left_csp_filter for j in range(minTrialsNum)] for i in range(experimentNum)])\u001b[39;00m\n\u001b[1;32m----> <a href='vscode-notebook-cell:/c%3A/Users/jihun/OneDrive/%EB%B0%94%ED%83%95%20%ED%99%94%EB%A9%B4/openvibe/source%20code/EEG_analyze/example/main.ipynb#X15sZmlsZQ%3D%3D?line=1'>2</a>\u001b[0m CSP_passed_left_data \u001b[39m=\u001b[39m [j\u001b[39m.\u001b[39;49mT\u001b[39m@left_csp_filter\u001b[39;49m \u001b[39mfor\u001b[39;00m j \u001b[39min\u001b[39;00m bandpassedTrialsByClasses[\u001b[39m\"\u001b[39m\u001b[39mleft\u001b[39m\u001b[39m\"\u001b[39m][\u001b[39m0\u001b[39m]]\n\u001b[0;32m      <a href='vscode-notebook-cell:/c%3A/Users/jihun/OneDrive/%EB%B0%94%ED%83%95%20%ED%99%94%EB%A9%B4/openvibe/source%20code/EEG_analyze/example/main.ipynb#X15sZmlsZQ%3D%3D?line=2'>3</a>\u001b[0m CSP_passed_right_data \u001b[39m=\u001b[39m [j\u001b[39m.\u001b[39mT\u001b[39m@right_csp_filter\u001b[39m \u001b[39mfor\u001b[39;00m j \u001b[39min\u001b[39;00m bandpassedTrialsByClasses[\u001b[39m\"\u001b[39m\u001b[39mright\u001b[39m\u001b[39m\"\u001b[39m][\u001b[39m0\u001b[39m]]\n",
      "\u001b[1;31mValueError\u001b[0m: matmul: Input operand 1 has a mismatch in its core dimension 0, with gufunc signature (n?,k),(k,m?)->(n?,m?) (size 69 is different from 1875)"
     ]
    }
   ],
   "source": [
    "# CSP_passed_left_data = np.array([[bandpassedTrialsByClasses[i][j].T@left_csp_filter for j in range(minTrialsNum)] for i in range(experimentNum)])\n",
    "CSP_passed_left_data = [j.T@left_csp_filter for j in bandpassedTrialsByClasses[\"left\"][0]]\n",
    "CSP_passed_right_data = [j.T@right_csp_filter for j in bandpassedTrialsByClasses[\"right\"][0]]"
   ]
  },
  {
   "cell_type": "code",
   "execution_count": null,
   "metadata": {},
   "outputs": [],
   "source": [
    "# bandpassedTrialsByClasses[\"right\"][0][\"right\"][0]"
   ]
  },
  {
   "cell_type": "code",
   "execution_count": null,
   "metadata": {},
   "outputs": [
    {
     "name": "stdout",
     "output_type": "stream",
     "text": [
      "(4, 1875, 69)\n"
     ]
    }
   ],
   "source": [
    "print(array(CSP_passed_left_data).shape)\n",
    "CSP_passed_left_data = [np.array([j.T for j in i]).T for i in CSP_passed_left_data]\n",
    "CSP_passed_right_data = [np.array([j.T for j in i]).T for i in CSP_passed_right_data]"
   ]
  },
  {
   "cell_type": "code",
   "execution_count": null,
   "metadata": {},
   "outputs": [
    {
     "data": {
      "text/plain": [
       "(4, 69, 1875)"
      ]
     },
     "execution_count": 15,
     "metadata": {},
     "output_type": "execute_result"
    }
   ],
   "source": [
    "array(CSP_passed_left_data).shape"
   ]
  },
  {
   "cell_type": "code",
   "execution_count": null,
   "metadata": {},
   "outputs": [
    {
     "name": "stdout",
     "output_type": "stream",
     "text": [
      "4\n"
     ]
    }
   ],
   "source": [
    "from math import log\n",
    "m = 2\n",
    "print(len(CSP_passed_left_data))\n",
    "# for i in range(minTrialsNum):\n",
    "#     CSP_passed_left_data[i]\n",
    "leftVar = np.array([np.array([np.var(CSP_passed_left_data[i][j]) for j in range(minTrialsNum)]) for i in range(channelNum)])\n",
    "rightVar = np.array([np.array([np.var(CSP_passed_right_data[i][j]) for j in range(minTrialsNum)]) for i in range(channelNum)])\n",
    "\n",
    "leftVarRatio = np.array([np.array([log(leftVar[i][j-m]/sum(leftVar[i])) for j in range(m*2)]) for i in range(channelNum)])\n",
    "rightVarRatio = np.array([np.array([log(rightVar[i][j-m]/sum(rightVar[i])) for j in range(m*2)]) for i in range(channelNum)])"
   ]
  },
  {
   "cell_type": "code",
   "execution_count": null,
   "metadata": {},
   "outputs": [],
   "source": [
    "leftVarRatioDF = pd.DataFrame(leftVarRatio)\n",
    "rightVarRatioDF = pd.DataFrame(rightVarRatio)\n",
    "labelDF = pd.DataFrame([0]*channelNum + [1]*channelNum)"
   ]
  },
  {
   "cell_type": "code",
   "execution_count": null,
   "metadata": {},
   "outputs": [
    {
     "data": {
      "text/html": [
       "<div>\n",
       "<style scoped>\n",
       "    .dataframe tbody tr th:only-of-type {\n",
       "        vertical-align: middle;\n",
       "    }\n",
       "\n",
       "    .dataframe tbody tr th {\n",
       "        vertical-align: top;\n",
       "    }\n",
       "\n",
       "    .dataframe thead th {\n",
       "        text-align: right;\n",
       "    }\n",
       "</style>\n",
       "<table border=\"1\" class=\"dataframe\">\n",
       "  <thead>\n",
       "    <tr style=\"text-align: right;\">\n",
       "      <th></th>\n",
       "      <th>0</th>\n",
       "      <th>1</th>\n",
       "      <th>2</th>\n",
       "      <th>3</th>\n",
       "      <th>target</th>\n",
       "    </tr>\n",
       "  </thead>\n",
       "  <tbody>\n",
       "    <tr>\n",
       "      <th>0</th>\n",
       "      <td>-4.006609</td>\n",
       "      <td>-3.828681</td>\n",
       "      <td>-4.101242</td>\n",
       "      <td>-4.033960</td>\n",
       "      <td>0</td>\n",
       "    </tr>\n",
       "    <tr>\n",
       "      <th>1</th>\n",
       "      <td>-4.090508</td>\n",
       "      <td>-3.732472</td>\n",
       "      <td>-4.113244</td>\n",
       "      <td>-4.076087</td>\n",
       "      <td>0</td>\n",
       "    </tr>\n",
       "    <tr>\n",
       "      <th>2</th>\n",
       "      <td>-4.054104</td>\n",
       "      <td>-3.744143</td>\n",
       "      <td>-4.169380</td>\n",
       "      <td>-4.081331</td>\n",
       "      <td>0</td>\n",
       "    </tr>\n",
       "    <tr>\n",
       "      <th>3</th>\n",
       "      <td>-3.988417</td>\n",
       "      <td>-3.773423</td>\n",
       "      <td>-4.218823</td>\n",
       "      <td>-4.066461</td>\n",
       "      <td>0</td>\n",
       "    </tr>\n",
       "    <tr>\n",
       "      <th>4</th>\n",
       "      <td>-4.116012</td>\n",
       "      <td>-4.077987</td>\n",
       "      <td>-3.836805</td>\n",
       "      <td>-3.755975</td>\n",
       "      <td>1</td>\n",
       "    </tr>\n",
       "    <tr>\n",
       "      <th>5</th>\n",
       "      <td>-4.144991</td>\n",
       "      <td>-4.101030</td>\n",
       "      <td>-3.878388</td>\n",
       "      <td>-3.707654</td>\n",
       "      <td>1</td>\n",
       "    </tr>\n",
       "    <tr>\n",
       "      <th>6</th>\n",
       "      <td>-4.098983</td>\n",
       "      <td>-4.104210</td>\n",
       "      <td>-3.876317</td>\n",
       "      <td>-3.691179</td>\n",
       "      <td>1</td>\n",
       "    </tr>\n",
       "    <tr>\n",
       "      <th>7</th>\n",
       "      <td>-4.069806</td>\n",
       "      <td>-4.047110</td>\n",
       "      <td>-3.847742</td>\n",
       "      <td>-3.679556</td>\n",
       "      <td>1</td>\n",
       "    </tr>\n",
       "  </tbody>\n",
       "</table>\n",
       "</div>"
      ],
      "text/plain": [
       "          0         1         2         3  target\n",
       "0 -4.006609 -3.828681 -4.101242 -4.033960       0\n",
       "1 -4.090508 -3.732472 -4.113244 -4.076087       0\n",
       "2 -4.054104 -3.744143 -4.169380 -4.081331       0\n",
       "3 -3.988417 -3.773423 -4.218823 -4.066461       0\n",
       "4 -4.116012 -4.077987 -3.836805 -3.755975       1\n",
       "5 -4.144991 -4.101030 -3.878388 -3.707654       1\n",
       "6 -4.098983 -4.104210 -3.876317 -3.691179       1\n",
       "7 -4.069806 -4.047110 -3.847742 -3.679556       1"
      ]
     },
     "execution_count": 18,
     "metadata": {},
     "output_type": "execute_result"
    }
   ],
   "source": [
    "VarRatioDF = pd.concat([leftVarRatioDF, rightVarRatioDF], axis=0)\n",
    "VarRatioDF = VarRatioDF.reset_index()\n",
    "VarRatioDF = pd.concat([VarRatioDF, labelDF], axis=1).iloc[:,1:]\n",
    "VarRatioDF.columns = [f\"{n}\" for n in range(m*2)] + [\"target\"]\n",
    "VarRatioDF"
   ]
  },
  {
   "cell_type": "code",
   "execution_count": null,
   "metadata": {},
   "outputs": [
    {
     "data": {
      "text/html": [
       "<div>\n",
       "<style scoped>\n",
       "    .dataframe tbody tr th:only-of-type {\n",
       "        vertical-align: middle;\n",
       "    }\n",
       "\n",
       "    .dataframe tbody tr th {\n",
       "        vertical-align: top;\n",
       "    }\n",
       "\n",
       "    .dataframe thead th {\n",
       "        text-align: right;\n",
       "    }\n",
       "</style>\n",
       "<table border=\"1\" class=\"dataframe\">\n",
       "  <thead>\n",
       "    <tr style=\"text-align: right;\">\n",
       "      <th></th>\n",
       "      <th>0</th>\n",
       "      <th>1</th>\n",
       "      <th>2</th>\n",
       "      <th>3</th>\n",
       "    </tr>\n",
       "  </thead>\n",
       "  <tbody>\n",
       "    <tr>\n",
       "      <th>0</th>\n",
       "      <td>1.294072</td>\n",
       "      <td>0.611103</td>\n",
       "      <td>-0.641189</td>\n",
       "      <td>-0.820936</td>\n",
       "    </tr>\n",
       "    <tr>\n",
       "      <th>1</th>\n",
       "      <td>-0.387389</td>\n",
       "      <td>1.214423</td>\n",
       "      <td>-0.721355</td>\n",
       "      <td>-1.055500</td>\n",
       "    </tr>\n",
       "    <tr>\n",
       "      <th>2</th>\n",
       "      <td>0.342213</td>\n",
       "      <td>1.141232</td>\n",
       "      <td>-1.096295</td>\n",
       "      <td>-1.084700</td>\n",
       "    </tr>\n",
       "    <tr>\n",
       "      <th>3</th>\n",
       "      <td>1.658676</td>\n",
       "      <td>0.957623</td>\n",
       "      <td>-1.426528</td>\n",
       "      <td>-1.001905</td>\n",
       "    </tr>\n",
       "    <tr>\n",
       "      <th>4</th>\n",
       "      <td>-0.898533</td>\n",
       "      <td>-0.952266</td>\n",
       "      <td>1.125014</td>\n",
       "      <td>0.726918</td>\n",
       "    </tr>\n",
       "    <tr>\n",
       "      <th>5</th>\n",
       "      <td>-1.479307</td>\n",
       "      <td>-1.096767</td>\n",
       "      <td>0.847276</td>\n",
       "      <td>0.995980</td>\n",
       "    </tr>\n",
       "    <tr>\n",
       "      <th>6</th>\n",
       "      <td>-0.557244</td>\n",
       "      <td>-1.116708</td>\n",
       "      <td>0.861109</td>\n",
       "      <td>1.087715</td>\n",
       "    </tr>\n",
       "    <tr>\n",
       "      <th>7</th>\n",
       "      <td>0.027512</td>\n",
       "      <td>-0.758639</td>\n",
       "      <td>1.051968</td>\n",
       "      <td>1.152428</td>\n",
       "    </tr>\n",
       "  </tbody>\n",
       "</table>\n",
       "</div>"
      ],
      "text/plain": [
       "          0         1         2         3\n",
       "0  1.294072  0.611103 -0.641189 -0.820936\n",
       "1 -0.387389  1.214423 -0.721355 -1.055500\n",
       "2  0.342213  1.141232 -1.096295 -1.084700\n",
       "3  1.658676  0.957623 -1.426528 -1.001905\n",
       "4 -0.898533 -0.952266  1.125014  0.726918\n",
       "5 -1.479307 -1.096767  0.847276  0.995980\n",
       "6 -0.557244 -1.116708  0.861109  1.087715\n",
       "7  0.027512 -0.758639  1.051968  1.152428"
      ]
     },
     "execution_count": 19,
     "metadata": {},
     "output_type": "execute_result"
    }
   ],
   "source": [
    "from sklearn.preprocessing import StandardScaler, RobustScaler\n",
    "x = VarRatioDF.drop(['target'], axis=1).values \n",
    "y = VarRatioDF['target'].values # 종속변인 추출\n",
    "x = StandardScaler().fit_transform(x)\n",
    "pd.DataFrame(x)"
   ]
  },
  {
   "cell_type": "code",
   "execution_count": null,
   "metadata": {},
   "outputs": [],
   "source": [
    "PCA = PrincipalComponentAnalysis(n_componunts=2, data=x)\n",
    "principalDf = PCA.principalDf"
   ]
  },
  {
   "cell_type": "code",
   "execution_count": null,
   "metadata": {},
   "outputs": [
    {
     "data": {
      "text/plain": [
       "<bound method PrincipalComponentAnalysis.explained_variance_ratio_ of <dataAnalyzer.PrincipalComponentAnalysis object at 0x00000166251CF640>>"
      ]
     },
     "execution_count": 124,
     "metadata": {},
     "output_type": "execute_result"
    }
   ],
   "source": [
    "PCA.explained_variance_ratio_"
   ]
  },
  {
   "cell_type": "code",
   "execution_count": null,
   "metadata": {},
   "outputs": [
    {
     "data": {
      "image/png": "[encoded data removed]",
      "text/plain": [
       "<Figure size 800x800 with 1 Axes>"
      ]
     },
     "metadata": {},
     "output_type": "display_data"
    }
   ],
   "source": [
    "import matplotlib.pyplot as plt\n",
    "\n",
    "fig = plt.figure(figsize = (8, 8))\n",
    "ax = fig.add_subplot(1, 1, 1)\n",
    "ax.set_xlabel('Principal Component 1', fontsize = 15)\n",
    "ax.set_ylabel('Principal Component 2', fontsize = 15)\n",
    "ax.set_title('2 component PCA', fontsize=20)\n",
    "\n",
    "targets = [0, 1]\n",
    "colors = ['r', 'b']\n",
    "for target, color in zip(targets,colors):\n",
    "    indicesToKeep = VarRatioDF['target'] == target\n",
    "    ax.scatter(principalDf.loc[indicesToKeep, 'principal component1']\n",
    "               , principalDf.loc[indicesToKeep, 'principal component2']\n",
    "               , c = color\n",
    "               , s = 50)\n",
    "ax.legend(targets)\n",
    "ax.grid()"
   ]
  },
  {
   "cell_type": "code",
   "execution_count": null,
   "metadata": {},
   "outputs": [],
   "source": []
  }
 ],
 "metadata": {
  "kernelspec": {
   "display_name": "Python 3",
   "language": "python",
   "name": "python3"
  },
  "language_info": {
   "codemirror_mode": {
    "name": "ipython",
    "version": 3
   },
   "file_extension": ".py",
   "mimetype": "text/x-python",
   "name": "python",
   "nbconvert_exporter": "python",
   "pygments_lexer": "ipython3",
   "version": "3.10.5"
  },
  "orig_nbformat": 4
 },
 "nbformat": 4,
 "nbformat_minor": 2
}
