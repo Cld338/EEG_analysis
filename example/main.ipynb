{
 "cells": [
  {
   "cell_type": "code",
   "execution_count": 27,
   "metadata": {},
   "outputs": [],
   "source": [
    "from sklearn.model_selection import cross_val_score, cross_validate\n",
    "from sklearn.preprocessing import StandardScaler\n",
    "import sklearn.svm as svm\n",
    "import pandas as pd\n",
    "import warnings"
   ]
  },
  {
   "cell_type": "code",
   "execution_count": 28,
   "metadata": {},
   "outputs": [],
   "source": [
    "from featureExtraction import *\n",
    "from dataAnalyzer import *\n",
    "from private_tool import *\n",
    "from dataHandler import *"
   ]
  },
  {
   "cell_type": "code",
   "execution_count": 29,
   "metadata": {},
   "outputs": [],
   "source": [
    "warnings.filterwarnings('ignore')"
   ]
  },
  {
   "cell_type": "code",
   "execution_count": 53,
   "metadata": {},
   "outputs": [],
   "source": [
    "experimentNum = 9\n",
    "experimentIdx = 2\n",
    "Experiments = [MotorImageryDataset(parentDirectory(dir=currDir, separator=\"\\\\\", n=1)+'/bcicompetitionIV2a/A0'+str(i+1)+'T.npz') for i in range(experimentNum)]"
   ]
  },
  {
   "cell_type": "code",
   "execution_count": 54,
   "metadata": {},
   "outputs": [],
   "source": [
    "channels = [7, 8, 9, 11] #list(range(25))\n",
    "samplingRate = 250 #Hz\n",
    "trialsByClasses = np.array([i.get_trials_by_classes(channels=channels) for i in Experiments])"
   ]
  },
  {
   "cell_type": "code",
   "execution_count": 55,
   "metadata": {},
   "outputs": [
    {
     "data": {
      "text/plain": [
       "(4, 4)"
      ]
     },
     "execution_count": 55,
     "metadata": {},
     "output_type": "execute_result"
    }
   ],
   "source": [
    "channelNum = len(channels)\n",
    "m = len(trialsByClasses[0][\"left\"])\n",
    "channelNum, m"
   ]
  },
  {
   "cell_type": "code",
   "execution_count": 56,
   "metadata": {},
   "outputs": [],
   "source": [
    "bandpassedTrialsByClasses = [{i:[[] for _ in range(channelNum)] for i in j.mi_types.values()} for j in Experiments]\n",
    "for k in range(experimentNum):\n",
    "    for key in trialsByClasses[k].keys():\n",
    "        for i in range(channelNum):\n",
    "            bandpassedTrialsByClasses[k][key][i] = np.array([bandpass_filter(data=trialsByClasses[k][key][i][j], \n",
    "                                                                sample_rate=samplingRate, \n",
    "                                                                cutoff_low=7, \n",
    "                                                                cutoff_high=30)\\\n",
    "                                                for j in range(len(trialsByClasses[k][key][i]))])"
   ]
  },
  {
   "cell_type": "code",
   "execution_count": 57,
   "metadata": {},
   "outputs": [],
   "source": [
    "# 현재 상태는 experiment - class - channel - trial - signal\n",
    "# class - experiment - trial - channel - signal로 수정하자\n",
    "bandpassedTrialsByClasses = {key: np.array([[bandpassedTrialsByClasses[i][key][j] for j in range(channelNum)] for i in range(experimentNum)]) for key in Experiments[0].mi_types.values()}\n",
    "# i: experiment\n",
    "# j: trial"
   ]
  },
  {
   "cell_type": "code",
   "execution_count": 58,
   "metadata": {},
   "outputs": [
    {
     "data": {
      "text/plain": [
       "49"
      ]
     },
     "execution_count": 58,
     "metadata": {},
     "output_type": "execute_result"
    }
   ],
   "source": [
    "minTrialsNum = sorted([sorted([len(bandpassedTrialsByClasses[\"left\"][i][0]) for i in range(experimentNum)])[0], sorted([len(bandpassedTrialsByClasses[\"right\"][i][0]) for i in range(experimentNum)])[0], sorted([len(bandpassedTrialsByClasses[\"tongue\"][i][0]) for i in range(experimentNum)])[0], sorted([len(bandpassedTrialsByClasses[\"foot\"][i][0]) for i in range(experimentNum)])[0]])[0]\n",
    "bandpassedTrialsByClasses = {i:[bandpassedTrialsByClasses[i][j] for j in range(experimentNum)] for i in Experiments[0].mi_types.values()}\n",
    "minTrialsNum"
   ]
  },
  {
   "cell_type": "code",
   "execution_count": 59,
   "metadata": {},
   "outputs": [],
   "source": [
    "left_csp_filter = CSP_filter(np.array([i[:minTrialsNum] for i in bandpassedTrialsByClasses[\"left\"][experimentIdx]]), np.array([j[:minTrialsNum] for i in [\"right\", \"tongue\", \"foot\"] for j in bandpassedTrialsByClasses[i][experimentIdx]]))\n",
    "right_csp_filter = CSP_filter(np.array([i[:minTrialsNum] for i in bandpassedTrialsByClasses[\"right\"][experimentIdx]]), np.array([j[:minTrialsNum] for i in [\"left\", \"right\", \"tongue\", \"foot\"] for j in bandpassedTrialsByClasses[i][experimentIdx]]))\n",
    "tongue_csp_filter = CSP_filter(np.array([i[:minTrialsNum] for i in bandpassedTrialsByClasses[\"tongue\"][experimentIdx]]), np.array([j[:minTrialsNum] for i in [\"left\", \"tongue\", \"foot\"] for j in bandpassedTrialsByClasses[i][experimentIdx]]))\n",
    "foot_csp_filter = CSP_filter(np.array([i[:minTrialsNum] for i in bandpassedTrialsByClasses[\"foot\"][experimentIdx]]), np.array([j[:minTrialsNum] for i in [\"left\", \"right\", \"tongue\"] for j in bandpassedTrialsByClasses[i][experimentIdx]]))"
   ]
  },
  {
   "cell_type": "code",
   "execution_count": 60,
   "metadata": {},
   "outputs": [],
   "source": [
    "bandpassedTrials = {i:[] for i in Experiments[0].mi_types.values()}\n",
    "for i in Experiments[0].mi_types.values():\n",
    "    for j in range(len(bandpassedTrialsByClasses)):\n",
    "        bandpassedTrials[i]"
   ]
  },
  {
   "cell_type": "code",
   "execution_count": 61,
   "metadata": {},
   "outputs": [],
   "source": [
    "# CSP_passed_left_data = np.array([[bandpassedTrialsByClasses[i][j].T@left_csp_filter for j in range(minTrialsNum)] for i in range(experimentNum)])\n",
    "CSP_passed_left_data = [j[:minTrialsNum].T@left_csp_filter for j in bandpassedTrialsByClasses[\"left\"][experimentIdx]]\n",
    "CSP_passed_right_data = [j[:minTrialsNum].T@right_csp_filter for j in bandpassedTrialsByClasses[\"right\"][experimentIdx]]\n",
    "CSP_passed_tongue_data = [j[:minTrialsNum].T@tongue_csp_filter for j in bandpassedTrialsByClasses[\"tongue\"][experimentIdx]]\n",
    "CSP_passed_foot_data = [j[:minTrialsNum].T@foot_csp_filter for j in bandpassedTrialsByClasses[\"foot\"][experimentIdx]]"
   ]
  },
  {
   "cell_type": "code",
   "execution_count": 62,
   "metadata": {},
   "outputs": [
    {
     "data": {
      "text/plain": [
       "4"
      ]
     },
     "execution_count": 62,
     "metadata": {},
     "output_type": "execute_result"
    }
   ],
   "source": [
    "len(CSP_passed_left_data)"
   ]
  },
  {
   "cell_type": "code",
   "execution_count": 63,
   "metadata": {},
   "outputs": [],
   "source": [
    "# bandpassedTrialsByClasses[\"right\"][0][\"right\"][0]"
   ]
  },
  {
   "cell_type": "code",
   "execution_count": 64,
   "metadata": {},
   "outputs": [
    {
     "data": {
      "text/plain": [
       "(4, 49, 1875)"
      ]
     },
     "execution_count": 64,
     "metadata": {},
     "output_type": "execute_result"
    }
   ],
   "source": [
    "CSP_passed_left_data = [np.array([j.T for j in i]).T for i in CSP_passed_left_data]\n",
    "CSP_passed_right_data = [np.array([j.T for j in i]).T for i in CSP_passed_right_data]\n",
    "CSP_passed_tongue_data = [np.array([j.T for j in i]).T for i in CSP_passed_tongue_data]\n",
    "CSP_passed_foot_data = [np.array([j.T for j in i]).T for i in CSP_passed_foot_data]\n",
    "np.array(CSP_passed_left_data).shape"
   ]
  },
  {
   "cell_type": "code",
   "execution_count": 65,
   "metadata": {},
   "outputs": [
    {
     "data": {
      "text/plain": [
       "(49, 4, 1875)"
      ]
     },
     "execution_count": 65,
     "metadata": {},
     "output_type": "execute_result"
    }
   ],
   "source": [
    "CSP_passed_left_data = np.array([i.T for i in np.array(CSP_passed_left_data).T]).T\n",
    "CSP_passed_right_data = np.array([i.T for i in np.array(CSP_passed_right_data).T]).T\n",
    "CSP_passed_tongue_data = np.array([i.T for i in np.array(CSP_passed_tongue_data).T]).T\n",
    "CSP_passed_foot_data = np.array([i.T for i in np.array(CSP_passed_foot_data).T]).T\n",
    "CSP_passed_left_data.shape"
   ]
  },
  {
   "cell_type": "code",
   "execution_count": 66,
   "metadata": {},
   "outputs": [
    {
     "data": {
      "text/html": [
       "<div>\n",
       "<style scoped>\n",
       "    .dataframe tbody tr th:only-of-type {\n",
       "        vertical-align: middle;\n",
       "    }\n",
       "\n",
       "    .dataframe tbody tr th {\n",
       "        vertical-align: top;\n",
       "    }\n",
       "\n",
       "    .dataframe thead th {\n",
       "        text-align: right;\n",
       "    }\n",
       "</style>\n",
       "<table border=\"1\" class=\"dataframe\">\n",
       "  <thead>\n",
       "    <tr style=\"text-align: right;\">\n",
       "      <th></th>\n",
       "      <th>0</th>\n",
       "      <th>1</th>\n",
       "      <th>2</th>\n",
       "      <th>3</th>\n",
       "      <th>4</th>\n",
       "      <th>5</th>\n",
       "      <th>target</th>\n",
       "    </tr>\n",
       "  </thead>\n",
       "  <tbody>\n",
       "    <tr>\n",
       "      <th>0</th>\n",
       "      <td>-1.350333</td>\n",
       "      <td>-1.350333</td>\n",
       "      <td>-1.350333</td>\n",
       "      <td>-1.350333</td>\n",
       "      <td>-1.350333</td>\n",
       "      <td>-1.350333</td>\n",
       "      <td>0</td>\n",
       "    </tr>\n",
       "    <tr>\n",
       "      <th>1</th>\n",
       "      <td>-1.376057</td>\n",
       "      <td>-1.376057</td>\n",
       "      <td>-1.376057</td>\n",
       "      <td>-1.376057</td>\n",
       "      <td>-1.376057</td>\n",
       "      <td>-1.376057</td>\n",
       "      <td>0</td>\n",
       "    </tr>\n",
       "    <tr>\n",
       "      <th>2</th>\n",
       "      <td>-1.433347</td>\n",
       "      <td>-1.433347</td>\n",
       "      <td>-1.433347</td>\n",
       "      <td>-1.433347</td>\n",
       "      <td>-1.433347</td>\n",
       "      <td>-1.433347</td>\n",
       "      <td>0</td>\n",
       "    </tr>\n",
       "    <tr>\n",
       "      <th>3</th>\n",
       "      <td>-1.434852</td>\n",
       "      <td>-1.434852</td>\n",
       "      <td>-1.434852</td>\n",
       "      <td>-1.434852</td>\n",
       "      <td>-1.434852</td>\n",
       "      <td>-1.434852</td>\n",
       "      <td>0</td>\n",
       "    </tr>\n",
       "    <tr>\n",
       "      <th>4</th>\n",
       "      <td>-1.434313</td>\n",
       "      <td>-1.434313</td>\n",
       "      <td>-1.434313</td>\n",
       "      <td>-1.434313</td>\n",
       "      <td>-1.434313</td>\n",
       "      <td>-1.434313</td>\n",
       "      <td>0</td>\n",
       "    </tr>\n",
       "    <tr>\n",
       "      <th>...</th>\n",
       "      <td>...</td>\n",
       "      <td>...</td>\n",
       "      <td>...</td>\n",
       "      <td>...</td>\n",
       "      <td>...</td>\n",
       "      <td>...</td>\n",
       "      <td>...</td>\n",
       "    </tr>\n",
       "    <tr>\n",
       "      <th>191</th>\n",
       "      <td>-1.443443</td>\n",
       "      <td>-1.443443</td>\n",
       "      <td>-1.443443</td>\n",
       "      <td>-1.443443</td>\n",
       "      <td>-1.443443</td>\n",
       "      <td>-1.443443</td>\n",
       "      <td>3</td>\n",
       "    </tr>\n",
       "    <tr>\n",
       "      <th>192</th>\n",
       "      <td>-1.472139</td>\n",
       "      <td>-1.472139</td>\n",
       "      <td>-1.472139</td>\n",
       "      <td>-1.472139</td>\n",
       "      <td>-1.472139</td>\n",
       "      <td>-1.472139</td>\n",
       "      <td>3</td>\n",
       "    </tr>\n",
       "    <tr>\n",
       "      <th>193</th>\n",
       "      <td>-1.310294</td>\n",
       "      <td>-1.310294</td>\n",
       "      <td>-1.310294</td>\n",
       "      <td>-1.310294</td>\n",
       "      <td>-1.310294</td>\n",
       "      <td>-1.310294</td>\n",
       "      <td>3</td>\n",
       "    </tr>\n",
       "    <tr>\n",
       "      <th>194</th>\n",
       "      <td>-1.307843</td>\n",
       "      <td>-1.307843</td>\n",
       "      <td>-1.307843</td>\n",
       "      <td>-1.307843</td>\n",
       "      <td>-1.307843</td>\n",
       "      <td>-1.307843</td>\n",
       "      <td>3</td>\n",
       "    </tr>\n",
       "    <tr>\n",
       "      <th>195</th>\n",
       "      <td>-1.480206</td>\n",
       "      <td>-1.480206</td>\n",
       "      <td>-1.480206</td>\n",
       "      <td>-1.480206</td>\n",
       "      <td>-1.480206</td>\n",
       "      <td>-1.480206</td>\n",
       "      <td>3</td>\n",
       "    </tr>\n",
       "  </tbody>\n",
       "</table>\n",
       "<p>196 rows × 7 columns</p>\n",
       "</div>"
      ],
      "text/plain": [
       "            0         1         2         3         4         5  target\n",
       "0   -1.350333 -1.350333 -1.350333 -1.350333 -1.350333 -1.350333       0\n",
       "1   -1.376057 -1.376057 -1.376057 -1.376057 -1.376057 -1.376057       0\n",
       "2   -1.433347 -1.433347 -1.433347 -1.433347 -1.433347 -1.433347       0\n",
       "3   -1.434852 -1.434852 -1.434852 -1.434852 -1.434852 -1.434852       0\n",
       "4   -1.434313 -1.434313 -1.434313 -1.434313 -1.434313 -1.434313       0\n",
       "..        ...       ...       ...       ...       ...       ...     ...\n",
       "191 -1.443443 -1.443443 -1.443443 -1.443443 -1.443443 -1.443443       3\n",
       "192 -1.472139 -1.472139 -1.472139 -1.472139 -1.472139 -1.472139       3\n",
       "193 -1.310294 -1.310294 -1.310294 -1.310294 -1.310294 -1.310294       3\n",
       "194 -1.307843 -1.307843 -1.307843 -1.307843 -1.307843 -1.307843       3\n",
       "195 -1.480206 -1.480206 -1.480206 -1.480206 -1.480206 -1.480206       3\n",
       "\n",
       "[196 rows x 7 columns]"
      ]
     },
     "execution_count": 66,
     "metadata": {},
     "output_type": "execute_result"
    }
   ],
   "source": [
    "m = 3\n",
    "\n",
    "leftVarRatioDF = twoTimesMDimensionalFeature(CSP_passed_left_data, 0, channelNum, minTrialsNum, m)\n",
    "rightVarRatioDF = twoTimesMDimensionalFeature(CSP_passed_right_data, 1, channelNum, minTrialsNum, m)\n",
    "tongueVarRatioDF = twoTimesMDimensionalFeature(CSP_passed_tongue_data, 2, channelNum, minTrialsNum, m)\n",
    "footVarRatioDF = twoTimesMDimensionalFeature(CSP_passed_foot_data, 3, channelNum, minTrialsNum, m)\n",
    "\n",
    "VarRatioDF = pd.concat([leftVarRatioDF, rightVarRatioDF, tongueVarRatioDF, footVarRatioDF], axis=0)\n",
    "labelDF = pd.DataFrame([i for i in range(4) for j in range(minTrialsNum)])\n",
    "\n",
    "VarRatioDF = VarRatioDF.reset_index()\n",
    "VarRatioDF = pd.concat([VarRatioDF, labelDF], axis=1).iloc[:, 1:]\n",
    "VarRatioDF.columns = [f\"{n}\" for n in range(m*2)] + [\"target\"]\n",
    "VarRatioDF"
   ]
  },
  {
   "cell_type": "code",
   "execution_count": 67,
   "metadata": {},
   "outputs": [
    {
     "data": {
      "text/html": [
       "<div>\n",
       "<style scoped>\n",
       "    .dataframe tbody tr th:only-of-type {\n",
       "        vertical-align: middle;\n",
       "    }\n",
       "\n",
       "    .dataframe tbody tr th {\n",
       "        vertical-align: top;\n",
       "    }\n",
       "\n",
       "    .dataframe thead th {\n",
       "        text-align: right;\n",
       "    }\n",
       "</style>\n",
       "<table border=\"1\" class=\"dataframe\">\n",
       "  <thead>\n",
       "    <tr style=\"text-align: right;\">\n",
       "      <th></th>\n",
       "      <th>0</th>\n",
       "      <th>1</th>\n",
       "      <th>2</th>\n",
       "      <th>3</th>\n",
       "      <th>4</th>\n",
       "      <th>5</th>\n",
       "    </tr>\n",
       "  </thead>\n",
       "  <tbody>\n",
       "    <tr>\n",
       "      <th>0</th>\n",
       "      <td>0.740093</td>\n",
       "      <td>0.740093</td>\n",
       "      <td>0.740093</td>\n",
       "      <td>0.740093</td>\n",
       "      <td>0.740093</td>\n",
       "      <td>0.740093</td>\n",
       "    </tr>\n",
       "    <tr>\n",
       "      <th>1</th>\n",
       "      <td>0.395173</td>\n",
       "      <td>0.395173</td>\n",
       "      <td>0.395173</td>\n",
       "      <td>0.395173</td>\n",
       "      <td>0.395173</td>\n",
       "      <td>0.395173</td>\n",
       "    </tr>\n",
       "    <tr>\n",
       "      <th>2</th>\n",
       "      <td>-0.373000</td>\n",
       "      <td>-0.373000</td>\n",
       "      <td>-0.373000</td>\n",
       "      <td>-0.373000</td>\n",
       "      <td>-0.373000</td>\n",
       "      <td>-0.373000</td>\n",
       "    </tr>\n",
       "    <tr>\n",
       "      <th>3</th>\n",
       "      <td>-0.393173</td>\n",
       "      <td>-0.393173</td>\n",
       "      <td>-0.393173</td>\n",
       "      <td>-0.393173</td>\n",
       "      <td>-0.393173</td>\n",
       "      <td>-0.393173</td>\n",
       "    </tr>\n",
       "    <tr>\n",
       "      <th>4</th>\n",
       "      <td>-0.385951</td>\n",
       "      <td>-0.385951</td>\n",
       "      <td>-0.385951</td>\n",
       "      <td>-0.385951</td>\n",
       "      <td>-0.385951</td>\n",
       "      <td>-0.385951</td>\n",
       "    </tr>\n",
       "    <tr>\n",
       "      <th>...</th>\n",
       "      <td>...</td>\n",
       "      <td>...</td>\n",
       "      <td>...</td>\n",
       "      <td>...</td>\n",
       "      <td>...</td>\n",
       "      <td>...</td>\n",
       "    </tr>\n",
       "    <tr>\n",
       "      <th>191</th>\n",
       "      <td>-0.508370</td>\n",
       "      <td>-0.508370</td>\n",
       "      <td>-0.508370</td>\n",
       "      <td>-0.508370</td>\n",
       "      <td>-0.508370</td>\n",
       "      <td>-0.508370</td>\n",
       "    </tr>\n",
       "    <tr>\n",
       "      <th>192</th>\n",
       "      <td>-0.893136</td>\n",
       "      <td>-0.893136</td>\n",
       "      <td>-0.893136</td>\n",
       "      <td>-0.893136</td>\n",
       "      <td>-0.893136</td>\n",
       "      <td>-0.893136</td>\n",
       "    </tr>\n",
       "    <tr>\n",
       "      <th>193</th>\n",
       "      <td>1.276952</td>\n",
       "      <td>1.276952</td>\n",
       "      <td>1.276952</td>\n",
       "      <td>1.276952</td>\n",
       "      <td>1.276952</td>\n",
       "      <td>1.276952</td>\n",
       "    </tr>\n",
       "    <tr>\n",
       "      <th>194</th>\n",
       "      <td>1.309814</td>\n",
       "      <td>1.309814</td>\n",
       "      <td>1.309814</td>\n",
       "      <td>1.309814</td>\n",
       "      <td>1.309814</td>\n",
       "      <td>1.309814</td>\n",
       "    </tr>\n",
       "    <tr>\n",
       "      <th>195</th>\n",
       "      <td>-1.001302</td>\n",
       "      <td>-1.001302</td>\n",
       "      <td>-1.001302</td>\n",
       "      <td>-1.001302</td>\n",
       "      <td>-1.001302</td>\n",
       "      <td>-1.001302</td>\n",
       "    </tr>\n",
       "  </tbody>\n",
       "</table>\n",
       "<p>196 rows × 6 columns</p>\n",
       "</div>"
      ],
      "text/plain": [
       "            0         1         2         3         4         5\n",
       "0    0.740093  0.740093  0.740093  0.740093  0.740093  0.740093\n",
       "1    0.395173  0.395173  0.395173  0.395173  0.395173  0.395173\n",
       "2   -0.373000 -0.373000 -0.373000 -0.373000 -0.373000 -0.373000\n",
       "3   -0.393173 -0.393173 -0.393173 -0.393173 -0.393173 -0.393173\n",
       "4   -0.385951 -0.385951 -0.385951 -0.385951 -0.385951 -0.385951\n",
       "..        ...       ...       ...       ...       ...       ...\n",
       "191 -0.508370 -0.508370 -0.508370 -0.508370 -0.508370 -0.508370\n",
       "192 -0.893136 -0.893136 -0.893136 -0.893136 -0.893136 -0.893136\n",
       "193  1.276952  1.276952  1.276952  1.276952  1.276952  1.276952\n",
       "194  1.309814  1.309814  1.309814  1.309814  1.309814  1.309814\n",
       "195 -1.001302 -1.001302 -1.001302 -1.001302 -1.001302 -1.001302\n",
       "\n",
       "[196 rows x 6 columns]"
      ]
     },
     "execution_count": 67,
     "metadata": {},
     "output_type": "execute_result"
    }
   ],
   "source": [
    "\n",
    "x = VarRatioDF.drop(['target'], axis=1).values \n",
    "y = VarRatioDF['target'].values # 종속변인 추출\n",
    "x = StandardScaler().fit_transform(x)\n",
    "pd.DataFrame(x)"
   ]
  },
  {
   "cell_type": "code",
   "execution_count": 68,
   "metadata": {},
   "outputs": [],
   "source": [
    "n_componunts = 5\n",
    "PCA = PrincipalComponuntAnalysis(n_componunts=n_componunts, data=x)\n",
    "principalDF = PCA.principalDf"
   ]
  },
  {
   "cell_type": "code",
   "execution_count": 69,
   "metadata": {},
   "outputs": [
    {
     "data": {
      "text/plain": [
       "1.0"
      ]
     },
     "execution_count": 69,
     "metadata": {},
     "output_type": "execute_result"
    }
   ],
   "source": [
    "sum(PCA.explained_variance_ratio_())"
   ]
  },
  {
   "cell_type": "code",
   "execution_count": 70,
   "metadata": {},
   "outputs": [
    {
     "name": "stdout",
     "output_type": "stream",
     "text": [
      "교차검증 평균:  0.4796153846153846\n",
      "교차검증 평균:  0.4441025641025641\n"
     ]
    }
   ],
   "source": [
    "# SVM, kernel = 'linear'로 선형분리 진행\n",
    "svm_clf =svm.SVC(kernel = 'linear', random_state=100)\n",
    "\n",
    "# 교차검증\n",
    "scores = cross_val_score(svm_clf, principalDF, labelDF, cv = 5)\n",
    "\n",
    "print('교차검증 평균: ', scores.mean())\n",
    "\n",
    "# SVM, kernel = 'rbf'로 비선형분리 진행\n",
    "svm_clf = svm.SVC(kernel = 'rbf')\n",
    "\n",
    "# 교차검증\n",
    "scores = cross_val_score(svm_clf, principalDF, labelDF, cv = 5)\n",
    "\n",
    "print('교차검증 평균: ', scores.mean())"
   ]
  },
  {
   "cell_type": "code",
   "execution_count": 71,
   "metadata": {},
   "outputs": [
    {
     "data": {
      "image/png": "[encoded data removed]",
      "text/plain": [
       "<Figure size 640x480 with 1 Axes>"
      ]
     },
     "metadata": {},
     "output_type": "display_data"
    },
    {
     "data": {
      "text/html": [
       "<div>\n",
       "<style scoped>\n",
       "    .dataframe tbody tr th:only-of-type {\n",
       "        vertical-align: middle;\n",
       "    }\n",
       "\n",
       "    .dataframe tbody tr th {\n",
       "        vertical-align: top;\n",
       "    }\n",
       "\n",
       "    .dataframe thead th {\n",
       "        text-align: right;\n",
       "    }\n",
       "</style>\n",
       "<table border=\"1\" class=\"dataframe\">\n",
       "  <thead>\n",
       "    <tr style=\"text-align: right;\">\n",
       "      <th></th>\n",
       "      <th>axis1</th>\n",
       "      <th>axis2</th>\n",
       "      <th>axis3</th>\n",
       "      <th>axis4</th>\n",
       "      <th>axis5</th>\n",
       "      <th>label</th>\n",
       "    </tr>\n",
       "  </thead>\n",
       "  <tbody>\n",
       "    <tr>\n",
       "      <th>0</th>\n",
       "      <td>1.812850</td>\n",
       "      <td>4.115107e-15</td>\n",
       "      <td>-2.623297e-17</td>\n",
       "      <td>1.240070e-45</td>\n",
       "      <td>4.009956e-52</td>\n",
       "      <td>0</td>\n",
       "    </tr>\n",
       "    <tr>\n",
       "      <th>1</th>\n",
       "      <td>0.967972</td>\n",
       "      <td>-1.361474e-18</td>\n",
       "      <td>1.888402e-18</td>\n",
       "      <td>1.576912e-30</td>\n",
       "      <td>-2.003113e-37</td>\n",
       "      <td>0</td>\n",
       "    </tr>\n",
       "    <tr>\n",
       "      <th>2</th>\n",
       "      <td>-0.913659</td>\n",
       "      <td>3.483343e-19</td>\n",
       "      <td>-2.143602e-18</td>\n",
       "      <td>3.338700e-33</td>\n",
       "      <td>1.125397e-35</td>\n",
       "      <td>0</td>\n",
       "    </tr>\n",
       "    <tr>\n",
       "      <th>3</th>\n",
       "      <td>-0.963073</td>\n",
       "      <td>2.214898e-17</td>\n",
       "      <td>6.138381e-18</td>\n",
       "      <td>5.271792e-33</td>\n",
       "      <td>3.751807e-35</td>\n",
       "      <td>0</td>\n",
       "    </tr>\n",
       "    <tr>\n",
       "      <th>4</th>\n",
       "      <td>-0.945382</td>\n",
       "      <td>-1.424753e-17</td>\n",
       "      <td>-7.850092e-18</td>\n",
       "      <td>4.238156e-33</td>\n",
       "      <td>2.575125e-37</td>\n",
       "      <td>0</td>\n",
       "    </tr>\n",
       "    <tr>\n",
       "      <th>...</th>\n",
       "      <td>...</td>\n",
       "      <td>...</td>\n",
       "      <td>...</td>\n",
       "      <td>...</td>\n",
       "      <td>...</td>\n",
       "      <td>...</td>\n",
       "    </tr>\n",
       "    <tr>\n",
       "      <th>191</th>\n",
       "      <td>-1.245246</td>\n",
       "      <td>7.077673e-19</td>\n",
       "      <td>-2.831725e-18</td>\n",
       "      <td>1.252600e-32</td>\n",
       "      <td>-3.058419e-37</td>\n",
       "      <td>3</td>\n",
       "    </tr>\n",
       "    <tr>\n",
       "      <th>192</th>\n",
       "      <td>-2.187726</td>\n",
       "      <td>3.623039e-17</td>\n",
       "      <td>8.514170e-18</td>\n",
       "      <td>1.073010e-32</td>\n",
       "      <td>-3.530861e-37</td>\n",
       "      <td>3</td>\n",
       "    </tr>\n",
       "    <tr>\n",
       "      <th>193</th>\n",
       "      <td>3.127881</td>\n",
       "      <td>-6.277305e-17</td>\n",
       "      <td>-1.640366e-17</td>\n",
       "      <td>-2.054313e-33</td>\n",
       "      <td>-2.035435e-37</td>\n",
       "      <td>3</td>\n",
       "    </tr>\n",
       "    <tr>\n",
       "      <th>194</th>\n",
       "      <td>3.208375</td>\n",
       "      <td>-1.050715e-16</td>\n",
       "      <td>-3.251105e-17</td>\n",
       "      <td>-1.607375e-32</td>\n",
       "      <td>-1.456756e-36</td>\n",
       "      <td>3</td>\n",
       "    </tr>\n",
       "    <tr>\n",
       "      <th>195</th>\n",
       "      <td>-2.452680</td>\n",
       "      <td>7.887540e-17</td>\n",
       "      <td>2.429527e-17</td>\n",
       "      <td>-2.399063e-32</td>\n",
       "      <td>-1.548286e-36</td>\n",
       "      <td>3</td>\n",
       "    </tr>\n",
       "  </tbody>\n",
       "</table>\n",
       "<p>196 rows × 6 columns</p>\n",
       "</div>"
      ],
      "text/plain": [
       "        axis1         axis2         axis3         axis4         axis5  label\n",
       "0    1.812850  4.115107e-15 -2.623297e-17  1.240070e-45  4.009956e-52      0\n",
       "1    0.967972 -1.361474e-18  1.888402e-18  1.576912e-30 -2.003113e-37      0\n",
       "2   -0.913659  3.483343e-19 -2.143602e-18  3.338700e-33  1.125397e-35      0\n",
       "3   -0.963073  2.214898e-17  6.138381e-18  5.271792e-33  3.751807e-35      0\n",
       "4   -0.945382 -1.424753e-17 -7.850092e-18  4.238156e-33  2.575125e-37      0\n",
       "..        ...           ...           ...           ...           ...    ...\n",
       "191 -1.245246  7.077673e-19 -2.831725e-18  1.252600e-32 -3.058419e-37      3\n",
       "192 -2.187726  3.623039e-17  8.514170e-18  1.073010e-32 -3.530861e-37      3\n",
       "193  3.127881 -6.277305e-17 -1.640366e-17 -2.054313e-33 -2.035435e-37      3\n",
       "194  3.208375 -1.050715e-16 -3.251105e-17 -1.607375e-32 -1.456756e-36      3\n",
       "195 -2.452680  7.887540e-17  2.429527e-17 -2.399063e-32 -1.548286e-36      3\n",
       "\n",
       "[196 rows x 6 columns]"
      ]
     },
     "execution_count": 71,
     "metadata": {},
     "output_type": "execute_result"
    }
   ],
   "source": [
    "df = pd.concat([principalDF, labelDF], axis=1)\n",
    "plotDF3D(data=df, num_of_classes=4)\n",
    "df"
   ]
  },
  {
   "cell_type": "code",
   "execution_count": 78,
   "metadata": {},
   "outputs": [],
   "source": [
    "np.save(currDir+\"/test.npy\", df)"
   ]
  },
  {
   "cell_type": "code",
   "execution_count": 72,
   "metadata": {},
   "outputs": [],
   "source": [
    "LDA_DF = pd.concat([pd.DataFrame(LDATransform(principalDF, labelDF, 3, \"eigen\")), labelDF], axis=1)"
   ]
  },
  {
   "cell_type": "code",
   "execution_count": 73,
   "metadata": {},
   "outputs": [],
   "source": [
    "LDA_DF.columns = [f\"axis{i+1}\" for i in range(3)] + [\"label\"]"
   ]
  },
  {
   "cell_type": "code",
   "execution_count": 79,
   "metadata": {},
   "outputs": [
    {
     "data": {
      "image/png": "[encoded data removed]",
      "text/plain": [
       "<Figure size 640x480 with 1 Axes>"
      ]
     },
     "metadata": {},
     "output_type": "display_data"
    },
    {
     "data": {
      "text/html": [
       "<div>\n",
       "<style scoped>\n",
       "    .dataframe tbody tr th:only-of-type {\n",
       "        vertical-align: middle;\n",
       "    }\n",
       "\n",
       "    .dataframe tbody tr th {\n",
       "        vertical-align: top;\n",
       "    }\n",
       "\n",
       "    .dataframe thead th {\n",
       "        text-align: right;\n",
       "    }\n",
       "</style>\n",
       "<table border=\"1\" class=\"dataframe\">\n",
       "  <thead>\n",
       "    <tr style=\"text-align: right;\">\n",
       "      <th></th>\n",
       "      <th>axis1</th>\n",
       "      <th>axis2</th>\n",
       "      <th>axis3</th>\n",
       "      <th>axis4</th>\n",
       "      <th>axis5</th>\n",
       "      <th>label</th>\n",
       "    </tr>\n",
       "  </thead>\n",
       "  <tbody>\n",
       "    <tr>\n",
       "      <th>0</th>\n",
       "      <td>1.812850</td>\n",
       "      <td>4.115107e-15</td>\n",
       "      <td>-2.623297e-17</td>\n",
       "      <td>1.240070e-45</td>\n",
       "      <td>4.009956e-52</td>\n",
       "      <td>0</td>\n",
       "    </tr>\n",
       "    <tr>\n",
       "      <th>1</th>\n",
       "      <td>0.967972</td>\n",
       "      <td>-1.361474e-18</td>\n",
       "      <td>1.888402e-18</td>\n",
       "      <td>1.576912e-30</td>\n",
       "      <td>-2.003113e-37</td>\n",
       "      <td>0</td>\n",
       "    </tr>\n",
       "    <tr>\n",
       "      <th>2</th>\n",
       "      <td>-0.913659</td>\n",
       "      <td>3.483343e-19</td>\n",
       "      <td>-2.143602e-18</td>\n",
       "      <td>3.338700e-33</td>\n",
       "      <td>1.125397e-35</td>\n",
       "      <td>0</td>\n",
       "    </tr>\n",
       "    <tr>\n",
       "      <th>3</th>\n",
       "      <td>-0.963073</td>\n",
       "      <td>2.214898e-17</td>\n",
       "      <td>6.138381e-18</td>\n",
       "      <td>5.271792e-33</td>\n",
       "      <td>3.751807e-35</td>\n",
       "      <td>0</td>\n",
       "    </tr>\n",
       "    <tr>\n",
       "      <th>4</th>\n",
       "      <td>-0.945382</td>\n",
       "      <td>-1.424753e-17</td>\n",
       "      <td>-7.850092e-18</td>\n",
       "      <td>4.238156e-33</td>\n",
       "      <td>2.575125e-37</td>\n",
       "      <td>0</td>\n",
       "    </tr>\n",
       "    <tr>\n",
       "      <th>...</th>\n",
       "      <td>...</td>\n",
       "      <td>...</td>\n",
       "      <td>...</td>\n",
       "      <td>...</td>\n",
       "      <td>...</td>\n",
       "      <td>...</td>\n",
       "    </tr>\n",
       "    <tr>\n",
       "      <th>191</th>\n",
       "      <td>-1.245246</td>\n",
       "      <td>7.077673e-19</td>\n",
       "      <td>-2.831725e-18</td>\n",
       "      <td>1.252600e-32</td>\n",
       "      <td>-3.058419e-37</td>\n",
       "      <td>3</td>\n",
       "    </tr>\n",
       "    <tr>\n",
       "      <th>192</th>\n",
       "      <td>-2.187726</td>\n",
       "      <td>3.623039e-17</td>\n",
       "      <td>8.514170e-18</td>\n",
       "      <td>1.073010e-32</td>\n",
       "      <td>-3.530861e-37</td>\n",
       "      <td>3</td>\n",
       "    </tr>\n",
       "    <tr>\n",
       "      <th>193</th>\n",
       "      <td>3.127881</td>\n",
       "      <td>-6.277305e-17</td>\n",
       "      <td>-1.640366e-17</td>\n",
       "      <td>-2.054313e-33</td>\n",
       "      <td>-2.035435e-37</td>\n",
       "      <td>3</td>\n",
       "    </tr>\n",
       "    <tr>\n",
       "      <th>194</th>\n",
       "      <td>3.208375</td>\n",
       "      <td>-1.050715e-16</td>\n",
       "      <td>-3.251105e-17</td>\n",
       "      <td>-1.607375e-32</td>\n",
       "      <td>-1.456756e-36</td>\n",
       "      <td>3</td>\n",
       "    </tr>\n",
       "    <tr>\n",
       "      <th>195</th>\n",
       "      <td>-2.452680</td>\n",
       "      <td>7.887540e-17</td>\n",
       "      <td>2.429527e-17</td>\n",
       "      <td>-2.399063e-32</td>\n",
       "      <td>-1.548286e-36</td>\n",
       "      <td>3</td>\n",
       "    </tr>\n",
       "  </tbody>\n",
       "</table>\n",
       "<p>196 rows × 6 columns</p>\n",
       "</div>"
      ],
      "text/plain": [
       "        axis1         axis2         axis3         axis4         axis5  label\n",
       "0    1.812850  4.115107e-15 -2.623297e-17  1.240070e-45  4.009956e-52      0\n",
       "1    0.967972 -1.361474e-18  1.888402e-18  1.576912e-30 -2.003113e-37      0\n",
       "2   -0.913659  3.483343e-19 -2.143602e-18  3.338700e-33  1.125397e-35      0\n",
       "3   -0.963073  2.214898e-17  6.138381e-18  5.271792e-33  3.751807e-35      0\n",
       "4   -0.945382 -1.424753e-17 -7.850092e-18  4.238156e-33  2.575125e-37      0\n",
       "..        ...           ...           ...           ...           ...    ...\n",
       "191 -1.245246  7.077673e-19 -2.831725e-18  1.252600e-32 -3.058419e-37      3\n",
       "192 -2.187726  3.623039e-17  8.514170e-18  1.073010e-32 -3.530861e-37      3\n",
       "193  3.127881 -6.277305e-17 -1.640366e-17 -2.054313e-33 -2.035435e-37      3\n",
       "194  3.208375 -1.050715e-16 -3.251105e-17 -1.607375e-32 -1.456756e-36      3\n",
       "195 -2.452680  7.887540e-17  2.429527e-17 -2.399063e-32 -1.548286e-36      3\n",
       "\n",
       "[196 rows x 6 columns]"
      ]
     },
     "execution_count": 79,
     "metadata": {},
     "output_type": "execute_result"
    }
   ],
   "source": [
    "# df = pd.concat([principalDF, labelDF], axis=1)\n",
    "plotDF3D(data=LDA_DF, num_of_classes=4)\n",
    "df"
   ]
  },
  {
   "cell_type": "code",
   "execution_count": 80,
   "metadata": {},
   "outputs": [],
   "source": [
    "np.save(currDir+\"/test.npy\", LDA_DF)"
   ]
  },
  {
   "cell_type": "code",
   "execution_count": 74,
   "metadata": {},
   "outputs": [],
   "source": [
    "scaler = StandardScaler()\n",
    "scaler.fit(LDA_DF.loc[:, :\"axis3\"])\n",
    "LDA_DF_Scaled = pd.concat([pd.DataFrame(scaler.transform(LDA_DF.loc[:, :\"axis3\"])), labelDF], axis=1)\n",
    "LDA_DF_Scaled.columns = [f\"axis{i+1}\" for i in range(3)] + [\"label\"]"
   ]
  },
  {
   "cell_type": "code",
   "execution_count": 75,
   "metadata": {},
   "outputs": [
    {
     "name": "stdout",
     "output_type": "stream",
     "text": [
      "교차검증 평균:  0.47923076923076924\n",
      "교차검증 평균:  0.428974358974359\n"
     ]
    }
   ],
   "source": [
    "# SVM, kernel = 'linear'로 선형분리 진행\n",
    "svm_clf =svm.SVC(kernel = 'linear', random_state=100)\n",
    "\n",
    "# 교차검증\n",
    "scores = cross_val_score(svm_clf, LDA_DF_Scaled.loc[:, :\"axis3\"], labelDF, cv = 5)\n",
    "print('교차검증 평균: ', scores.mean())\n",
    "\n",
    "# SVM, kernel = 'rbf'로 비선형분리 진행\n",
    "svm_clf = svm.SVC(kernel = 'rbf')\n",
    "\n",
    "# 교차검증\n",
    "scores = cross_val_score(svm_clf, LDA_DF_Scaled.loc[:, :\"axis3\"], labelDF, cv = 5)\n",
    "print('교차검증 평균: ', scores.mean())"
   ]
  },
  {
   "cell_type": "code",
   "execution_count": null,
   "metadata": {},
   "outputs": [],
   "source": [
    "    "
   ]
  }
 ],
 "metadata": {
  "kernelspec": {
   "display_name": "Python 3",
   "language": "python",
   "name": "python3"
  },
  "language_info": {
   "codemirror_mode": {
    "name": "ipython",
    "version": 3
   },
   "file_extension": ".py",
   "mimetype": "text/x-python",
   "name": "python",
   "nbconvert_exporter": "python",
   "pygments_lexer": "ipython3",
   "version": "3.10.5"
  },
  "orig_nbformat": 4
 },
 "nbformat": 4,
 "nbformat_minor": 2
}
