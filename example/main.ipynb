{
 "cells": [
  {
   "cell_type": "code",
   "execution_count": 1,
   "metadata": {},
   "outputs": [],
   "source": [
    "from dataAnalyzer import *\n",
    "from private_tool import *\n",
    "from dataHandler import *\n",
    "from numpy import array"
   ]
  },
  {
   "cell_type": "code",
   "execution_count": 2,
   "metadata": {},
   "outputs": [],
   "source": [
    "ExperimentsNum = 3\n",
    "Experiments = [MotorImageryDataset(parentDirectory(dir=currDir, separator=\"\\\\\", n=1)+'/bcicompetitionIV2a/A0'+str(i+1)+'T.npz') for i in range(ExperimentsNum)]"
   ]
  },
  {
   "cell_type": "code",
   "execution_count": 3,
   "metadata": {},
   "outputs": [],
   "source": [
    "channels = [7, 9, 10, 11]\n",
    "samplingRate = 250 #Hz\n",
    "trialsByClasses = array([i.get_trials_by_classes(channels=channels) for i in Experiments])"
   ]
  },
  {
   "cell_type": "code",
   "execution_count": 4,
   "metadata": {},
   "outputs": [
    {
     "data": {
      "text/plain": [
       "(3,)"
      ]
     },
     "execution_count": 4,
     "metadata": {},
     "output_type": "execute_result"
    }
   ],
   "source": [
    "trialsByClasses.shape"
   ]
  },
  {
   "cell_type": "code",
   "execution_count": 5,
   "metadata": {},
   "outputs": [
    {
     "data": {
      "text/plain": [
       "(4, 4)"
      ]
     },
     "execution_count": 5,
     "metadata": {},
     "output_type": "execute_result"
    }
   ],
   "source": [
    "channelNum = len(channels)\n",
    "m = len(trialsByClasses[0][\"left\"])\n",
    "channelNum, m"
   ]
  },
  {
   "cell_type": "code",
   "execution_count": 6,
   "metadata": {},
   "outputs": [],
   "source": [
    "bandpassedTrialsByClasses = [{i:[[] for _ in range(channelNum)] for i in j.mi_types.values()} for j in Experiments]\n",
    "for k in range(ExperimentsNum):\n",
    "    for key in trialsByClasses[k].keys():\n",
    "        for i in range(channelNum):\n",
    "            bandpassedTrialsByClasses[k][key][i] = np.array([bandpass_filter(data=trialsByClasses[k][key][i][j], \n",
    "                                                                sample_rate=samplingRate, \n",
    "                                                                cutoff_low=5, \n",
    "                                                                cutoff_high=50)\\\n",
    "                                                for j in range(len(trialsByClasses[k][key][i]))])\n",
    "    "
   ]
  },
  {
   "cell_type": "code",
   "execution_count": 7,
   "metadata": {},
   "outputs": [
    {
     "data": {
      "text/plain": [
       "(69, 1875)"
      ]
     },
     "execution_count": 7,
     "metadata": {},
     "output_type": "execute_result"
    }
   ],
   "source": [
    "bandpassedTrialsByClasses[2][\"left\"][2].shape"
   ]
  },
  {
   "cell_type": "code",
   "execution_count": 21,
   "metadata": {},
   "outputs": [
    {
     "name": "stderr",
     "output_type": "stream",
     "text": [
      "C:\\Users\\jihun\\AppData\\Local\\Temp\\ipykernel_15064\\3857896541.py:1: VisibleDeprecationWarning: Creating an ndarray from ragged nested sequences (which is a list-or-tuple of lists-or-tuples-or ndarrays with different lengths or shapes) is deprecated. If you meant to do this, you must specify 'dtype=object' when creating the ndarray.\n",
      "  leftTrials = array([[bandpassedTrialsByClasses[i][\"left\"][j] for j in range(channelNum)] for i in range(ExperimentsNum)])\n",
      "C:\\Users\\jihun\\AppData\\Local\\Temp\\ipykernel_15064\\3857896541.py:2: VisibleDeprecationWarning: Creating an ndarray from ragged nested sequences (which is a list-or-tuple of lists-or-tuples-or ndarrays with different lengths or shapes) is deprecated. If you meant to do this, you must specify 'dtype=object' when creating the ndarray.\n",
      "  leftTrials = array([array([array([array(leftTrials[i][k][j]) for k in range(channelNum)]) for j in range(len(leftTrials[i][0]))]) for i in range(ExperimentsNum)])\n"
     ]
    }
   ],
   "source": [
    "leftTrials = array([[bandpassedTrialsByClasses[i][\"left\"][j] for j in range(channelNum)] for i in range(ExperimentsNum)])\n",
    "leftTrials = array([array([array([array(leftTrials[i][k][j]) for k in range(channelNum)]) for j in range(len(leftTrials[i][0]))]) for i in range(ExperimentsNum)])\n",
    "# i: experiment\n",
    "# j: trial\n",
    "\n",
    "# 현재 상태는 experiment - channel - trial - signal\n",
    "# experiment - trial - channel - signal로 수정하자\n",
    "\n",
    "minTrialsNum = min([len(leftTrials[i]) for i in range(len(Experiments))])\n",
    "leftTrials = array([[i[j] for j in range(minTrialsNum)] for i in leftTrials])"
   ]
  },
  {
   "cell_type": "code",
   "execution_count": 23,
   "metadata": {},
   "outputs": [
    {
     "data": {
      "text/plain": [
       "(67, 4, 1875)"
      ]
     },
     "execution_count": 23,
     "metadata": {},
     "output_type": "execute_result"
    }
   ],
   "source": [
    "leftTrials[1].shape\n",
    "# leftTrials = [[i[j] for j in range(minTrialsNum)] for i in leftTrials]"
   ]
  },
  {
   "cell_type": "code",
   "execution_count": 25,
   "metadata": {},
   "outputs": [],
   "source": [
    "left_csp_filter = CSP_filter(len(leftTrials[1]), leftTrials[0])"
   ]
  },
  {
   "cell_type": "code",
   "execution_count": null,
   "metadata": {},
   "outputs": [],
   "source": []
  }
 ],
 "metadata": {
  "kernelspec": {
   "display_name": "Python 3",
   "language": "python",
   "name": "python3"
  },
  "language_info": {
   "codemirror_mode": {
    "name": "ipython",
    "version": 3
   },
   "file_extension": ".py",
   "mimetype": "text/x-python",
   "name": "python",
   "nbconvert_exporter": "python",
   "pygments_lexer": "ipython3",
   "version": "3.10.5"
  },
  "orig_nbformat": 4
 },
 "nbformat": 4,
 "nbformat_minor": 2
}
