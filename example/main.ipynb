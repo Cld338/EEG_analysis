{
 "cells": [
  {
   "cell_type": "code",
   "execution_count": 135,
   "metadata": {},
   "outputs": [],
   "source": [
    "from sklearn.model_selection import cross_val_score, cross_validate\n",
    "from sklearn.preprocessing import StandardScaler\n",
    "import sklearn.svm as svm\n",
    "import pandas as pd\n",
    "import warnings"
   ]
  },
  {
   "cell_type": "code",
   "execution_count": 136,
   "metadata": {},
   "outputs": [],
   "source": [
    "from featureExtraction import *\n",
    "from dataAnalyzer import *\n",
    "from private_tool import *\n",
    "from dataHandler import *"
   ]
  },
  {
   "cell_type": "code",
   "execution_count": 137,
   "metadata": {},
   "outputs": [],
   "source": [
    "warnings.filterwarnings('ignore')"
   ]
  },
  {
   "cell_type": "code",
   "execution_count": 138,
   "metadata": {},
   "outputs": [],
   "source": [
    "experimentNum = 9\n",
    "experimentIdx = 1\n",
    "Experiments = [MotorImageryDataset(parentDirectory(dir=currDir, separator=\"\\\\\", n=1)+'/bcicompetitionIV2a/A0'+str(i+1)+'T.npz') for i in range(experimentNum)]"
   ]
  },
  {
   "cell_type": "code",
   "execution_count": 139,
   "metadata": {},
   "outputs": [],
   "source": [
    "channels = list(range(25))\n",
    "samplingRate = 250 #Hz\n",
    "trialsByClasses = np.array([i.get_trials_by_classes(channels=channels) for i in Experiments])"
   ]
  },
  {
   "cell_type": "code",
   "execution_count": 140,
   "metadata": {},
   "outputs": [
    {
     "data": {
      "text/plain": [
       "(25, 25)"
      ]
     },
     "execution_count": 140,
     "metadata": {},
     "output_type": "execute_result"
    }
   ],
   "source": [
    "channelNum = len(channels)\n",
    "m = len(trialsByClasses[0][\"left\"])\n",
    "channelNum, m"
   ]
  },
  {
   "cell_type": "code",
   "execution_count": 141,
   "metadata": {},
   "outputs": [],
   "source": [
    "bandpassedTrialsByClasses = [{i:[[] for _ in range(channelNum)] for i in j.mi_types.values()} for j in Experiments]\n",
    "for k in range(experimentNum):\n",
    "    for key in trialsByClasses[k].keys():\n",
    "        for i in range(channelNum):\n",
    "            bandpassedTrialsByClasses[k][key][i] = np.array([bandpass_filter(data=trialsByClasses[k][key][i][j], \n",
    "                                                                sample_rate=samplingRate, \n",
    "                                                                cutoff_low=7, \n",
    "                                                                cutoff_high=30)\\\n",
    "                                                for j in range(len(trialsByClasses[k][key][i]))])"
   ]
  },
  {
   "cell_type": "code",
   "execution_count": 142,
   "metadata": {},
   "outputs": [],
   "source": [
    "# 현재 상태는 experiment - class - channel - trial - signal\n",
    "# class - experiment - trial - channel - signal로 수정하자\n",
    "bandpassedTrialsByClasses = {key: np.array([[bandpassedTrialsByClasses[i][key][j] for j in range(channelNum)] for i in range(experimentNum)]) for key in Experiments[0].mi_types.values()}\n",
    "# i: experiment\n",
    "# j: trial"
   ]
  },
  {
   "cell_type": "code",
   "execution_count": 143,
   "metadata": {},
   "outputs": [
    {
     "data": {
      "text/plain": [
       "49"
      ]
     },
     "execution_count": 143,
     "metadata": {},
     "output_type": "execute_result"
    }
   ],
   "source": [
    "minTrialsNum = sorted([sorted([len(bandpassedTrialsByClasses[\"left\"][i][0]) for i in range(experimentNum)])[0], sorted([len(bandpassedTrialsByClasses[\"right\"][i][0]) for i in range(experimentNum)])[0], sorted([len(bandpassedTrialsByClasses[\"tongue\"][i][0]) for i in range(experimentNum)])[0], sorted([len(bandpassedTrialsByClasses[\"foot\"][i][0]) for i in range(experimentNum)])[0]])[0]\n",
    "bandpassedTrialsByClasses = {i:[bandpassedTrialsByClasses[i][j] for j in range(experimentNum)] for i in Experiments[0].mi_types.values()}\n",
    "minTrialsNum"
   ]
  },
  {
   "cell_type": "code",
   "execution_count": 144,
   "metadata": {},
   "outputs": [],
   "source": [
    "left_csp_filter = CSP_filter(np.array([i[:minTrialsNum] for i in bandpassedTrialsByClasses[\"left\"][experimentIdx]]), np.array([j[:minTrialsNum] for i in [\"right\", \"tongue\", \"foot\"] for j in bandpassedTrialsByClasses[i][experimentIdx]]))\n",
    "right_csp_filter = CSP_filter(np.array([i[:minTrialsNum] for i in bandpassedTrialsByClasses[\"right\"][experimentIdx]]), np.array([j[:minTrialsNum] for i in [\"left\", \"right\", \"tongue\", \"foot\"] for j in bandpassedTrialsByClasses[i][experimentIdx]]))\n",
    "tongue_csp_filter = CSP_filter(np.array([i[:minTrialsNum] for i in bandpassedTrialsByClasses[\"tongue\"][experimentIdx]]), np.array([j[:minTrialsNum] for i in [\"left\", \"tongue\", \"foot\"] for j in bandpassedTrialsByClasses[i][experimentIdx]]))\n",
    "foot_csp_filter = CSP_filter(np.array([i[:minTrialsNum] for i in bandpassedTrialsByClasses[\"foot\"][experimentIdx]]), np.array([j[:minTrialsNum] for i in [\"left\", \"right\", \"tongue\"] for j in bandpassedTrialsByClasses[i][experimentIdx]]))"
   ]
  },
  {
   "cell_type": "code",
   "execution_count": 145,
   "metadata": {},
   "outputs": [],
   "source": [
    "bandpassedTrials = {i:[] for i in Experiments[0].mi_types.values()}\n",
    "for i in Experiments[0].mi_types.values():\n",
    "    for j in range(len(bandpassedTrialsByClasses)):\n",
    "        bandpassedTrials[i]"
   ]
  },
  {
   "cell_type": "code",
   "execution_count": 146,
   "metadata": {},
   "outputs": [],
   "source": [
    "# CSP_passed_left_data = np.array([[bandpassedTrialsByClasses[i][j].T@left_csp_filter for j in range(minTrialsNum)] for i in range(experimentNum)])\n",
    "CSP_passed_left_data = [j[:minTrialsNum].T@left_csp_filter for j in bandpassedTrialsByClasses[\"left\"][experimentIdx]]\n",
    "CSP_passed_right_data = [j[:minTrialsNum].T@right_csp_filter for j in bandpassedTrialsByClasses[\"right\"][experimentIdx]]\n",
    "CSP_passed_tongue_data = [j[:minTrialsNum].T@tongue_csp_filter for j in bandpassedTrialsByClasses[\"tongue\"][experimentIdx]]\n",
    "CSP_passed_foot_data = [j[:minTrialsNum].T@foot_csp_filter for j in bandpassedTrialsByClasses[\"foot\"][experimentIdx]]"
   ]
  },
  {
   "cell_type": "code",
   "execution_count": 147,
   "metadata": {},
   "outputs": [
    {
     "data": {
      "text/plain": [
       "25"
      ]
     },
     "execution_count": 147,
     "metadata": {},
     "output_type": "execute_result"
    }
   ],
   "source": [
    "len(CSP_passed_left_data)"
   ]
  },
  {
   "cell_type": "code",
   "execution_count": 148,
   "metadata": {},
   "outputs": [],
   "source": [
    "# bandpassedTrialsByClasses[\"right\"][0][\"right\"][0]"
   ]
  },
  {
   "cell_type": "code",
   "execution_count": 149,
   "metadata": {},
   "outputs": [
    {
     "data": {
      "text/plain": [
       "(25, 49, 1875)"
      ]
     },
     "execution_count": 149,
     "metadata": {},
     "output_type": "execute_result"
    }
   ],
   "source": [
    "CSP_passed_left_data = [np.array([j.T for j in i]).T for i in CSP_passed_left_data]\n",
    "CSP_passed_right_data = [np.array([j.T for j in i]).T for i in CSP_passed_right_data]\n",
    "CSP_passed_tongue_data = [np.array([j.T for j in i]).T for i in CSP_passed_tongue_data]\n",
    "CSP_passed_foot_data = [np.array([j.T for j in i]).T for i in CSP_passed_foot_data]\n",
    "np.array(CSP_passed_left_data).shape"
   ]
  },
  {
   "cell_type": "code",
   "execution_count": 150,
   "metadata": {},
   "outputs": [
    {
     "data": {
      "text/plain": [
       "(49, 25, 1875)"
      ]
     },
     "execution_count": 150,
     "metadata": {},
     "output_type": "execute_result"
    }
   ],
   "source": [
    "CSP_passed_left_data = np.array([i.T for i in np.array(CSP_passed_left_data).T]).T\n",
    "CSP_passed_right_data = np.array([i.T for i in np.array(CSP_passed_right_data).T]).T\n",
    "CSP_passed_tongue_data = np.array([i.T for i in np.array(CSP_passed_tongue_data).T]).T\n",
    "CSP_passed_foot_data = np.array([i.T for i in np.array(CSP_passed_foot_data).T]).T\n",
    "CSP_passed_left_data.shape"
   ]
  },
  {
   "cell_type": "code",
   "execution_count": 151,
   "metadata": {},
   "outputs": [
    {
     "data": {
      "text/html": [
       "<div>\n",
       "<style scoped>\n",
       "    .dataframe tbody tr th:only-of-type {\n",
       "        vertical-align: middle;\n",
       "    }\n",
       "\n",
       "    .dataframe tbody tr th {\n",
       "        vertical-align: top;\n",
       "    }\n",
       "\n",
       "    .dataframe thead th {\n",
       "        text-align: right;\n",
       "    }\n",
       "</style>\n",
       "<table border=\"1\" class=\"dataframe\">\n",
       "  <thead>\n",
       "    <tr style=\"text-align: right;\">\n",
       "      <th></th>\n",
       "      <th>0</th>\n",
       "      <th>1</th>\n",
       "      <th>2</th>\n",
       "      <th>3</th>\n",
       "      <th>4</th>\n",
       "      <th>5</th>\n",
       "      <th>target</th>\n",
       "    </tr>\n",
       "  </thead>\n",
       "  <tbody>\n",
       "    <tr>\n",
       "      <th>0</th>\n",
       "      <td>-3.653286</td>\n",
       "      <td>-3.009816</td>\n",
       "      <td>-3.314173</td>\n",
       "      <td>-3.031770</td>\n",
       "      <td>-3.324918</td>\n",
       "      <td>-3.125725</td>\n",
       "      <td>0</td>\n",
       "    </tr>\n",
       "    <tr>\n",
       "      <th>1</th>\n",
       "      <td>-3.605749</td>\n",
       "      <td>-2.987312</td>\n",
       "      <td>-3.305759</td>\n",
       "      <td>-3.075138</td>\n",
       "      <td>-3.282486</td>\n",
       "      <td>-3.115287</td>\n",
       "      <td>0</td>\n",
       "    </tr>\n",
       "    <tr>\n",
       "      <th>2</th>\n",
       "      <td>-3.851163</td>\n",
       "      <td>-3.151066</td>\n",
       "      <td>-3.586139</td>\n",
       "      <td>-3.085698</td>\n",
       "      <td>-3.290651</td>\n",
       "      <td>-3.106233</td>\n",
       "      <td>0</td>\n",
       "    </tr>\n",
       "    <tr>\n",
       "      <th>3</th>\n",
       "      <td>-3.635074</td>\n",
       "      <td>-3.123664</td>\n",
       "      <td>-3.463715</td>\n",
       "      <td>-3.112066</td>\n",
       "      <td>-3.276056</td>\n",
       "      <td>-3.112170</td>\n",
       "      <td>0</td>\n",
       "    </tr>\n",
       "    <tr>\n",
       "      <th>4</th>\n",
       "      <td>-3.714137</td>\n",
       "      <td>-2.995042</td>\n",
       "      <td>-3.437776</td>\n",
       "      <td>-2.998519</td>\n",
       "      <td>-3.334208</td>\n",
       "      <td>-3.096635</td>\n",
       "      <td>0</td>\n",
       "    </tr>\n",
       "    <tr>\n",
       "      <th>...</th>\n",
       "      <td>...</td>\n",
       "      <td>...</td>\n",
       "      <td>...</td>\n",
       "      <td>...</td>\n",
       "      <td>...</td>\n",
       "      <td>...</td>\n",
       "      <td>...</td>\n",
       "    </tr>\n",
       "    <tr>\n",
       "      <th>191</th>\n",
       "      <td>-3.758609</td>\n",
       "      <td>-2.406563</td>\n",
       "      <td>-3.512746</td>\n",
       "      <td>-2.990222</td>\n",
       "      <td>-3.321582</td>\n",
       "      <td>-3.102417</td>\n",
       "      <td>3</td>\n",
       "    </tr>\n",
       "    <tr>\n",
       "      <th>192</th>\n",
       "      <td>-3.886574</td>\n",
       "      <td>-2.899602</td>\n",
       "      <td>-3.677409</td>\n",
       "      <td>-3.019990</td>\n",
       "      <td>-3.246898</td>\n",
       "      <td>-3.066813</td>\n",
       "      <td>3</td>\n",
       "    </tr>\n",
       "    <tr>\n",
       "      <th>193</th>\n",
       "      <td>-3.859354</td>\n",
       "      <td>-3.114601</td>\n",
       "      <td>-3.554834</td>\n",
       "      <td>-3.030449</td>\n",
       "      <td>-3.319563</td>\n",
       "      <td>-3.088107</td>\n",
       "      <td>3</td>\n",
       "    </tr>\n",
       "    <tr>\n",
       "      <th>194</th>\n",
       "      <td>-3.990502</td>\n",
       "      <td>-2.732837</td>\n",
       "      <td>-3.604854</td>\n",
       "      <td>-3.090992</td>\n",
       "      <td>-3.288949</td>\n",
       "      <td>-3.097039</td>\n",
       "      <td>3</td>\n",
       "    </tr>\n",
       "    <tr>\n",
       "      <th>195</th>\n",
       "      <td>-3.920120</td>\n",
       "      <td>-3.003237</td>\n",
       "      <td>-3.575283</td>\n",
       "      <td>-3.160814</td>\n",
       "      <td>-3.328685</td>\n",
       "      <td>-3.146821</td>\n",
       "      <td>3</td>\n",
       "    </tr>\n",
       "  </tbody>\n",
       "</table>\n",
       "<p>196 rows × 7 columns</p>\n",
       "</div>"
      ],
      "text/plain": [
       "            0         1         2         3         4         5  target\n",
       "0   -3.653286 -3.009816 -3.314173 -3.031770 -3.324918 -3.125725       0\n",
       "1   -3.605749 -2.987312 -3.305759 -3.075138 -3.282486 -3.115287       0\n",
       "2   -3.851163 -3.151066 -3.586139 -3.085698 -3.290651 -3.106233       0\n",
       "3   -3.635074 -3.123664 -3.463715 -3.112066 -3.276056 -3.112170       0\n",
       "4   -3.714137 -2.995042 -3.437776 -2.998519 -3.334208 -3.096635       0\n",
       "..        ...       ...       ...       ...       ...       ...     ...\n",
       "191 -3.758609 -2.406563 -3.512746 -2.990222 -3.321582 -3.102417       3\n",
       "192 -3.886574 -2.899602 -3.677409 -3.019990 -3.246898 -3.066813       3\n",
       "193 -3.859354 -3.114601 -3.554834 -3.030449 -3.319563 -3.088107       3\n",
       "194 -3.990502 -2.732837 -3.604854 -3.090992 -3.288949 -3.097039       3\n",
       "195 -3.920120 -3.003237 -3.575283 -3.160814 -3.328685 -3.146821       3\n",
       "\n",
       "[196 rows x 7 columns]"
      ]
     },
     "execution_count": 151,
     "metadata": {},
     "output_type": "execute_result"
    }
   ],
   "source": [
    "m = 3\n",
    "\n",
    "leftVarRatioDF = twoTimesMDimensionalFeature(CSP_passed_left_data, 0, channelNum, minTrialsNum, m)\n",
    "rightVarRatioDF = twoTimesMDimensionalFeature(CSP_passed_right_data, 1, channelNum, minTrialsNum, m)\n",
    "tongueVarRatioDF = twoTimesMDimensionalFeature(CSP_passed_tongue_data, 2, channelNum, minTrialsNum, m)\n",
    "footVarRatioDF = twoTimesMDimensionalFeature(CSP_passed_foot_data, 3, channelNum, minTrialsNum, m)\n",
    "\n",
    "VarRatioDF = pd.concat([leftVarRatioDF, rightVarRatioDF, tongueVarRatioDF, footVarRatioDF], axis=0)\n",
    "labelDF = pd.DataFrame([i for i in range(4) for j in range(minTrialsNum)])\n",
    "\n",
    "VarRatioDF = VarRatioDF.reset_index()\n",
    "VarRatioDF = pd.concat([VarRatioDF, labelDF], axis=1).iloc[:, 1:]\n",
    "VarRatioDF.columns = [f\"{n}\" for n in range(m*2)] + [\"target\"]\n",
    "VarRatioDF"
   ]
  },
  {
   "cell_type": "code",
   "execution_count": 152,
   "metadata": {},
   "outputs": [
    {
     "data": {
      "text/html": [
       "<div>\n",
       "<style scoped>\n",
       "    .dataframe tbody tr th:only-of-type {\n",
       "        vertical-align: middle;\n",
       "    }\n",
       "\n",
       "    .dataframe tbody tr th {\n",
       "        vertical-align: top;\n",
       "    }\n",
       "\n",
       "    .dataframe thead th {\n",
       "        text-align: right;\n",
       "    }\n",
       "</style>\n",
       "<table border=\"1\" class=\"dataframe\">\n",
       "  <thead>\n",
       "    <tr style=\"text-align: right;\">\n",
       "      <th></th>\n",
       "      <th>0</th>\n",
       "      <th>1</th>\n",
       "      <th>2</th>\n",
       "      <th>3</th>\n",
       "      <th>4</th>\n",
       "      <th>5</th>\n",
       "    </tr>\n",
       "  </thead>\n",
       "  <tbody>\n",
       "    <tr>\n",
       "      <th>0</th>\n",
       "      <td>1.244883</td>\n",
       "      <td>-0.149356</td>\n",
       "      <td>2.025276</td>\n",
       "      <td>0.862713</td>\n",
       "      <td>-0.695827</td>\n",
       "      <td>-0.325831</td>\n",
       "    </tr>\n",
       "    <tr>\n",
       "      <th>1</th>\n",
       "      <td>1.774837</td>\n",
       "      <td>-0.039131</td>\n",
       "      <td>2.119916</td>\n",
       "      <td>-0.095598</td>\n",
       "      <td>0.206349</td>\n",
       "      <td>-0.043096</td>\n",
       "    </tr>\n",
       "    <tr>\n",
       "      <th>2</th>\n",
       "      <td>-0.961099</td>\n",
       "      <td>-0.841224</td>\n",
       "      <td>-1.033888</td>\n",
       "      <td>-0.328932</td>\n",
       "      <td>0.032763</td>\n",
       "      <td>0.202153</td>\n",
       "    </tr>\n",
       "    <tr>\n",
       "      <th>3</th>\n",
       "      <td>1.447916</td>\n",
       "      <td>-0.707007</td>\n",
       "      <td>0.343180</td>\n",
       "      <td>-0.911596</td>\n",
       "      <td>0.343061</td>\n",
       "      <td>0.041336</td>\n",
       "    </tr>\n",
       "    <tr>\n",
       "      <th>4</th>\n",
       "      <td>0.566504</td>\n",
       "      <td>-0.076991</td>\n",
       "      <td>0.634951</td>\n",
       "      <td>1.597481</td>\n",
       "      <td>-0.893349</td>\n",
       "      <td>0.462139</td>\n",
       "    </tr>\n",
       "    <tr>\n",
       "      <th>...</th>\n",
       "      <td>...</td>\n",
       "      <td>...</td>\n",
       "      <td>...</td>\n",
       "      <td>...</td>\n",
       "      <td>...</td>\n",
       "      <td>...</td>\n",
       "    </tr>\n",
       "    <tr>\n",
       "      <th>191</th>\n",
       "      <td>0.070712</td>\n",
       "      <td>2.805483</td>\n",
       "      <td>-0.208344</td>\n",
       "      <td>1.780829</td>\n",
       "      <td>-0.624890</td>\n",
       "      <td>0.305521</td>\n",
       "    </tr>\n",
       "    <tr>\n",
       "      <th>192</th>\n",
       "      <td>-1.355871</td>\n",
       "      <td>0.390492</td>\n",
       "      <td>-2.060524</td>\n",
       "      <td>1.123026</td>\n",
       "      <td>0.963015</td>\n",
       "      <td>1.269916</td>\n",
       "    </tr>\n",
       "    <tr>\n",
       "      <th>193</th>\n",
       "      <td>-1.052415</td>\n",
       "      <td>-0.662614</td>\n",
       "      <td>-0.681763</td>\n",
       "      <td>0.891905</td>\n",
       "      <td>-0.581960</td>\n",
       "      <td>0.693137</td>\n",
       "    </tr>\n",
       "    <tr>\n",
       "      <th>194</th>\n",
       "      <td>-2.514490</td>\n",
       "      <td>1.207334</td>\n",
       "      <td>-1.244402</td>\n",
       "      <td>-0.445932</td>\n",
       "      <td>0.068936</td>\n",
       "      <td>0.451189</td>\n",
       "    </tr>\n",
       "    <tr>\n",
       "      <th>195</th>\n",
       "      <td>-1.729846</td>\n",
       "      <td>-0.117132</td>\n",
       "      <td>-0.911779</td>\n",
       "      <td>-1.988802</td>\n",
       "      <td>-0.775911</td>\n",
       "      <td>-0.897257</td>\n",
       "    </tr>\n",
       "  </tbody>\n",
       "</table>\n",
       "<p>196 rows × 6 columns</p>\n",
       "</div>"
      ],
      "text/plain": [
       "            0         1         2         3         4         5\n",
       "0    1.244883 -0.149356  2.025276  0.862713 -0.695827 -0.325831\n",
       "1    1.774837 -0.039131  2.119916 -0.095598  0.206349 -0.043096\n",
       "2   -0.961099 -0.841224 -1.033888 -0.328932  0.032763  0.202153\n",
       "3    1.447916 -0.707007  0.343180 -0.911596  0.343061  0.041336\n",
       "4    0.566504 -0.076991  0.634951  1.597481 -0.893349  0.462139\n",
       "..        ...       ...       ...       ...       ...       ...\n",
       "191  0.070712  2.805483 -0.208344  1.780829 -0.624890  0.305521\n",
       "192 -1.355871  0.390492 -2.060524  1.123026  0.963015  1.269916\n",
       "193 -1.052415 -0.662614 -0.681763  0.891905 -0.581960  0.693137\n",
       "194 -2.514490  1.207334 -1.244402 -0.445932  0.068936  0.451189\n",
       "195 -1.729846 -0.117132 -0.911779 -1.988802 -0.775911 -0.897257\n",
       "\n",
       "[196 rows x 6 columns]"
      ]
     },
     "execution_count": 152,
     "metadata": {},
     "output_type": "execute_result"
    }
   ],
   "source": [
    "\n",
    "x = VarRatioDF.drop(['target'], axis=1).values \n",
    "y = VarRatioDF['target'].values # 종속변인 추출\n",
    "x = StandardScaler().fit_transform(x)\n",
    "pd.DataFrame(x)"
   ]
  },
  {
   "cell_type": "code",
   "execution_count": 153,
   "metadata": {},
   "outputs": [],
   "source": [
    "n_componunts = 5\n",
    "PCA = PrincipalComponuntAnalysis(n_componunts=n_componunts, data=x)\n",
    "principalDF = PCA.principalDf"
   ]
  },
  {
   "cell_type": "code",
   "execution_count": 154,
   "metadata": {},
   "outputs": [
    {
     "data": {
      "text/plain": [
       "0.9804158881138021"
      ]
     },
     "execution_count": 154,
     "metadata": {},
     "output_type": "execute_result"
    }
   ],
   "source": [
    "sum(PCA.explained_variance_ratio_())"
   ]
  },
  {
   "cell_type": "code",
   "execution_count": 155,
   "metadata": {},
   "outputs": [
    {
     "name": "stdout",
     "output_type": "stream",
     "text": [
      "교차검증 평균:  0.37269230769230766\n",
      "교차검증 평균:  0.41346153846153844\n"
     ]
    }
   ],
   "source": [
    "# SVM, kernel = 'linear'로 선형분리 진행\n",
    "svm_clf =svm.SVC(kernel = 'linear', random_state=100)\n",
    "\n",
    "# 교차검증\n",
    "scores = cross_val_score(svm_clf, principalDF, labelDF, cv = 5)\n",
    "\n",
    "print('교차검증 평균: ', scores.mean())\n",
    "\n",
    "# SVM, kernel = 'rbf'로 비선형분리 진행\n",
    "svm_clf = svm.SVC(kernel = 'rbf')\n",
    "\n",
    "# 교차검증\n",
    "scores = cross_val_score(svm_clf, principalDF, labelDF, cv = 5)\n",
    "\n",
    "print('교차검증 평균: ', scores.mean())"
   ]
  },
  {
   "cell_type": "code",
   "execution_count": 156,
   "metadata": {},
   "outputs": [
    {
     "data": {
      "image/png": "[encoded data removed]",
      "text/plain": [
       "<Figure size 640x480 with 1 Axes>"
      ]
     },
     "metadata": {},
     "output_type": "display_data"
    },
    {
     "data": {
      "text/html": [
       "<div>\n",
       "<style scoped>\n",
       "    .dataframe tbody tr th:only-of-type {\n",
       "        vertical-align: middle;\n",
       "    }\n",
       "\n",
       "    .dataframe tbody tr th {\n",
       "        vertical-align: top;\n",
       "    }\n",
       "\n",
       "    .dataframe thead th {\n",
       "        text-align: right;\n",
       "    }\n",
       "</style>\n",
       "<table border=\"1\" class=\"dataframe\">\n",
       "  <thead>\n",
       "    <tr style=\"text-align: right;\">\n",
       "      <th></th>\n",
       "      <th>axis1</th>\n",
       "      <th>axis2</th>\n",
       "      <th>axis3</th>\n",
       "      <th>axis4</th>\n",
       "      <th>axis5</th>\n",
       "      <th>label</th>\n",
       "    </tr>\n",
       "  </thead>\n",
       "  <tbody>\n",
       "    <tr>\n",
       "      <th>0</th>\n",
       "      <td>0.410185</td>\n",
       "      <td>2.202072</td>\n",
       "      <td>-0.420888</td>\n",
       "      <td>-1.232875</td>\n",
       "      <td>-0.510817</td>\n",
       "      <td>0</td>\n",
       "    </tr>\n",
       "    <tr>\n",
       "      <th>1</th>\n",
       "      <td>0.238757</td>\n",
       "      <td>2.592809</td>\n",
       "      <td>-0.891357</td>\n",
       "      <td>-0.208946</td>\n",
       "      <td>0.213968</td>\n",
       "      <td>0</td>\n",
       "    </tr>\n",
       "    <tr>\n",
       "      <th>2</th>\n",
       "      <td>-0.180572</td>\n",
       "      <td>-1.609658</td>\n",
       "      <td>-0.463183</td>\n",
       "      <td>0.102313</td>\n",
       "      <td>-0.010103</td>\n",
       "      <td>0</td>\n",
       "    </tr>\n",
       "    <tr>\n",
       "      <th>3</th>\n",
       "      <td>0.206063</td>\n",
       "      <td>0.930890</td>\n",
       "      <td>-1.334777</td>\n",
       "      <td>0.934157</td>\n",
       "      <td>-0.140556</td>\n",
       "      <td>0</td>\n",
       "    </tr>\n",
       "    <tr>\n",
       "      <th>4</th>\n",
       "      <td>-0.543896</td>\n",
       "      <td>0.901718</td>\n",
       "      <td>0.262843</td>\n",
       "      <td>-1.295371</td>\n",
       "      <td>-1.197978</td>\n",
       "      <td>0</td>\n",
       "    </tr>\n",
       "    <tr>\n",
       "      <th>...</th>\n",
       "      <td>...</td>\n",
       "      <td>...</td>\n",
       "      <td>...</td>\n",
       "      <td>...</td>\n",
       "      <td>...</td>\n",
       "      <td>...</td>\n",
       "    </tr>\n",
       "    <tr>\n",
       "      <th>191</th>\n",
       "      <td>-0.557193</td>\n",
       "      <td>0.838186</td>\n",
       "      <td>3.141442</td>\n",
       "      <td>-0.456840</td>\n",
       "      <td>-0.621177</td>\n",
       "      <td>3</td>\n",
       "    </tr>\n",
       "    <tr>\n",
       "      <th>192</th>\n",
       "      <td>-2.159068</td>\n",
       "      <td>-1.960029</td>\n",
       "      <td>1.197740</td>\n",
       "      <td>0.303949</td>\n",
       "      <td>-0.073794</td>\n",
       "      <td>3</td>\n",
       "    </tr>\n",
       "    <tr>\n",
       "      <th>193</th>\n",
       "      <td>-0.704388</td>\n",
       "      <td>-1.306562</td>\n",
       "      <td>0.062885</td>\n",
       "      <td>-1.005708</td>\n",
       "      <td>-0.633389</td>\n",
       "      <td>3</td>\n",
       "    </tr>\n",
       "    <tr>\n",
       "      <th>194</th>\n",
       "      <td>-0.102712</td>\n",
       "      <td>-2.308215</td>\n",
       "      <td>1.649475</td>\n",
       "      <td>-0.087194</td>\n",
       "      <td>1.184970</td>\n",
       "      <td>3</td>\n",
       "    </tr>\n",
       "    <tr>\n",
       "      <th>195</th>\n",
       "      <td>1.921219</td>\n",
       "      <td>-2.149379</td>\n",
       "      <td>-0.041333</td>\n",
       "      <td>0.382725</td>\n",
       "      <td>0.812113</td>\n",
       "      <td>3</td>\n",
       "    </tr>\n",
       "  </tbody>\n",
       "</table>\n",
       "<p>196 rows × 6 columns</p>\n",
       "</div>"
      ],
      "text/plain": [
       "        axis1     axis2     axis3     axis4     axis5  label\n",
       "0    0.410185  2.202072 -0.420888 -1.232875 -0.510817      0\n",
       "1    0.238757  2.592809 -0.891357 -0.208946  0.213968      0\n",
       "2   -0.180572 -1.609658 -0.463183  0.102313 -0.010103      0\n",
       "3    0.206063  0.930890 -1.334777  0.934157 -0.140556      0\n",
       "4   -0.543896  0.901718  0.262843 -1.295371 -1.197978      0\n",
       "..        ...       ...       ...       ...       ...    ...\n",
       "191 -0.557193  0.838186  3.141442 -0.456840 -0.621177      3\n",
       "192 -2.159068 -1.960029  1.197740  0.303949 -0.073794      3\n",
       "193 -0.704388 -1.306562  0.062885 -1.005708 -0.633389      3\n",
       "194 -0.102712 -2.308215  1.649475 -0.087194  1.184970      3\n",
       "195  1.921219 -2.149379 -0.041333  0.382725  0.812113      3\n",
       "\n",
       "[196 rows x 6 columns]"
      ]
     },
     "execution_count": 156,
     "metadata": {},
     "output_type": "execute_result"
    }
   ],
   "source": [
    "# 데이터를 DataFrame으로 생성\n",
    "df = pd.concat([principalDF, labelDF], axis=1)\n",
    "plotDF3D(data=df, num_of_classes=4)\n",
    "df"
   ]
  },
  {
   "cell_type": "code",
   "execution_count": 157,
   "metadata": {},
   "outputs": [],
   "source": [
    "LDA_DF = pd.concat([pd.DataFrame(LDATransform(principalDF, labelDF, 3, \"eigen\")), labelDF], axis=1)"
   ]
  },
  {
   "cell_type": "code",
   "execution_count": 158,
   "metadata": {},
   "outputs": [],
   "source": [
    "LDA_DF.columns = [f\"axis{i+1}\" for i in range(3)] + [\"label\"]"
   ]
  },
  {
   "cell_type": "code",
   "execution_count": 159,
   "metadata": {},
   "outputs": [],
   "source": [
    "scaler = StandardScaler()\n",
    "scaler.fit(LDA_DF.loc[:, :\"axis3\"])\n",
    "LDA_DF_Scaled = pd.concat([pd.DataFrame(scaler.transform(LDA_DF.loc[:, :\"axis3\"])), labelDF], axis=1)\n",
    "LDA_DF_Scaled.columns = [f\"axis{i+1}\" for i in range(3)] + [\"label\"]"
   ]
  },
  {
   "cell_type": "code",
   "execution_count": 160,
   "metadata": {},
   "outputs": [
    {
     "name": "stdout",
     "output_type": "stream",
     "text": [
      "교차검증 평균:  0.4288461538461538\n",
      "교차검증 평균:  0.3828205128205128\n"
     ]
    }
   ],
   "source": [
    "# SVM, kernel = 'linear'로 선형분리 진행\n",
    "svm_clf =svm.SVC(kernel = 'linear', random_state=100)\n",
    "\n",
    "# 교차검증\n",
    "scores = cross_val_score(svm_clf, LDA_DF_Scaled.loc[:, :\"axis3\"], labelDF, cv = 5)\n",
    "print('교차검증 평균: ', scores.mean())\n",
    "\n",
    "# SVM, kernel = 'rbf'로 비선형분리 진행\n",
    "svm_clf = svm.SVC(kernel = 'rbf')\n",
    "\n",
    "# 교차검증\n",
    "scores = cross_val_score(svm_clf, LDA_DF_Scaled.loc[:, :\"axis3\"], labelDF, cv = 5)\n",
    "print('교차검증 평균: ', scores.mean())"
   ]
  },
  {
   "cell_type": "code",
   "execution_count": null,
   "metadata": {},
   "outputs": [],
   "source": []
  }
 ],
 "metadata": {
  "kernelspec": {
   "display_name": "Python 3",
   "language": "python",
   "name": "python3"
  },
  "language_info": {
   "codemirror_mode": {
    "name": "ipython",
    "version": 3
   },
   "file_extension": ".py",
   "mimetype": "text/x-python",
   "name": "python",
   "nbconvert_exporter": "python",
   "pygments_lexer": "ipython3",
   "version": "3.10.5"
  },
  "orig_nbformat": 4
 },
 "nbformat": 4,
 "nbformat_minor": 2
}
