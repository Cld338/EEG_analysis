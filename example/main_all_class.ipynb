{
 "cells": [
  {
   "cell_type": "code",
   "execution_count": 1,
   "metadata": {},
   "outputs": [],
   "source": [
    "from dataAnalyzer import *\n",
    "from private_tool import *\n",
    "from dataHandler import *\n",
    "from numpy import array"
   ]
  },
  {
   "cell_type": "code",
   "execution_count": 2,
   "metadata": {},
   "outputs": [],
   "source": [
    "experimentNum = 9\n",
    "Experiments = [MotorImageryDataset(parentDirectory(dir=currDir, separator=\"\\\\\", n=1)+'/bcicompetitionIV2a/A0'+str(i+1)+'T.npz') for i in range(experimentNum)]"
   ]
  },
  {
   "cell_type": "code",
   "execution_count": 3,
   "metadata": {},
   "outputs": [],
   "source": [
    "channels = [7, 9, 10, 11]\n",
    "samplingRate = 250 #Hz\n",
    "trialsByClasses = array([i.get_trials_by_classes(channels=channels) for i in Experiments])"
   ]
  },
  {
   "cell_type": "code",
   "execution_count": 4,
   "metadata": {},
   "outputs": [
    {
     "data": {
      "text/plain": [
       "69"
      ]
     },
     "execution_count": 4,
     "metadata": {},
     "output_type": "execute_result"
    }
   ],
   "source": [
    "len(trialsByClasses[0][\"left\"][0])"
   ]
  },
  {
   "cell_type": "code",
   "execution_count": 5,
   "metadata": {},
   "outputs": [
    {
     "data": {
      "text/plain": [
       "(4, 4)"
      ]
     },
     "execution_count": 5,
     "metadata": {},
     "output_type": "execute_result"
    }
   ],
   "source": [
    "channelNum = len(channels)\n",
    "m = len(trialsByClasses[0][\"left\"])\n",
    "channelNum, m"
   ]
  },
  {
   "cell_type": "code",
   "execution_count": 6,
   "metadata": {},
   "outputs": [],
   "source": [
    "bandpassedTrialsByClasses = [{i:[[] for _ in range(channelNum)] for i in j.mi_types.values()} for j in Experiments]\n",
    "for k in range(experimentNum):\n",
    "    for key in trialsByClasses[k].keys():\n",
    "        for i in range(channelNum):\n",
    "            bandpassedTrialsByClasses[k][key][i] = np.array([bandpass_filter(data=trialsByClasses[k][key][i][j], \n",
    "                                                                sample_rate=samplingRate, \n",
    "                                                                cutoff_low=5, \n",
    "                                                                cutoff_high=50)\\\n",
    "                                                for j in range(len(trialsByClasses[k][key][i]))])"
   ]
  },
  {
   "cell_type": "code",
   "execution_count": 7,
   "metadata": {},
   "outputs": [],
   "source": [
    "# bandpassedTrialsByClasses[2][\"left\"][2].shape"
   ]
  },
  {
   "cell_type": "code",
   "execution_count": null,
   "metadata": {},
   "outputs": [],
   "source": []
  },
  {
   "cell_type": "code",
   "execution_count": 8,
   "metadata": {},
   "outputs": [
    {
     "name": "stderr",
     "output_type": "stream",
     "text": [
      "C:\\Users\\jihun\\AppData\\Local\\Temp\\ipykernel_5216\\3323506164.py:3: VisibleDeprecationWarning: Creating an ndarray from ragged nested sequences (which is a list-or-tuple of lists-or-tuples-or ndarrays with different lengths or shapes) is deprecated. If you meant to do this, you must specify 'dtype=object' when creating the ndarray.\n",
      "  bandpassedTrialsByClasses = {key:array([[bandpassedTrialsByClasses[i][key][j] for j in range(channelNum)] for i in range(experimentNum)]) for key in Experiments[0].mi_types.values()}\n"
     ]
    }
   ],
   "source": [
    "# 현재 상태는 experiment - class - channel - trial - signal\n",
    "# class - experiment - trial - channel - signal로 수정하자\n",
    "bandpassedTrialsByClasses = {key:array([[bandpassedTrialsByClasses[i][key][j] for j in range(channelNum)] for i in range(experimentNum)]) for key in Experiments[0].mi_types.values()}\n",
    "# bandpassedTrialsByClasses[\"left\"][8][0].shape\n",
    "# i: experiment\n",
    "# j: trial"
   ]
  },
  {
   "cell_type": "code",
   "execution_count": 9,
   "metadata": {},
   "outputs": [],
   "source": [
    "minTrialsNum = sorted([len(bandpassedTrialsByClasses[\"left\"][i][0]) for i in range(experimentNum)])[0]\n",
    "bandpassedTrialsByClasses = {i:[bandpassedTrialsByClasses[i][j] for j in range(experimentNum)] for i in Experiments[0].mi_types.values()}"
   ]
  },
  {
   "cell_type": "code",
   "execution_count": 10,
   "metadata": {},
   "outputs": [],
   "source": [
    "left_csp_filters = [CSP_filter(len(bandpassedTrialsByClasses[\"left\"][i]), bandpassedTrialsByClasses[\"left\"][i]) for i in range(experimentNum)]\n",
    "right_csp_filters = CSP_filter(len(bandpassedTrialsByClasses[\"right\"][i]), bandpassedTrialsByClasses[\"right\"][i])"
   ]
  },
  {
   "cell_type": "code",
   "execution_count": 11,
   "metadata": {},
   "outputs": [],
   "source": [
    "bandpassedTrials = {i:[] for i in Experiments[0].mi_types.values()}\n",
    "for i in Experiments[0].mi_types.values():\n",
    "    for j in range(len(bandpassedTrialsByClasses)):\n",
    "        bandpassedTrials[i]"
   ]
  },
  {
   "cell_type": "code",
   "execution_count": 17,
   "metadata": {},
   "outputs": [
    {
     "ename": "ValueError",
     "evalue": "matmul: Input operand 1 has a mismatch in its core dimension 0, with gufunc signature (n?,k),(k,m?)->(n?,m?) (size 67 is different from 69)",
     "output_type": "error",
     "traceback": [
      "\u001b[1;31m---------------------------------------------------------------------------\u001b[0m",
      "\u001b[1;31mValueError\u001b[0m                                Traceback (most recent call last)",
      "\u001b[1;32mc:\\Users\\jihun\\OneDrive\\바탕 화면\\openvibe\\source code\\EEG_analyze\\example\\main_all_class.ipynb 셀 13\u001b[0m in \u001b[0;36m<cell line: 2>\u001b[1;34m()\u001b[0m\n\u001b[0;32m      <a href='vscode-notebook-cell:/c%3A/Users/jihun/OneDrive/%EB%B0%94%ED%83%95%20%ED%99%94%EB%A9%B4/openvibe/source%20code/EEG_analyze/example/main_all_class.ipynb#X15sZmlsZQ%3D%3D?line=0'>1</a>\u001b[0m \u001b[39m# CSP_passed_left_data = np.array([[bandpassedTrialsByClasses[i][j].T@left_csp_filter for j in range(minTrialsNum)] for i in range(experimentNum)])\u001b[39;00m\n\u001b[1;32m----> <a href='vscode-notebook-cell:/c%3A/Users/jihun/OneDrive/%EB%B0%94%ED%83%95%20%ED%99%94%EB%A9%B4/openvibe/source%20code/EEG_analyze/example/main_all_class.ipynb#X15sZmlsZQ%3D%3D?line=1'>2</a>\u001b[0m CSP_passed_left_data \u001b[39m=\u001b[39m [[i\u001b[39m.\u001b[39mT\u001b[39m@j\u001b[39m \u001b[39mfor\u001b[39;00m j \u001b[39min\u001b[39;00m left_csp_filters] \u001b[39mfor\u001b[39;00m i \u001b[39min\u001b[39;00m bandpassedTrialsByClasses[\u001b[39m\"\u001b[39m\u001b[39mleft\u001b[39m\u001b[39m\"\u001b[39m][\u001b[39m0\u001b[39m]]\n\u001b[0;32m      <a href='vscode-notebook-cell:/c%3A/Users/jihun/OneDrive/%EB%B0%94%ED%83%95%20%ED%99%94%EB%A9%B4/openvibe/source%20code/EEG_analyze/example/main_all_class.ipynb#X15sZmlsZQ%3D%3D?line=2'>3</a>\u001b[0m CSP_passed_right_data \u001b[39m=\u001b[39m [[i\u001b[39m.\u001b[39mT\u001b[39m@j\u001b[39m  \u001b[39mfor\u001b[39;00m j \u001b[39min\u001b[39;00m right_csp_filters] \u001b[39mfor\u001b[39;00m i \u001b[39min\u001b[39;00m bandpassedTrialsByClasses[\u001b[39m\"\u001b[39m\u001b[39mright\u001b[39m\u001b[39m\"\u001b[39m][\u001b[39m0\u001b[39m]]\n",
      "\u001b[1;32mc:\\Users\\jihun\\OneDrive\\바탕 화면\\openvibe\\source code\\EEG_analyze\\example\\main_all_class.ipynb 셀 13\u001b[0m in \u001b[0;36m<listcomp>\u001b[1;34m(.0)\u001b[0m\n\u001b[0;32m      <a href='vscode-notebook-cell:/c%3A/Users/jihun/OneDrive/%EB%B0%94%ED%83%95%20%ED%99%94%EB%A9%B4/openvibe/source%20code/EEG_analyze/example/main_all_class.ipynb#X15sZmlsZQ%3D%3D?line=0'>1</a>\u001b[0m \u001b[39m# CSP_passed_left_data = np.array([[bandpassedTrialsByClasses[i][j].T@left_csp_filter for j in range(minTrialsNum)] for i in range(experimentNum)])\u001b[39;00m\n\u001b[1;32m----> <a href='vscode-notebook-cell:/c%3A/Users/jihun/OneDrive/%EB%B0%94%ED%83%95%20%ED%99%94%EB%A9%B4/openvibe/source%20code/EEG_analyze/example/main_all_class.ipynb#X15sZmlsZQ%3D%3D?line=1'>2</a>\u001b[0m CSP_passed_left_data \u001b[39m=\u001b[39m [[i\u001b[39m.\u001b[39mT\u001b[39m@j\u001b[39m \u001b[39mfor\u001b[39;00m j \u001b[39min\u001b[39;00m left_csp_filters] \u001b[39mfor\u001b[39;00m i \u001b[39min\u001b[39;00m bandpassedTrialsByClasses[\u001b[39m\"\u001b[39m\u001b[39mleft\u001b[39m\u001b[39m\"\u001b[39m][\u001b[39m0\u001b[39m]]\n\u001b[0;32m      <a href='vscode-notebook-cell:/c%3A/Users/jihun/OneDrive/%EB%B0%94%ED%83%95%20%ED%99%94%EB%A9%B4/openvibe/source%20code/EEG_analyze/example/main_all_class.ipynb#X15sZmlsZQ%3D%3D?line=2'>3</a>\u001b[0m CSP_passed_right_data \u001b[39m=\u001b[39m [[i\u001b[39m.\u001b[39mT\u001b[39m@j\u001b[39m  \u001b[39mfor\u001b[39;00m j \u001b[39min\u001b[39;00m right_csp_filters] \u001b[39mfor\u001b[39;00m i \u001b[39min\u001b[39;00m bandpassedTrialsByClasses[\u001b[39m\"\u001b[39m\u001b[39mright\u001b[39m\u001b[39m\"\u001b[39m][\u001b[39m0\u001b[39m]]\n",
      "\u001b[1;32mc:\\Users\\jihun\\OneDrive\\바탕 화면\\openvibe\\source code\\EEG_analyze\\example\\main_all_class.ipynb 셀 13\u001b[0m in \u001b[0;36m<listcomp>\u001b[1;34m(.0)\u001b[0m\n\u001b[0;32m      <a href='vscode-notebook-cell:/c%3A/Users/jihun/OneDrive/%EB%B0%94%ED%83%95%20%ED%99%94%EB%A9%B4/openvibe/source%20code/EEG_analyze/example/main_all_class.ipynb#X15sZmlsZQ%3D%3D?line=0'>1</a>\u001b[0m \u001b[39m# CSP_passed_left_data = np.array([[bandpassedTrialsByClasses[i][j].T@left_csp_filter for j in range(minTrialsNum)] for i in range(experimentNum)])\u001b[39;00m\n\u001b[1;32m----> <a href='vscode-notebook-cell:/c%3A/Users/jihun/OneDrive/%EB%B0%94%ED%83%95%20%ED%99%94%EB%A9%B4/openvibe/source%20code/EEG_analyze/example/main_all_class.ipynb#X15sZmlsZQ%3D%3D?line=1'>2</a>\u001b[0m CSP_passed_left_data \u001b[39m=\u001b[39m [[i\u001b[39m.\u001b[39;49mT\u001b[39m@j\u001b[39;49m \u001b[39mfor\u001b[39;00m j \u001b[39min\u001b[39;00m left_csp_filters] \u001b[39mfor\u001b[39;00m i \u001b[39min\u001b[39;00m bandpassedTrialsByClasses[\u001b[39m\"\u001b[39m\u001b[39mleft\u001b[39m\u001b[39m\"\u001b[39m][\u001b[39m0\u001b[39m]]\n\u001b[0;32m      <a href='vscode-notebook-cell:/c%3A/Users/jihun/OneDrive/%EB%B0%94%ED%83%95%20%ED%99%94%EB%A9%B4/openvibe/source%20code/EEG_analyze/example/main_all_class.ipynb#X15sZmlsZQ%3D%3D?line=2'>3</a>\u001b[0m CSP_passed_right_data \u001b[39m=\u001b[39m [[i\u001b[39m.\u001b[39mT\u001b[39m@j\u001b[39m  \u001b[39mfor\u001b[39;00m j \u001b[39min\u001b[39;00m right_csp_filters] \u001b[39mfor\u001b[39;00m i \u001b[39min\u001b[39;00m bandpassedTrialsByClasses[\u001b[39m\"\u001b[39m\u001b[39mright\u001b[39m\u001b[39m\"\u001b[39m][\u001b[39m0\u001b[39m]]\n",
      "\u001b[1;31mValueError\u001b[0m: matmul: Input operand 1 has a mismatch in its core dimension 0, with gufunc signature (n?,k),(k,m?)->(n?,m?) (size 67 is different from 69)"
     ]
    }
   ],
   "source": [
    "# CSP_passed_left_data = np.array([[bandpassedTrialsByClasses[i][j].T@left_csp_filter for j in range(minTrialsNum)] for i in range(experimentNum)])\n",
    "CSP_passed_left_data = [[i.T@j for j in left_csp_filters] for i in bandpassedTrialsByClasses[\"left\"][0]]\n",
    "CSP_passed_right_data = [[i.T@j  for j in right_csp_filters] for i in bandpassedTrialsByClasses[\"right\"][0]]"
   ]
  },
  {
   "cell_type": "code",
   "execution_count": null,
   "metadata": {},
   "outputs": [
    {
     "data": {
      "text/plain": [
       "4"
      ]
     },
     "execution_count": 200,
     "metadata": {},
     "output_type": "execute_result"
    }
   ],
   "source": [
    "len(CSP_passed_left_data)"
   ]
  },
  {
   "cell_type": "code",
   "execution_count": null,
   "metadata": {},
   "outputs": [],
   "source": [
    "# bandpassedTrialsByClasses[\"right\"][0][\"right\"][0]"
   ]
  },
  {
   "cell_type": "code",
   "execution_count": null,
   "metadata": {},
   "outputs": [
    {
     "name": "stdout",
     "output_type": "stream",
     "text": [
      "(4, 1875, 69)\n"
     ]
    }
   ],
   "source": [
    "print(array(CSP_passed_left_data).shape)\n",
    "CSP_passed_left_data = [[np.array([j.T for j in i]).T for i in k] for k in CSP_passed_left_data]\n",
    "CSP_passed_right_data = [[np.array([j.T for j in i]).T for i in k] for k in CSP_passed_right_data]"
   ]
  },
  {
   "cell_type": "code",
   "execution_count": null,
   "metadata": {},
   "outputs": [
    {
     "data": {
      "text/plain": [
       "(4, 69, 1875)"
      ]
     },
     "execution_count": 203,
     "metadata": {},
     "output_type": "execute_result"
    }
   ],
   "source": [
    "array(CSP_passed_left_data).shape"
   ]
  },
  {
   "cell_type": "code",
   "execution_count": null,
   "metadata": {},
   "outputs": [],
   "source": [
    "CSP_passed_left_data = [array([i.T for i in array(j).T]).T for j in CSP_passed_left_data]\n",
    "CSP_passed_right_data = [array([i.T for i in array(j).T]).T for j in CSP_passed_right_data]"
   ]
  },
  {
   "cell_type": "code",
   "execution_count": null,
   "metadata": {},
   "outputs": [
    {
     "name": "stdout",
     "output_type": "stream",
     "text": [
      "69\n"
     ]
    }
   ],
   "source": [
    "from math import log\n",
    "m = 2\n",
    "print(len(CSP_passed_left_data))\n",
    "\n",
    "leftVar = array([np.array([np.array([np.var(CSP_passed_left_data[h][i][j]) for j in range(channelNum)]) for i in range(minTrialsNum)])] for h in range(experimentNum))\n",
    "rightVar = array([np.array([np.array([np.var(CSP_passed_right_data[h][i][j]) for j in range(channelNum)]) for i in range(minTrialsNum)]) for h in range(experimentNum)])\n",
    "\n",
    "leftVarRatio = array([np.array([np.array([log(leftVar[h][i][j-m]/sum(leftVar[h][i])) for j in range(m*2)]) for i in range(minTrialsNum)]) for h in range(experimentNum)])\n",
    "rightVarRatio = array([np.array([np.array([log(rightVar[i][j-m]/sum(rightVar[i])) for j in range(m*2)]) for i in range(minTrialsNum)]) for h in range(experimentNum)])"
   ]
  },
  {
   "cell_type": "code",
   "execution_count": null,
   "metadata": {},
   "outputs": [],
   "source": [
    "leftVarRatioDF = pd.concat([pd.DataFrame(i) for i in leftVarRatio])\n",
    "rightVarRatioDF = pd.concat([pd.DataFrame(i) for i in rightVarRatio])\n",
    "labelDF = pd.DataFrame([0]*minTrialsNum + [1]*minTrialsNum)"
   ]
  },
  {
   "cell_type": "code",
   "execution_count": null,
   "metadata": {},
   "outputs": [
    {
     "data": {
      "text/html": [
       "<div>\n",
       "<style scoped>\n",
       "    .dataframe tbody tr th:only-of-type {\n",
       "        vertical-align: middle;\n",
       "    }\n",
       "\n",
       "    .dataframe tbody tr th {\n",
       "        vertical-align: top;\n",
       "    }\n",
       "\n",
       "    .dataframe thead th {\n",
       "        text-align: right;\n",
       "    }\n",
       "</style>\n",
       "<table border=\"1\" class=\"dataframe\">\n",
       "  <thead>\n",
       "    <tr style=\"text-align: right;\">\n",
       "      <th></th>\n",
       "      <th>0</th>\n",
       "      <th>1</th>\n",
       "      <th>2</th>\n",
       "      <th>3</th>\n",
       "      <th>target</th>\n",
       "    </tr>\n",
       "  </thead>\n",
       "  <tbody>\n",
       "    <tr>\n",
       "      <th>0</th>\n",
       "      <td>-1.359351</td>\n",
       "      <td>-1.488636</td>\n",
       "      <td>-1.500742</td>\n",
       "      <td>-1.222382</td>\n",
       "      <td>0</td>\n",
       "    </tr>\n",
       "    <tr>\n",
       "      <th>1</th>\n",
       "      <td>-1.355136</td>\n",
       "      <td>-1.420109</td>\n",
       "      <td>-1.517295</td>\n",
       "      <td>-1.269060</td>\n",
       "      <td>0</td>\n",
       "    </tr>\n",
       "    <tr>\n",
       "      <th>2</th>\n",
       "      <td>-1.350231</td>\n",
       "      <td>-1.436495</td>\n",
       "      <td>-1.516457</td>\n",
       "      <td>-1.260290</td>\n",
       "      <td>0</td>\n",
       "    </tr>\n",
       "    <tr>\n",
       "      <th>3</th>\n",
       "      <td>-1.353324</td>\n",
       "      <td>-1.483052</td>\n",
       "      <td>-1.461655</td>\n",
       "      <td>-1.262931</td>\n",
       "      <td>0</td>\n",
       "    </tr>\n",
       "    <tr>\n",
       "      <th>4</th>\n",
       "      <td>-1.334399</td>\n",
       "      <td>-1.426462</td>\n",
       "      <td>-1.547904</td>\n",
       "      <td>-1.259369</td>\n",
       "      <td>0</td>\n",
       "    </tr>\n",
       "    <tr>\n",
       "      <th>...</th>\n",
       "      <td>...</td>\n",
       "      <td>...</td>\n",
       "      <td>...</td>\n",
       "      <td>...</td>\n",
       "      <td>...</td>\n",
       "    </tr>\n",
       "    <tr>\n",
       "      <th>101</th>\n",
       "      <td>-1.305247</td>\n",
       "      <td>-1.390470</td>\n",
       "      <td>-1.638900</td>\n",
       "      <td>-1.252664</td>\n",
       "      <td>1</td>\n",
       "    </tr>\n",
       "    <tr>\n",
       "      <th>102</th>\n",
       "      <td>-1.323561</td>\n",
       "      <td>-1.409688</td>\n",
       "      <td>-1.605216</td>\n",
       "      <td>-1.242199</td>\n",
       "      <td>1</td>\n",
       "    </tr>\n",
       "    <tr>\n",
       "      <th>103</th>\n",
       "      <td>-1.342788</td>\n",
       "      <td>-1.415469</td>\n",
       "      <td>-1.560718</td>\n",
       "      <td>-1.251462</td>\n",
       "      <td>1</td>\n",
       "    </tr>\n",
       "    <tr>\n",
       "      <th>104</th>\n",
       "      <td>-1.323870</td>\n",
       "      <td>-1.374776</td>\n",
       "      <td>-1.580142</td>\n",
       "      <td>-1.290786</td>\n",
       "      <td>1</td>\n",
       "    </tr>\n",
       "    <tr>\n",
       "      <th>105</th>\n",
       "      <td>-1.353557</td>\n",
       "      <td>-1.376540</td>\n",
       "      <td>-1.566577</td>\n",
       "      <td>-1.271285</td>\n",
       "      <td>1</td>\n",
       "    </tr>\n",
       "  </tbody>\n",
       "</table>\n",
       "<p>106 rows × 5 columns</p>\n",
       "</div>"
      ],
      "text/plain": [
       "            0         1         2         3  target\n",
       "0   -1.359351 -1.488636 -1.500742 -1.222382       0\n",
       "1   -1.355136 -1.420109 -1.517295 -1.269060       0\n",
       "2   -1.350231 -1.436495 -1.516457 -1.260290       0\n",
       "3   -1.353324 -1.483052 -1.461655 -1.262931       0\n",
       "4   -1.334399 -1.426462 -1.547904 -1.259369       0\n",
       "..        ...       ...       ...       ...     ...\n",
       "101 -1.305247 -1.390470 -1.638900 -1.252664       1\n",
       "102 -1.323561 -1.409688 -1.605216 -1.242199       1\n",
       "103 -1.342788 -1.415469 -1.560718 -1.251462       1\n",
       "104 -1.323870 -1.374776 -1.580142 -1.290786       1\n",
       "105 -1.353557 -1.376540 -1.566577 -1.271285       1\n",
       "\n",
       "[106 rows x 5 columns]"
      ]
     },
     "execution_count": 213,
     "metadata": {},
     "output_type": "execute_result"
    }
   ],
   "source": [
    "VarRatioDF = pd.concat([leftVarRatioDF, rightVarRatioDF], axis=0)\n",
    "VarRatioDF = VarRatioDF.reset_index()\n",
    "VarRatioDF = pd.concat([VarRatioDF, labelDF], axis=1).iloc[:,1:]\n",
    "VarRatioDF.columns = [f\"{n}\" for n in range(m*2)] + [\"target\"]\n",
    "VarRatioDF"
   ]
  },
  {
   "cell_type": "code",
   "execution_count": null,
   "metadata": {},
   "outputs": [
    {
     "data": {
      "text/html": [
       "<div>\n",
       "<style scoped>\n",
       "    .dataframe tbody tr th:only-of-type {\n",
       "        vertical-align: middle;\n",
       "    }\n",
       "\n",
       "    .dataframe tbody tr th {\n",
       "        vertical-align: top;\n",
       "    }\n",
       "\n",
       "    .dataframe thead th {\n",
       "        text-align: right;\n",
       "    }\n",
       "</style>\n",
       "<table border=\"1\" class=\"dataframe\">\n",
       "  <thead>\n",
       "    <tr style=\"text-align: right;\">\n",
       "      <th></th>\n",
       "      <th>0</th>\n",
       "      <th>1</th>\n",
       "      <th>2</th>\n",
       "      <th>3</th>\n",
       "    </tr>\n",
       "  </thead>\n",
       "  <tbody>\n",
       "    <tr>\n",
       "      <th>0</th>\n",
       "      <td>-1.133377</td>\n",
       "      <td>-2.004904</td>\n",
       "      <td>1.221645</td>\n",
       "      <td>1.498668</td>\n",
       "    </tr>\n",
       "    <tr>\n",
       "      <th>1</th>\n",
       "      <td>-0.913390</td>\n",
       "      <td>-0.084622</td>\n",
       "      <td>0.880342</td>\n",
       "      <td>-0.511222</td>\n",
       "    </tr>\n",
       "    <tr>\n",
       "      <th>2</th>\n",
       "      <td>-0.657351</td>\n",
       "      <td>-0.543807</td>\n",
       "      <td>0.897627</td>\n",
       "      <td>-0.133619</td>\n",
       "    </tr>\n",
       "    <tr>\n",
       "      <th>3</th>\n",
       "      <td>-0.818800</td>\n",
       "      <td>-1.848451</td>\n",
       "      <td>2.027564</td>\n",
       "      <td>-0.247339</td>\n",
       "    </tr>\n",
       "    <tr>\n",
       "      <th>4</th>\n",
       "      <td>0.168926</td>\n",
       "      <td>-0.262649</td>\n",
       "      <td>0.249241</td>\n",
       "      <td>-0.093933</td>\n",
       "    </tr>\n",
       "    <tr>\n",
       "      <th>...</th>\n",
       "      <td>...</td>\n",
       "      <td>...</td>\n",
       "      <td>...</td>\n",
       "      <td>...</td>\n",
       "    </tr>\n",
       "    <tr>\n",
       "      <th>101</th>\n",
       "      <td>1.690473</td>\n",
       "      <td>0.745912</td>\n",
       "      <td>-1.626945</td>\n",
       "      <td>0.194760</td>\n",
       "    </tr>\n",
       "    <tr>\n",
       "      <th>102</th>\n",
       "      <td>0.734589</td>\n",
       "      <td>0.207394</td>\n",
       "      <td>-0.932440</td>\n",
       "      <td>0.645390</td>\n",
       "    </tr>\n",
       "    <tr>\n",
       "      <th>103</th>\n",
       "      <td>-0.268898</td>\n",
       "      <td>0.045402</td>\n",
       "      <td>-0.014967</td>\n",
       "      <td>0.246526</td>\n",
       "    </tr>\n",
       "    <tr>\n",
       "      <th>104</th>\n",
       "      <td>0.718478</td>\n",
       "      <td>1.185703</td>\n",
       "      <td>-0.415465</td>\n",
       "      <td>-1.446755</td>\n",
       "    </tr>\n",
       "    <tr>\n",
       "      <th>105</th>\n",
       "      <td>-0.830939</td>\n",
       "      <td>1.136281</td>\n",
       "      <td>-0.135767</td>\n",
       "      <td>-0.607060</td>\n",
       "    </tr>\n",
       "  </tbody>\n",
       "</table>\n",
       "<p>106 rows × 4 columns</p>\n",
       "</div>"
      ],
      "text/plain": [
       "            0         1         2         3\n",
       "0   -1.133377 -2.004904  1.221645  1.498668\n",
       "1   -0.913390 -0.084622  0.880342 -0.511222\n",
       "2   -0.657351 -0.543807  0.897627 -0.133619\n",
       "3   -0.818800 -1.848451  2.027564 -0.247339\n",
       "4    0.168926 -0.262649  0.249241 -0.093933\n",
       "..        ...       ...       ...       ...\n",
       "101  1.690473  0.745912 -1.626945  0.194760\n",
       "102  0.734589  0.207394 -0.932440  0.645390\n",
       "103 -0.268898  0.045402 -0.014967  0.246526\n",
       "104  0.718478  1.185703 -0.415465 -1.446755\n",
       "105 -0.830939  1.136281 -0.135767 -0.607060\n",
       "\n",
       "[106 rows x 4 columns]"
      ]
     },
     "execution_count": 214,
     "metadata": {},
     "output_type": "execute_result"
    }
   ],
   "source": [
    "from sklearn.preprocessing import StandardScaler, RobustScaler\n",
    "x = VarRatioDF.drop(['target'], axis=1).values \n",
    "y = VarRatioDF['target'].values # 종속변인 추출\n",
    "x = StandardScaler().fit_transform(x)\n",
    "pd.DataFrame(x)"
   ]
  },
  {
   "cell_type": "code",
   "execution_count": null,
   "metadata": {},
   "outputs": [],
   "source": [
    "PCA = PrincipalComponentAnalysis(n_componunts=2, data=x)\n",
    "principalDf = PCA.principalDf"
   ]
  },
  {
   "cell_type": "code",
   "execution_count": null,
   "metadata": {},
   "outputs": [
    {
     "data": {
      "text/plain": [
       "0.9205636467589624"
      ]
     },
     "execution_count": 263,
     "metadata": {},
     "output_type": "execute_result"
    }
   ],
   "source": [
    "sum(PCA.explained_variance_ratio_())"
   ]
  },
  {
   "cell_type": "code",
   "execution_count": null,
   "metadata": {},
   "outputs": [
    {
     "data": {
      "image/png": "[encoded data removed]",
      "text/plain": [
       "<Figure size 800x800 with 1 Axes>"
      ]
     },
     "metadata": {},
     "output_type": "display_data"
    }
   ],
   "source": [
    "import matplotlib.pyplot as plt\n",
    "\n",
    "fig = plt.figure(figsize = (8, 8))\n",
    "ax = fig.add_subplot(1, 1, 1)\n",
    "ax.set_xlabel('Principal Component 1', fontsize = 15)\n",
    "ax.set_ylabel('Principal Component 2', fontsize = 15)\n",
    "ax.set_title('1 component PCA', fontsize=20)\n",
    "\n",
    "targets = [0, 1]\n",
    "colors = ['r', 'b']\n",
    "for target, color in zip(targets,colors):\n",
    "    indicesToKeep = VarRatioDF['target'] == target\n",
    "    ax.scatter(principalDf.loc[indicesToKeep, 'principal component1']\n",
    "               , principalDf.loc[indicesToKeep, 'principal component2']\n",
    "               , c = color\n",
    "               , s = 50, alpha=0.5)\n",
    "ax.legend(targets)\n",
    "ax.grid()"
   ]
  },
  {
   "cell_type": "code",
   "execution_count": null,
   "metadata": {},
   "outputs": [
    {
     "data": {
      "text/html": [
       "<div>\n",
       "<style scoped>\n",
       "    .dataframe tbody tr th:only-of-type {\n",
       "        vertical-align: middle;\n",
       "    }\n",
       "\n",
       "    .dataframe tbody tr th {\n",
       "        vertical-align: top;\n",
       "    }\n",
       "\n",
       "    .dataframe thead th {\n",
       "        text-align: right;\n",
       "    }\n",
       "</style>\n",
       "<table border=\"1\" class=\"dataframe\">\n",
       "  <thead>\n",
       "    <tr style=\"text-align: right;\">\n",
       "      <th></th>\n",
       "      <th>principal component1</th>\n",
       "      <th>principal component2</th>\n",
       "      <th>0</th>\n",
       "    </tr>\n",
       "  </thead>\n",
       "  <tbody>\n",
       "    <tr>\n",
       "      <th>0</th>\n",
       "      <td>2.691097</td>\n",
       "      <td>-1.335786</td>\n",
       "      <td>0</td>\n",
       "    </tr>\n",
       "    <tr>\n",
       "      <th>1</th>\n",
       "      <td>1.015661</td>\n",
       "      <td>0.917819</td>\n",
       "      <td>0</td>\n",
       "    </tr>\n",
       "    <tr>\n",
       "      <th>2</th>\n",
       "      <td>1.188745</td>\n",
       "      <td>0.334527</td>\n",
       "      <td>0</td>\n",
       "    </tr>\n",
       "    <tr>\n",
       "      <th>3</th>\n",
       "      <td>2.654164</td>\n",
       "      <td>0.202501</td>\n",
       "      <td>0</td>\n",
       "    </tr>\n",
       "    <tr>\n",
       "      <th>4</th>\n",
       "      <td>0.185358</td>\n",
       "      <td>-0.034405</td>\n",
       "      <td>0</td>\n",
       "    </tr>\n",
       "    <tr>\n",
       "      <th>...</th>\n",
       "      <td>...</td>\n",
       "      <td>...</td>\n",
       "      <td>...</td>\n",
       "    </tr>\n",
       "    <tr>\n",
       "      <th>101</th>\n",
       "      <td>-2.311559</td>\n",
       "      <td>-0.849867</td>\n",
       "      <td>1</td>\n",
       "    </tr>\n",
       "    <tr>\n",
       "      <th>102</th>\n",
       "      <td>-0.992652</td>\n",
       "      <td>-0.918731</td>\n",
       "      <td>1</td>\n",
       "    </tr>\n",
       "    <tr>\n",
       "      <th>103</th>\n",
       "      <td>0.155075</td>\n",
       "      <td>-0.081466</td>\n",
       "      <td>1</td>\n",
       "    </tr>\n",
       "    <tr>\n",
       "      <th>104</th>\n",
       "      <td>-1.517426</td>\n",
       "      <td>1.292567</td>\n",
       "      <td>1</td>\n",
       "    </tr>\n",
       "    <tr>\n",
       "      <th>105</th>\n",
       "      <td>-0.324215</td>\n",
       "      <td>1.232234</td>\n",
       "      <td>1</td>\n",
       "    </tr>\n",
       "  </tbody>\n",
       "</table>\n",
       "<p>106 rows × 3 columns</p>\n",
       "</div>"
      ],
      "text/plain": [
       "     principal component1  principal component2  0\n",
       "0                2.691097             -1.335786  0\n",
       "1                1.015661              0.917819  0\n",
       "2                1.188745              0.334527  0\n",
       "3                2.654164              0.202501  0\n",
       "4                0.185358             -0.034405  0\n",
       "..                    ...                   ... ..\n",
       "101             -2.311559             -0.849867  1\n",
       "102             -0.992652             -0.918731  1\n",
       "103              0.155075             -0.081466  1\n",
       "104             -1.517426              1.292567  1\n",
       "105             -0.324215              1.232234  1\n",
       "\n",
       "[106 rows x 3 columns]"
      ]
     },
     "execution_count": 291,
     "metadata": {},
     "output_type": "execute_result"
    }
   ],
   "source": [
    "pd.concat([principalDf.loc[:, 'principal component1'], principalDf.loc[:, 'principal component2'], labelDF], axis=1)"
   ]
  },
  {
   "cell_type": "code",
   "execution_count": null,
   "metadata": {},
   "outputs": [],
   "source": []
  }
 ],
 "metadata": {
  "kernelspec": {
   "display_name": "Python 3",
   "language": "python",
   "name": "python3"
  },
  "language_info": {
   "codemirror_mode": {
    "name": "ipython",
    "version": 3
   },
   "file_extension": ".py",
   "mimetype": "text/x-python",
   "name": "python",
   "nbconvert_exporter": "python",
   "pygments_lexer": "ipython3",
   "version": "3.10.5"
  },
  "orig_nbformat": 4
 },
 "nbformat": 4,
 "nbformat_minor": 2
}
