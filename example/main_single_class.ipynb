{
 "cells": [
  {
   "cell_type": "code",
   "execution_count": 1,
   "metadata": {},
   "outputs": [],
   "source": [
    "from sklearn.preprocessing import StandardScaler, RobustScaler\n",
    "from mpl_toolkits.mplot3d import Axes3D \n",
    "import matplotlib.pyplot as plt\n",
    "from dataAnalyzer import *\n",
    "from private_tool import *\n",
    "from dataHandler import *\n",
    "from numpy import array\n",
    "import pandas as pd\n"
   ]
  },
  {
   "cell_type": "code",
   "execution_count": 2,
   "metadata": {},
   "outputs": [],
   "source": [
    "experimentNum = 9\n",
    "experimentIdx = 4\n",
    "Experiments = [MotorImageryDataset(parentDirectory(dir=currDir, separator=\"\\\\\", n=1)+'/bcicompetitionIV2a/A0'+str(i+1)+'T.npz') for i in range(experimentNum)]"
   ]
  },
  {
   "cell_type": "code",
   "execution_count": 3,
   "metadata": {},
   "outputs": [],
   "source": [
    "# [7, 9, 10, 11]\n",
    "channels = [i for i in range(1, 23)]\n",
    "\n",
    "samplingRate = 250 #Hz\n",
    "trialsByClasses = array([i.get_trials_by_classes(channels=channels) for i in Experiments])"
   ]
  },
  {
   "cell_type": "code",
   "execution_count": 4,
   "metadata": {},
   "outputs": [
    {
     "data": {
      "text/plain": [
       "69"
      ]
     },
     "execution_count": 4,
     "metadata": {},
     "output_type": "execute_result"
    }
   ],
   "source": [
    "len(trialsByClasses[0][\"left\"][0])"
   ]
  },
  {
   "cell_type": "code",
   "execution_count": 5,
   "metadata": {},
   "outputs": [
    {
     "data": {
      "text/plain": [
       "(22, 22)"
      ]
     },
     "execution_count": 5,
     "metadata": {},
     "output_type": "execute_result"
    }
   ],
   "source": [
    "channelNum = len(channels)\n",
    "m = len(trialsByClasses[0][\"left\"])\n",
    "channelNum, m"
   ]
  },
  {
   "cell_type": "code",
   "execution_count": 6,
   "metadata": {},
   "outputs": [],
   "source": [
    "bandpassedTrialsByClasses = [{i:[[] for _ in range(channelNum)] for i in j.mi_types.values()} for j in Experiments]\n",
    "for k in range(experimentNum):\n",
    "    for key in trialsByClasses[k].keys():\n",
    "        for i in range(channelNum):\n",
    "            bandpassedTrialsByClasses[k][key][i] = np.array([bandpass_filter(data=trialsByClasses[k][key][i][j], \n",
    "                                                                sample_rate=samplingRate, \n",
    "                                                                cutoff_low=5, \n",
    "                                                                cutoff_high=50)\\\n",
    "                                                for j in range(len(trialsByClasses[k][key][i]))])"
   ]
  },
  {
   "cell_type": "code",
   "execution_count": 7,
   "metadata": {},
   "outputs": [],
   "source": [
    "# bandpassedTrialsByClasses[2][\"left\"][2].shape"
   ]
  },
  {
   "cell_type": "code",
   "execution_count": null,
   "metadata": {},
   "outputs": [],
   "source": []
  },
  {
   "cell_type": "code",
   "execution_count": 8,
   "metadata": {},
   "outputs": [
    {
     "name": "stderr",
     "output_type": "stream",
     "text": [
      "C:\\Users\\jihun\\AppData\\Local\\Temp\\ipykernel_7580\\3323506164.py:3: VisibleDeprecationWarning: Creating an ndarray from ragged nested sequences (which is a list-or-tuple of lists-or-tuples-or ndarrays with different lengths or shapes) is deprecated. If you meant to do this, you must specify 'dtype=object' when creating the ndarray.\n",
      "  bandpassedTrialsByClasses = {key:array([[bandpassedTrialsByClasses[i][key][j] for j in range(channelNum)] for i in range(experimentNum)]) for key in Experiments[0].mi_types.values()}\n"
     ]
    }
   ],
   "source": [
    "# 현재 상태는 experiment - class - channel - trial - signal\n",
    "# class - experiment - trial - channel - signal로 수정하자\n",
    "bandpassedTrialsByClasses = {key:array([[bandpassedTrialsByClasses[i][key][j] for j in range(channelNum)] for i in range(experimentNum)]) for key in Experiments[0].mi_types.values()}\n",
    "# bandpassedTrialsByClasses[\"left\"][8][0].shape\n",
    "# i: experiment\n",
    "# j: trial"
   ]
  },
  {
   "cell_type": "code",
   "execution_count": 9,
   "metadata": {},
   "outputs": [],
   "source": [
    "minTrialsNum = sorted([len(bandpassedTrialsByClasses[\"left\"][i][0]) for i in range(experimentNum)])[0]\n",
    "bandpassedTrialsByClasses = {i:[bandpassedTrialsByClasses[i][j] for j in range(experimentNum)] for i in Experiments[0].mi_types.values()}"
   ]
  },
  {
   "cell_type": "code",
   "execution_count": 10,
   "metadata": {},
   "outputs": [],
   "source": [
    "left_csp_filter = CSP_filter(len(bandpassedTrialsByClasses[\"left\"][experimentIdx]), bandpassedTrialsByClasses[\"left\"][experimentIdx])\n",
    "right_csp_filter = CSP_filter(len(bandpassedTrialsByClasses[\"right\"][experimentIdx]), bandpassedTrialsByClasses[\"right\"][experimentIdx])\n",
    "tongue_csp_filter = CSP_filter(len(bandpassedTrialsByClasses[\"tongue\"][experimentIdx]), bandpassedTrialsByClasses[\"tongue\"][experimentIdx])\n",
    "foot_csp_filter = CSP_filter(len(bandpassedTrialsByClasses[\"foot\"][experimentIdx]), bandpassedTrialsByClasses[\"foot\"][experimentIdx])"
   ]
  },
  {
   "cell_type": "code",
   "execution_count": 11,
   "metadata": {},
   "outputs": [],
   "source": [
    "bandpassedTrials = {i:[] for i in Experiments[0].mi_types.values()}\n",
    "for i in Experiments[0].mi_types.values():\n",
    "    for j in range(len(bandpassedTrialsByClasses)):\n",
    "        bandpassedTrials[i]"
   ]
  },
  {
   "cell_type": "code",
   "execution_count": 12,
   "metadata": {},
   "outputs": [],
   "source": [
    "# CSP_passed_left_data = np.array([[bandpassedTrialsByClasses[i][j].T@left_csp_filter for j in range(minTrialsNum)] for i in range(experimentNum)])\n",
    "CSP_passed_left_data = [j.T@left_csp_filter for j in bandpassedTrialsByClasses[\"left\"][experimentIdx]]\n",
    "CSP_passed_right_data = [j.T@right_csp_filter for j in bandpassedTrialsByClasses[\"right\"][experimentIdx]]\n",
    "CSP_passed_tongue_data = [j.T@tongue_csp_filter for j in bandpassedTrialsByClasses[\"tongue\"][experimentIdx]]\n",
    "CSP_passed_foot_data = [j.T@foot_csp_filter for j in bandpassedTrialsByClasses[\"foot\"][experimentIdx]]"
   ]
  },
  {
   "cell_type": "code",
   "execution_count": 13,
   "metadata": {},
   "outputs": [
    {
     "data": {
      "text/plain": [
       "22"
      ]
     },
     "execution_count": 13,
     "metadata": {},
     "output_type": "execute_result"
    }
   ],
   "source": [
    "len(CSP_passed_left_data)"
   ]
  },
  {
   "cell_type": "code",
   "execution_count": 14,
   "metadata": {},
   "outputs": [],
   "source": [
    "# bandpassedTrialsByClasses[\"right\"][0][\"right\"][0]"
   ]
  },
  {
   "cell_type": "code",
   "execution_count": 15,
   "metadata": {},
   "outputs": [
    {
     "name": "stdout",
     "output_type": "stream",
     "text": [
      "(22, 1875, 63)\n"
     ]
    }
   ],
   "source": [
    "print(array(CSP_passed_left_data).shape)\n",
    "CSP_passed_left_data = [np.array([j.T for j in i]).T for i in CSP_passed_left_data]\n",
    "CSP_passed_right_data = [np.array([j.T for j in i]).T for i in CSP_passed_right_data]\n",
    "CSP_passed_tongue_data = [np.array([j.T for j in i]).T for i in CSP_passed_tongue_data]\n",
    "CSP_passed_foot_data = [np.array([j.T for j in i]).T for i in CSP_passed_foot_data]"
   ]
  },
  {
   "cell_type": "code",
   "execution_count": 16,
   "metadata": {},
   "outputs": [
    {
     "data": {
      "text/plain": [
       "(22, 63, 1875)"
      ]
     },
     "execution_count": 16,
     "metadata": {},
     "output_type": "execute_result"
    }
   ],
   "source": [
    "array(CSP_passed_left_data).shape"
   ]
  },
  {
   "cell_type": "code",
   "execution_count": 17,
   "metadata": {},
   "outputs": [],
   "source": [
    "CSP_passed_left_data = array([i.T for i in array(CSP_passed_left_data).T]).T\n",
    "CSP_passed_right_data = array([i.T for i in array(CSP_passed_right_data).T]).T\n",
    "CSP_passed_tongue_data = array([i.T for i in array(CSP_passed_tongue_data).T]).T\n",
    "CSP_passed_foot_data = array([i.T for i in array(CSP_passed_foot_data).T]).T"
   ]
  },
  {
   "cell_type": "code",
   "execution_count": 18,
   "metadata": {},
   "outputs": [],
   "source": [
    "from math import log\n",
    "m = 3\n",
    "\n",
    "leftVar = np.array([np.array([np.var(CSP_passed_left_data[i][j]) for j in range(channelNum)]) for i in range(minTrialsNum)])\n",
    "rightVar = np.array([np.array([np.var(CSP_passed_right_data[i][j]) for j in range(channelNum)]) for i in range(minTrialsNum)])\n",
    "tongueVar = np.array([np.array([np.var(CSP_passed_tongue_data[i][j]) for j in range(channelNum)]) for i in range(minTrialsNum)])\n",
    "footVar = np.array([np.array([np.var(CSP_passed_foot_data[i][j]) for j in range(channelNum)]) for i in range(minTrialsNum)])\n",
    "\n",
    "\n",
    "leftVarRatio = np.array([np.array([log(leftVar[i][j-m]/sum(leftVar[i])) for j in range(m*2)]) for i in range(minTrialsNum)])\n",
    "rightVarRatio = np.array([np.array([log(rightVar[i][j-m]/sum(rightVar[i])) for j in range(m*2)]) for i in range(minTrialsNum)])\n",
    "tongueVarRatio = np.array([np.array([log(tongueVar[i][j-m]/sum(tongueVar[i])) for j in range(m*2)]) for i in range(minTrialsNum)])\n",
    "footVarRatio = np.array([np.array([log(footVar[i][j-m]/sum(footVar[i])) for j in range(m*2)]) for i in range(minTrialsNum)])"
   ]
  },
  {
   "cell_type": "code",
   "execution_count": 19,
   "metadata": {},
   "outputs": [],
   "source": [
    "leftVarRatioDF = pd.DataFrame(leftVarRatio)\n",
    "rightVarRatioDF = pd.DataFrame(rightVarRatio)\n",
    "tongueVarRatioDF = pd.DataFrame(tongueVarRatio)\n",
    "footVarRatioDF = pd.DataFrame(footVarRatio)\n",
    "\n",
    "labelDF = pd.DataFrame([0]*minTrialsNum + [1]*minTrialsNum + [2]*minTrialsNum + [3]*minTrialsNum)"
   ]
  },
  {
   "cell_type": "code",
   "execution_count": 20,
   "metadata": {},
   "outputs": [
    {
     "data": {
      "text/html": [
       "<div>\n",
       "<style scoped>\n",
       "    .dataframe tbody tr th:only-of-type {\n",
       "        vertical-align: middle;\n",
       "    }\n",
       "\n",
       "    .dataframe tbody tr th {\n",
       "        vertical-align: top;\n",
       "    }\n",
       "\n",
       "    .dataframe thead th {\n",
       "        text-align: right;\n",
       "    }\n",
       "</style>\n",
       "<table border=\"1\" class=\"dataframe\">\n",
       "  <thead>\n",
       "    <tr style=\"text-align: right;\">\n",
       "      <th></th>\n",
       "      <th>0</th>\n",
       "      <th>1</th>\n",
       "      <th>2</th>\n",
       "      <th>3</th>\n",
       "      <th>4</th>\n",
       "      <th>5</th>\n",
       "      <th>target</th>\n",
       "    </tr>\n",
       "  </thead>\n",
       "  <tbody>\n",
       "    <tr>\n",
       "      <th>0</th>\n",
       "      <td>-3.204462</td>\n",
       "      <td>-3.278096</td>\n",
       "      <td>-3.546410</td>\n",
       "      <td>-2.934509</td>\n",
       "      <td>-2.889075</td>\n",
       "      <td>-2.795803</td>\n",
       "      <td>0</td>\n",
       "    </tr>\n",
       "    <tr>\n",
       "      <th>1</th>\n",
       "      <td>-3.102497</td>\n",
       "      <td>-3.058768</td>\n",
       "      <td>-3.523554</td>\n",
       "      <td>-3.077271</td>\n",
       "      <td>-2.976087</td>\n",
       "      <td>-2.847130</td>\n",
       "      <td>0</td>\n",
       "    </tr>\n",
       "    <tr>\n",
       "      <th>2</th>\n",
       "      <td>-3.055502</td>\n",
       "      <td>-3.055088</td>\n",
       "      <td>-3.666315</td>\n",
       "      <td>-3.131898</td>\n",
       "      <td>-3.052173</td>\n",
       "      <td>-2.931650</td>\n",
       "      <td>0</td>\n",
       "    </tr>\n",
       "    <tr>\n",
       "      <th>3</th>\n",
       "      <td>-3.048343</td>\n",
       "      <td>-3.115265</td>\n",
       "      <td>-3.437050</td>\n",
       "      <td>-3.108878</td>\n",
       "      <td>-3.065573</td>\n",
       "      <td>-2.993128</td>\n",
       "      <td>0</td>\n",
       "    </tr>\n",
       "    <tr>\n",
       "      <th>4</th>\n",
       "      <td>-3.160291</td>\n",
       "      <td>-3.115734</td>\n",
       "      <td>-3.255756</td>\n",
       "      <td>-3.030997</td>\n",
       "      <td>-2.960478</td>\n",
       "      <td>-2.933203</td>\n",
       "      <td>0</td>\n",
       "    </tr>\n",
       "    <tr>\n",
       "      <th>...</th>\n",
       "      <td>...</td>\n",
       "      <td>...</td>\n",
       "      <td>...</td>\n",
       "      <td>...</td>\n",
       "      <td>...</td>\n",
       "      <td>...</td>\n",
       "      <td>...</td>\n",
       "    </tr>\n",
       "    <tr>\n",
       "      <th>207</th>\n",
       "      <td>-3.197580</td>\n",
       "      <td>-3.225693</td>\n",
       "      <td>-3.566081</td>\n",
       "      <td>-3.005665</td>\n",
       "      <td>-2.928129</td>\n",
       "      <td>-2.832527</td>\n",
       "      <td>3</td>\n",
       "    </tr>\n",
       "    <tr>\n",
       "      <th>208</th>\n",
       "      <td>-3.070706</td>\n",
       "      <td>-3.111524</td>\n",
       "      <td>-3.493111</td>\n",
       "      <td>-3.046889</td>\n",
       "      <td>-2.974649</td>\n",
       "      <td>-2.904300</td>\n",
       "      <td>3</td>\n",
       "    </tr>\n",
       "    <tr>\n",
       "      <th>209</th>\n",
       "      <td>-3.199614</td>\n",
       "      <td>-3.208341</td>\n",
       "      <td>-3.510539</td>\n",
       "      <td>-2.999750</td>\n",
       "      <td>-2.890645</td>\n",
       "      <td>-2.777343</td>\n",
       "      <td>3</td>\n",
       "    </tr>\n",
       "    <tr>\n",
       "      <th>210</th>\n",
       "      <td>-3.160221</td>\n",
       "      <td>-3.215271</td>\n",
       "      <td>-3.553770</td>\n",
       "      <td>-2.902825</td>\n",
       "      <td>-2.850609</td>\n",
       "      <td>-2.797292</td>\n",
       "      <td>3</td>\n",
       "    </tr>\n",
       "    <tr>\n",
       "      <th>211</th>\n",
       "      <td>-3.147195</td>\n",
       "      <td>-3.055328</td>\n",
       "      <td>-3.510334</td>\n",
       "      <td>-3.012682</td>\n",
       "      <td>-2.972289</td>\n",
       "      <td>-2.902065</td>\n",
       "      <td>3</td>\n",
       "    </tr>\n",
       "  </tbody>\n",
       "</table>\n",
       "<p>212 rows × 7 columns</p>\n",
       "</div>"
      ],
      "text/plain": [
       "            0         1         2         3         4         5  target\n",
       "0   -3.204462 -3.278096 -3.546410 -2.934509 -2.889075 -2.795803       0\n",
       "1   -3.102497 -3.058768 -3.523554 -3.077271 -2.976087 -2.847130       0\n",
       "2   -3.055502 -3.055088 -3.666315 -3.131898 -3.052173 -2.931650       0\n",
       "3   -3.048343 -3.115265 -3.437050 -3.108878 -3.065573 -2.993128       0\n",
       "4   -3.160291 -3.115734 -3.255756 -3.030997 -2.960478 -2.933203       0\n",
       "..        ...       ...       ...       ...       ...       ...     ...\n",
       "207 -3.197580 -3.225693 -3.566081 -3.005665 -2.928129 -2.832527       3\n",
       "208 -3.070706 -3.111524 -3.493111 -3.046889 -2.974649 -2.904300       3\n",
       "209 -3.199614 -3.208341 -3.510539 -2.999750 -2.890645 -2.777343       3\n",
       "210 -3.160221 -3.215271 -3.553770 -2.902825 -2.850609 -2.797292       3\n",
       "211 -3.147195 -3.055328 -3.510334 -3.012682 -2.972289 -2.902065       3\n",
       "\n",
       "[212 rows x 7 columns]"
      ]
     },
     "execution_count": 20,
     "metadata": {},
     "output_type": "execute_result"
    }
   ],
   "source": [
    "VarRatioDF = pd.concat([leftVarRatioDF, rightVarRatioDF, tongueVarRatioDF, footVarRatioDF], axis=0)\n",
    "VarRatioDF = VarRatioDF.reset_index()\n",
    "VarRatioDF = pd.concat([VarRatioDF, labelDF], axis=1).iloc[:,1:]\n",
    "VarRatioDF.columns = [f\"{n}\" for n in range(m*2)] + [\"target\"]\n",
    "VarRatioDF"
   ]
  },
  {
   "cell_type": "code",
   "execution_count": 21,
   "metadata": {},
   "outputs": [
    {
     "data": {
      "text/html": [
       "<div>\n",
       "<style scoped>\n",
       "    .dataframe tbody tr th:only-of-type {\n",
       "        vertical-align: middle;\n",
       "    }\n",
       "\n",
       "    .dataframe tbody tr th {\n",
       "        vertical-align: top;\n",
       "    }\n",
       "\n",
       "    .dataframe thead th {\n",
       "        text-align: right;\n",
       "    }\n",
       "</style>\n",
       "<table border=\"1\" class=\"dataframe\">\n",
       "  <thead>\n",
       "    <tr style=\"text-align: right;\">\n",
       "      <th></th>\n",
       "      <th>0</th>\n",
       "      <th>1</th>\n",
       "      <th>2</th>\n",
       "      <th>3</th>\n",
       "      <th>4</th>\n",
       "      <th>5</th>\n",
       "    </tr>\n",
       "  </thead>\n",
       "  <tbody>\n",
       "    <tr>\n",
       "      <th>0</th>\n",
       "      <td>-1.585506</td>\n",
       "      <td>-1.520058</td>\n",
       "      <td>0.207519</td>\n",
       "      <td>1.450585</td>\n",
       "      <td>1.140547</td>\n",
       "      <td>1.464010</td>\n",
       "    </tr>\n",
       "    <tr>\n",
       "      <th>1</th>\n",
       "      <td>0.428679</td>\n",
       "      <td>1.487403</td>\n",
       "      <td>0.375116</td>\n",
       "      <td>-0.989192</td>\n",
       "      <td>-0.602234</td>\n",
       "      <td>0.421684</td>\n",
       "    </tr>\n",
       "    <tr>\n",
       "      <th>2</th>\n",
       "      <td>1.357022</td>\n",
       "      <td>1.537862</td>\n",
       "      <td>-0.671726</td>\n",
       "      <td>-1.922760</td>\n",
       "      <td>-2.126194</td>\n",
       "      <td>-1.294702</td>\n",
       "    </tr>\n",
       "    <tr>\n",
       "      <th>3</th>\n",
       "      <td>1.498442</td>\n",
       "      <td>0.712713</td>\n",
       "      <td>1.009441</td>\n",
       "      <td>-1.529349</td>\n",
       "      <td>-2.394580</td>\n",
       "      <td>-2.543164</td>\n",
       "    </tr>\n",
       "    <tr>\n",
       "      <th>4</th>\n",
       "      <td>-0.712958</td>\n",
       "      <td>0.706280</td>\n",
       "      <td>2.338838</td>\n",
       "      <td>-0.198383</td>\n",
       "      <td>-0.289597</td>\n",
       "      <td>-1.326235</td>\n",
       "    </tr>\n",
       "    <tr>\n",
       "      <th>...</th>\n",
       "      <td>...</td>\n",
       "      <td>...</td>\n",
       "      <td>...</td>\n",
       "      <td>...</td>\n",
       "      <td>...</td>\n",
       "      <td>...</td>\n",
       "    </tr>\n",
       "    <tr>\n",
       "      <th>207</th>\n",
       "      <td>-1.449569</td>\n",
       "      <td>-0.801507</td>\n",
       "      <td>0.063278</td>\n",
       "      <td>0.234543</td>\n",
       "      <td>0.358323</td>\n",
       "      <td>0.718236</td>\n",
       "    </tr>\n",
       "    <tr>\n",
       "      <th>208</th>\n",
       "      <td>1.056688</td>\n",
       "      <td>0.763999</td>\n",
       "      <td>0.598351</td>\n",
       "      <td>-0.469965</td>\n",
       "      <td>-0.573440</td>\n",
       "      <td>-0.739289</td>\n",
       "    </tr>\n",
       "    <tr>\n",
       "      <th>209</th>\n",
       "      <td>-1.489748</td>\n",
       "      <td>-0.563567</td>\n",
       "      <td>0.470552</td>\n",
       "      <td>0.335624</td>\n",
       "      <td>1.109096</td>\n",
       "      <td>1.838896</td>\n",
       "    </tr>\n",
       "    <tr>\n",
       "      <th>210</th>\n",
       "      <td>-0.711573</td>\n",
       "      <td>-0.658600</td>\n",
       "      <td>0.153552</td>\n",
       "      <td>1.992056</td>\n",
       "      <td>1.910995</td>\n",
       "      <td>1.433780</td>\n",
       "    </tr>\n",
       "    <tr>\n",
       "      <th>211</th>\n",
       "      <td>-0.454260</td>\n",
       "      <td>1.534578</td>\n",
       "      <td>0.472057</td>\n",
       "      <td>0.114618</td>\n",
       "      <td>-0.526174</td>\n",
       "      <td>-0.693910</td>\n",
       "    </tr>\n",
       "  </tbody>\n",
       "</table>\n",
       "<p>212 rows × 6 columns</p>\n",
       "</div>"
      ],
      "text/plain": [
       "            0         1         2         3         4         5\n",
       "0   -1.585506 -1.520058  0.207519  1.450585  1.140547  1.464010\n",
       "1    0.428679  1.487403  0.375116 -0.989192 -0.602234  0.421684\n",
       "2    1.357022  1.537862 -0.671726 -1.922760 -2.126194 -1.294702\n",
       "3    1.498442  0.712713  1.009441 -1.529349 -2.394580 -2.543164\n",
       "4   -0.712958  0.706280  2.338838 -0.198383 -0.289597 -1.326235\n",
       "..        ...       ...       ...       ...       ...       ...\n",
       "207 -1.449569 -0.801507  0.063278  0.234543  0.358323  0.718236\n",
       "208  1.056688  0.763999  0.598351 -0.469965 -0.573440 -0.739289\n",
       "209 -1.489748 -0.563567  0.470552  0.335624  1.109096  1.838896\n",
       "210 -0.711573 -0.658600  0.153552  1.992056  1.910995  1.433780\n",
       "211 -0.454260  1.534578  0.472057  0.114618 -0.526174 -0.693910\n",
       "\n",
       "[212 rows x 6 columns]"
      ]
     },
     "execution_count": 21,
     "metadata": {},
     "output_type": "execute_result"
    }
   ],
   "source": [
    "\n",
    "x = VarRatioDF.drop(['target'], axis=1).values \n",
    "y = VarRatioDF['target'].values # 종속변인 추출\n",
    "x = StandardScaler().fit_transform(x)\n",
    "pd.DataFrame(x)"
   ]
  },
  {
   "cell_type": "code",
   "execution_count": 22,
   "metadata": {},
   "outputs": [],
   "source": [
    "n_componunts = 3\n",
    "\n",
    "PCA = PrincipalComponuntAnalysis(n_componunts=n_componunts, data=x)\n",
    "principalDf = PCA.principalDf"
   ]
  },
  {
   "cell_type": "code",
   "execution_count": 23,
   "metadata": {},
   "outputs": [
    {
     "data": {
      "text/plain": [
       "0.8933650494235956"
      ]
     },
     "execution_count": 23,
     "metadata": {},
     "output_type": "execute_result"
    }
   ],
   "source": [
    "sum(PCA.explained_variance_ratio_())"
   ]
  },
  {
   "cell_type": "code",
   "execution_count": 24,
   "metadata": {},
   "outputs": [
    {
     "data": {
      "text/html": [
       "<div>\n",
       "<style scoped>\n",
       "    .dataframe tbody tr th:only-of-type {\n",
       "        vertical-align: middle;\n",
       "    }\n",
       "\n",
       "    .dataframe tbody tr th {\n",
       "        vertical-align: top;\n",
       "    }\n",
       "\n",
       "    .dataframe thead th {\n",
       "        text-align: right;\n",
       "    }\n",
       "</style>\n",
       "<table border=\"1\" class=\"dataframe\">\n",
       "  <thead>\n",
       "    <tr style=\"text-align: right;\">\n",
       "      <th></th>\n",
       "      <th>principal component1</th>\n",
       "      <th>principal component2</th>\n",
       "      <th>principal component3</th>\n",
       "      <th>0</th>\n",
       "    </tr>\n",
       "  </thead>\n",
       "  <tbody>\n",
       "    <tr>\n",
       "      <th>0</th>\n",
       "      <td>-3.186482</td>\n",
       "      <td>0.244376</td>\n",
       "      <td>-0.274475</td>\n",
       "      <td>0</td>\n",
       "    </tr>\n",
       "    <tr>\n",
       "      <th>1</th>\n",
       "      <td>1.372759</td>\n",
       "      <td>0.253375</td>\n",
       "      <td>0.371337</td>\n",
       "      <td>0</td>\n",
       "    </tr>\n",
       "    <tr>\n",
       "      <th>2</th>\n",
       "      <td>3.694996</td>\n",
       "      <td>-0.687409</td>\n",
       "      <td>-0.378734</td>\n",
       "      <td>0</td>\n",
       "    </tr>\n",
       "    <tr>\n",
       "      <th>3</th>\n",
       "      <td>3.916888</td>\n",
       "      <td>1.094111</td>\n",
       "      <td>-0.880589</td>\n",
       "      <td>0</td>\n",
       "    </tr>\n",
       "    <tr>\n",
       "      <th>4</th>\n",
       "      <td>0.793562</td>\n",
       "      <td>2.609001</td>\n",
       "      <td>-0.090634</td>\n",
       "      <td>0</td>\n",
       "    </tr>\n",
       "    <tr>\n",
       "      <th>...</th>\n",
       "      <td>...</td>\n",
       "      <td>...</td>\n",
       "      <td>...</td>\n",
       "      <td>...</td>\n",
       "    </tr>\n",
       "    <tr>\n",
       "      <th>207</th>\n",
       "      <td>-1.586662</td>\n",
       "      <td>0.141877</td>\n",
       "      <td>-0.716039</td>\n",
       "      <td>3</td>\n",
       "    </tr>\n",
       "    <tr>\n",
       "      <th>208</th>\n",
       "      <td>1.612707</td>\n",
       "      <td>0.543814</td>\n",
       "      <td>0.331543</td>\n",
       "      <td>3</td>\n",
       "    </tr>\n",
       "    <tr>\n",
       "      <th>209</th>\n",
       "      <td>-2.391187</td>\n",
       "      <td>0.371147</td>\n",
       "      <td>-0.226398</td>\n",
       "      <td>3</td>\n",
       "    </tr>\n",
       "    <tr>\n",
       "      <th>210</th>\n",
       "      <td>-3.017787</td>\n",
       "      <td>0.143676</td>\n",
       "      <td>1.162434</td>\n",
       "      <td>3</td>\n",
       "    </tr>\n",
       "    <tr>\n",
       "      <th>211</th>\n",
       "      <td>0.953044</td>\n",
       "      <td>0.778155</td>\n",
       "      <td>0.737876</td>\n",
       "      <td>3</td>\n",
       "    </tr>\n",
       "  </tbody>\n",
       "</table>\n",
       "<p>212 rows × 4 columns</p>\n",
       "</div>"
      ],
      "text/plain": [
       "     principal component1  principal component2  principal component3  0\n",
       "0               -3.186482              0.244376             -0.274475  0\n",
       "1                1.372759              0.253375              0.371337  0\n",
       "2                3.694996             -0.687409             -0.378734  0\n",
       "3                3.916888              1.094111             -0.880589  0\n",
       "4                0.793562              2.609001             -0.090634  0\n",
       "..                    ...                   ...                   ... ..\n",
       "207             -1.586662              0.141877             -0.716039  3\n",
       "208              1.612707              0.543814              0.331543  3\n",
       "209             -2.391187              0.371147             -0.226398  3\n",
       "210             -3.017787              0.143676              1.162434  3\n",
       "211              0.953044              0.778155              0.737876  3\n",
       "\n",
       "[212 rows x 4 columns]"
      ]
     },
     "execution_count": 24,
     "metadata": {},
     "output_type": "execute_result"
    }
   ],
   "source": [
    "pd.concat([principalDf, labelDF], axis=1)"
   ]
  },
  {
   "cell_type": "code",
   "execution_count": 25,
   "metadata": {},
   "outputs": [],
   "source": [
    "# import matplotlib.pyplot as plt\n",
    "\n",
    "# fig = plt.figure(figsize = (8, 8))\n",
    "# ax = fig.add_subplot(1, 1, 1)\n",
    "# ax.set_xlabel('Principal componunt 1', fontsize = 15)\n",
    "# ax.set_ylabel('Principal componunt 2', fontsize = 15)\n",
    "# ax.set_title('1 componunt PCA', fontsize=20)\n",
    "\n",
    "# targets = [0, 1, 2, 3]\n",
    "# colors = ['r', 'g', 'b', 'purple']\n",
    "# for target, color in zip(targets,colors):\n",
    "#     indicesToKeep = VarRatioDF['target'] == target\n",
    "#     ax.scatter(principalDf.loc[indicesToKeep, 'principal componunt1']\n",
    "#                , principalDf.loc[indicesToKeep, 'principal componunt3']\n",
    "#                , c = color\n",
    "#                , s = 50, alpha=0.5)\n",
    "# ax.legend(targets)\n",
    "# ax.grid()"
   ]
  },
  {
   "cell_type": "code",
   "execution_count": 26,
   "metadata": {},
   "outputs": [],
   "source": [
    "# last_data = pd.concat([principalDf.loc[:, 'principal componunt1'], \n",
    "#     principalDf.loc[:, 'principal componunt2'], \n",
    "#     labelDF], axis=1)\n",
    "\n",
    "# last_data.columns = ['principal componunt1', 'principal componunt2', 'label']           "
   ]
  },
  {
   "cell_type": "code",
   "execution_count": null,
   "metadata": {},
   "outputs": [],
   "source": []
  },
  {
   "cell_type": "code",
   "execution_count": 27,
   "metadata": {},
   "outputs": [
    {
     "name": "stdout",
     "output_type": "stream",
     "text": [
      "Index(['principal componunt1', 'principal componunt2', 'principal componunt3',\n",
      "       'label'],\n",
      "      dtype='object')\n"
     ]
    }
   ],
   "source": [
    "# # 데이터를 DataFrame으로 생성\n",
    "df = pd.concat([principalDf, labelDF], axis=1)\n",
    "df.columns = [f\"principal componunt{i+1}\" for i in range(n_componunts)]+[\"label\"]\n",
    "print(df.columns)\n",
    "\n",
    "# # 3D scatter plot 그리기\n",
    "# fig = plt.figure()\n",
    "# ax = fig.add_subplot(111, projection='3d')\n",
    "\n",
    "# # 클래스별로 색상을 다르게 설정\n",
    "# colors = ['r', 'g', 'b', 'c']\n",
    "# for i in range(4):  # 클래스 개수에 맞게 범위 설정\n",
    "#     subset = df[df['label'] == i]\n",
    "#     ax.scatter(subset['principal componunt1'], subset['principal componunt2'], subset['principal componunt3'], c=colors[i], label=f'Class {i}')\n",
    "\n",
    "# ax.set_xlabel('Principal componunt 1')\n",
    "# ax.set_ylabel('Principal componunt 2')\n",
    "# ax.set_zlabel('Principal componunt 3')\n",
    "# ax.set_title('3D Scatter Plot of Principal componunts')\n",
    "# ax.legend()\n",
    "# plt.show()"
   ]
  },
  {
   "cell_type": "code",
   "execution_count": 28,
   "metadata": {},
   "outputs": [],
   "source": [
    "import numpy as np\n",
    "np.save(\"./dataframe\", df)"
   ]
  },
  {
   "cell_type": "code",
   "execution_count": 29,
   "metadata": {},
   "outputs": [
    {
     "name": "stderr",
     "output_type": "stream",
     "text": [
      "c:\\Users\\jihun\\AppData\\Local\\Programs\\Python\\Python310\\lib\\site-packages\\sklearn\\utils\\validation.py:1111: DataConversionWarning: A column-vector y was passed when a 1d array was expected. Please change the shape of y to (n_samples, ), for example using ravel().\n",
      "  y = column_or_1d(y, warn=True)\n"
     ]
    }
   ],
   "source": [
    "from dataAnalyzer import *\n",
    "LDA_DF = pd.DataFrame(lda(principalDf, labelDF, 3))"
   ]
  },
  {
   "cell_type": "code",
   "execution_count": 30,
   "metadata": {},
   "outputs": [
    {
     "data": {
      "image/png": "[encoded data removed]",
      "text/plain": [
       "<Figure size 640x480 with 1 Axes>"
      ]
     },
     "metadata": {},
     "output_type": "display_data"
    }
   ],
   "source": [
    "LDA_DF = pd.concat([LDA_DF, labelDF], axis=1)\n",
    "LDA_DF.columns = [f\"axis{i+1}\" for i in range(n_componunts)]+[\"label\"]\n",
    "\n",
    "# 3D scatter plot 그리기\n",
    "fig = plt.figure()\n",
    "ax = fig.add_subplot(111, projection='3d')\n",
    "\n",
    "# 클래스별로 색상을 다르게 설정\n",
    "colors = ['r', 'g', 'b', 'c']\n",
    "for i in range(4):  # 클래스 개수에 맞게 범위 설정\n",
    "    subset = LDA_DF[LDA_DF['label'] == i]\n",
    "    ax.scatter(subset['axis1'], subset['axis2'], subset['axis3'], c=colors[i], label=f'Class {i}')\n",
    "\n",
    "ax.set_xlabel('axis1')\n",
    "ax.set_ylabel('axis2')\n",
    "ax.set_zlabel('axis3')\n",
    "ax.set_title('3D Scatter Plot of Principal componunts')\n",
    "ax.legend()\n",
    "plt.show()"
   ]
  },
  {
   "cell_type": "code",
   "execution_count": null,
   "metadata": {},
   "outputs": [],
   "source": []
  }
 ],
 "metadata": {
  "kernelspec": {
   "display_name": "Python 3",
   "language": "python",
   "name": "python3"
  },
  "language_info": {
   "codemirror_mode": {
    "name": "ipython",
    "version": 3
   },
   "file_extension": ".py",
   "mimetype": "text/x-python",
   "name": "python",
   "nbconvert_exporter": "python",
   "pygments_lexer": "ipython3",
   "version": "3.10.5"
  },
  "orig_nbformat": 4
 },
 "nbformat": 4,
 "nbformat_minor": 2
}
