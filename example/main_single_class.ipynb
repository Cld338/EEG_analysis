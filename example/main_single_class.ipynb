{
 "cells": [
  {
   "cell_type": "code",
   "execution_count": 1,
   "metadata": {},
   "outputs": [],
   "source": [
    "from sklearn.model_selection import cross_val_score, cross_validate\n",
    "from sklearn.preprocessing import StandardScaler, RobustScaler\n",
    "from sklearn.model_selection import GridSearchCV\n",
    "from mpl_toolkits.mplot3d import Axes3D \n",
    "import matplotlib.pyplot as plt\n",
    "import sklearn.metrics as mt\n",
    "from dataAnalyzer import *\n",
    "from private_tool import *\n",
    "from dataHandler import *\n",
    "import sklearn.svm as svm\n",
    "from numpy import array\n",
    "import pandas as pd\n",
    "import warnings"
   ]
  },
  {
   "cell_type": "code",
   "execution_count": 2,
   "metadata": {},
   "outputs": [],
   "source": [
    "warnings.filterwarnings('ignore')"
   ]
  },
  {
   "cell_type": "code",
   "execution_count": 3,
   "metadata": {},
   "outputs": [],
   "source": [
    "experimentNum = 9\n",
    "experimentIdx = 1\n",
    "Experiments = [MotorImageryDataset(parentDirectory(dir=currDir, separator=\"\\\\\", n=1)+'/bcicompetitionIV2a/A0'+str(i+1)+'T.npz') for i in range(experimentNum)]"
   ]
  },
  {
   "cell_type": "code",
   "execution_count": 4,
   "metadata": {},
   "outputs": [],
   "source": [
    "channels = list(range(25))\n",
    "samplingRate = 250 #Hz\n",
    "trialsByClasses = np.array([i.get_trials_by_classes(channels=channels) for i in Experiments])"
   ]
  },
  {
   "cell_type": "code",
   "execution_count": 5,
   "metadata": {},
   "outputs": [
    {
     "data": {
      "text/plain": [
       "69"
      ]
     },
     "execution_count": 5,
     "metadata": {},
     "output_type": "execute_result"
    }
   ],
   "source": [
    "len(trialsByClasses[0][\"left\"][0])"
   ]
  },
  {
   "cell_type": "code",
   "execution_count": 6,
   "metadata": {},
   "outputs": [
    {
     "data": {
      "text/plain": [
       "(25, 25)"
      ]
     },
     "execution_count": 6,
     "metadata": {},
     "output_type": "execute_result"
    }
   ],
   "source": [
    "channelNum = len(channels)\n",
    "m = len(trialsByClasses[0][\"left\"])\n",
    "channelNum, m"
   ]
  },
  {
   "cell_type": "code",
   "execution_count": 7,
   "metadata": {},
   "outputs": [],
   "source": [
    "bandpassedTrialsByClasses = [{i:[[] for _ in range(channelNum)] for i in j.mi_types.values()} for j in Experiments]\n",
    "for k in range(experimentNum):\n",
    "    for key in trialsByClasses[k].keys():\n",
    "        for i in range(channelNum):\n",
    "            bandpassedTrialsByClasses[k][key][i] = np.array([bandpass_filter(data=trialsByClasses[k][key][i][j], \n",
    "                                                                sample_rate=samplingRate, \n",
    "                                                                cutoff_low=8, \n",
    "                                                                cutoff_high=12)\\\n",
    "                                                for j in range(len(trialsByClasses[k][key][i]))])"
   ]
  },
  {
   "cell_type": "code",
   "execution_count": 8,
   "metadata": {},
   "outputs": [],
   "source": [
    "# 현재 상태는 experiment - class - channel - trial - signal\n",
    "# class - experiment - trial - channel - signal로 수정하자\n",
    "bandpassedTrialsByClasses = {key:array([[bandpassedTrialsByClasses[i][key][j] for j in range(channelNum)] for i in range(experimentNum)]) for key in Experiments[0].mi_types.values()}\n",
    "# bandpassedTrialsByClasses[\"left\"][8][0].shape\n",
    "# i: experiment\n",
    "# j: trial"
   ]
  },
  {
   "cell_type": "code",
   "execution_count": 21,
   "metadata": {},
   "outputs": [
    {
     "data": {
      "text/plain": [
       "49"
      ]
     },
     "execution_count": 21,
     "metadata": {},
     "output_type": "execute_result"
    }
   ],
   "source": [
    "minTrialsNum = sorted([sorted([len(bandpassedTrialsByClasses[\"left\"][i][0]) for i in range(experimentNum)])[0], sorted([len(bandpassedTrialsByClasses[\"right\"][i][0]) for i in range(experimentNum)])[0], sorted([len(bandpassedTrialsByClasses[\"tongue\"][i][0]) for i in range(experimentNum)])[0], sorted([len(bandpassedTrialsByClasses[\"foot\"][i][0]) for i in range(experimentNum)])[0]])[0]\n",
    "bandpassedTrialsByClasses = {i:[bandpassedTrialsByClasses[i][j] for j in range(experimentNum)] for i in Experiments[0].mi_types.values()}\n",
    "minTrialsNum"
   ]
  },
  {
   "cell_type": "code",
   "execution_count": 23,
   "metadata": {},
   "outputs": [],
   "source": [
    "left_csp_filter = CSP_filter(np.array([i[:minTrialsNum] for i in bandpassedTrialsByClasses[\"left\"][experimentIdx]]), np.array([j[:minTrialsNum] for i in [\"right\", \"tongue\", \"foot\"] for j in bandpassedTrialsByClasses[i][experimentIdx]]))\n",
    "right_csp_filter = CSP_filter(np.array([i[:minTrialsNum] for i in bandpassedTrialsByClasses[\"right\"][experimentIdx]]), np.array([j[:minTrialsNum] for i in [\"left\", \"right\", \"tongue\", \"foot\"] for j in bandpassedTrialsByClasses[i][experimentIdx]]))\n",
    "tongue_csp_filter = CSP_filter(np.array([i[:minTrialsNum] for i in bandpassedTrialsByClasses[\"tongue\"][experimentIdx]]), np.array([j[:minTrialsNum] for i in [\"left\", \"tongue\", \"foot\"] for j in bandpassedTrialsByClasses[i][experimentIdx]]))\n",
    "foot_csp_filter = CSP_filter(np.array([i[:minTrialsNum] for i in bandpassedTrialsByClasses[\"foot\"][experimentIdx]]), np.array([j[:minTrialsNum] for i in [\"left\", \"right\", \"tongue\"] for j in bandpassedTrialsByClasses[i][experimentIdx]]))"
   ]
  },
  {
   "cell_type": "code",
   "execution_count": 24,
   "metadata": {},
   "outputs": [],
   "source": [
    "bandpassedTrials = {i:[] for i in Experiments[0].mi_types.values()}\n",
    "for i in Experiments[0].mi_types.values():\n",
    "    for j in range(len(bandpassedTrialsByClasses)):\n",
    "        bandpassedTrials[i]"
   ]
  },
  {
   "cell_type": "code",
   "execution_count": 27,
   "metadata": {},
   "outputs": [],
   "source": [
    "# CSP_passed_left_data = np.array([[bandpassedTrialsByClasses[i][j].T@left_csp_filter for j in range(minTrialsNum)] for i in range(experimentNum)])\n",
    "CSP_passed_left_data = [j[:minTrialsNum].T@left_csp_filter for j in bandpassedTrialsByClasses[\"left\"][experimentIdx]]\n",
    "CSP_passed_right_data = [j[:minTrialsNum].T@right_csp_filter for j in bandpassedTrialsByClasses[\"right\"][experimentIdx]]\n",
    "CSP_passed_tongue_data = [j[:minTrialsNum].T@tongue_csp_filter for j in bandpassedTrialsByClasses[\"tongue\"][experimentIdx]]\n",
    "CSP_passed_foot_data = [j[:minTrialsNum].T@foot_csp_filter for j in bandpassedTrialsByClasses[\"foot\"][experimentIdx]]"
   ]
  },
  {
   "cell_type": "code",
   "execution_count": 28,
   "metadata": {},
   "outputs": [
    {
     "data": {
      "text/plain": [
       "25"
      ]
     },
     "execution_count": 28,
     "metadata": {},
     "output_type": "execute_result"
    }
   ],
   "source": [
    "len(CSP_passed_left_data)"
   ]
  },
  {
   "cell_type": "code",
   "execution_count": 29,
   "metadata": {},
   "outputs": [],
   "source": [
    "# bandpassedTrialsByClasses[\"right\"][0][\"right\"][0]"
   ]
  },
  {
   "cell_type": "code",
   "execution_count": 30,
   "metadata": {},
   "outputs": [
    {
     "name": "stdout",
     "output_type": "stream",
     "text": [
      "(25, 1875, 49)\n"
     ]
    }
   ],
   "source": [
    "print(array(CSP_passed_left_data).shape)\n",
    "CSP_passed_left_data = [np.array([j.T for j in i]).T for i in CSP_passed_left_data]\n",
    "CSP_passed_right_data = [np.array([j.T for j in i]).T for i in CSP_passed_right_data]\n",
    "CSP_passed_tongue_data = [np.array([j.T for j in i]).T for i in CSP_passed_tongue_data]\n",
    "CSP_passed_foot_data = [np.array([j.T for j in i]).T for i in CSP_passed_foot_data]"
   ]
  },
  {
   "cell_type": "code",
   "execution_count": 31,
   "metadata": {},
   "outputs": [
    {
     "data": {
      "text/plain": [
       "(25, 49, 1875)"
      ]
     },
     "execution_count": 31,
     "metadata": {},
     "output_type": "execute_result"
    }
   ],
   "source": [
    "array(CSP_passed_left_data).shape"
   ]
  },
  {
   "cell_type": "code",
   "execution_count": 32,
   "metadata": {},
   "outputs": [],
   "source": [
    "CSP_passed_left_data = array([i.T for i in array(CSP_passed_left_data).T]).T\n",
    "CSP_passed_right_data = array([i.T for i in array(CSP_passed_right_data).T]).T\n",
    "CSP_passed_tongue_data = array([i.T for i in array(CSP_passed_tongue_data).T]).T\n",
    "CSP_passed_foot_data = array([i.T for i in array(CSP_passed_foot_data).T]).T"
   ]
  },
  {
   "cell_type": "code",
   "execution_count": 33,
   "metadata": {},
   "outputs": [
    {
     "name": "stdout",
     "output_type": "stream",
     "text": [
      "49\n"
     ]
    }
   ],
   "source": [
    "from math import log\n",
    "m = 3\n",
    "print(minTrialsNum)\n",
    "\n",
    "leftVar = np.array([np.array([np.var(CSP_passed_left_data[i][j]) for j in range(channelNum)]) for i in range(minTrialsNum)])\n",
    "rightVar = np.array([np.array([np.var(CSP_passed_right_data[i][j]) for j in range(channelNum)]) for i in range(minTrialsNum)])\n",
    "tongueVar = np.array([np.array([np.var(CSP_passed_tongue_data[i][j]) for j in range(channelNum)]) for i in range(minTrialsNum)])\n",
    "footVar = np.array([np.array([np.var(CSP_passed_foot_data[i][j]) for j in range(channelNum)]) for i in range(minTrialsNum)])\n",
    "\n",
    "\n",
    "leftVarRatio = np.array([np.array([log(leftVar[i][j-m]/sum(leftVar[i])) for j in range(m*2)]) for i in range(minTrialsNum)])\n",
    "rightVarRatio = np.array([np.array([log(rightVar[i][j-m]/sum(rightVar[i])) for j in range(m*2)]) for i in range(minTrialsNum)])\n",
    "tongueVarRatio = np.array([np.array([log(tongueVar[i][j-m]/sum(tongueVar[i])) for j in range(m*2)]) for i in range(minTrialsNum)])\n",
    "footVarRatio = np.array([np.array([log(footVar[i][j-m]/sum(footVar[i])) for j in range(m*2)]) for i in range(minTrialsNum)])"
   ]
  },
  {
   "cell_type": "code",
   "execution_count": 34,
   "metadata": {},
   "outputs": [],
   "source": [
    "leftVarRatioDF = pd.DataFrame(leftVarRatio)\n",
    "rightVarRatioDF = pd.DataFrame(rightVarRatio)\n",
    "tongueVarRatioDF = pd.DataFrame(tongueVarRatio)\n",
    "footVarRatioDF = pd.DataFrame(footVarRatio)\n",
    "\n",
    "labelDF = pd.DataFrame([0]*minTrialsNum + [1]*minTrialsNum + [2]*minTrialsNum + [3]*minTrialsNum)"
   ]
  },
  {
   "cell_type": "code",
   "execution_count": 35,
   "metadata": {},
   "outputs": [
    {
     "data": {
      "text/html": [
       "<div>\n",
       "<style scoped>\n",
       "    .dataframe tbody tr th:only-of-type {\n",
       "        vertical-align: middle;\n",
       "    }\n",
       "\n",
       "    .dataframe tbody tr th {\n",
       "        vertical-align: top;\n",
       "    }\n",
       "\n",
       "    .dataframe thead th {\n",
       "        text-align: right;\n",
       "    }\n",
       "</style>\n",
       "<table border=\"1\" class=\"dataframe\">\n",
       "  <thead>\n",
       "    <tr style=\"text-align: right;\">\n",
       "      <th></th>\n",
       "      <th>0</th>\n",
       "      <th>1</th>\n",
       "      <th>2</th>\n",
       "      <th>3</th>\n",
       "      <th>4</th>\n",
       "      <th>5</th>\n",
       "      <th>target</th>\n",
       "    </tr>\n",
       "  </thead>\n",
       "  <tbody>\n",
       "    <tr>\n",
       "      <th>0</th>\n",
       "      <td>-3.762156</td>\n",
       "      <td>-3.189850</td>\n",
       "      <td>-3.537371</td>\n",
       "      <td>-3.122567</td>\n",
       "      <td>-3.208517</td>\n",
       "      <td>-3.115111</td>\n",
       "      <td>0</td>\n",
       "    </tr>\n",
       "    <tr>\n",
       "      <th>1</th>\n",
       "      <td>-4.030470</td>\n",
       "      <td>-3.363194</td>\n",
       "      <td>-3.545632</td>\n",
       "      <td>-3.072416</td>\n",
       "      <td>-3.362943</td>\n",
       "      <td>-3.130080</td>\n",
       "      <td>0</td>\n",
       "    </tr>\n",
       "    <tr>\n",
       "      <th>2</th>\n",
       "      <td>-4.124685</td>\n",
       "      <td>-3.064685</td>\n",
       "      <td>-3.570602</td>\n",
       "      <td>-3.126441</td>\n",
       "      <td>-3.333284</td>\n",
       "      <td>-3.198472</td>\n",
       "      <td>0</td>\n",
       "    </tr>\n",
       "    <tr>\n",
       "      <th>3</th>\n",
       "      <td>-4.150354</td>\n",
       "      <td>-3.388788</td>\n",
       "      <td>-3.890654</td>\n",
       "      <td>-3.099260</td>\n",
       "      <td>-3.220776</td>\n",
       "      <td>-3.036040</td>\n",
       "      <td>0</td>\n",
       "    </tr>\n",
       "    <tr>\n",
       "      <th>4</th>\n",
       "      <td>-4.327300</td>\n",
       "      <td>-2.914928</td>\n",
       "      <td>-3.620316</td>\n",
       "      <td>-3.028567</td>\n",
       "      <td>-3.343131</td>\n",
       "      <td>-3.075209</td>\n",
       "      <td>0</td>\n",
       "    </tr>\n",
       "    <tr>\n",
       "      <th>...</th>\n",
       "      <td>...</td>\n",
       "      <td>...</td>\n",
       "      <td>...</td>\n",
       "      <td>...</td>\n",
       "      <td>...</td>\n",
       "      <td>...</td>\n",
       "      <td>...</td>\n",
       "    </tr>\n",
       "    <tr>\n",
       "      <th>191</th>\n",
       "      <td>-4.246292</td>\n",
       "      <td>-3.314523</td>\n",
       "      <td>-3.646855</td>\n",
       "      <td>-3.168076</td>\n",
       "      <td>-3.503948</td>\n",
       "      <td>-3.227071</td>\n",
       "      <td>3</td>\n",
       "    </tr>\n",
       "    <tr>\n",
       "      <th>192</th>\n",
       "      <td>-4.170826</td>\n",
       "      <td>-3.019934</td>\n",
       "      <td>-3.453122</td>\n",
       "      <td>-3.094983</td>\n",
       "      <td>-3.341194</td>\n",
       "      <td>-3.187790</td>\n",
       "      <td>3</td>\n",
       "    </tr>\n",
       "    <tr>\n",
       "      <th>193</th>\n",
       "      <td>-4.312011</td>\n",
       "      <td>-2.828695</td>\n",
       "      <td>-3.652258</td>\n",
       "      <td>-2.913567</td>\n",
       "      <td>-3.323124</td>\n",
       "      <td>-3.058462</td>\n",
       "      <td>3</td>\n",
       "    </tr>\n",
       "    <tr>\n",
       "      <th>194</th>\n",
       "      <td>-3.743648</td>\n",
       "      <td>-3.189433</td>\n",
       "      <td>-3.770949</td>\n",
       "      <td>-3.057367</td>\n",
       "      <td>-3.379514</td>\n",
       "      <td>-3.129107</td>\n",
       "      <td>3</td>\n",
       "    </tr>\n",
       "    <tr>\n",
       "      <th>195</th>\n",
       "      <td>-4.062035</td>\n",
       "      <td>-3.429034</td>\n",
       "      <td>-3.749867</td>\n",
       "      <td>-3.101240</td>\n",
       "      <td>-3.388546</td>\n",
       "      <td>-3.147347</td>\n",
       "      <td>3</td>\n",
       "    </tr>\n",
       "  </tbody>\n",
       "</table>\n",
       "<p>196 rows × 7 columns</p>\n",
       "</div>"
      ],
      "text/plain": [
       "            0         1         2         3         4         5  target\n",
       "0   -3.762156 -3.189850 -3.537371 -3.122567 -3.208517 -3.115111       0\n",
       "1   -4.030470 -3.363194 -3.545632 -3.072416 -3.362943 -3.130080       0\n",
       "2   -4.124685 -3.064685 -3.570602 -3.126441 -3.333284 -3.198472       0\n",
       "3   -4.150354 -3.388788 -3.890654 -3.099260 -3.220776 -3.036040       0\n",
       "4   -4.327300 -2.914928 -3.620316 -3.028567 -3.343131 -3.075209       0\n",
       "..        ...       ...       ...       ...       ...       ...     ...\n",
       "191 -4.246292 -3.314523 -3.646855 -3.168076 -3.503948 -3.227071       3\n",
       "192 -4.170826 -3.019934 -3.453122 -3.094983 -3.341194 -3.187790       3\n",
       "193 -4.312011 -2.828695 -3.652258 -2.913567 -3.323124 -3.058462       3\n",
       "194 -3.743648 -3.189433 -3.770949 -3.057367 -3.379514 -3.129107       3\n",
       "195 -4.062035 -3.429034 -3.749867 -3.101240 -3.388546 -3.147347       3\n",
       "\n",
       "[196 rows x 7 columns]"
      ]
     },
     "execution_count": 35,
     "metadata": {},
     "output_type": "execute_result"
    }
   ],
   "source": [
    "VarRatioDF = pd.concat([leftVarRatioDF, rightVarRatioDF, tongueVarRatioDF, footVarRatioDF], axis=0)\n",
    "VarRatioDF = VarRatioDF.reset_index()\n",
    "VarRatioDF = pd.concat([VarRatioDF, labelDF], axis=1).iloc[:,1:]\n",
    "VarRatioDF.columns = [f\"{n}\" for n in range(m*2)] + [\"target\"]\n",
    "VarRatioDF"
   ]
  },
  {
   "cell_type": "code",
   "execution_count": 36,
   "metadata": {},
   "outputs": [
    {
     "data": {
      "text/html": [
       "<div>\n",
       "<style scoped>\n",
       "    .dataframe tbody tr th:only-of-type {\n",
       "        vertical-align: middle;\n",
       "    }\n",
       "\n",
       "    .dataframe tbody tr th {\n",
       "        vertical-align: top;\n",
       "    }\n",
       "\n",
       "    .dataframe thead th {\n",
       "        text-align: right;\n",
       "    }\n",
       "</style>\n",
       "<table border=\"1\" class=\"dataframe\">\n",
       "  <thead>\n",
       "    <tr style=\"text-align: right;\">\n",
       "      <th></th>\n",
       "      <th>0</th>\n",
       "      <th>1</th>\n",
       "      <th>2</th>\n",
       "      <th>3</th>\n",
       "      <th>4</th>\n",
       "      <th>5</th>\n",
       "    </tr>\n",
       "  </thead>\n",
       "  <tbody>\n",
       "    <tr>\n",
       "      <th>0</th>\n",
       "      <td>1.761539</td>\n",
       "      <td>-0.638824</td>\n",
       "      <td>0.230292</td>\n",
       "      <td>-1.150707</td>\n",
       "      <td>1.162483</td>\n",
       "      <td>-0.396212</td>\n",
       "    </tr>\n",
       "    <tr>\n",
       "      <th>1</th>\n",
       "      <td>0.116594</td>\n",
       "      <td>-1.356044</td>\n",
       "      <td>0.167928</td>\n",
       "      <td>-0.491821</td>\n",
       "      <td>-0.742232</td>\n",
       "      <td>-0.642529</td>\n",
       "    </tr>\n",
       "    <tr>\n",
       "      <th>2</th>\n",
       "      <td>-0.461005</td>\n",
       "      <td>-0.120950</td>\n",
       "      <td>-0.020581</td>\n",
       "      <td>-1.201597</td>\n",
       "      <td>-0.376408</td>\n",
       "      <td>-1.767929</td>\n",
       "    </tr>\n",
       "    <tr>\n",
       "      <th>3</th>\n",
       "      <td>-0.618376</td>\n",
       "      <td>-1.461942</td>\n",
       "      <td>-2.436805</td>\n",
       "      <td>-0.844506</td>\n",
       "      <td>1.011271</td>\n",
       "      <td>0.904923</td>\n",
       "    </tr>\n",
       "    <tr>\n",
       "      <th>4</th>\n",
       "      <td>-1.703172</td>\n",
       "      <td>0.498675</td>\n",
       "      <td>-0.395895</td>\n",
       "      <td>0.084264</td>\n",
       "      <td>-0.497866</td>\n",
       "      <td>0.260389</td>\n",
       "    </tr>\n",
       "    <tr>\n",
       "      <th>...</th>\n",
       "      <td>...</td>\n",
       "      <td>...</td>\n",
       "      <td>...</td>\n",
       "      <td>...</td>\n",
       "      <td>...</td>\n",
       "      <td>...</td>\n",
       "    </tr>\n",
       "    <tr>\n",
       "      <th>191</th>\n",
       "      <td>-1.206541</td>\n",
       "      <td>-1.154668</td>\n",
       "      <td>-0.596251</td>\n",
       "      <td>-1.748596</td>\n",
       "      <td>-2.481400</td>\n",
       "      <td>-2.238535</td>\n",
       "    </tr>\n",
       "    <tr>\n",
       "      <th>192</th>\n",
       "      <td>-0.743884</td>\n",
       "      <td>0.064209</td>\n",
       "      <td>0.866328</td>\n",
       "      <td>-0.788312</td>\n",
       "      <td>-0.473968</td>\n",
       "      <td>-1.592150</td>\n",
       "    </tr>\n",
       "    <tr>\n",
       "      <th>193</th>\n",
       "      <td>-1.609445</td>\n",
       "      <td>0.855468</td>\n",
       "      <td>-0.637041</td>\n",
       "      <td>1.595121</td>\n",
       "      <td>-0.251093</td>\n",
       "      <td>0.535968</td>\n",
       "    </tr>\n",
       "    <tr>\n",
       "      <th>194</th>\n",
       "      <td>1.875006</td>\n",
       "      <td>-0.637101</td>\n",
       "      <td>-1.533099</td>\n",
       "      <td>-0.294115</td>\n",
       "      <td>-0.946610</td>\n",
       "      <td>-0.626504</td>\n",
       "    </tr>\n",
       "    <tr>\n",
       "      <th>195</th>\n",
       "      <td>-0.076918</td>\n",
       "      <td>-1.628462</td>\n",
       "      <td>-1.373935</td>\n",
       "      <td>-0.870509</td>\n",
       "      <td>-1.058012</td>\n",
       "      <td>-0.926655</td>\n",
       "    </tr>\n",
       "  </tbody>\n",
       "</table>\n",
       "<p>196 rows × 6 columns</p>\n",
       "</div>"
      ],
      "text/plain": [
       "            0         1         2         3         4         5\n",
       "0    1.761539 -0.638824  0.230292 -1.150707  1.162483 -0.396212\n",
       "1    0.116594 -1.356044  0.167928 -0.491821 -0.742232 -0.642529\n",
       "2   -0.461005 -0.120950 -0.020581 -1.201597 -0.376408 -1.767929\n",
       "3   -0.618376 -1.461942 -2.436805 -0.844506  1.011271  0.904923\n",
       "4   -1.703172  0.498675 -0.395895  0.084264 -0.497866  0.260389\n",
       "..        ...       ...       ...       ...       ...       ...\n",
       "191 -1.206541 -1.154668 -0.596251 -1.748596 -2.481400 -2.238535\n",
       "192 -0.743884  0.064209  0.866328 -0.788312 -0.473968 -1.592150\n",
       "193 -1.609445  0.855468 -0.637041  1.595121 -0.251093  0.535968\n",
       "194  1.875006 -0.637101 -1.533099 -0.294115 -0.946610 -0.626504\n",
       "195 -0.076918 -1.628462 -1.373935 -0.870509 -1.058012 -0.926655\n",
       "\n",
       "[196 rows x 6 columns]"
      ]
     },
     "execution_count": 36,
     "metadata": {},
     "output_type": "execute_result"
    }
   ],
   "source": [
    "\n",
    "x = VarRatioDF.drop(['target'], axis=1).values \n",
    "y = VarRatioDF['target'].values # 종속변인 추출\n",
    "x = StandardScaler().fit_transform(x)\n",
    "pd.DataFrame(x)"
   ]
  },
  {
   "cell_type": "code",
   "execution_count": 37,
   "metadata": {},
   "outputs": [],
   "source": [
    "n_componunts = 5\n",
    "PCA = PrincipalComponuntAnalysis(n_componunts=n_componunts, data=x)\n",
    "principalDF = PCA.principalDf"
   ]
  },
  {
   "cell_type": "code",
   "execution_count": 38,
   "metadata": {},
   "outputs": [
    {
     "data": {
      "text/plain": [
       "0.9771661101552165"
      ]
     },
     "execution_count": 38,
     "metadata": {},
     "output_type": "execute_result"
    }
   ],
   "source": [
    "sum(PCA.explained_variance_ratio_())"
   ]
  },
  {
   "cell_type": "code",
   "execution_count": 39,
   "metadata": {},
   "outputs": [
    {
     "data": {
      "text/html": [
       "<div>\n",
       "<style scoped>\n",
       "    .dataframe tbody tr th:only-of-type {\n",
       "        vertical-align: middle;\n",
       "    }\n",
       "\n",
       "    .dataframe tbody tr th {\n",
       "        vertical-align: top;\n",
       "    }\n",
       "\n",
       "    .dataframe thead th {\n",
       "        text-align: right;\n",
       "    }\n",
       "</style>\n",
       "<table border=\"1\" class=\"dataframe\">\n",
       "  <thead>\n",
       "    <tr style=\"text-align: right;\">\n",
       "      <th></th>\n",
       "      <th>principal component1</th>\n",
       "      <th>principal component2</th>\n",
       "      <th>principal component3</th>\n",
       "      <th>principal component4</th>\n",
       "      <th>principal component5</th>\n",
       "      <th>0</th>\n",
       "    </tr>\n",
       "  </thead>\n",
       "  <tbody>\n",
       "    <tr>\n",
       "      <th>0</th>\n",
       "      <td>-0.290983</td>\n",
       "      <td>0.298684</td>\n",
       "      <td>-1.557920</td>\n",
       "      <td>1.840690</td>\n",
       "      <td>-0.613680</td>\n",
       "      <td>0</td>\n",
       "    </tr>\n",
       "    <tr>\n",
       "      <th>1</th>\n",
       "      <td>1.221654</td>\n",
       "      <td>0.063546</td>\n",
       "      <td>-1.177898</td>\n",
       "      <td>-0.116045</td>\n",
       "      <td>0.401310</td>\n",
       "      <td>0</td>\n",
       "    </tr>\n",
       "    <tr>\n",
       "      <th>2</th>\n",
       "      <td>1.892673</td>\n",
       "      <td>0.622531</td>\n",
       "      <td>0.074832</td>\n",
       "      <td>0.524026</td>\n",
       "      <td>-0.499189</td>\n",
       "      <td>0</td>\n",
       "    </tr>\n",
       "    <tr>\n",
       "      <th>3</th>\n",
       "      <td>0.577002</td>\n",
       "      <td>-3.089357</td>\n",
       "      <td>-0.201469</td>\n",
       "      <td>1.021679</td>\n",
       "      <td>-0.013117</td>\n",
       "      <td>0</td>\n",
       "    </tr>\n",
       "    <tr>\n",
       "      <th>4</th>\n",
       "      <td>0.644592</td>\n",
       "      <td>-0.597518</td>\n",
       "      <td>1.288208</td>\n",
       "      <td>-1.042179</td>\n",
       "      <td>-0.234597</td>\n",
       "      <td>0</td>\n",
       "    </tr>\n",
       "    <tr>\n",
       "      <th>...</th>\n",
       "      <td>...</td>\n",
       "      <td>...</td>\n",
       "      <td>...</td>\n",
       "      <td>...</td>\n",
       "      <td>...</td>\n",
       "      <td>...</td>\n",
       "    </tr>\n",
       "    <tr>\n",
       "      <th>191</th>\n",
       "      <td>4.095393</td>\n",
       "      <td>0.437833</td>\n",
       "      <td>-0.135600</td>\n",
       "      <td>-0.173152</td>\n",
       "      <td>0.588610</td>\n",
       "      <td>3</td>\n",
       "    </tr>\n",
       "    <tr>\n",
       "      <th>192</th>\n",
       "      <td>1.528284</td>\n",
       "      <td>1.105685</td>\n",
       "      <td>0.046599</td>\n",
       "      <td>-0.302739</td>\n",
       "      <td>-0.745417</td>\n",
       "      <td>3</td>\n",
       "    </tr>\n",
       "    <tr>\n",
       "      <th>193</th>\n",
       "      <td>-0.496160</td>\n",
       "      <td>-0.768385</td>\n",
       "      <td>1.836534</td>\n",
       "      <td>-1.438561</td>\n",
       "      <td>0.522412</td>\n",
       "      <td>3</td>\n",
       "    </tr>\n",
       "    <tr>\n",
       "      <th>194</th>\n",
       "      <td>0.677020</td>\n",
       "      <td>0.042921</td>\n",
       "      <td>-0.626329</td>\n",
       "      <td>1.771696</td>\n",
       "      <td>1.891777</td>\n",
       "      <td>3</td>\n",
       "    </tr>\n",
       "    <tr>\n",
       "      <th>195</th>\n",
       "      <td>2.142822</td>\n",
       "      <td>-0.858924</td>\n",
       "      <td>-0.721252</td>\n",
       "      <td>0.595201</td>\n",
       "      <td>1.031136</td>\n",
       "      <td>3</td>\n",
       "    </tr>\n",
       "  </tbody>\n",
       "</table>\n",
       "<p>196 rows × 6 columns</p>\n",
       "</div>"
      ],
      "text/plain": [
       "     principal component1  principal component2  principal component3  \\\n",
       "0               -0.290983              0.298684             -1.557920   \n",
       "1                1.221654              0.063546             -1.177898   \n",
       "2                1.892673              0.622531              0.074832   \n",
       "3                0.577002             -3.089357             -0.201469   \n",
       "4                0.644592             -0.597518              1.288208   \n",
       "..                    ...                   ...                   ...   \n",
       "191              4.095393              0.437833             -0.135600   \n",
       "192              1.528284              1.105685              0.046599   \n",
       "193             -0.496160             -0.768385              1.836534   \n",
       "194              0.677020              0.042921             -0.626329   \n",
       "195              2.142822             -0.858924             -0.721252   \n",
       "\n",
       "     principal component4  principal component5  0  \n",
       "0                1.840690             -0.613680  0  \n",
       "1               -0.116045              0.401310  0  \n",
       "2                0.524026             -0.499189  0  \n",
       "3                1.021679             -0.013117  0  \n",
       "4               -1.042179             -0.234597  0  \n",
       "..                    ...                   ... ..  \n",
       "191             -0.173152              0.588610  3  \n",
       "192             -0.302739             -0.745417  3  \n",
       "193             -1.438561              0.522412  3  \n",
       "194              1.771696              1.891777  3  \n",
       "195              0.595201              1.031136  3  \n",
       "\n",
       "[196 rows x 6 columns]"
      ]
     },
     "execution_count": 39,
     "metadata": {},
     "output_type": "execute_result"
    }
   ],
   "source": [
    "pd.concat([principalDF, labelDF], axis=1)"
   ]
  },
  {
   "cell_type": "code",
   "execution_count": 40,
   "metadata": {},
   "outputs": [
    {
     "data": {
      "image/png": "[encoded data removed]",
      "text/plain": [
       "<Figure size 640x480 with 1 Axes>"
      ]
     },
     "metadata": {},
     "output_type": "display_data"
    },
    {
     "data": {
      "text/html": [
       "<div>\n",
       "<style scoped>\n",
       "    .dataframe tbody tr th:only-of-type {\n",
       "        vertical-align: middle;\n",
       "    }\n",
       "\n",
       "    .dataframe tbody tr th {\n",
       "        vertical-align: top;\n",
       "    }\n",
       "\n",
       "    .dataframe thead th {\n",
       "        text-align: right;\n",
       "    }\n",
       "</style>\n",
       "<table border=\"1\" class=\"dataframe\">\n",
       "  <thead>\n",
       "    <tr style=\"text-align: right;\">\n",
       "      <th></th>\n",
       "      <th>axis1</th>\n",
       "      <th>axis2</th>\n",
       "      <th>axis3</th>\n",
       "      <th>axis4</th>\n",
       "      <th>axis5</th>\n",
       "      <th>label</th>\n",
       "    </tr>\n",
       "  </thead>\n",
       "  <tbody>\n",
       "    <tr>\n",
       "      <th>0</th>\n",
       "      <td>-0.290983</td>\n",
       "      <td>0.298684</td>\n",
       "      <td>-1.557920</td>\n",
       "      <td>1.840690</td>\n",
       "      <td>-0.613680</td>\n",
       "      <td>0</td>\n",
       "    </tr>\n",
       "    <tr>\n",
       "      <th>1</th>\n",
       "      <td>1.221654</td>\n",
       "      <td>0.063546</td>\n",
       "      <td>-1.177898</td>\n",
       "      <td>-0.116045</td>\n",
       "      <td>0.401310</td>\n",
       "      <td>0</td>\n",
       "    </tr>\n",
       "    <tr>\n",
       "      <th>2</th>\n",
       "      <td>1.892673</td>\n",
       "      <td>0.622531</td>\n",
       "      <td>0.074832</td>\n",
       "      <td>0.524026</td>\n",
       "      <td>-0.499189</td>\n",
       "      <td>0</td>\n",
       "    </tr>\n",
       "    <tr>\n",
       "      <th>3</th>\n",
       "      <td>0.577002</td>\n",
       "      <td>-3.089357</td>\n",
       "      <td>-0.201469</td>\n",
       "      <td>1.021679</td>\n",
       "      <td>-0.013117</td>\n",
       "      <td>0</td>\n",
       "    </tr>\n",
       "    <tr>\n",
       "      <th>4</th>\n",
       "      <td>0.644592</td>\n",
       "      <td>-0.597518</td>\n",
       "      <td>1.288208</td>\n",
       "      <td>-1.042179</td>\n",
       "      <td>-0.234597</td>\n",
       "      <td>0</td>\n",
       "    </tr>\n",
       "    <tr>\n",
       "      <th>...</th>\n",
       "      <td>...</td>\n",
       "      <td>...</td>\n",
       "      <td>...</td>\n",
       "      <td>...</td>\n",
       "      <td>...</td>\n",
       "      <td>...</td>\n",
       "    </tr>\n",
       "    <tr>\n",
       "      <th>191</th>\n",
       "      <td>4.095393</td>\n",
       "      <td>0.437833</td>\n",
       "      <td>-0.135600</td>\n",
       "      <td>-0.173152</td>\n",
       "      <td>0.588610</td>\n",
       "      <td>3</td>\n",
       "    </tr>\n",
       "    <tr>\n",
       "      <th>192</th>\n",
       "      <td>1.528284</td>\n",
       "      <td>1.105685</td>\n",
       "      <td>0.046599</td>\n",
       "      <td>-0.302739</td>\n",
       "      <td>-0.745417</td>\n",
       "      <td>3</td>\n",
       "    </tr>\n",
       "    <tr>\n",
       "      <th>193</th>\n",
       "      <td>-0.496160</td>\n",
       "      <td>-0.768385</td>\n",
       "      <td>1.836534</td>\n",
       "      <td>-1.438561</td>\n",
       "      <td>0.522412</td>\n",
       "      <td>3</td>\n",
       "    </tr>\n",
       "    <tr>\n",
       "      <th>194</th>\n",
       "      <td>0.677020</td>\n",
       "      <td>0.042921</td>\n",
       "      <td>-0.626329</td>\n",
       "      <td>1.771696</td>\n",
       "      <td>1.891777</td>\n",
       "      <td>3</td>\n",
       "    </tr>\n",
       "    <tr>\n",
       "      <th>195</th>\n",
       "      <td>2.142822</td>\n",
       "      <td>-0.858924</td>\n",
       "      <td>-0.721252</td>\n",
       "      <td>0.595201</td>\n",
       "      <td>1.031136</td>\n",
       "      <td>3</td>\n",
       "    </tr>\n",
       "  </tbody>\n",
       "</table>\n",
       "<p>196 rows × 6 columns</p>\n",
       "</div>"
      ],
      "text/plain": [
       "        axis1     axis2     axis3     axis4     axis5  label\n",
       "0   -0.290983  0.298684 -1.557920  1.840690 -0.613680      0\n",
       "1    1.221654  0.063546 -1.177898 -0.116045  0.401310      0\n",
       "2    1.892673  0.622531  0.074832  0.524026 -0.499189      0\n",
       "3    0.577002 -3.089357 -0.201469  1.021679 -0.013117      0\n",
       "4    0.644592 -0.597518  1.288208 -1.042179 -0.234597      0\n",
       "..        ...       ...       ...       ...       ...    ...\n",
       "191  4.095393  0.437833 -0.135600 -0.173152  0.588610      3\n",
       "192  1.528284  1.105685  0.046599 -0.302739 -0.745417      3\n",
       "193 -0.496160 -0.768385  1.836534 -1.438561  0.522412      3\n",
       "194  0.677020  0.042921 -0.626329  1.771696  1.891777      3\n",
       "195  2.142822 -0.858924 -0.721252  0.595201  1.031136      3\n",
       "\n",
       "[196 rows x 6 columns]"
      ]
     },
     "execution_count": 40,
     "metadata": {},
     "output_type": "execute_result"
    }
   ],
   "source": [
    "# 데이터를 DataFrame으로 생성\n",
    "df = pd.concat([principalDF, labelDF], axis=1)\n",
    "plotDF3D(df ,4)\n",
    "df"
   ]
  },
  {
   "cell_type": "code",
   "execution_count": 41,
   "metadata": {},
   "outputs": [],
   "source": [
    "LDA_DF = pd.concat([pd.DataFrame(LDATransform(principalDF, labelDF, 3, \"eigen\")), labelDF], axis=1)"
   ]
  },
  {
   "cell_type": "code",
   "execution_count": 42,
   "metadata": {},
   "outputs": [],
   "source": [
    "LDA_DF.columns = [f\"axis{i+1}\" for i in range(3)] + [\"label\"]"
   ]
  },
  {
   "cell_type": "code",
   "execution_count": 43,
   "metadata": {},
   "outputs": [],
   "source": [
    "scaler = StandardScaler()\n",
    "scaler.fit(LDA_DF.loc[:, :\"axis3\"])\n",
    "LDA_DF_Scaled = pd.concat([pd.DataFrame(scaler.transform(LDA_DF.loc[:, :\"axis3\"])), labelDF], axis=1)\n",
    "LDA_DF_Scaled.columns = [f\"axis{i+1}\" for i in range(3)] + [\"label\"]"
   ]
  },
  {
   "cell_type": "code",
   "execution_count": 44,
   "metadata": {},
   "outputs": [],
   "source": [
    "np.save(f\"./data/raw/dataframe_raw_{experimentIdx}\", LDA_DF)"
   ]
  },
  {
   "cell_type": "code",
   "execution_count": 45,
   "metadata": {},
   "outputs": [
    {
     "name": "stdout",
     "output_type": "stream",
     "text": [
      "교차검증 평균:  0.39333333333333337\n",
      "교차검증 평균:  0.39871794871794874\n"
     ]
    }
   ],
   "source": [
    "# SVM, kernel = 'linear'로 선형분리 진행\n",
    "svm_clf =svm.SVC(kernel = 'linear', random_state=100)\n",
    "\n",
    "# 교차검증\n",
    "scores = cross_val_score(svm_clf, LDA_DF_Scaled.loc[:, :\"axis3\"], labelDF, cv = 5)\n",
    "\n",
    "pd.DataFrame(cross_validate(svm_clf, LDA_DF_Scaled.loc[:, :\"axis3\"], labelDF, cv =5))\n",
    "\n",
    "print('교차검증 평균: ', scores.mean())\n",
    "\n",
    "# SVM, kernel = 'rbf'로 비선형분리 진행\n",
    "svm_clf = svm.SVC(kernel = 'rbf')\n",
    "\n",
    "# 교차검증\n",
    "scores = cross_val_score(svm_clf, LDA_DF_Scaled.loc[:, :\"axis3\"], labelDF, cv = 5)\n",
    "scores\n",
    "\n",
    "pd.DataFrame(cross_validate(svm_clf, LDA_DF_Scaled.loc[:, :\"axis3\"], labelDF, cv =5))\n",
    "\n",
    "print('교차검증 평균: ', scores.mean())"
   ]
  },
  {
   "cell_type": "code",
   "execution_count": null,
   "metadata": {},
   "outputs": [],
   "source": []
  }
 ],
 "metadata": {
  "kernelspec": {
   "display_name": "Python 3",
   "language": "python",
   "name": "python3"
  },
  "language_info": {
   "codemirror_mode": {
    "name": "ipython",
    "version": 3
   },
   "file_extension": ".py",
   "mimetype": "text/x-python",
   "name": "python",
   "nbconvert_exporter": "python",
   "pygments_lexer": "ipython3",
   "version": "3.10.5"
  },
  "orig_nbformat": 4
 },
 "nbformat": 4,
 "nbformat_minor": 2
}
