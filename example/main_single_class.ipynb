{
 "cells": [
  {
   "cell_type": "code",
   "execution_count": 229,
   "metadata": {},
   "outputs": [],
   "source": [
    "from sklearn.model_selection import cross_val_score, cross_validate\n",
    "from sklearn.preprocessing import StandardScaler, RobustScaler\n",
    "from sklearn.model_selection import GridSearchCV\n",
    "from mpl_toolkits.mplot3d import Axes3D \n",
    "import matplotlib.pyplot as plt\n",
    "import sklearn.metrics as mt\n",
    "from dataAnalyzer import *\n",
    "from private_tool import *\n",
    "from dataHandler import *\n",
    "import sklearn.svm as svm\n",
    "from numpy import array\n",
    "import pandas as pd\n",
    "import warnings"
   ]
  },
  {
   "cell_type": "code",
   "execution_count": 230,
   "metadata": {},
   "outputs": [],
   "source": [
    "warnings.filterwarnings('ignore')"
   ]
  },
  {
   "cell_type": "code",
   "execution_count": 231,
   "metadata": {},
   "outputs": [],
   "source": [
    "experimentNum = 9\n",
    "experimentIdx = 4\n",
    "Experiments = [MotorImageryDataset(parentDirectory(dir=currDir, separator=\"\\\\\", n=1)+'/bcicompetitionIV2a/A0'+str(i+1)+'T.npz') for i in range(experimentNum)]"
   ]
  },
  {
   "cell_type": "code",
   "execution_count": 232,
   "metadata": {},
   "outputs": [],
   "source": [
    "channels = [i for i in range(25)]\n",
    "samplingRate = 250 #Hz\n",
    "trialsByClasses = array([i.get_trials_by_classes(channels=channels) for i in Experiments])"
   ]
  },
  {
   "cell_type": "code",
   "execution_count": 233,
   "metadata": {},
   "outputs": [
    {
     "data": {
      "text/plain": [
       "69"
      ]
     },
     "execution_count": 233,
     "metadata": {},
     "output_type": "execute_result"
    }
   ],
   "source": [
    "len(trialsByClasses[0][\"left\"][0])"
   ]
  },
  {
   "cell_type": "code",
   "execution_count": 234,
   "metadata": {},
   "outputs": [
    {
     "data": {
      "text/plain": [
       "(25, 25)"
      ]
     },
     "execution_count": 234,
     "metadata": {},
     "output_type": "execute_result"
    }
   ],
   "source": [
    "channelNum = len(channels)\n",
    "m = len(trialsByClasses[0][\"left\"])\n",
    "channelNum, m"
   ]
  },
  {
   "cell_type": "code",
   "execution_count": 235,
   "metadata": {},
   "outputs": [],
   "source": [
    "bandpassedTrialsByClasses = [{i:[[] for _ in range(channelNum)] for i in j.mi_types.values()} for j in Experiments]\n",
    "for k in range(experimentNum):\n",
    "    for key in trialsByClasses[k].keys():\n",
    "        for i in range(channelNum):\n",
    "            bandpassedTrialsByClasses[k][key][i] = np.array([bandpass_filter(data=trialsByClasses[k][key][i][j], \n",
    "                                                                sample_rate=samplingRate, \n",
    "                                                                cutoff_low=5, \n",
    "                                                                cutoff_high=50)\\\n",
    "                                                for j in range(len(trialsByClasses[k][key][i]))])"
   ]
  },
  {
   "cell_type": "code",
   "execution_count": 236,
   "metadata": {},
   "outputs": [],
   "source": [
    "# bandpassedTrialsByClasses[2][\"left\"][2].shape"
   ]
  },
  {
   "cell_type": "code",
   "execution_count": null,
   "metadata": {},
   "outputs": [],
   "source": []
  },
  {
   "cell_type": "code",
   "execution_count": 237,
   "metadata": {},
   "outputs": [],
   "source": [
    "# 현재 상태는 experiment - class - channel - trial - signal\n",
    "# class - experiment - trial - channel - signal로 수정하자\n",
    "bandpassedTrialsByClasses = {key:array([[bandpassedTrialsByClasses[i][key][j] for j in range(channelNum)] for i in range(experimentNum)]) for key in Experiments[0].mi_types.values()}\n",
    "# bandpassedTrialsByClasses[\"left\"][8][0].shape\n",
    "# i: experiment\n",
    "# j: trial"
   ]
  },
  {
   "cell_type": "code",
   "execution_count": 238,
   "metadata": {},
   "outputs": [],
   "source": [
    "minTrialsNum = sorted([len(bandpassedTrialsByClasses[\"left\"][i][0]) for i in range(experimentNum)])[0]\n",
    "bandpassedTrialsByClasses = {i:[bandpassedTrialsByClasses[i][j] for j in range(experimentNum)] for i in Experiments[0].mi_types.values()}"
   ]
  },
  {
   "cell_type": "code",
   "execution_count": 239,
   "metadata": {},
   "outputs": [],
   "source": [
    "left_csp_filter = CSP_filter(len(bandpassedTrialsByClasses[\"left\"][experimentIdx]), bandpassedTrialsByClasses[\"left\"][experimentIdx])\n",
    "right_csp_filter = CSP_filter(len(bandpassedTrialsByClasses[\"right\"][experimentIdx]), bandpassedTrialsByClasses[\"right\"][experimentIdx])\n",
    "tongue_csp_filter = CSP_filter(len(bandpassedTrialsByClasses[\"tongue\"][experimentIdx]), bandpassedTrialsByClasses[\"tongue\"][experimentIdx])\n",
    "foot_csp_filter = CSP_filter(len(bandpassedTrialsByClasses[\"foot\"][experimentIdx]), bandpassedTrialsByClasses[\"foot\"][experimentIdx])"
   ]
  },
  {
   "cell_type": "code",
   "execution_count": 240,
   "metadata": {},
   "outputs": [],
   "source": [
    "bandpassedTrials = {i:[] for i in Experiments[0].mi_types.values()}\n",
    "for i in Experiments[0].mi_types.values():\n",
    "    for j in range(len(bandpassedTrialsByClasses)):\n",
    "        bandpassedTrials[i]"
   ]
  },
  {
   "cell_type": "code",
   "execution_count": 241,
   "metadata": {},
   "outputs": [],
   "source": [
    "# CSP_passed_left_data = np.array([[bandpassedTrialsByClasses[i][j].T@left_csp_filter for j in range(minTrialsNum)] for i in range(experimentNum)])\n",
    "CSP_passed_left_data = [j.T@left_csp_filter for j in bandpassedTrialsByClasses[\"left\"][experimentIdx]]\n",
    "CSP_passed_right_data = [j.T@right_csp_filter for j in bandpassedTrialsByClasses[\"right\"][experimentIdx]]\n",
    "CSP_passed_tongue_data = [j.T@tongue_csp_filter for j in bandpassedTrialsByClasses[\"tongue\"][experimentIdx]]\n",
    "CSP_passed_foot_data = [j.T@foot_csp_filter for j in bandpassedTrialsByClasses[\"foot\"][experimentIdx]]"
   ]
  },
  {
   "cell_type": "code",
   "execution_count": 242,
   "metadata": {},
   "outputs": [
    {
     "data": {
      "text/plain": [
       "25"
      ]
     },
     "execution_count": 242,
     "metadata": {},
     "output_type": "execute_result"
    }
   ],
   "source": [
    "len(CSP_passed_left_data)"
   ]
  },
  {
   "cell_type": "code",
   "execution_count": 243,
   "metadata": {},
   "outputs": [],
   "source": [
    "# bandpassedTrialsByClasses[\"right\"][0][\"right\"][0]"
   ]
  },
  {
   "cell_type": "code",
   "execution_count": 244,
   "metadata": {},
   "outputs": [
    {
     "name": "stdout",
     "output_type": "stream",
     "text": [
      "(25, 1875, 63)\n"
     ]
    }
   ],
   "source": [
    "print(array(CSP_passed_left_data).shape)\n",
    "CSP_passed_left_data = [np.array([j.T for j in i]).T for i in CSP_passed_left_data]\n",
    "CSP_passed_right_data = [np.array([j.T for j in i]).T for i in CSP_passed_right_data]\n",
    "CSP_passed_tongue_data = [np.array([j.T for j in i]).T for i in CSP_passed_tongue_data]\n",
    "CSP_passed_foot_data = [np.array([j.T for j in i]).T for i in CSP_passed_foot_data]"
   ]
  },
  {
   "cell_type": "code",
   "execution_count": 245,
   "metadata": {},
   "outputs": [
    {
     "data": {
      "text/plain": [
       "(25, 63, 1875)"
      ]
     },
     "execution_count": 245,
     "metadata": {},
     "output_type": "execute_result"
    }
   ],
   "source": [
    "array(CSP_passed_left_data).shape"
   ]
  },
  {
   "cell_type": "code",
   "execution_count": 246,
   "metadata": {},
   "outputs": [],
   "source": [
    "CSP_passed_left_data = array([i.T for i in array(CSP_passed_left_data).T]).T\n",
    "CSP_passed_right_data = array([i.T for i in array(CSP_passed_right_data).T]).T\n",
    "CSP_passed_tongue_data = array([i.T for i in array(CSP_passed_tongue_data).T]).T\n",
    "CSP_passed_foot_data = array([i.T for i in array(CSP_passed_foot_data).T]).T"
   ]
  },
  {
   "cell_type": "code",
   "execution_count": 247,
   "metadata": {},
   "outputs": [
    {
     "name": "stdout",
     "output_type": "stream",
     "text": [
      "63\n"
     ]
    }
   ],
   "source": [
    "from math import log\n",
    "m = 3\n",
    "print(len(CSP_passed_left_data))\n",
    "\n",
    "leftVar = np.array([np.array([np.var(CSP_passed_left_data[i][j]) for j in range(channelNum)]) for i in range(minTrialsNum)])\n",
    "rightVar = np.array([np.array([np.var(CSP_passed_right_data[i][j]) for j in range(channelNum)]) for i in range(minTrialsNum)])\n",
    "tongueVar = np.array([np.array([np.var(CSP_passed_tongue_data[i][j]) for j in range(channelNum)]) for i in range(minTrialsNum)])\n",
    "footVar = np.array([np.array([np.var(CSP_passed_foot_data[i][j]) for j in range(channelNum)]) for i in range(minTrialsNum)])\n",
    "\n",
    "\n",
    "leftVarRatio = np.array([np.array([log(leftVar[i][j-m]/sum(leftVar[i])) for j in range(m*2)]) for i in range(minTrialsNum)])\n",
    "rightVarRatio = np.array([np.array([log(rightVar[i][j-m]/sum(rightVar[i])) for j in range(m*2)]) for i in range(minTrialsNum)])\n",
    "tongueVarRatio = np.array([np.array([log(tongueVar[i][j-m]/sum(tongueVar[i])) for j in range(m*2)]) for i in range(minTrialsNum)])\n",
    "footVarRatio = np.array([np.array([log(footVar[i][j-m]/sum(footVar[i])) for j in range(m*2)]) for i in range(minTrialsNum)])"
   ]
  },
  {
   "cell_type": "code",
   "execution_count": 248,
   "metadata": {},
   "outputs": [],
   "source": [
    "leftVarRatioDF = pd.DataFrame(leftVarRatio)\n",
    "rightVarRatioDF = pd.DataFrame(rightVarRatio)\n",
    "tongueVarRatioDF = pd.DataFrame(tongueVarRatio)\n",
    "footVarRatioDF = pd.DataFrame(footVarRatio)\n",
    "\n",
    "labelDF = pd.DataFrame([0]*minTrialsNum + [1]*minTrialsNum + [2]*minTrialsNum + [3]*minTrialsNum)"
   ]
  },
  {
   "cell_type": "code",
   "execution_count": 249,
   "metadata": {},
   "outputs": [
    {
     "data": {
      "text/html": [
       "<div>\n",
       "<style scoped>\n",
       "    .dataframe tbody tr th:only-of-type {\n",
       "        vertical-align: middle;\n",
       "    }\n",
       "\n",
       "    .dataframe tbody tr th {\n",
       "        vertical-align: top;\n",
       "    }\n",
       "\n",
       "    .dataframe thead th {\n",
       "        text-align: right;\n",
       "    }\n",
       "</style>\n",
       "<table border=\"1\" class=\"dataframe\">\n",
       "  <thead>\n",
       "    <tr style=\"text-align: right;\">\n",
       "      <th></th>\n",
       "      <th>0</th>\n",
       "      <th>1</th>\n",
       "      <th>2</th>\n",
       "      <th>3</th>\n",
       "      <th>4</th>\n",
       "      <th>5</th>\n",
       "      <th>target</th>\n",
       "    </tr>\n",
       "  </thead>\n",
       "  <tbody>\n",
       "    <tr>\n",
       "      <th>0</th>\n",
       "      <td>-3.421152</td>\n",
       "      <td>-2.536799</td>\n",
       "      <td>-2.939862</td>\n",
       "      <td>-3.019234</td>\n",
       "      <td>-3.180999</td>\n",
       "      <td>-3.119417</td>\n",
       "      <td>0</td>\n",
       "    </tr>\n",
       "    <tr>\n",
       "      <th>1</th>\n",
       "      <td>-3.818872</td>\n",
       "      <td>-2.243407</td>\n",
       "      <td>-3.172515</td>\n",
       "      <td>-2.942016</td>\n",
       "      <td>-3.184317</td>\n",
       "      <td>-3.127724</td>\n",
       "      <td>0</td>\n",
       "    </tr>\n",
       "    <tr>\n",
       "      <th>2</th>\n",
       "      <td>-3.777463</td>\n",
       "      <td>-2.503529</td>\n",
       "      <td>-3.023081</td>\n",
       "      <td>-2.984156</td>\n",
       "      <td>-3.243622</td>\n",
       "      <td>-3.183651</td>\n",
       "      <td>0</td>\n",
       "    </tr>\n",
       "    <tr>\n",
       "      <th>3</th>\n",
       "      <td>-3.679155</td>\n",
       "      <td>-2.497401</td>\n",
       "      <td>-3.114380</td>\n",
       "      <td>-2.946782</td>\n",
       "      <td>-3.204353</td>\n",
       "      <td>-3.110865</td>\n",
       "      <td>0</td>\n",
       "    </tr>\n",
       "    <tr>\n",
       "      <th>4</th>\n",
       "      <td>-3.781104</td>\n",
       "      <td>-2.676327</td>\n",
       "      <td>-3.115687</td>\n",
       "      <td>-3.049064</td>\n",
       "      <td>-3.177323</td>\n",
       "      <td>-3.163738</td>\n",
       "      <td>0</td>\n",
       "    </tr>\n",
       "    <tr>\n",
       "      <th>...</th>\n",
       "      <td>...</td>\n",
       "      <td>...</td>\n",
       "      <td>...</td>\n",
       "      <td>...</td>\n",
       "      <td>...</td>\n",
       "      <td>...</td>\n",
       "      <td>...</td>\n",
       "    </tr>\n",
       "    <tr>\n",
       "      <th>207</th>\n",
       "      <td>-3.539019</td>\n",
       "      <td>-2.362719</td>\n",
       "      <td>-3.387453</td>\n",
       "      <td>-2.983615</td>\n",
       "      <td>-3.104612</td>\n",
       "      <td>-3.104596</td>\n",
       "      <td>3</td>\n",
       "    </tr>\n",
       "    <tr>\n",
       "      <th>208</th>\n",
       "      <td>-3.905729</td>\n",
       "      <td>-2.298080</td>\n",
       "      <td>-3.279209</td>\n",
       "      <td>-3.054010</td>\n",
       "      <td>-3.186066</td>\n",
       "      <td>-3.142487</td>\n",
       "      <td>3</td>\n",
       "    </tr>\n",
       "    <tr>\n",
       "      <th>209</th>\n",
       "      <td>-3.704005</td>\n",
       "      <td>-2.473664</td>\n",
       "      <td>-3.147647</td>\n",
       "      <td>-3.064016</td>\n",
       "      <td>-3.236888</td>\n",
       "      <td>-3.170324</td>\n",
       "      <td>3</td>\n",
       "    </tr>\n",
       "    <tr>\n",
       "      <th>210</th>\n",
       "      <td>-3.822086</td>\n",
       "      <td>-2.510794</td>\n",
       "      <td>-3.158161</td>\n",
       "      <td>-2.936987</td>\n",
       "      <td>-3.234727</td>\n",
       "      <td>-3.091373</td>\n",
       "      <td>3</td>\n",
       "    </tr>\n",
       "    <tr>\n",
       "      <th>211</th>\n",
       "      <td>-3.709485</td>\n",
       "      <td>-2.325441</td>\n",
       "      <td>-3.104523</td>\n",
       "      <td>-2.970752</td>\n",
       "      <td>-3.214215</td>\n",
       "      <td>-3.137634</td>\n",
       "      <td>3</td>\n",
       "    </tr>\n",
       "  </tbody>\n",
       "</table>\n",
       "<p>212 rows × 7 columns</p>\n",
       "</div>"
      ],
      "text/plain": [
       "            0         1         2         3         4         5  target\n",
       "0   -3.421152 -2.536799 -2.939862 -3.019234 -3.180999 -3.119417       0\n",
       "1   -3.818872 -2.243407 -3.172515 -2.942016 -3.184317 -3.127724       0\n",
       "2   -3.777463 -2.503529 -3.023081 -2.984156 -3.243622 -3.183651       0\n",
       "3   -3.679155 -2.497401 -3.114380 -2.946782 -3.204353 -3.110865       0\n",
       "4   -3.781104 -2.676327 -3.115687 -3.049064 -3.177323 -3.163738       0\n",
       "..        ...       ...       ...       ...       ...       ...     ...\n",
       "207 -3.539019 -2.362719 -3.387453 -2.983615 -3.104612 -3.104596       3\n",
       "208 -3.905729 -2.298080 -3.279209 -3.054010 -3.186066 -3.142487       3\n",
       "209 -3.704005 -2.473664 -3.147647 -3.064016 -3.236888 -3.170324       3\n",
       "210 -3.822086 -2.510794 -3.158161 -2.936987 -3.234727 -3.091373       3\n",
       "211 -3.709485 -2.325441 -3.104523 -2.970752 -3.214215 -3.137634       3\n",
       "\n",
       "[212 rows x 7 columns]"
      ]
     },
     "execution_count": 249,
     "metadata": {},
     "output_type": "execute_result"
    }
   ],
   "source": [
    "VarRatioDF = pd.concat([leftVarRatioDF, rightVarRatioDF, tongueVarRatioDF, footVarRatioDF], axis=0)\n",
    "VarRatioDF = VarRatioDF.reset_index()\n",
    "VarRatioDF = pd.concat([VarRatioDF, labelDF], axis=1).iloc[:,1:]\n",
    "VarRatioDF.columns = [f\"{n}\" for n in range(m*2)] + [\"target\"]\n",
    "VarRatioDF"
   ]
  },
  {
   "cell_type": "code",
   "execution_count": 250,
   "metadata": {},
   "outputs": [
    {
     "data": {
      "text/html": [
       "<div>\n",
       "<style scoped>\n",
       "    .dataframe tbody tr th:only-of-type {\n",
       "        vertical-align: middle;\n",
       "    }\n",
       "\n",
       "    .dataframe tbody tr th {\n",
       "        vertical-align: top;\n",
       "    }\n",
       "\n",
       "    .dataframe thead th {\n",
       "        text-align: right;\n",
       "    }\n",
       "</style>\n",
       "<table border=\"1\" class=\"dataframe\">\n",
       "  <thead>\n",
       "    <tr style=\"text-align: right;\">\n",
       "      <th></th>\n",
       "      <th>0</th>\n",
       "      <th>1</th>\n",
       "      <th>2</th>\n",
       "      <th>3</th>\n",
       "      <th>4</th>\n",
       "      <th>5</th>\n",
       "    </tr>\n",
       "  </thead>\n",
       "  <tbody>\n",
       "    <tr>\n",
       "      <th>0</th>\n",
       "      <td>2.902428</td>\n",
       "      <td>-0.192234</td>\n",
       "      <td>2.567565</td>\n",
       "      <td>-0.543220</td>\n",
       "      <td>0.523775</td>\n",
       "      <td>0.326085</td>\n",
       "    </tr>\n",
       "    <tr>\n",
       "      <th>1</th>\n",
       "      <td>-0.496732</td>\n",
       "      <td>1.632759</td>\n",
       "      <td>0.584366</td>\n",
       "      <td>0.648213</td>\n",
       "      <td>0.460382</td>\n",
       "      <td>0.140923</td>\n",
       "    </tr>\n",
       "    <tr>\n",
       "      <th>2</th>\n",
       "      <td>-0.142826</td>\n",
       "      <td>0.014716</td>\n",
       "      <td>1.858182</td>\n",
       "      <td>-0.001993</td>\n",
       "      <td>-0.672643</td>\n",
       "      <td>-1.105685</td>\n",
       "    </tr>\n",
       "    <tr>\n",
       "      <th>3</th>\n",
       "      <td>0.697374</td>\n",
       "      <td>0.052837</td>\n",
       "      <td>1.079926</td>\n",
       "      <td>0.574671</td>\n",
       "      <td>0.077594</td>\n",
       "      <td>0.516702</td>\n",
       "    </tr>\n",
       "    <tr>\n",
       "      <th>4</th>\n",
       "      <td>-0.173946</td>\n",
       "      <td>-1.060140</td>\n",
       "      <td>1.068779</td>\n",
       "      <td>-1.003492</td>\n",
       "      <td>0.594014</td>\n",
       "      <td>-0.661828</td>\n",
       "    </tr>\n",
       "    <tr>\n",
       "      <th>...</th>\n",
       "      <td>...</td>\n",
       "      <td>...</td>\n",
       "      <td>...</td>\n",
       "      <td>...</td>\n",
       "      <td>...</td>\n",
       "      <td>...</td>\n",
       "    </tr>\n",
       "    <tr>\n",
       "      <th>207</th>\n",
       "      <td>1.895065</td>\n",
       "      <td>0.890601</td>\n",
       "      <td>-1.247832</td>\n",
       "      <td>0.006367</td>\n",
       "      <td>1.983154</td>\n",
       "      <td>0.656430</td>\n",
       "    </tr>\n",
       "    <tr>\n",
       "      <th>208</th>\n",
       "      <td>-1.239072</td>\n",
       "      <td>1.292676</td>\n",
       "      <td>-0.325130</td>\n",
       "      <td>-1.079805</td>\n",
       "      <td>0.426968</td>\n",
       "      <td>-0.188153</td>\n",
       "    </tr>\n",
       "    <tr>\n",
       "      <th>209</th>\n",
       "      <td>0.484987</td>\n",
       "      <td>0.200490</td>\n",
       "      <td>0.796349</td>\n",
       "      <td>-1.234183</td>\n",
       "      <td>-0.543982</td>\n",
       "      <td>-0.808622</td>\n",
       "    </tr>\n",
       "    <tr>\n",
       "      <th>210</th>\n",
       "      <td>-0.524204</td>\n",
       "      <td>-0.030470</td>\n",
       "      <td>0.706721</td>\n",
       "      <td>0.725805</td>\n",
       "      <td>-0.502690</td>\n",
       "      <td>0.951162</td>\n",
       "    </tr>\n",
       "    <tr>\n",
       "      <th>211</th>\n",
       "      <td>0.438158</td>\n",
       "      <td>1.122482</td>\n",
       "      <td>1.163952</td>\n",
       "      <td>0.204824</td>\n",
       "      <td>-0.110815</td>\n",
       "      <td>-0.079985</td>\n",
       "    </tr>\n",
       "  </tbody>\n",
       "</table>\n",
       "<p>212 rows × 6 columns</p>\n",
       "</div>"
      ],
      "text/plain": [
       "            0         1         2         3         4         5\n",
       "0    2.902428 -0.192234  2.567565 -0.543220  0.523775  0.326085\n",
       "1   -0.496732  1.632759  0.584366  0.648213  0.460382  0.140923\n",
       "2   -0.142826  0.014716  1.858182 -0.001993 -0.672643 -1.105685\n",
       "3    0.697374  0.052837  1.079926  0.574671  0.077594  0.516702\n",
       "4   -0.173946 -1.060140  1.068779 -1.003492  0.594014 -0.661828\n",
       "..        ...       ...       ...       ...       ...       ...\n",
       "207  1.895065  0.890601 -1.247832  0.006367  1.983154  0.656430\n",
       "208 -1.239072  1.292676 -0.325130 -1.079805  0.426968 -0.188153\n",
       "209  0.484987  0.200490  0.796349 -1.234183 -0.543982 -0.808622\n",
       "210 -0.524204 -0.030470  0.706721  0.725805 -0.502690  0.951162\n",
       "211  0.438158  1.122482  1.163952  0.204824 -0.110815 -0.079985\n",
       "\n",
       "[212 rows x 6 columns]"
      ]
     },
     "execution_count": 250,
     "metadata": {},
     "output_type": "execute_result"
    }
   ],
   "source": [
    "\n",
    "x = VarRatioDF.drop(['target'], axis=1).values \n",
    "y = VarRatioDF['target'].values # 종속변인 추출\n",
    "x = StandardScaler().fit_transform(x)\n",
    "pd.DataFrame(x)"
   ]
  },
  {
   "cell_type": "code",
   "execution_count": 251,
   "metadata": {},
   "outputs": [],
   "source": [
    "n_componunts = 4\n",
    "PCA = PrincipalComponuntAnalysis(n_componunts=n_componunts, data=x)\n",
    "principalDF = PCA.principalDf"
   ]
  },
  {
   "cell_type": "code",
   "execution_count": 252,
   "metadata": {},
   "outputs": [
    {
     "data": {
      "text/plain": [
       "0.9099736239645932"
      ]
     },
     "execution_count": 252,
     "metadata": {},
     "output_type": "execute_result"
    }
   ],
   "source": [
    "sum(PCA.explained_variance_ratio_())"
   ]
  },
  {
   "cell_type": "code",
   "execution_count": 253,
   "metadata": {},
   "outputs": [
    {
     "data": {
      "text/html": [
       "<div>\n",
       "<style scoped>\n",
       "    .dataframe tbody tr th:only-of-type {\n",
       "        vertical-align: middle;\n",
       "    }\n",
       "\n",
       "    .dataframe tbody tr th {\n",
       "        vertical-align: top;\n",
       "    }\n",
       "\n",
       "    .dataframe thead th {\n",
       "        text-align: right;\n",
       "    }\n",
       "</style>\n",
       "<table border=\"1\" class=\"dataframe\">\n",
       "  <thead>\n",
       "    <tr style=\"text-align: right;\">\n",
       "      <th></th>\n",
       "      <th>principal component1</th>\n",
       "      <th>principal component2</th>\n",
       "      <th>principal component3</th>\n",
       "      <th>principal component4</th>\n",
       "      <th>0</th>\n",
       "    </tr>\n",
       "  </thead>\n",
       "  <tbody>\n",
       "    <tr>\n",
       "      <th>0</th>\n",
       "      <td>1.490455</td>\n",
       "      <td>-2.148612</td>\n",
       "      <td>-2.909137</td>\n",
       "      <td>0.203409</td>\n",
       "      <td>0</td>\n",
       "    </tr>\n",
       "    <tr>\n",
       "      <th>1</th>\n",
       "      <td>-0.333861</td>\n",
       "      <td>-1.336704</td>\n",
       "      <td>1.052194</td>\n",
       "      <td>-0.265775</td>\n",
       "      <td>0</td>\n",
       "    </tr>\n",
       "    <tr>\n",
       "      <th>2</th>\n",
       "      <td>1.670471</td>\n",
       "      <td>-0.471790</td>\n",
       "      <td>-0.124526</td>\n",
       "      <td>-1.319990</td>\n",
       "      <td>0</td>\n",
       "    </tr>\n",
       "    <tr>\n",
       "      <th>3</th>\n",
       "      <td>0.037148</td>\n",
       "      <td>-1.139292</td>\n",
       "      <td>-0.746532</td>\n",
       "      <td>-0.550911</td>\n",
       "      <td>0</td>\n",
       "    </tr>\n",
       "    <tr>\n",
       "      <th>4</th>\n",
       "      <td>0.720349</td>\n",
       "      <td>0.709007</td>\n",
       "      <td>-1.204643</td>\n",
       "      <td>-0.436573</td>\n",
       "      <td>0</td>\n",
       "    </tr>\n",
       "    <tr>\n",
       "      <th>...</th>\n",
       "      <td>...</td>\n",
       "      <td>...</td>\n",
       "      <td>...</td>\n",
       "      <td>...</td>\n",
       "      <td>...</td>\n",
       "    </tr>\n",
       "    <tr>\n",
       "      <th>207</th>\n",
       "      <td>-1.298304</td>\n",
       "      <td>-1.321764</td>\n",
       "      <td>-0.714718</td>\n",
       "      <td>2.504540</td>\n",
       "      <td>3</td>\n",
       "    </tr>\n",
       "    <tr>\n",
       "      <th>208</th>\n",
       "      <td>-0.034200</td>\n",
       "      <td>0.479183</td>\n",
       "      <td>1.278496</td>\n",
       "      <td>0.569434</td>\n",
       "      <td>3</td>\n",
       "    </tr>\n",
       "    <tr>\n",
       "      <th>209</th>\n",
       "      <td>1.692759</td>\n",
       "      <td>0.123022</td>\n",
       "      <td>-0.313137</td>\n",
       "      <td>0.260882</td>\n",
       "      <td>3</td>\n",
       "    </tr>\n",
       "    <tr>\n",
       "      <th>210</th>\n",
       "      <td>-0.456115</td>\n",
       "      <td>-0.365706</td>\n",
       "      <td>0.072503</td>\n",
       "      <td>-1.221329</td>\n",
       "      <td>3</td>\n",
       "    </tr>\n",
       "    <tr>\n",
       "      <th>211</th>\n",
       "      <td>0.694202</td>\n",
       "      <td>-1.383758</td>\n",
       "      <td>0.162830</td>\n",
       "      <td>-0.252976</td>\n",
       "      <td>3</td>\n",
       "    </tr>\n",
       "  </tbody>\n",
       "</table>\n",
       "<p>212 rows × 5 columns</p>\n",
       "</div>"
      ],
      "text/plain": [
       "     principal component1  principal component2  principal component3  \\\n",
       "0                1.490455             -2.148612             -2.909137   \n",
       "1               -0.333861             -1.336704              1.052194   \n",
       "2                1.670471             -0.471790             -0.124526   \n",
       "3                0.037148             -1.139292             -0.746532   \n",
       "4                0.720349              0.709007             -1.204643   \n",
       "..                    ...                   ...                   ...   \n",
       "207             -1.298304             -1.321764             -0.714718   \n",
       "208             -0.034200              0.479183              1.278496   \n",
       "209              1.692759              0.123022             -0.313137   \n",
       "210             -0.456115             -0.365706              0.072503   \n",
       "211              0.694202             -1.383758              0.162830   \n",
       "\n",
       "     principal component4  0  \n",
       "0                0.203409  0  \n",
       "1               -0.265775  0  \n",
       "2               -1.319990  0  \n",
       "3               -0.550911  0  \n",
       "4               -0.436573  0  \n",
       "..                    ... ..  \n",
       "207              2.504540  3  \n",
       "208              0.569434  3  \n",
       "209              0.260882  3  \n",
       "210             -1.221329  3  \n",
       "211             -0.252976  3  \n",
       "\n",
       "[212 rows x 5 columns]"
      ]
     },
     "execution_count": 253,
     "metadata": {},
     "output_type": "execute_result"
    }
   ],
   "source": [
    "pd.concat([principalDF, labelDF], axis=1)"
   ]
  },
  {
   "cell_type": "code",
   "execution_count": 254,
   "metadata": {},
   "outputs": [],
   "source": [
    "# import matplotlib.pyplot as plt\n",
    "\n",
    "# fig = plt.figure(figsize = (8, 8))\n",
    "# ax = fig.add_subplot(1, 1, 1)\n",
    "# ax.set_xlabel('Principal Component 1', fontsize = 15)\n",
    "# ax.set_ylabel('Principal Component 2', fontsize = 15)\n",
    "# ax.set_title('1 component PCA', fontsize=20)\n",
    "\n",
    "# targets = [0, 1, 2, 3]\n",
    "# colors = ['r', 'g', 'b', 'purple']\n",
    "# for target, color in zip(targets,colors):\n",
    "#     indicesToKeep = VarRatioDF['target'] == target\n",
    "#     ax.scatter(principalDf.loc[indicesToKeep, 'principal component1']\n",
    "#                , principalDf.loc[indicesToKeep, 'principal component2']\n",
    "#                , c = color\n",
    "#                , s = 50, alpha=0.5)\n",
    "# ax.legend(targets)\n",
    "# ax.grid()"
   ]
  },
  {
   "cell_type": "code",
   "execution_count": 255,
   "metadata": {},
   "outputs": [],
   "source": [
    "# last_data = pd.concat([principalDf.loc[:, 'principal component1'], \n",
    "#     principalDf.loc[:, 'principal component2'], \n",
    "#     labelDF], axis=1)\n",
    "\n",
    "# last_data.columns = ['principal component1', 'principal component2', 'label']           "
   ]
  },
  {
   "cell_type": "code",
   "execution_count": 256,
   "metadata": {},
   "outputs": [
    {
     "data": {
      "image/png": "[encoded data removed]",
      "text/plain": [
       "<Figure size 640x480 with 1 Axes>"
      ]
     },
     "metadata": {},
     "output_type": "display_data"
    }
   ],
   "source": [
    "\n",
    "\n",
    "# 데이터를 DataFrame으로 생성\n",
    "df = pd.concat([principalDF, labelDF], axis=1)\n",
    "df.columns = [f\"principal component{i+1}\" for i in range(n_componunts)]+[\"label\"]\n",
    "\n",
    "# # 3D scatter plot 그리기\n",
    "# fig = plt.figure()\n",
    "# ax = fig.add_subplot(111, projection='3d')\n",
    "\n",
    "# # 클래스별로 색상을 다르게 설정\n",
    "# colors = ['r', 'g', 'b', 'c']\n",
    "# for i in range(4):  # 클래스 개수에 맞게 범위 설정\n",
    "#     subset = df[df['label'] == i]\n",
    "#     ax.scatter(subset['principal component1'], subset['principal component2'], subset['principal component3'], c=colors[i], label=f'Class {i}')\n",
    "\n",
    "# ax.set_xlabel('Principal Component 1')\n",
    "# ax.set_ylabel('Principal Component 2')\n",
    "# ax.set_zlabel('Principal Component 3')\n",
    "# ax.set_title('3D Scatter Plot of Principal Components')\n",
    "# ax.legend()\n",
    "# plt.show()"
   ]
  },
  {
   "cell_type": "code",
   "execution_count": 291,
   "metadata": {},
   "outputs": [],
   "source": [
    "LDA_DF = pd.concat([pd.DataFrame(LDATransform(principalDF, labelDF, 3, \"eigen\")), labelDF], axis=1)"
   ]
  },
  {
   "cell_type": "code",
   "execution_count": 292,
   "metadata": {},
   "outputs": [],
   "source": [
    "import numpy as np\n",
    "LDA_DF.columns = [f\"axis{i+1}\" for i in range(3)] + [\"label\"]"
   ]
  },
  {
   "cell_type": "code",
   "execution_count": 293,
   "metadata": {},
   "outputs": [
    {
     "data": {
      "text/html": [
       "<div>\n",
       "<style scoped>\n",
       "    .dataframe tbody tr th:only-of-type {\n",
       "        vertical-align: middle;\n",
       "    }\n",
       "\n",
       "    .dataframe tbody tr th {\n",
       "        vertical-align: top;\n",
       "    }\n",
       "\n",
       "    .dataframe thead th {\n",
       "        text-align: right;\n",
       "    }\n",
       "</style>\n",
       "<table border=\"1\" class=\"dataframe\">\n",
       "  <thead>\n",
       "    <tr style=\"text-align: right;\">\n",
       "      <th></th>\n",
       "      <th>axis1</th>\n",
       "      <th>axis2</th>\n",
       "      <th>axis3</th>\n",
       "      <th>label</th>\n",
       "    </tr>\n",
       "  </thead>\n",
       "  <tbody>\n",
       "    <tr>\n",
       "      <th>0</th>\n",
       "      <td>-2.783931</td>\n",
       "      <td>-1.596928</td>\n",
       "      <td>-0.682753</td>\n",
       "      <td>0</td>\n",
       "    </tr>\n",
       "    <tr>\n",
       "      <th>1</th>\n",
       "      <td>-0.458026</td>\n",
       "      <td>0.226676</td>\n",
       "      <td>0.353297</td>\n",
       "      <td>0</td>\n",
       "    </tr>\n",
       "    <tr>\n",
       "      <th>2</th>\n",
       "      <td>-0.873934</td>\n",
       "      <td>0.816592</td>\n",
       "      <td>-1.635416</td>\n",
       "      <td>0</td>\n",
       "    </tr>\n",
       "    <tr>\n",
       "      <th>3</th>\n",
       "      <td>-0.959289</td>\n",
       "      <td>-0.602853</td>\n",
       "      <td>-0.756177</td>\n",
       "      <td>0</td>\n",
       "    </tr>\n",
       "    <tr>\n",
       "      <th>4</th>\n",
       "      <td>-0.106950</td>\n",
       "      <td>-0.163974</td>\n",
       "      <td>-1.158787</td>\n",
       "      <td>0</td>\n",
       "    </tr>\n",
       "    <tr>\n",
       "      <th>...</th>\n",
       "      <td>...</td>\n",
       "      <td>...</td>\n",
       "      <td>...</td>\n",
       "      <td>...</td>\n",
       "    </tr>\n",
       "    <tr>\n",
       "      <th>207</th>\n",
       "      <td>-0.734069</td>\n",
       "      <td>-1.758494</td>\n",
       "      <td>2.946782</td>\n",
       "      <td>3</td>\n",
       "    </tr>\n",
       "    <tr>\n",
       "      <th>208</th>\n",
       "      <td>0.672140</td>\n",
       "      <td>0.775424</td>\n",
       "      <td>1.097601</td>\n",
       "      <td>3</td>\n",
       "    </tr>\n",
       "    <tr>\n",
       "      <th>209</th>\n",
       "      <td>-0.606851</td>\n",
       "      <td>0.582220</td>\n",
       "      <td>0.032804</td>\n",
       "      <td>3</td>\n",
       "    </tr>\n",
       "    <tr>\n",
       "      <th>210</th>\n",
       "      <td>-0.012656</td>\n",
       "      <td>-0.046720</td>\n",
       "      <td>-1.300611</td>\n",
       "      <td>3</td>\n",
       "    </tr>\n",
       "    <tr>\n",
       "      <th>211</th>\n",
       "      <td>-1.101524</td>\n",
       "      <td>0.151514</td>\n",
       "      <td>-0.055394</td>\n",
       "      <td>3</td>\n",
       "    </tr>\n",
       "  </tbody>\n",
       "</table>\n",
       "<p>212 rows × 4 columns</p>\n",
       "</div>"
      ],
      "text/plain": [
       "        axis1     axis2     axis3  label\n",
       "0   -2.783931 -1.596928 -0.682753      0\n",
       "1   -0.458026  0.226676  0.353297      0\n",
       "2   -0.873934  0.816592 -1.635416      0\n",
       "3   -0.959289 -0.602853 -0.756177      0\n",
       "4   -0.106950 -0.163974 -1.158787      0\n",
       "..        ...       ...       ...    ...\n",
       "207 -0.734069 -1.758494  2.946782      3\n",
       "208  0.672140  0.775424  1.097601      3\n",
       "209 -0.606851  0.582220  0.032804      3\n",
       "210 -0.012656 -0.046720 -1.300611      3\n",
       "211 -1.101524  0.151514 -0.055394      3\n",
       "\n",
       "[212 rows x 4 columns]"
      ]
     },
     "execution_count": 293,
     "metadata": {},
     "output_type": "execute_result"
    }
   ],
   "source": [
    "scaler = StandardScaler()\n",
    "scaler.fit(LDA_DF.loc[:, :\"axis3\"])\n",
    "LDA_DF_Scaled = pd.concat([pd.DataFrame(scaler.transform(LDA_DF.loc[:, :\"axis3\"])), labelDF], axis=1)\n",
    "LDA_DF_Scaled.columns = [f\"axis{i+1}\" for i in range(3)] + [\"label\"]\n",
    "LDA_DF_Scaled"
   ]
  },
  {
   "cell_type": "code",
   "execution_count": 294,
   "metadata": {},
   "outputs": [],
   "source": [
    "np.save(\"./dataframe\", LDA_DF_Scaled)"
   ]
  },
  {
   "cell_type": "code",
   "execution_count": 297,
   "metadata": {},
   "outputs": [
    {
     "name": "stdout",
     "output_type": "stream",
     "text": [
      "\n",
      "0.401\n"
     ]
    }
   ],
   "source": [
    "# 2\n",
    "# 테스트하고자 하는 파라미터 값들을 사전타입으로 정의\n",
    "svm_clf = svm.SVC(kernel = 'rbf',random_state=100)\n",
    "parameters = {\n",
    "    'C': [0.01, 0.1, 1, 5, 10, 25, 50, 100],\n",
    "    'gamma': [0.001, 0.01, 0.1, 1, 10, 25, 50, 100],\n",
    "}\n",
    "\n",
    "grid_svm = GridSearchCV(svm_clf,\n",
    "    param_grid = parameters, cv = 2, n_jobs=-1, refit=True)\n",
    "\n",
    "grid_svm.fit(LDA_DF_Scaled.loc[:, :\"axis3\"], labelDF)\n",
    "\n",
    "result = pd.DataFrame(grid_svm.cv_results_['params'])\n",
    "result['mean_test_score'] = grid_svm.cv_results_['mean_test_score']\n",
    "print()\n",
    "print(round(result.sort_values(by='mean_test_score', ascending=False).iloc[0][\"mean_test_score\"],3))"
   ]
  },
  {
   "cell_type": "code",
   "execution_count": 296,
   "metadata": {},
   "outputs": [
    {
     "name": "stdout",
     "output_type": "stream",
     "text": [
      "교차검증 평균:  0.391140642303433\n",
      "교차검증 평균:  0.3485049833887043\n"
     ]
    }
   ],
   "source": [
    "import sklearn.svm as svm\n",
    "import sklearn.metrics as mt\n",
    "from sklearn.model_selection import cross_val_score, cross_validate\n",
    "\n",
    "# SVM, kernel = 'linear'로 선형분리 진행\n",
    " \n",
    "svm_clf =svm.SVC(kernel = 'linear', random_state=100)\n",
    "\n",
    "# 교차검증\n",
    "\n",
    "scores = cross_val_score(svm_clf, LDA_DF_Scaled.loc[:, :\"axis4\"], labelDF, cv = 5)\n",
    "scores\n",
    "\n",
    "pd.DataFrame(cross_validate(svm_clf, LDA_DF_Scaled.loc[:, :\"axis4\"], labelDF, cv =5))\n",
    "\n",
    "print('교차검증 평균: ', scores.mean())\n",
    "\n",
    "# SVM, kernel = 'rbf'로 비선형분리 진행\n",
    " \n",
    "svm_clf =svm.SVC(kernel = 'rbf')\n",
    "\n",
    "# 교차검증\n",
    "\n",
    "scores = cross_val_score(svm_clf, LDA_DF_Scaled.loc[:, :\"axis4\"], labelDF, cv = 5)\n",
    "scores\n",
    "\n",
    "pd.DataFrame(cross_validate(svm_clf, LDA_DF_Scaled.loc[:, :\"axis4\"], labelDF, cv =5))\n",
    "\n",
    "print('교차검증 평균: ', scores.mean())"
   ]
  },
  {
   "cell_type": "code",
   "execution_count": null,
   "metadata": {},
   "outputs": [],
   "source": []
  },
  {
   "cell_type": "code",
   "execution_count": null,
   "metadata": {},
   "outputs": [],
   "source": []
  }
 ],
 "metadata": {
  "kernelspec": {
   "display_name": "Python 3",
   "language": "python",
   "name": "python3"
  },
  "language_info": {
   "codemirror_mode": {
    "name": "ipython",
    "version": 3
   },
   "file_extension": ".py",
   "mimetype": "text/x-python",
   "name": "python",
   "nbconvert_exporter": "python",
   "pygments_lexer": "ipython3",
   "version": "3.10.5"
  },
  "orig_nbformat": 4
 },
 "nbformat": 4,
 "nbformat_minor": 2
}
