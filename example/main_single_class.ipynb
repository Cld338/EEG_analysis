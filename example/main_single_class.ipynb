{
 "cells": [
  {
   "cell_type": "code",
   "execution_count": 874,
   "metadata": {},
   "outputs": [],
   "source": [
    "from sklearn.model_selection import cross_val_score, cross_validate\n",
    "from sklearn.preprocessing import StandardScaler, RobustScaler\n",
    "from sklearn.model_selection import GridSearchCV\n",
    "from mpl_toolkits.mplot3d import Axes3D \n",
    "import matplotlib.pyplot as plt\n",
    "import sklearn.metrics as mt\n",
    "from dataAnalyzer import *\n",
    "from private_tool import *\n",
    "from dataHandler import *\n",
    "import sklearn.svm as svm\n",
    "from numpy import array\n",
    "import pandas as pd\n",
    "import warnings"
   ]
  },
  {
   "cell_type": "code",
   "execution_count": 875,
   "metadata": {},
   "outputs": [],
   "source": [
    "warnings.filterwarnings('ignore')"
   ]
  },
  {
   "cell_type": "code",
   "execution_count": 876,
   "metadata": {},
   "outputs": [],
   "source": [
    "experimentNum = 9\n",
    "experimentIdx = 0\n",
    "Experiments = [MotorImageryDataset(parentDirectory(dir=currDir, separator=\"\\\\\", n=1)+'/bcicompetitionIV2a/A0'+str(i+1)+'T.npz') for i in range(experimentNum)]"
   ]
  },
  {
   "cell_type": "code",
   "execution_count": 877,
   "metadata": {},
   "outputs": [],
   "source": [
    "channels = list(range(25))\n",
    "samplingRate = 250 #Hz\n",
    "trialsByClasses = np.array([i.get_trials_by_classes(channels=channels) for i in Experiments])"
   ]
  },
  {
   "cell_type": "code",
   "execution_count": 878,
   "metadata": {},
   "outputs": [
    {
     "data": {
      "text/plain": [
       "69"
      ]
     },
     "execution_count": 878,
     "metadata": {},
     "output_type": "execute_result"
    }
   ],
   "source": [
    "len(trialsByClasses[0][\"left\"][0])"
   ]
  },
  {
   "cell_type": "code",
   "execution_count": 879,
   "metadata": {},
   "outputs": [
    {
     "data": {
      "text/plain": [
       "(25, 25)"
      ]
     },
     "execution_count": 879,
     "metadata": {},
     "output_type": "execute_result"
    }
   ],
   "source": [
    "channelNum = len(channels)\n",
    "m = len(trialsByClasses[0][\"left\"])\n",
    "channelNum, m"
   ]
  },
  {
   "cell_type": "code",
   "execution_count": 880,
   "metadata": {},
   "outputs": [],
   "source": [
    "bandpassedTrialsByClasses = [{i:[[] for _ in range(channelNum)] for i in j.mi_types.values()} for j in Experiments]\n",
    "for k in range(experimentNum):\n",
    "    for key in trialsByClasses[k].keys():\n",
    "        for i in range(channelNum):\n",
    "            bandpassedTrialsByClasses[k][key][i] = np.array([bandpass_filter(data=trialsByClasses[k][key][i][j], \n",
    "                                                                sample_rate=samplingRate, \n",
    "                                                                cutoff_low=5, \n",
    "                                                                cutoff_high=50)\\\n",
    "                                                for j in range(len(trialsByClasses[k][key][i]))])"
   ]
  },
  {
   "cell_type": "code",
   "execution_count": 881,
   "metadata": {},
   "outputs": [],
   "source": [
    "# bandpassedTrialsByClasses[2][\"left\"][2].shape"
   ]
  },
  {
   "cell_type": "code",
   "execution_count": 882,
   "metadata": {},
   "outputs": [],
   "source": [
    "# 현재 상태는 experiment - class - channel - trial - signal\n",
    "# class - experiment - trial - channel - signal로 수정하자\n",
    "bandpassedTrialsByClasses = {key:array([[bandpassedTrialsByClasses[i][key][j] for j in range(channelNum)] for i in range(experimentNum)]) for key in Experiments[0].mi_types.values()}\n",
    "# bandpassedTrialsByClasses[\"left\"][8][0].shape\n",
    "# i: experiment\n",
    "# j: trial"
   ]
  },
  {
   "cell_type": "code",
   "execution_count": 883,
   "metadata": {},
   "outputs": [],
   "source": [
    "minTrialsNum = sorted([sorted([len(bandpassedTrialsByClasses[\"left\"][i][0]) for i in range(experimentNum)])[0], sorted([len(bandpassedTrialsByClasses[\"right\"][i][0]) for i in range(experimentNum)])[0], sorted([len(bandpassedTrialsByClasses[\"tongue\"][i][0]) for i in range(experimentNum)])[0], sorted([len(bandpassedTrialsByClasses[\"foot\"][i][0]) for i in range(experimentNum)])[0]])[0]\n",
    "bandpassedTrialsByClasses = {i:[bandpassedTrialsByClasses[i][j] for j in range(experimentNum)] for i in Experiments[0].mi_types.values()}"
   ]
  },
  {
   "cell_type": "code",
   "execution_count": 884,
   "metadata": {},
   "outputs": [],
   "source": [
    "left_csp_filter = CSP_filter(len(bandpassedTrialsByClasses[\"left\"][experimentIdx]), bandpassedTrialsByClasses[\"left\"][experimentIdx])\n",
    "right_csp_filter = CSP_filter(len(bandpassedTrialsByClasses[\"right\"][experimentIdx]), bandpassedTrialsByClasses[\"right\"][experimentIdx])\n",
    "tongue_csp_filter = CSP_filter(len(bandpassedTrialsByClasses[\"tongue\"][experimentIdx]), bandpassedTrialsByClasses[\"tongue\"][experimentIdx])\n",
    "foot_csp_filter = CSP_filter(len(bandpassedTrialsByClasses[\"foot\"][experimentIdx]), bandpassedTrialsByClasses[\"foot\"][experimentIdx])"
   ]
  },
  {
   "cell_type": "code",
   "execution_count": 885,
   "metadata": {},
   "outputs": [],
   "source": [
    "bandpassedTrials = {i:[] for i in Experiments[0].mi_types.values()}\n",
    "for i in Experiments[0].mi_types.values():\n",
    "    for j in range(len(bandpassedTrialsByClasses)):\n",
    "        bandpassedTrials[i]"
   ]
  },
  {
   "cell_type": "code",
   "execution_count": 886,
   "metadata": {},
   "outputs": [],
   "source": [
    "# CSP_passed_left_data = np.array([[bandpassedTrialsByClasses[i][j].T@left_csp_filter for j in range(minTrialsNum)] for i in range(experimentNum)])\n",
    "CSP_passed_left_data = [j.T@left_csp_filter for j in bandpassedTrialsByClasses[\"left\"][experimentIdx]]\n",
    "CSP_passed_right_data = [j.T@right_csp_filter for j in bandpassedTrialsByClasses[\"right\"][experimentIdx]]\n",
    "CSP_passed_tongue_data = [j.T@tongue_csp_filter for j in bandpassedTrialsByClasses[\"tongue\"][experimentIdx]]\n",
    "CSP_passed_foot_data = [j.T@foot_csp_filter for j in bandpassedTrialsByClasses[\"foot\"][experimentIdx]]"
   ]
  },
  {
   "cell_type": "code",
   "execution_count": 887,
   "metadata": {},
   "outputs": [
    {
     "data": {
      "text/plain": [
       "25"
      ]
     },
     "execution_count": 887,
     "metadata": {},
     "output_type": "execute_result"
    }
   ],
   "source": [
    "len(CSP_passed_left_data)"
   ]
  },
  {
   "cell_type": "code",
   "execution_count": 888,
   "metadata": {},
   "outputs": [],
   "source": [
    "# bandpassedTrialsByClasses[\"right\"][0][\"right\"][0]"
   ]
  },
  {
   "cell_type": "code",
   "execution_count": 889,
   "metadata": {},
   "outputs": [
    {
     "name": "stdout",
     "output_type": "stream",
     "text": [
      "(25, 1875, 69)\n"
     ]
    }
   ],
   "source": [
    "print(array(CSP_passed_left_data).shape)\n",
    "CSP_passed_left_data = [np.array([j.T for j in i]).T for i in CSP_passed_left_data]\n",
    "CSP_passed_right_data = [np.array([j.T for j in i]).T for i in CSP_passed_right_data]\n",
    "CSP_passed_tongue_data = [np.array([j.T for j in i]).T for i in CSP_passed_tongue_data]\n",
    "CSP_passed_foot_data = [np.array([j.T for j in i]).T for i in CSP_passed_foot_data]"
   ]
  },
  {
   "cell_type": "code",
   "execution_count": 890,
   "metadata": {},
   "outputs": [
    {
     "data": {
      "text/plain": [
       "(25, 69, 1875)"
      ]
     },
     "execution_count": 890,
     "metadata": {},
     "output_type": "execute_result"
    }
   ],
   "source": [
    "array(CSP_passed_left_data).shape"
   ]
  },
  {
   "cell_type": "code",
   "execution_count": 891,
   "metadata": {},
   "outputs": [],
   "source": [
    "CSP_passed_left_data = array([i.T for i in array(CSP_passed_left_data).T]).T\n",
    "CSP_passed_right_data = array([i.T for i in array(CSP_passed_right_data).T]).T\n",
    "CSP_passed_tongue_data = array([i.T for i in array(CSP_passed_tongue_data).T]).T\n",
    "CSP_passed_foot_data = array([i.T for i in array(CSP_passed_foot_data).T]).T"
   ]
  },
  {
   "cell_type": "code",
   "execution_count": 892,
   "metadata": {},
   "outputs": [
    {
     "name": "stdout",
     "output_type": "stream",
     "text": [
      "49\n"
     ]
    }
   ],
   "source": [
    "from math import log\n",
    "m = 3\n",
    "print(minTrialsNum)\n",
    "\n",
    "leftVar = np.array([np.array([np.var(CSP_passed_left_data[i][j]) for j in range(channelNum)]) for i in range(minTrialsNum)])\n",
    "rightVar = np.array([np.array([np.var(CSP_passed_right_data[i][j]) for j in range(channelNum)]) for i in range(minTrialsNum)])\n",
    "tongueVar = np.array([np.array([np.var(CSP_passed_tongue_data[i][j]) for j in range(channelNum)]) for i in range(minTrialsNum)])\n",
    "footVar = np.array([np.array([np.var(CSP_passed_foot_data[i][j]) for j in range(channelNum)]) for i in range(minTrialsNum)])\n",
    "\n",
    "\n",
    "leftVarRatio = np.array([np.array([log(leftVar[i][j-m]/sum(leftVar[i])) for j in range(m*2)]) for i in range(minTrialsNum)])\n",
    "rightVarRatio = np.array([np.array([log(rightVar[i][j-m]/sum(rightVar[i])) for j in range(m*2)]) for i in range(minTrialsNum)])\n",
    "tongueVarRatio = np.array([np.array([log(tongueVar[i][j-m]/sum(tongueVar[i])) for j in range(m*2)]) for i in range(minTrialsNum)])\n",
    "footVarRatio = np.array([np.array([log(footVar[i][j-m]/sum(footVar[i])) for j in range(m*2)]) for i in range(minTrialsNum)])"
   ]
  },
  {
   "cell_type": "code",
   "execution_count": 893,
   "metadata": {},
   "outputs": [],
   "source": [
    "leftVarRatioDF = pd.DataFrame(leftVarRatio)\n",
    "rightVarRatioDF = pd.DataFrame(rightVarRatio)\n",
    "tongueVarRatioDF = pd.DataFrame(tongueVarRatio)\n",
    "footVarRatioDF = pd.DataFrame(footVarRatio)\n",
    "\n",
    "labelDF = pd.DataFrame([0]*minTrialsNum + [1]*minTrialsNum + [2]*minTrialsNum + [3]*minTrialsNum)"
   ]
  },
  {
   "cell_type": "code",
   "execution_count": 894,
   "metadata": {},
   "outputs": [
    {
     "data": {
      "text/html": [
       "<div>\n",
       "<style scoped>\n",
       "    .dataframe tbody tr th:only-of-type {\n",
       "        vertical-align: middle;\n",
       "    }\n",
       "\n",
       "    .dataframe tbody tr th {\n",
       "        vertical-align: top;\n",
       "    }\n",
       "\n",
       "    .dataframe thead th {\n",
       "        text-align: right;\n",
       "    }\n",
       "</style>\n",
       "<table border=\"1\" class=\"dataframe\">\n",
       "  <thead>\n",
       "    <tr style=\"text-align: right;\">\n",
       "      <th></th>\n",
       "      <th>0</th>\n",
       "      <th>1</th>\n",
       "      <th>2</th>\n",
       "      <th>3</th>\n",
       "      <th>4</th>\n",
       "      <th>5</th>\n",
       "      <th>target</th>\n",
       "    </tr>\n",
       "  </thead>\n",
       "  <tbody>\n",
       "    <tr>\n",
       "      <th>0</th>\n",
       "      <td>-4.130213</td>\n",
       "      <td>-3.028304</td>\n",
       "      <td>-3.792036</td>\n",
       "      <td>-3.167096</td>\n",
       "      <td>-3.219150</td>\n",
       "      <td>-3.104915</td>\n",
       "      <td>0</td>\n",
       "    </tr>\n",
       "    <tr>\n",
       "      <th>1</th>\n",
       "      <td>-4.074216</td>\n",
       "      <td>-3.091969</td>\n",
       "      <td>-3.606211</td>\n",
       "      <td>-3.105425</td>\n",
       "      <td>-3.200298</td>\n",
       "      <td>-3.061228</td>\n",
       "      <td>0</td>\n",
       "    </tr>\n",
       "    <tr>\n",
       "      <th>2</th>\n",
       "      <td>-3.968772</td>\n",
       "      <td>-3.094451</td>\n",
       "      <td>-3.661778</td>\n",
       "      <td>-3.210084</td>\n",
       "      <td>-3.262967</td>\n",
       "      <td>-3.153981</td>\n",
       "      <td>0</td>\n",
       "    </tr>\n",
       "    <tr>\n",
       "      <th>3</th>\n",
       "      <td>-4.219266</td>\n",
       "      <td>-2.969726</td>\n",
       "      <td>-3.824327</td>\n",
       "      <td>-3.047451</td>\n",
       "      <td>-3.190584</td>\n",
       "      <td>-3.048150</td>\n",
       "      <td>0</td>\n",
       "    </tr>\n",
       "    <tr>\n",
       "      <th>4</th>\n",
       "      <td>-4.316341</td>\n",
       "      <td>-2.903329</td>\n",
       "      <td>-3.811810</td>\n",
       "      <td>-3.152124</td>\n",
       "      <td>-3.268576</td>\n",
       "      <td>-3.132329</td>\n",
       "      <td>0</td>\n",
       "    </tr>\n",
       "    <tr>\n",
       "      <th>...</th>\n",
       "      <td>...</td>\n",
       "      <td>...</td>\n",
       "      <td>...</td>\n",
       "      <td>...</td>\n",
       "      <td>...</td>\n",
       "      <td>...</td>\n",
       "      <td>...</td>\n",
       "    </tr>\n",
       "    <tr>\n",
       "      <th>191</th>\n",
       "      <td>-4.254657</td>\n",
       "      <td>-3.176054</td>\n",
       "      <td>-3.808440</td>\n",
       "      <td>-3.129416</td>\n",
       "      <td>-3.293002</td>\n",
       "      <td>-3.144241</td>\n",
       "      <td>3</td>\n",
       "    </tr>\n",
       "    <tr>\n",
       "      <th>192</th>\n",
       "      <td>-4.123730</td>\n",
       "      <td>-3.147595</td>\n",
       "      <td>-3.521843</td>\n",
       "      <td>-3.166731</td>\n",
       "      <td>-3.262918</td>\n",
       "      <td>-3.113711</td>\n",
       "      <td>3</td>\n",
       "    </tr>\n",
       "    <tr>\n",
       "      <th>193</th>\n",
       "      <td>-4.348342</td>\n",
       "      <td>-2.897147</td>\n",
       "      <td>-3.812622</td>\n",
       "      <td>-3.205484</td>\n",
       "      <td>-3.300554</td>\n",
       "      <td>-3.166691</td>\n",
       "      <td>3</td>\n",
       "    </tr>\n",
       "    <tr>\n",
       "      <th>194</th>\n",
       "      <td>-4.202092</td>\n",
       "      <td>-3.123670</td>\n",
       "      <td>-3.658184</td>\n",
       "      <td>-3.127362</td>\n",
       "      <td>-3.263683</td>\n",
       "      <td>-3.070024</td>\n",
       "      <td>3</td>\n",
       "    </tr>\n",
       "    <tr>\n",
       "      <th>195</th>\n",
       "      <td>-4.176374</td>\n",
       "      <td>-3.220933</td>\n",
       "      <td>-4.040053</td>\n",
       "      <td>-3.168940</td>\n",
       "      <td>-3.333894</td>\n",
       "      <td>-3.152022</td>\n",
       "      <td>3</td>\n",
       "    </tr>\n",
       "  </tbody>\n",
       "</table>\n",
       "<p>196 rows × 7 columns</p>\n",
       "</div>"
      ],
      "text/plain": [
       "            0         1         2         3         4         5  target\n",
       "0   -4.130213 -3.028304 -3.792036 -3.167096 -3.219150 -3.104915       0\n",
       "1   -4.074216 -3.091969 -3.606211 -3.105425 -3.200298 -3.061228       0\n",
       "2   -3.968772 -3.094451 -3.661778 -3.210084 -3.262967 -3.153981       0\n",
       "3   -4.219266 -2.969726 -3.824327 -3.047451 -3.190584 -3.048150       0\n",
       "4   -4.316341 -2.903329 -3.811810 -3.152124 -3.268576 -3.132329       0\n",
       "..        ...       ...       ...       ...       ...       ...     ...\n",
       "191 -4.254657 -3.176054 -3.808440 -3.129416 -3.293002 -3.144241       3\n",
       "192 -4.123730 -3.147595 -3.521843 -3.166731 -3.262918 -3.113711       3\n",
       "193 -4.348342 -2.897147 -3.812622 -3.205484 -3.300554 -3.166691       3\n",
       "194 -4.202092 -3.123670 -3.658184 -3.127362 -3.263683 -3.070024       3\n",
       "195 -4.176374 -3.220933 -4.040053 -3.168940 -3.333894 -3.152022       3\n",
       "\n",
       "[196 rows x 7 columns]"
      ]
     },
     "execution_count": 894,
     "metadata": {},
     "output_type": "execute_result"
    }
   ],
   "source": [
    "VarRatioDF = pd.concat([leftVarRatioDF, rightVarRatioDF, tongueVarRatioDF, footVarRatioDF], axis=0)\n",
    "VarRatioDF = VarRatioDF.reset_index()\n",
    "VarRatioDF = pd.concat([VarRatioDF, labelDF], axis=1).iloc[:,1:]\n",
    "VarRatioDF.columns = [f\"{n}\" for n in range(m*2)] + [\"target\"]\n",
    "VarRatioDF"
   ]
  },
  {
   "cell_type": "code",
   "execution_count": 895,
   "metadata": {},
   "outputs": [
    {
     "data": {
      "text/html": [
       "<div>\n",
       "<style scoped>\n",
       "    .dataframe tbody tr th:only-of-type {\n",
       "        vertical-align: middle;\n",
       "    }\n",
       "\n",
       "    .dataframe tbody tr th {\n",
       "        vertical-align: top;\n",
       "    }\n",
       "\n",
       "    .dataframe thead th {\n",
       "        text-align: right;\n",
       "    }\n",
       "</style>\n",
       "<table border=\"1\" class=\"dataframe\">\n",
       "  <thead>\n",
       "    <tr style=\"text-align: right;\">\n",
       "      <th></th>\n",
       "      <th>0</th>\n",
       "      <th>1</th>\n",
       "      <th>2</th>\n",
       "      <th>3</th>\n",
       "      <th>4</th>\n",
       "      <th>5</th>\n",
       "    </tr>\n",
       "  </thead>\n",
       "  <tbody>\n",
       "    <tr>\n",
       "      <th>0</th>\n",
       "      <td>0.431255</td>\n",
       "      <td>-0.296957</td>\n",
       "      <td>-0.744019</td>\n",
       "      <td>-0.699100</td>\n",
       "      <td>0.634925</td>\n",
       "      <td>-0.091370</td>\n",
       "    </tr>\n",
       "    <tr>\n",
       "      <th>1</th>\n",
       "      <td>0.953377</td>\n",
       "      <td>-0.550801</td>\n",
       "      <td>1.042153</td>\n",
       "      <td>0.218267</td>\n",
       "      <td>0.943691</td>\n",
       "      <td>0.608001</td>\n",
       "    </tr>\n",
       "    <tr>\n",
       "      <th>2</th>\n",
       "      <td>1.936548</td>\n",
       "      <td>-0.560695</td>\n",
       "      <td>0.508035</td>\n",
       "      <td>-1.338560</td>\n",
       "      <td>-0.082710</td>\n",
       "      <td>-0.876872</td>\n",
       "    </tr>\n",
       "    <tr>\n",
       "      <th>3</th>\n",
       "      <td>-0.399084</td>\n",
       "      <td>-0.063399</td>\n",
       "      <td>-1.054397</td>\n",
       "      <td>1.080632</td>\n",
       "      <td>1.102777</td>\n",
       "      <td>0.817364</td>\n",
       "    </tr>\n",
       "    <tr>\n",
       "      <th>4</th>\n",
       "      <td>-1.304229</td>\n",
       "      <td>0.201335</td>\n",
       "      <td>-0.934080</td>\n",
       "      <td>-0.476391</td>\n",
       "      <td>-0.174570</td>\n",
       "      <td>-0.530245</td>\n",
       "    </tr>\n",
       "    <tr>\n",
       "      <th>...</th>\n",
       "      <td>...</td>\n",
       "      <td>...</td>\n",
       "      <td>...</td>\n",
       "      <td>...</td>\n",
       "      <td>...</td>\n",
       "      <td>...</td>\n",
       "    </tr>\n",
       "    <tr>\n",
       "      <th>191</th>\n",
       "      <td>-0.729077</td>\n",
       "      <td>-0.886058</td>\n",
       "      <td>-0.901688</td>\n",
       "      <td>-0.138603</td>\n",
       "      <td>-0.574621</td>\n",
       "      <td>-0.720945</td>\n",
       "    </tr>\n",
       "    <tr>\n",
       "      <th>192</th>\n",
       "      <td>0.491698</td>\n",
       "      <td>-0.772589</td>\n",
       "      <td>1.853104</td>\n",
       "      <td>-0.693675</td>\n",
       "      <td>-0.081905</td>\n",
       "      <td>-0.232188</td>\n",
       "    </tr>\n",
       "    <tr>\n",
       "      <th>193</th>\n",
       "      <td>-1.602607</td>\n",
       "      <td>0.225987</td>\n",
       "      <td>-0.941886</td>\n",
       "      <td>-1.270129</td>\n",
       "      <td>-0.698294</td>\n",
       "      <td>-1.080342</td>\n",
       "    </tr>\n",
       "    <tr>\n",
       "      <th>194</th>\n",
       "      <td>-0.238955</td>\n",
       "      <td>-0.677197</td>\n",
       "      <td>0.542581</td>\n",
       "      <td>-0.108053</td>\n",
       "      <td>-0.094436</td>\n",
       "      <td>0.467182</td>\n",
       "    </tr>\n",
       "    <tr>\n",
       "      <th>195</th>\n",
       "      <td>0.000838</td>\n",
       "      <td>-1.065000</td>\n",
       "      <td>-3.127978</td>\n",
       "      <td>-0.726528</td>\n",
       "      <td>-1.244341</td>\n",
       "      <td>-0.845508</td>\n",
       "    </tr>\n",
       "  </tbody>\n",
       "</table>\n",
       "<p>196 rows × 6 columns</p>\n",
       "</div>"
      ],
      "text/plain": [
       "            0         1         2         3         4         5\n",
       "0    0.431255 -0.296957 -0.744019 -0.699100  0.634925 -0.091370\n",
       "1    0.953377 -0.550801  1.042153  0.218267  0.943691  0.608001\n",
       "2    1.936548 -0.560695  0.508035 -1.338560 -0.082710 -0.876872\n",
       "3   -0.399084 -0.063399 -1.054397  1.080632  1.102777  0.817364\n",
       "4   -1.304229  0.201335 -0.934080 -0.476391 -0.174570 -0.530245\n",
       "..        ...       ...       ...       ...       ...       ...\n",
       "191 -0.729077 -0.886058 -0.901688 -0.138603 -0.574621 -0.720945\n",
       "192  0.491698 -0.772589  1.853104 -0.693675 -0.081905 -0.232188\n",
       "193 -1.602607  0.225987 -0.941886 -1.270129 -0.698294 -1.080342\n",
       "194 -0.238955 -0.677197  0.542581 -0.108053 -0.094436  0.467182\n",
       "195  0.000838 -1.065000 -3.127978 -0.726528 -1.244341 -0.845508\n",
       "\n",
       "[196 rows x 6 columns]"
      ]
     },
     "execution_count": 895,
     "metadata": {},
     "output_type": "execute_result"
    }
   ],
   "source": [
    "\n",
    "x = VarRatioDF.drop(['target'], axis=1).values \n",
    "y = VarRatioDF['target'].values # 종속변인 추출\n",
    "x = StandardScaler().fit_transform(x)\n",
    "pd.DataFrame(x)"
   ]
  },
  {
   "cell_type": "code",
   "execution_count": 896,
   "metadata": {},
   "outputs": [],
   "source": [
    "n_componunts = 5\n",
    "PCA = PrincipalComponuntAnalysis(n_componunts=n_componunts, data=x)\n",
    "principalDF = PCA.principalDf"
   ]
  },
  {
   "cell_type": "code",
   "execution_count": 897,
   "metadata": {},
   "outputs": [
    {
     "data": {
      "text/plain": [
       "0.9888081609420725"
      ]
     },
     "execution_count": 897,
     "metadata": {},
     "output_type": "execute_result"
    }
   ],
   "source": [
    "sum(PCA.explained_variance_ratio_())"
   ]
  },
  {
   "cell_type": "code",
   "execution_count": 898,
   "metadata": {},
   "outputs": [
    {
     "data": {
      "text/html": [
       "<div>\n",
       "<style scoped>\n",
       "    .dataframe tbody tr th:only-of-type {\n",
       "        vertical-align: middle;\n",
       "    }\n",
       "\n",
       "    .dataframe tbody tr th {\n",
       "        vertical-align: top;\n",
       "    }\n",
       "\n",
       "    .dataframe thead th {\n",
       "        text-align: right;\n",
       "    }\n",
       "</style>\n",
       "<table border=\"1\" class=\"dataframe\">\n",
       "  <thead>\n",
       "    <tr style=\"text-align: right;\">\n",
       "      <th></th>\n",
       "      <th>principal component1</th>\n",
       "      <th>principal component2</th>\n",
       "      <th>principal component3</th>\n",
       "      <th>principal component4</th>\n",
       "      <th>principal component5</th>\n",
       "      <th>0</th>\n",
       "    </tr>\n",
       "  </thead>\n",
       "  <tbody>\n",
       "    <tr>\n",
       "      <th>0</th>\n",
       "      <td>0.013619</td>\n",
       "      <td>-0.354014</td>\n",
       "      <td>-0.535143</td>\n",
       "      <td>0.896591</td>\n",
       "      <td>0.695361</td>\n",
       "      <td>0</td>\n",
       "    </tr>\n",
       "    <tr>\n",
       "      <th>1</th>\n",
       "      <td>-1.227717</td>\n",
       "      <td>1.215887</td>\n",
       "      <td>-0.588730</td>\n",
       "      <td>-0.046747</td>\n",
       "      <td>0.521211</td>\n",
       "      <td>0</td>\n",
       "    </tr>\n",
       "    <tr>\n",
       "      <th>2</th>\n",
       "      <td>1.024588</td>\n",
       "      <td>1.619454</td>\n",
       "      <td>-1.233575</td>\n",
       "      <td>1.060102</td>\n",
       "      <td>0.753063</td>\n",
       "      <td>0</td>\n",
       "    </tr>\n",
       "    <tr>\n",
       "      <th>3</th>\n",
       "      <td>-1.622452</td>\n",
       "      <td>-1.090577</td>\n",
       "      <td>0.382201</td>\n",
       "      <td>0.456848</td>\n",
       "      <td>-0.181058</td>\n",
       "      <td>0</td>\n",
       "    </tr>\n",
       "    <tr>\n",
       "      <th>4</th>\n",
       "      <td>0.834282</td>\n",
       "      <td>-1.504633</td>\n",
       "      <td>0.221069</td>\n",
       "      <td>-0.222926</td>\n",
       "      <td>0.098286</td>\n",
       "      <td>0</td>\n",
       "    </tr>\n",
       "    <tr>\n",
       "      <th>...</th>\n",
       "      <td>...</td>\n",
       "      <td>...</td>\n",
       "      <td>...</td>\n",
       "      <td>...</td>\n",
       "      <td>...</td>\n",
       "      <td>...</td>\n",
       "    </tr>\n",
       "    <tr>\n",
       "      <th>191</th>\n",
       "      <td>0.762773</td>\n",
       "      <td>-1.093802</td>\n",
       "      <td>-0.773340</td>\n",
       "      <td>0.005200</td>\n",
       "      <td>-0.673362</td>\n",
       "      <td>3</td>\n",
       "    </tr>\n",
       "    <tr>\n",
       "      <th>192</th>\n",
       "      <td>0.292554</td>\n",
       "      <td>1.532189</td>\n",
       "      <td>-1.069253</td>\n",
       "      <td>-0.970368</td>\n",
       "      <td>0.533824</td>\n",
       "      <td>3</td>\n",
       "    </tr>\n",
       "    <tr>\n",
       "      <th>193</th>\n",
       "      <td>1.904430</td>\n",
       "      <td>-1.687074</td>\n",
       "      <td>0.019837</td>\n",
       "      <td>-0.409462</td>\n",
       "      <td>0.292408</td>\n",
       "      <td>3</td>\n",
       "    </tr>\n",
       "    <tr>\n",
       "      <th>194</th>\n",
       "      <td>-0.302053</td>\n",
       "      <td>0.096642</td>\n",
       "      <td>-0.643855</td>\n",
       "      <td>-0.626315</td>\n",
       "      <td>-0.019890</td>\n",
       "      <td>3</td>\n",
       "    </tr>\n",
       "    <tr>\n",
       "      <th>195</th>\n",
       "      <td>1.550205</td>\n",
       "      <td>-2.154995</td>\n",
       "      <td>-1.153711</td>\n",
       "      <td>2.022612</td>\n",
       "      <td>-1.113718</td>\n",
       "      <td>3</td>\n",
       "    </tr>\n",
       "  </tbody>\n",
       "</table>\n",
       "<p>196 rows × 6 columns</p>\n",
       "</div>"
      ],
      "text/plain": [
       "     principal component1  principal component2  principal component3  \\\n",
       "0                0.013619             -0.354014             -0.535143   \n",
       "1               -1.227717              1.215887             -0.588730   \n",
       "2                1.024588              1.619454             -1.233575   \n",
       "3               -1.622452             -1.090577              0.382201   \n",
       "4                0.834282             -1.504633              0.221069   \n",
       "..                    ...                   ...                   ...   \n",
       "191              0.762773             -1.093802             -0.773340   \n",
       "192              0.292554              1.532189             -1.069253   \n",
       "193              1.904430             -1.687074              0.019837   \n",
       "194             -0.302053              0.096642             -0.643855   \n",
       "195              1.550205             -2.154995             -1.153711   \n",
       "\n",
       "     principal component4  principal component5  0  \n",
       "0                0.896591              0.695361  0  \n",
       "1               -0.046747              0.521211  0  \n",
       "2                1.060102              0.753063  0  \n",
       "3                0.456848             -0.181058  0  \n",
       "4               -0.222926              0.098286  0  \n",
       "..                    ...                   ... ..  \n",
       "191              0.005200             -0.673362  3  \n",
       "192             -0.970368              0.533824  3  \n",
       "193             -0.409462              0.292408  3  \n",
       "194             -0.626315             -0.019890  3  \n",
       "195              2.022612             -1.113718  3  \n",
       "\n",
       "[196 rows x 6 columns]"
      ]
     },
     "execution_count": 898,
     "metadata": {},
     "output_type": "execute_result"
    }
   ],
   "source": [
    "pd.concat([principalDF, labelDF], axis=1)"
   ]
  },
  {
   "cell_type": "code",
   "execution_count": 899,
   "metadata": {},
   "outputs": [],
   "source": [
    "# import matplotlib.pyplot as plt\n",
    "\n",
    "# fig = plt.figure(figsize = (8, 8))\n",
    "# ax = fig.add_subplot(1, 1, 1)\n",
    "# ax.set_xlabel('Principal Component 1', fontsize = 15)\n",
    "# ax.set_ylabel('Principal Component 2', fontsize = 15)\n",
    "# ax.set_title('1 component PCA', fontsize=20)\n",
    "\n",
    "# targets = [0, 1, 2, 3]\n",
    "# colors = ['r', 'g', 'b', 'purple']\n",
    "# for target, color in zip(targets,colors):\n",
    "#     indicesToKeep = VarRatioDF['target'] == target\n",
    "#     ax.scatter(principalDf.loc[indicesToKeep, 'principal component1']\n",
    "#                , principalDf.loc[indicesToKeep, 'principal component2']\n",
    "#                , c = color\n",
    "#                , s = 50, alpha=0.5)\n",
    "# ax.legend(targets)\n",
    "# ax.grid()"
   ]
  },
  {
   "cell_type": "code",
   "execution_count": 900,
   "metadata": {},
   "outputs": [],
   "source": [
    "# last_data = pd.concat([principalDf.loc[:, 'principal component1'], \n",
    "#     principalDf.loc[:, 'principal component2'], \n",
    "#     labelDF], axis=1)\n",
    "\n",
    "# last_data.columns = ['principal component1', 'principal component2', 'label']           "
   ]
  },
  {
   "cell_type": "code",
   "execution_count": 901,
   "metadata": {},
   "outputs": [
    {
     "data": {
      "image/png": "[encoded data removed]",
      "text/plain": [
       "<Figure size 640x480 with 1 Axes>"
      ]
     },
     "metadata": {},
     "output_type": "display_data"
    },
    {
     "data": {
      "text/html": [
       "<div>\n",
       "<style scoped>\n",
       "    .dataframe tbody tr th:only-of-type {\n",
       "        vertical-align: middle;\n",
       "    }\n",
       "\n",
       "    .dataframe tbody tr th {\n",
       "        vertical-align: top;\n",
       "    }\n",
       "\n",
       "    .dataframe thead th {\n",
       "        text-align: right;\n",
       "    }\n",
       "</style>\n",
       "<table border=\"1\" class=\"dataframe\">\n",
       "  <thead>\n",
       "    <tr style=\"text-align: right;\">\n",
       "      <th></th>\n",
       "      <th>axis1</th>\n",
       "      <th>axis2</th>\n",
       "      <th>axis3</th>\n",
       "      <th>axis4</th>\n",
       "      <th>axis5</th>\n",
       "      <th>label</th>\n",
       "    </tr>\n",
       "  </thead>\n",
       "  <tbody>\n",
       "    <tr>\n",
       "      <th>0</th>\n",
       "      <td>0.013619</td>\n",
       "      <td>-0.354014</td>\n",
       "      <td>-0.535143</td>\n",
       "      <td>0.896591</td>\n",
       "      <td>0.695361</td>\n",
       "      <td>0</td>\n",
       "    </tr>\n",
       "    <tr>\n",
       "      <th>1</th>\n",
       "      <td>-1.227717</td>\n",
       "      <td>1.215887</td>\n",
       "      <td>-0.588730</td>\n",
       "      <td>-0.046747</td>\n",
       "      <td>0.521211</td>\n",
       "      <td>0</td>\n",
       "    </tr>\n",
       "    <tr>\n",
       "      <th>2</th>\n",
       "      <td>1.024588</td>\n",
       "      <td>1.619454</td>\n",
       "      <td>-1.233575</td>\n",
       "      <td>1.060102</td>\n",
       "      <td>0.753063</td>\n",
       "      <td>0</td>\n",
       "    </tr>\n",
       "    <tr>\n",
       "      <th>3</th>\n",
       "      <td>-1.622452</td>\n",
       "      <td>-1.090577</td>\n",
       "      <td>0.382201</td>\n",
       "      <td>0.456848</td>\n",
       "      <td>-0.181058</td>\n",
       "      <td>0</td>\n",
       "    </tr>\n",
       "    <tr>\n",
       "      <th>4</th>\n",
       "      <td>0.834282</td>\n",
       "      <td>-1.504633</td>\n",
       "      <td>0.221069</td>\n",
       "      <td>-0.222926</td>\n",
       "      <td>0.098286</td>\n",
       "      <td>0</td>\n",
       "    </tr>\n",
       "    <tr>\n",
       "      <th>...</th>\n",
       "      <td>...</td>\n",
       "      <td>...</td>\n",
       "      <td>...</td>\n",
       "      <td>...</td>\n",
       "      <td>...</td>\n",
       "      <td>...</td>\n",
       "    </tr>\n",
       "    <tr>\n",
       "      <th>191</th>\n",
       "      <td>0.762773</td>\n",
       "      <td>-1.093802</td>\n",
       "      <td>-0.773340</td>\n",
       "      <td>0.005200</td>\n",
       "      <td>-0.673362</td>\n",
       "      <td>3</td>\n",
       "    </tr>\n",
       "    <tr>\n",
       "      <th>192</th>\n",
       "      <td>0.292554</td>\n",
       "      <td>1.532189</td>\n",
       "      <td>-1.069253</td>\n",
       "      <td>-0.970368</td>\n",
       "      <td>0.533824</td>\n",
       "      <td>3</td>\n",
       "    </tr>\n",
       "    <tr>\n",
       "      <th>193</th>\n",
       "      <td>1.904430</td>\n",
       "      <td>-1.687074</td>\n",
       "      <td>0.019837</td>\n",
       "      <td>-0.409462</td>\n",
       "      <td>0.292408</td>\n",
       "      <td>3</td>\n",
       "    </tr>\n",
       "    <tr>\n",
       "      <th>194</th>\n",
       "      <td>-0.302053</td>\n",
       "      <td>0.096642</td>\n",
       "      <td>-0.643855</td>\n",
       "      <td>-0.626315</td>\n",
       "      <td>-0.019890</td>\n",
       "      <td>3</td>\n",
       "    </tr>\n",
       "    <tr>\n",
       "      <th>195</th>\n",
       "      <td>1.550205</td>\n",
       "      <td>-2.154995</td>\n",
       "      <td>-1.153711</td>\n",
       "      <td>2.022612</td>\n",
       "      <td>-1.113718</td>\n",
       "      <td>3</td>\n",
       "    </tr>\n",
       "  </tbody>\n",
       "</table>\n",
       "<p>196 rows × 6 columns</p>\n",
       "</div>"
      ],
      "text/plain": [
       "        axis1     axis2     axis3     axis4     axis5  label\n",
       "0    0.013619 -0.354014 -0.535143  0.896591  0.695361      0\n",
       "1   -1.227717  1.215887 -0.588730 -0.046747  0.521211      0\n",
       "2    1.024588  1.619454 -1.233575  1.060102  0.753063      0\n",
       "3   -1.622452 -1.090577  0.382201  0.456848 -0.181058      0\n",
       "4    0.834282 -1.504633  0.221069 -0.222926  0.098286      0\n",
       "..        ...       ...       ...       ...       ...    ...\n",
       "191  0.762773 -1.093802 -0.773340  0.005200 -0.673362      3\n",
       "192  0.292554  1.532189 -1.069253 -0.970368  0.533824      3\n",
       "193  1.904430 -1.687074  0.019837 -0.409462  0.292408      3\n",
       "194 -0.302053  0.096642 -0.643855 -0.626315 -0.019890      3\n",
       "195  1.550205 -2.154995 -1.153711  2.022612 -1.113718      3\n",
       "\n",
       "[196 rows x 6 columns]"
      ]
     },
     "execution_count": 901,
     "metadata": {},
     "output_type": "execute_result"
    }
   ],
   "source": [
    "# 데이터를 DataFrame으로 생성\n",
    "df = pd.concat([principalDF, labelDF], axis=1)\n",
    "plotDF3D(df ,4)\n",
    "df"
   ]
  },
  {
   "cell_type": "code",
   "execution_count": 902,
   "metadata": {},
   "outputs": [],
   "source": [
    "LDA_DF = pd.concat([pd.DataFrame(LDATransform(principalDF, labelDF, 3, \"eigen\")), labelDF], axis=1)"
   ]
  },
  {
   "cell_type": "code",
   "execution_count": 903,
   "metadata": {},
   "outputs": [],
   "source": [
    "LDA_DF.columns = [f\"axis{i+1}\" for i in range(3)] + [\"label\"]"
   ]
  },
  {
   "cell_type": "code",
   "execution_count": 910,
   "metadata": {},
   "outputs": [],
   "source": [
    "scaler = StandardScaler()\n",
    "scaler.fit(LDA_DF.loc[:, :\"axis3\"])\n",
    "LDA_DF_Scaled = pd.concat([pd.DataFrame(scaler.transform(LDA_DF.loc[:, :\"axis3\"])), labelDF], axis=1)\n",
    "LDA_DF_Scaled.columns = [f\"axis{i+1}\" for i in range(3)] + [\"label\"]"
   ]
  },
  {
   "cell_type": "code",
   "execution_count": 905,
   "metadata": {},
   "outputs": [],
   "source": [
    "np.save(f\"./data/raw/dataframe_raw_{experimentIdx}\", LDA_DF)"
   ]
  },
  {
   "cell_type": "code",
   "execution_count": 906,
   "metadata": {},
   "outputs": [],
   "source": [
    "import sklearn.svm as svm\n",
    "import sklearn.metrics as mt\n",
    "from sklearn.model_selection import cross_val_score, cross_validate"
   ]
  },
  {
   "cell_type": "code",
   "execution_count": 907,
   "metadata": {},
   "outputs": [
    {
     "name": "stdout",
     "output_type": "stream",
     "text": [
      "교차검증 평균:  0.39794871794871794\n",
      "교차검증 평균:  0.4182051282051281\n"
     ]
    }
   ],
   "source": [
    "# SVM, kernel = 'linear'로 선형분리 진행\n",
    "svm_clf =svm.SVC(kernel = 'linear', random_state=100)\n",
    "\n",
    "# 교차검증\n",
    "scores = cross_val_score(svm_clf, LDA_DF_Scaled.loc[:, :\"axis3\"], labelDF, cv = 5)\n",
    "\n",
    "pd.DataFrame(cross_validate(svm_clf, LDA_DF_Scaled.loc[:, :\"axis3\"], labelDF, cv =5))\n",
    "\n",
    "print('교차검증 평균: ', scores.mean())\n",
    "\n",
    "# SVM, kernel = 'rbf'로 비선형분리 진행\n",
    "svm_clf = svm.SVC(kernel = 'rbf')\n",
    "\n",
    "# 교차검증\n",
    "scores = cross_val_score(svm_clf, LDA_DF_Scaled.loc[:, :\"axis3\"], labelDF, cv = 5)\n",
    "scores\n",
    "\n",
    "pd.DataFrame(cross_validate(svm_clf, LDA_DF_Scaled.loc[:, :\"axis3\"], labelDF, cv =5))\n",
    "\n",
    "print('교차검증 평균: ', scores.mean())"
   ]
  },
  {
   "cell_type": "code",
   "execution_count": null,
   "metadata": {},
   "outputs": [],
   "source": []
  }
 ],
 "metadata": {
  "kernelspec": {
   "display_name": "Python 3",
   "language": "python",
   "name": "python3"
  },
  "language_info": {
   "codemirror_mode": {
    "name": "ipython",
    "version": 3
   },
   "file_extension": ".py",
   "mimetype": "text/x-python",
   "name": "python",
   "nbconvert_exporter": "python",
   "pygments_lexer": "ipython3",
   "version": "3.10.5"
  },
  "orig_nbformat": 4
 },
 "nbformat": 4,
 "nbformat_minor": 2
}
