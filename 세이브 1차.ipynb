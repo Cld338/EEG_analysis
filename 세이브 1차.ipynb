{
 "cells": [
  {
   "cell_type": "code",
   "execution_count": 9,
   "metadata": {},
   "outputs": [],
   "source": [
    "import matplotlib.pyplot as plt\n",
    "from scipy.linalg import eigh\n",
    "from scipy.signal import stft\n",
    "from mat4py import loadmat\n",
    "from EEG_analyzer import *\n",
    "from private_tool import *\n",
    "from math import log\n",
    "import pandas as pd\n",
    "import numpy as np"
   ]
  },
  {
   "cell_type": "code",
   "execution_count": 2,
   "metadata": {},
   "outputs": [],
   "source": [
    "currDir = workingDirectory()"
   ]
  },
  {
   "cell_type": "code",
   "execution_count": 3,
   "metadata": {},
   "outputs": [
    {
     "name": "stdout",
     "output_type": "stream",
     "text": [
      "0\n"
     ]
    },
    {
     "name": "stdout",
     "output_type": "stream",
     "text": [
      "1\n",
      "2\n"
     ]
    }
   ],
   "source": [
    "experimentNum = 3\n",
    "data = []\n",
    "for i in range(experimentNum):\n",
    "    print(i)\n",
    "    data.append(loadmat(currDir + f'./동작 상상 제어/data/Left-Right Hand ML//s{str(i+1).zfill(2)}.mat'))\n",
    "data = np.array(data)"
   ]
  },
  {
   "cell_type": "code",
   "execution_count": 4,
   "metadata": {},
   "outputs": [],
   "source": [
    "# 각 subject에 대한 left, right imagery data\n",
    "samplingRate = data[0][\"eeg\"][\"srate\"]  \n",
    "imagine_left = np.array([data[i][\"eeg\"][\"imagery_left\"] for i in range(len(data))])\n",
    "for i in range(experimentNum):\n",
    "    data[i][\"eeg\"][\"imagery_left\"] = []\n",
    "imagine_right = np.array([data[i][\"eeg\"][\"imagery_right\"] for i in range(len(data))])\n",
    "for i in range(experimentNum):\n",
    "    data[i][\"eeg\"][\"imagery_right\"] = []\n",
    "data = []"
   ]
  },
  {
   "cell_type": "code",
   "execution_count": 5,
   "metadata": {},
   "outputs": [
    {
     "name": "stdout",
     "output_type": "stream",
     "text": [
      "64\n"
     ]
    }
   ],
   "source": [
    "data_electrodes = [\"FP1\", \"AF7\", \"AF3\", \"F1\", \"F3\", \"F5\", \"F7\", \"FT7\", \"FC5\", \"FC3\", \"FC1\", \"C1\", \"C3\", \"C5\", \"T7\", \"TP7\", \"CP5\", \"CP3\", \"CP\", \"P1\", \"P3\", \"P5\", \"P7\", \"P9\", \"PO7\", \"PO3\", \"O1\", \n",
    "              \"lz\", \"Oz\", \"POz\", \"Pz\", \"CPz\", \"FPZ\", \"FP2\", \"AD8\", \"AF4\", \"AFZ\", \"FZ\", \"F2\", \"F4\", \"F6\", \"F8\", \"FT8\", \"FC6\", \"FC4\", \"FC2\", \"FCz\", \"Cz\", \"C2\", \"C4\", \"C6\", \"T8\", \"TP8\", \"CP6\",\n",
    "              \"CP4\", \"CP2\", \"P2\", \"P4\", \"P6\", \"P8\", \"P10\", \"PO8\", \"PO4\", \"O2\"]\n",
    "print(len(data_electrodes))"
   ]
  },
  {
   "cell_type": "code",
   "execution_count": 6,
   "metadata": {},
   "outputs": [
    {
     "name": "stdout",
     "output_type": "stream",
     "text": [
      "['FP1', 'FP2', 'FZ', 'F3', 'F4', 'F7', 'F8', 'Cz', 'C3', 'C4', 'T7', 'T8', 'P7', 'P8', 'Pz', 'P3', 'P4', 'O1', 'O2']\n"
     ]
    }
   ],
   "source": [
    "electrodes = [\"FP1\", \"FP2\", \"FZ\", \"F3\", \"F4\", \"F7\", \"F8\", \"Cz\", \"C3\", \"C4\", \"T7\", \"T8\", \"P7\", \"P8\", \"Pz\", \"P3\", \"P4\", \"O1\", \"O2\"]\n",
    "print(electrodes)"
   ]
  },
  {
   "cell_type": "code",
   "execution_count": 7,
   "metadata": {},
   "outputs": [
    {
     "name": "stdout",
     "output_type": "stream",
     "text": [
      "[0, 33, 37, 4, 39, 6, 41, 47, 12, 49, 14, 51, 22, 59, 30, 20, 57, 26, 63]\n",
      "30\n"
     ]
    }
   ],
   "source": [
    "interelectrodes_index = [data_electrodes.index(n) for n in electrodes] # 가지고 있는 DSI-24에 해당하는 채널만 불러오기 위한 인덱스\n",
    "print(interelectrodes_index)\n",
    "print(data_electrodes.index(\"Pz\"))"
   ]
  },
  {
   "cell_type": "code",
   "execution_count": 8,
   "metadata": {},
   "outputs": [
    {
     "name": "stdout",
     "output_type": "stream",
     "text": [
      "(3, 68, 358400)\n",
      "(3, 68, 358400)\n",
      "[0, 33, 37, 4, 39, 6, 41, 47, 12, 49, 14, 51, 22, 59, 30, 20, 57, 26, 63]\n"
     ]
    }
   ],
   "source": [
    "print(imagine_left.shape)\n",
    "print(imagine_right.shape)\n",
    "print(interelectrodes_index)"
   ]
  },
  {
   "cell_type": "code",
   "execution_count": 9,
   "metadata": {},
   "outputs": [],
   "source": [
    "# 주어진 EEG 데이터를 피험자 별로 저장한 array임\n",
    "# 실험 번호 - 채널 번호 - sample index 순으로 저장된 3차원 array\n",
    "imagine_left_data = np.array([[imagine_left[i][j] for j in interelectrodes_index] for i in range(experimentNum)])\n",
    "imagine_left = []"
   ]
  },
  {
   "cell_type": "code",
   "execution_count": 10,
   "metadata": {},
   "outputs": [],
   "source": [
    "imagine_right_data = np.array([[imagine_right[i][j] for j in interelectrodes_index] for i in range(experimentNum)])\n",
    "imagine_right = []"
   ]
  },
  {
   "cell_type": "code",
   "execution_count": 11,
   "metadata": {},
   "outputs": [
    {
     "name": "stdout",
     "output_type": "stream",
     "text": [
      "(3, 19, 358400)\n",
      "(3, 19, 358400)\n"
     ]
    }
   ],
   "source": [
    "imagine_left_data = np.array(imagine_left_data)\n",
    "imagine_right_data = np.array(imagine_right_data)\n",
    "print(imagine_left_data.shape)\n",
    "print(imagine_right_data.shape)"
   ]
  },
  {
   "cell_type": "code",
   "execution_count": 12,
   "metadata": {},
   "outputs": [],
   "source": [
    "# # ================기준 전극 값 빼는거 안 만듦===============\n",
    "# referenceElectrode = electrodes.index(\"Pz\")\n",
    "\n",
    "# imagine_left_data = ([([([imagine_left_data[i][j][k] - imagine_left_data[i][referenceElectrode][k] for k in range(358400)]) for j in range(19)]) for i in range(experimentNum)])\n",
    "# for i in range(experimentNum):\n",
    "#     imagine_left_data[i][referenceElectrode].pop()\n",
    "# imagine_left_data = np.array([np.array([np.array(j) for j in i]) for i in imagine_left_data])\n",
    "\n",
    "# imagine_right_data = ([([([imagine_right_data[i][j][k] - imagine_right_data[i][referenceElectrode][k] for k in range(358400)]) for j in range(19)]) for i in range(experimentNum)])\n",
    "# for i in range(experimentNum):\n",
    "#     imagine_right_data[i][referenceElectrode].pop()\n",
    "# imagine_right_data = np.array([np.array([np.array(j) for j in i]) for i in imagine_right_data])\n",
    "\n"
   ]
  },
  {
   "cell_type": "code",
   "execution_count": 13,
   "metadata": {},
   "outputs": [],
   "source": [
    "sample_rate = samplingRate  # 샘플링 주파수 (Hz)\n",
    "cutoff_low = 2  # 최저 주파수 (Hz)\n",
    "cutoff_high = 50  # 최고 주파수 (Hz)\n",
    "\n",
    "channelNum = len(interelectrodes_index)\n",
    "\n",
    "# 데이터 필터링\n",
    "bandpass_filtered_left_data = [np.array([np.array(bandpass_filter(imagine_left_data[i][j], sample_rate, cutoff_low, cutoff_high)) for j in range(channelNum)]) for i in range(experimentNum)]\n",
    "bandpass_filtered_right_data = [np.array([np.array(bandpass_filter(imagine_right_data[i][j], sample_rate, cutoff_low, cutoff_high)) for j in range(channelNum)]) for i in range(experimentNum)]\n",
    "imagine_left_data = []\n",
    "imagine_right_data = []\n",
    "# bandpass_filtered_left_data = np.array(bandpass_filtered_left_data)\n",
    "# bandpass_filtered_right_data = np.array(bandpass_filtered_right_data)"
   ]
  },
  {
   "cell_type": "code",
   "execution_count": 14,
   "metadata": {},
   "outputs": [
    {
     "name": "stdout",
     "output_type": "stream",
     "text": [
      "3\n"
     ]
    }
   ],
   "source": [
    "print(len(bandpass_filtered_right_data))"
   ]
  },
  {
   "cell_type": "code",
   "execution_count": 15,
   "metadata": {},
   "outputs": [
    {
     "name": "stdout",
     "output_type": "stream",
     "text": [
      "(19, 19)\n",
      "(19, 19)\n"
     ]
    }
   ],
   "source": [
    "left_csp_filter = CSP_filter(experimentNum, bandpass_filtered_left_data)\n",
    "right_csp_filter = CSP_filter(experimentNum, bandpass_filtered_right_data)"
   ]
  },
  {
   "cell_type": "code",
   "execution_count": 16,
   "metadata": {},
   "outputs": [],
   "source": [
    "CSP_passed_left_data = np.array([bandpass_filtered_left_data[i].T@left_csp_filter for i in range(experimentNum)])\n",
    "CSP_passed_right_data = np.array([bandpass_filtered_right_data[i].T@right_csp_filter for i in range(experimentNum)])"
   ]
  },
  {
   "cell_type": "code",
   "execution_count": 17,
   "metadata": {},
   "outputs": [],
   "source": [
    "CSP_passed_left_data = [np.array([j.T for j in i]).T for i in CSP_passed_left_data]\n",
    "CSP_passed_right_data = [np.array([j.T for j in i]).T for i in CSP_passed_right_data]\n",
    "# print(CSP_passed_left_data.shape)\n",
    "# print(CSP_passed_right_data.shape)"
   ]
  },
  {
   "cell_type": "code",
   "execution_count": 18,
   "metadata": {},
   "outputs": [
    {
     "name": "stdout",
     "output_type": "stream",
     "text": [
      "[[6.99052982e+06 2.29272883e+06 4.17832048e+07 6.12749548e+07\n",
      "  1.12691855e+07 2.79528613e+06 4.12421759e+06 3.19910420e+07\n",
      "  3.11650398e+07 1.33817025e+07 8.58606388e+06 2.49590225e+07\n",
      "  7.96068437e+06 4.96638468e+07 2.98853900e+07 3.60716688e+08\n",
      "  2.84892655e+07 1.00825625e+07 5.90275073e+07]\n",
      " [1.32898371e+06 7.99190745e+05 7.91858264e+07 5.60087427e+06\n",
      "  8.48943385e+06 7.13278522e+06 1.32628944e+06 4.01280790e+07\n",
      "  4.70658030e+06 3.60285044e+06 2.59117132e+06 5.56885568e+06\n",
      "  6.23272568e+06 5.55734466e+06 2.82391598e+07 5.07099285e+07\n",
      "  8.88631668e+06 2.48314439e+06 7.71510535e+06]\n",
      " [4.01781237e+06 4.54816193e+06 4.21588587e+07 1.81922506e+07\n",
      "  1.82798206e+07 1.82686458e+06 1.18238167e+07 1.92361216e+07\n",
      "  1.61400406e+07 1.60408200e+07 7.30471806e+06 1.35782176e+07\n",
      "  5.50159655e+06 5.80488546e+06 3.53836218e+07 3.91960904e+07\n",
      "  2.72116959e+07 3.07451273e+06 1.18986544e+07]]\n"
     ]
    }
   ],
   "source": [
    "m = 3\n",
    "leftVar = np.array([np.array([np.var(CSP_passed_left_data[i][j]) for j in range(channelNum)]) for i in range(experimentNum)])\n",
    "rightVar = np.array([np.array([np.var(CSP_passed_right_data[i][j]) for j in range(channelNum)]) for i in range(experimentNum)])\n",
    "\n",
    "leftVarRatio = np.array([np.array([log(leftVar[i][j-m]/sum(leftVar[i])) for j in range(m*2)]) for i in range(experimentNum)])\n",
    "rightVarRatio = np.array([np.array([log(rightVar[i][j-m]/sum(rightVar[i])) for j in range(m*2)]) for i in range(experimentNum)])\n",
    "print(leftVar)"
   ]
  },
  {
   "cell_type": "code",
   "execution_count": 19,
   "metadata": {},
   "outputs": [
    {
     "name": "stdout",
     "output_type": "stream",
     "text": [
      "[[-3.31798769 -4.35670762 -2.5895115  -4.72295871 -5.83777232 -2.9350206 ]\n",
      " [-3.414963   -4.68994999 -3.55629551 -5.31506112 -5.82363128 -1.22767832]\n",
      " [-2.40418924 -4.58468969 -3.2314108  -4.31709855 -4.19311294 -1.96639128]]\n"
     ]
    }
   ],
   "source": [
    "print(leftVarRatio)"
   ]
  },
  {
   "cell_type": "code",
   "execution_count": 20,
   "metadata": {},
   "outputs": [],
   "source": [
    "leftVarRatioDF = pd.DataFrame(leftVarRatio)\n",
    "rightVarRatioDF = pd.DataFrame(rightVarRatio)\n",
    "labelDF = pd.DataFrame([0]*experimentNum + [1]*experimentNum)"
   ]
  },
  {
   "cell_type": "code",
   "execution_count": 21,
   "metadata": {},
   "outputs": [
    {
     "data": {
      "text/html": [
       "<div>\n",
       "<style scoped>\n",
       "    .dataframe tbody tr th:only-of-type {\n",
       "        vertical-align: middle;\n",
       "    }\n",
       "\n",
       "    .dataframe tbody tr th {\n",
       "        vertical-align: top;\n",
       "    }\n",
       "\n",
       "    .dataframe thead th {\n",
       "        text-align: right;\n",
       "    }\n",
       "</style>\n",
       "<table border=\"1\" class=\"dataframe\">\n",
       "  <thead>\n",
       "    <tr style=\"text-align: right;\">\n",
       "      <th></th>\n",
       "      <th>0</th>\n",
       "      <th>1</th>\n",
       "      <th>2</th>\n",
       "      <th>3</th>\n",
       "      <th>4</th>\n",
       "      <th>5</th>\n",
       "      <th>target</th>\n",
       "    </tr>\n",
       "  </thead>\n",
       "  <tbody>\n",
       "    <tr>\n",
       "      <th>0</th>\n",
       "      <td>-3.317988</td>\n",
       "      <td>-4.356708</td>\n",
       "      <td>-2.589512</td>\n",
       "      <td>-4.722959</td>\n",
       "      <td>-5.837772</td>\n",
       "      <td>-2.935021</td>\n",
       "      <td>0</td>\n",
       "    </tr>\n",
       "    <tr>\n",
       "      <th>1</th>\n",
       "      <td>-3.414963</td>\n",
       "      <td>-4.689950</td>\n",
       "      <td>-3.556296</td>\n",
       "      <td>-5.315061</td>\n",
       "      <td>-5.823631</td>\n",
       "      <td>-1.227678</td>\n",
       "      <td>0</td>\n",
       "    </tr>\n",
       "    <tr>\n",
       "      <th>2</th>\n",
       "      <td>-2.404189</td>\n",
       "      <td>-4.584690</td>\n",
       "      <td>-3.231411</td>\n",
       "      <td>-4.317099</td>\n",
       "      <td>-4.193113</td>\n",
       "      <td>-1.966391</td>\n",
       "      <td>0</td>\n",
       "    </tr>\n",
       "    <tr>\n",
       "      <th>3</th>\n",
       "      <td>-2.883258</td>\n",
       "      <td>-4.305901</td>\n",
       "      <td>-5.395952</td>\n",
       "      <td>-5.889678</td>\n",
       "      <td>-5.651168</td>\n",
       "      <td>-3.044117</td>\n",
       "      <td>1</td>\n",
       "    </tr>\n",
       "    <tr>\n",
       "      <th>4</th>\n",
       "      <td>-3.041422</td>\n",
       "      <td>-4.694849</td>\n",
       "      <td>-3.779428</td>\n",
       "      <td>-6.072482</td>\n",
       "      <td>-5.136676</td>\n",
       "      <td>-1.269051</td>\n",
       "      <td>1</td>\n",
       "    </tr>\n",
       "    <tr>\n",
       "      <th>5</th>\n",
       "      <td>-2.219166</td>\n",
       "      <td>-2.537698</td>\n",
       "      <td>-3.966277</td>\n",
       "      <td>-3.149424</td>\n",
       "      <td>-3.468024</td>\n",
       "      <td>-2.869783</td>\n",
       "      <td>1</td>\n",
       "    </tr>\n",
       "  </tbody>\n",
       "</table>\n",
       "</div>"
      ],
      "text/plain": [
       "          0         1         2         3         4         5  target\n",
       "0 -3.317988 -4.356708 -2.589512 -4.722959 -5.837772 -2.935021       0\n",
       "1 -3.414963 -4.689950 -3.556296 -5.315061 -5.823631 -1.227678       0\n",
       "2 -2.404189 -4.584690 -3.231411 -4.317099 -4.193113 -1.966391       0\n",
       "3 -2.883258 -4.305901 -5.395952 -5.889678 -5.651168 -3.044117       1\n",
       "4 -3.041422 -4.694849 -3.779428 -6.072482 -5.136676 -1.269051       1\n",
       "5 -2.219166 -2.537698 -3.966277 -3.149424 -3.468024 -2.869783       1"
      ]
     },
     "execution_count": 21,
     "metadata": {},
     "output_type": "execute_result"
    }
   ],
   "source": [
    "VarRatioDF = pd.concat([leftVarRatioDF, rightVarRatioDF], axis=0)\n",
    "VarRatioDF = VarRatioDF.reset_index()\n",
    "VarRatioDF = pd.concat([VarRatioDF, labelDF], axis=1).iloc[:,1:]\n",
    "VarRatioDF.columns = [f\"{m}\" for m in range(m*2)] + [\"target\"]\n",
    "VarRatioDF"
   ]
  },
  {
   "cell_type": "code",
   "execution_count": 22,
   "metadata": {},
   "outputs": [
    {
     "data": {
      "text/html": [
       "<div>\n",
       "<style scoped>\n",
       "    .dataframe tbody tr th:only-of-type {\n",
       "        vertical-align: middle;\n",
       "    }\n",
       "\n",
       "    .dataframe tbody tr th {\n",
       "        vertical-align: top;\n",
       "    }\n",
       "\n",
       "    .dataframe thead th {\n",
       "        text-align: right;\n",
       "    }\n",
       "</style>\n",
       "<table border=\"1\" class=\"dataframe\">\n",
       "  <thead>\n",
       "    <tr style=\"text-align: right;\">\n",
       "      <th></th>\n",
       "      <th>0</th>\n",
       "      <th>1</th>\n",
       "      <th>2</th>\n",
       "      <th>3</th>\n",
       "      <th>4</th>\n",
       "      <th>5</th>\n",
       "    </tr>\n",
       "  </thead>\n",
       "  <tbody>\n",
       "    <tr>\n",
       "      <th>0</th>\n",
       "      <td>-0.992670</td>\n",
       "      <td>-0.213864</td>\n",
       "      <td>1.357301</td>\n",
       "      <td>0.188767</td>\n",
       "      <td>-0.914289</td>\n",
       "      <td>-0.929204</td>\n",
       "    </tr>\n",
       "    <tr>\n",
       "      <th>1</th>\n",
       "      <td>-1.212541</td>\n",
       "      <td>-0.654496</td>\n",
       "      <td>0.229613</td>\n",
       "      <td>-0.405252</td>\n",
       "      <td>-0.898510</td>\n",
       "      <td>1.285462</td>\n",
       "    </tr>\n",
       "    <tr>\n",
       "      <th>2</th>\n",
       "      <td>1.079170</td>\n",
       "      <td>-0.515315</td>\n",
       "      <td>0.608569</td>\n",
       "      <td>0.595941</td>\n",
       "      <td>0.920883</td>\n",
       "      <td>0.327246</td>\n",
       "    </tr>\n",
       "    <tr>\n",
       "      <th>3</th>\n",
       "      <td>-0.007014</td>\n",
       "      <td>-0.146685</td>\n",
       "      <td>-1.916223</td>\n",
       "      <td>-0.981728</td>\n",
       "      <td>-0.706069</td>\n",
       "      <td>-1.070718</td>\n",
       "    </tr>\n",
       "    <tr>\n",
       "      <th>4</th>\n",
       "      <td>-0.365617</td>\n",
       "      <td>-0.660973</td>\n",
       "      <td>-0.030657</td>\n",
       "      <td>-1.165124</td>\n",
       "      <td>-0.131979</td>\n",
       "      <td>1.231796</td>\n",
       "    </tr>\n",
       "    <tr>\n",
       "      <th>5</th>\n",
       "      <td>1.498672</td>\n",
       "      <td>2.191334</td>\n",
       "      <td>-0.248603</td>\n",
       "      <td>1.767395</td>\n",
       "      <td>1.729964</td>\n",
       "      <td>-0.844582</td>\n",
       "    </tr>\n",
       "  </tbody>\n",
       "</table>\n",
       "</div>"
      ],
      "text/plain": [
       "          0         1         2         3         4         5\n",
       "0 -0.992670 -0.213864  1.357301  0.188767 -0.914289 -0.929204\n",
       "1 -1.212541 -0.654496  0.229613 -0.405252 -0.898510  1.285462\n",
       "2  1.079170 -0.515315  0.608569  0.595941  0.920883  0.327246\n",
       "3 -0.007014 -0.146685 -1.916223 -0.981728 -0.706069 -1.070718\n",
       "4 -0.365617 -0.660973 -0.030657 -1.165124 -0.131979  1.231796\n",
       "5  1.498672  2.191334 -0.248603  1.767395  1.729964 -0.844582"
      ]
     },
     "execution_count": 22,
     "metadata": {},
     "output_type": "execute_result"
    }
   ],
   "source": [
    "from sklearn.preprocessing import StandardScaler, RobustScaler\n",
    "x = VarRatioDF.drop(['target'], axis=1).values \n",
    "y = VarRatioDF['target'].values # 종속변인 추출\n",
    "x = StandardScaler().fit_transform(x)\n",
    "pd.DataFrame(x)"
   ]
  },
  {
   "cell_type": "code",
   "execution_count": 11,
   "metadata": {},
   "outputs": [
    {
     "ename": "NameError",
     "evalue": "name 'PrincipalComponentAnalysis' is not defined",
     "output_type": "error",
     "traceback": [
      "\u001b[1;31m---------------------------------------------------------------------------\u001b[0m",
      "\u001b[1;31mNameError\u001b[0m                                 Traceback (most recent call last)",
      "\u001b[1;32mc:\\Users\\jihun\\OneDrive\\바탕 화면\\openvibe\\source code\\세이브 1차.ipynb 셀 23\u001b[0m in \u001b[0;36m<cell line: 1>\u001b[1;34m()\u001b[0m\n\u001b[1;32m----> <a href='vscode-notebook-cell:/c%3A/Users/jihun/OneDrive/%EB%B0%94%ED%83%95%20%ED%99%94%EB%A9%B4/openvibe/source%20code/%EC%84%B8%EC%9D%B4%EB%B8%8C%201%EC%B0%A8.ipynb#X31sZmlsZQ%3D%3D?line=0'>1</a>\u001b[0m PCA \u001b[39m=\u001b[39m PrincipalComponentAnalysis(n_componunts\u001b[39m=\u001b[39m\u001b[39m5\u001b[39m, data\u001b[39m=\u001b[39mx)\n\u001b[0;32m      <a href='vscode-notebook-cell:/c%3A/Users/jihun/OneDrive/%EB%B0%94%ED%83%95%20%ED%99%94%EB%A9%B4/openvibe/source%20code/%EC%84%B8%EC%9D%B4%EB%B8%8C%201%EC%B0%A8.ipynb#X31sZmlsZQ%3D%3D?line=1'>2</a>\u001b[0m principalDf \u001b[39m=\u001b[39m PCA\u001b[39m.\u001b[39mprincipalDf\n",
      "\u001b[1;31mNameError\u001b[0m: name 'PrincipalComponentAnalysis' is not defined"
     ]
    }
   ],
   "source": [
    "PCA = PrincipalComponentAnalysis(n_componunts=5, data=x)\n",
    "principalDf = PCA.principalDf"
   ]
  },
  {
   "cell_type": "code",
   "execution_count": 6,
   "metadata": {},
   "outputs": [
    {
     "ename": "AttributeError",
     "evalue": "type object 'PCA' has no attribute 'explained_variance_ratio_'",
     "output_type": "error",
     "traceback": [
      "\u001b[1;31m---------------------------------------------------------------------------\u001b[0m",
      "\u001b[1;31mAttributeError\u001b[0m                            Traceback (most recent call last)",
      "\u001b[1;32mc:\\Users\\jihun\\OneDrive\\바탕 화면\\openvibe\\source code\\세이브 1차.ipynb 셀 24\u001b[0m in \u001b[0;36m<cell line: 1>\u001b[1;34m()\u001b[0m\n\u001b[1;32m----> <a href='vscode-notebook-cell:/c%3A/Users/jihun/OneDrive/%EB%B0%94%ED%83%95%20%ED%99%94%EB%A9%B4/openvibe/source%20code/%EC%84%B8%EC%9D%B4%EB%B8%8C%201%EC%B0%A8.ipynb#X41sZmlsZQ%3D%3D?line=0'>1</a>\u001b[0m PCA\u001b[39m.\u001b[39;49mexplained_variance_ratio_\n",
      "\u001b[1;31mAttributeError\u001b[0m: type object 'PCA' has no attribute 'explained_variance_ratio_'"
     ]
    }
   ],
   "source": [
    "PCA.explained_variance_ratio_"
   ]
  },
  {
   "cell_type": "code",
   "execution_count": 24,
   "metadata": {},
   "outputs": [
    {
     "data": {
      "image/png": "[encoded data removed]",
      "text/plain": [
       "<Figure size 800x800 with 1 Axes>"
      ]
     },
     "metadata": {},
     "output_type": "display_data"
    }
   ],
   "source": [
    "import matplotlib.pyplot as plt\n",
    "\n",
    "fig = plt.figure(figsize = (8, 8))\n",
    "ax = fig.add_subplot(1, 1, 1)\n",
    "ax.set_xlabel('Principal Component 1', fontsize = 15)\n",
    "ax.set_ylabel('Principal Component 2', fontsize = 15)\n",
    "ax.set_title('2 component PCA', fontsize=20)\n",
    "\n",
    "targets = [0, 1]\n",
    "colors = ['r', 'b']\n",
    "for target, color in zip(targets,colors):\n",
    "    indicesToKeep = VarRatioDF['target'] == target\n",
    "    ax.scatter(principalDf.loc[indicesToKeep, 'principal component1']\n",
    "               , principalDf.loc[indicesToKeep, 'principal component2']\n",
    "               , c = color\n",
    "               , s = 50)\n",
    "ax.legend(targets)\n",
    "ax.grid()"
   ]
  },
  {
   "cell_type": "code",
   "execution_count": 26,
   "metadata": {},
   "outputs": [
    {
     "data": {
      "text/plain": [
       "array([[-0.724503  , -0.70209539,  1.8801143 ,  0.19713917,  0.1297727 ],\n",
       "       [-1.89164701, -0.605354  , -0.21870381, -0.68848228, -0.32967046],\n",
       "       [ 0.88382118, -0.97969143, -0.72883379,  0.89855937, -0.17673172],\n",
       "       [-0.51001131,  2.44191897,  0.10613494,  0.2471285 , -0.08259839],\n",
       "       [-1.45130122, -0.20003858, -1.06577576, -0.11452992,  0.4104515 ],\n",
       "       [ 3.69364136,  0.04526043,  0.02706412, -0.53981484,  0.04877638]])"
      ]
     },
     "execution_count": 26,
     "metadata": {},
     "output_type": "execute_result"
    }
   ],
   "source": [
    "principalDf = principalDf.to_numpy()\n",
    "principalDf"
   ]
  },
  {
   "cell_type": "code",
   "execution_count": 31,
   "metadata": {},
   "outputs": [],
   "source": [
    "principalDf_lda = lda(principalDf, y, 1)"
   ]
  },
  {
   "cell_type": "code",
   "execution_count": 32,
   "metadata": {},
   "outputs": [
    {
     "data": {
      "image/png": "[encoded data removed]",
      "text/plain": [
       "<Figure size 640x480 with 1 Axes>"
      ]
     },
     "metadata": {},
     "output_type": "display_data"
    }
   ],
   "source": [
    "colors = [\"r\", \"b\"]\n",
    "labels = [\"left\", \"right\"]\n",
    "for i in range(y.shape[0]):\n",
    "    plt.scatter(principalDf_lda[i], 0, c=colors[y[i]])"
   ]
  },
  {
   "cell_type": "code",
   "execution_count": null,
   "metadata": {},
   "outputs": [],
   "source": []
  }
 ],
 "metadata": {
  "kernelspec": {
   "display_name": "Python 3",
   "language": "python",
   "name": "python3"
  },
  "language_info": {
   "codemirror_mode": {
    "name": "ipython",
    "version": 3
   },
   "file_extension": ".py",
   "mimetype": "text/x-python",
   "name": "python",
   "nbconvert_exporter": "python",
   "pygments_lexer": "ipython3",
   "version": "3.10.5"
  },
  "orig_nbformat": 4
 },
 "nbformat": 4,
 "nbformat_minor": 2
}
