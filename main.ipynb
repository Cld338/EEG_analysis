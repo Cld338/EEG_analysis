{
 "cells": [
  {
   "cell_type": "code",
   "execution_count": null,
   "metadata": {},
   "outputs": [],
   "source": [
    "from sklearn.preprocessing import StandardScaler\n",
    "import pandas as pd\n",
    "import warnings"
   ]
  },
  {
   "cell_type": "code",
   "execution_count": null,
   "metadata": {},
   "outputs": [],
   "source": [
    "from local_libs.featureExtraction import *\n",
    "from local_libs.dataAnalyzer import *\n",
    "from local_libs.private_tool import *\n",
    "from local_libs.dataHandler import *"
   ]
  },
  {
   "cell_type": "code",
   "execution_count": null,
   "metadata": {},
   "outputs": [],
   "source": [
    "warnings.filterwarnings('ignore')"
   ]
  },
  {
   "cell_type": "code",
   "execution_count": null,
   "metadata": {},
   "outputs": [],
   "source": [
    "experimentNum = 9\n",
    "Experiments = [MotorImageryDataset(parentDirectory(dir=currDir, separator=\"\\\\\", n=1)+'/bcicompetitionIV2a/A0'+str(i+1)+'T.npz') for i in range(experimentNum)]"
   ]
  },
  {
   "cell_type": "code",
   "execution_count": null,
   "metadata": {},
   "outputs": [],
   "source": [
    "channels = list(range(25))\n",
    "samplingRate = 250 #Hz\n",
    "trialsByClasses = np.array([i.get_trials_by_classes(channels=channels) for i in Experiments])"
   ]
  },
  {
   "cell_type": "code",
   "execution_count": null,
   "metadata": {},
   "outputs": [],
   "source": [
    "for i in range(len(trialsByClasses)):\n",
    "    for j in trialsByClasses[i].keys():\n",
    "        for k in range(len(trialsByClasses[i][j])):\n",
    "            for l in range(len(trialsByClasses[i][j][k])):\n",
    "                trialsByClasses[i][j][k][l] = trialsByClasses[i][j][k][l][749:1500]\n"
   ]
  },
  {
   "cell_type": "code",
   "execution_count": null,
   "metadata": {},
   "outputs": [],
   "source": [
    "channelNum = len(channels)\n",
    "m = len(trialsByClasses[0][\"left\"])\n",
    "channelNum, m"
   ]
  },
  {
   "cell_type": "code",
   "execution_count": null,
   "metadata": {},
   "outputs": [],
   "source": [
    "bandpassedTrialsByClasses = [{i:[[] for _ in range(channelNum)] for i in j.mi_types.values()} for j in Experiments]\n",
    "for k in range(experimentNum):\n",
    "    for key in trialsByClasses[k].keys():\n",
    "        for i in range(channelNum):\n",
    "            bandpassedTrialsByClasses[k][key][i] = np.array([bandpass_filter(data=trialsByClasses[k][key][i][j], \n",
    "                                                                sample_rate=samplingRate, \n",
    "                                                                cutoff_low=8, \n",
    "                                                                cutoff_high=12)\\\n",
    "                                                for j in range(len(trialsByClasses[k][key][i]))])"
   ]
  },
  {
   "cell_type": "code",
   "execution_count": null,
   "metadata": {},
   "outputs": [],
   "source": [
    "# 현재 상태는 experiment - class - channel - trial - signal\n",
    "# class - experiment - trial - channel - signal로 수정하자\n",
    "bandpassedTrialsByClasses = {key: np.array([[bandpassedTrialsByClasses[i][key][j] for j in range(channelNum)] for i in range(experimentNum)]) for key in Experiments[0].mi_types.values()}\n",
    "# i: experiment\n",
    "# j: trial"
   ]
  },
  {
   "cell_type": "code",
   "execution_count": null,
   "metadata": {},
   "outputs": [],
   "source": [
    "minTrialsNum = sorted([sorted([len(bandpassedTrialsByClasses[\"left\"][i][0]) for i in range(experimentNum)])[0], sorted([len(bandpassedTrialsByClasses[\"right\"][i][0]) for i in range(experimentNum)])[0], sorted([len(bandpassedTrialsByClasses[\"tongue\"][i][0]) for i in range(experimentNum)])[0], sorted([len(bandpassedTrialsByClasses[\"foot\"][i][0]) for i in range(experimentNum)])[0]])[0]\n",
    "bandpassedTrialsByClasses = {i:[bandpassedTrialsByClasses[i][j] for j in range(experimentNum)] for i in Experiments[0].mi_types.values()}\n",
    "minTrialsNum"
   ]
  },
  {
   "cell_type": "code",
   "execution_count": null,
   "metadata": {},
   "outputs": [],
   "source": [
    "experimentIdx = 3"
   ]
  },
  {
   "cell_type": "code",
   "execution_count": null,
   "metadata": {},
   "outputs": [],
   "source": [
    "left_csp_filter = CSP_filter(np.array([i[:minTrialsNum] for i in bandpassedTrialsByClasses[\"left\"][experimentIdx]]), np.array([j[:minTrialsNum] for i in [\"right\", \"tongue\", \"foot\"] for j in bandpassedTrialsByClasses[i][experimentIdx]]))\n",
    "right_csp_filter = CSP_filter(np.array([i[:minTrialsNum] for i in bandpassedTrialsByClasses[\"right\"][experimentIdx]]), np.array([j[:minTrialsNum] for i in [\"left\", \"right\", \"tongue\", \"foot\"] for j in bandpassedTrialsByClasses[i][experimentIdx]]))\n",
    "tongue_csp_filter = CSP_filter(np.array([i[:minTrialsNum] for i in bandpassedTrialsByClasses[\"tongue\"][experimentIdx]]), np.array([j[:minTrialsNum] for i in [\"left\", \"tongue\", \"foot\"] for j in bandpassedTrialsByClasses[i][experimentIdx]]))\n",
    "foot_csp_filter = CSP_filter(np.array([i[:minTrialsNum] for i in bandpassedTrialsByClasses[\"foot\"][experimentIdx]]), np.array([j[:minTrialsNum] for i in [\"left\", \"right\", \"tongue\"] for j in bandpassedTrialsByClasses[i][experimentIdx]]))"
   ]
  },
  {
   "cell_type": "code",
   "execution_count": null,
   "metadata": {},
   "outputs": [],
   "source": [
    "bandpassedTrials = {i:[] for i in Experiments[0].mi_types.values()}\n",
    "for i in Experiments[0].mi_types.values():\n",
    "    for j in range(len(bandpassedTrialsByClasses)):\n",
    "        bandpassedTrials[i]"
   ]
  },
  {
   "cell_type": "code",
   "execution_count": null,
   "metadata": {},
   "outputs": [],
   "source": [
    "# CSP_passed_left_data = np.array([[bandpassedTrialsByClasses[i][j].T@left_csp_filter for j in range(minTrialsNum)] for i in range(experimentNum)])\n",
    "CSP_passed_left_data = [j[:minTrialsNum].T@left_csp_filter for j in bandpassedTrialsByClasses[\"left\"][experimentIdx]]\n",
    "CSP_passed_right_data = [j[:minTrialsNum].T@right_csp_filter for j in bandpassedTrialsByClasses[\"right\"][experimentIdx]]\n",
    "CSP_passed_tongue_data = [j[:minTrialsNum].T@tongue_csp_filter for j in bandpassedTrialsByClasses[\"tongue\"][experimentIdx]]\n",
    "CSP_passed_foot_data = [j[:minTrialsNum].T@foot_csp_filter for j in bandpassedTrialsByClasses[\"foot\"][experimentIdx]]"
   ]
  },
  {
   "cell_type": "code",
   "execution_count": null,
   "metadata": {},
   "outputs": [],
   "source": [
    "len(CSP_passed_left_data)"
   ]
  },
  {
   "cell_type": "code",
   "execution_count": null,
   "metadata": {},
   "outputs": [],
   "source": [
    "# bandpassedTrialsByClasses[\"right\"][0][\"right\"][0]"
   ]
  },
  {
   "cell_type": "code",
   "execution_count": null,
   "metadata": {},
   "outputs": [],
   "source": [
    "CSP_passed_left_data = [np.array([j.T for j in i]).T for i in CSP_passed_left_data]\n",
    "CSP_passed_right_data = [np.array([j.T for j in i]).T for i in CSP_passed_right_data]\n",
    "CSP_passed_tongue_data = [np.array([j.T for j in i]).T for i in CSP_passed_tongue_data]\n",
    "CSP_passed_foot_data = [np.array([j.T for j in i]).T for i in CSP_passed_foot_data]\n",
    "np.array(CSP_passed_left_data).shape"
   ]
  },
  {
   "cell_type": "code",
   "execution_count": null,
   "metadata": {},
   "outputs": [],
   "source": [
    "CSP_passed_left_data = np.array([i.T for i in np.array(CSP_passed_left_data).T]).T\n",
    "CSP_passed_right_data = np.array([i.T for i in np.array(CSP_passed_right_data).T]).T\n",
    "CSP_passed_tongue_data = np.array([i.T for i in np.array(CSP_passed_tongue_data).T]).T\n",
    "CSP_passed_foot_data = np.array([i.T for i in np.array(CSP_passed_foot_data).T]).T\n",
    "CSP_passed_left_data.shape"
   ]
  },
  {
   "cell_type": "code",
   "execution_count": null,
   "metadata": {},
   "outputs": [],
   "source": [
    "# m = 12\n",
    "\n",
    "# leftVarRatioDF = twoMDimensionalFeature(CSP_passed_left_data, channelNum, minTrialsNum, m)\n",
    "# rightVarRatioDF = twoMDimensionalFeature(CSP_passed_right_data, channelNum, minTrialsNum, m)\n",
    "# tongueVarRatioDF = twoMDimensionalFeature(CSP_passed_tongue_data, channelNum, minTrialsNum, m)\n",
    "# footVarRatioDF = twoMDimensionalFeature(CSP_passed_foot_data, channelNum, minTrialsNum, m)\n",
    "\n",
    "# VarRatioDF = pd.concat([leftVarRatioDF, rightVarRatioDF, tongueVarRatioDF, footVarRatioDF], axis=0)\n",
    "# labelDF = pd.DataFrame([i for i in range(4) for j in range(minTrialsNum)])\n",
    "\n",
    "# VarRatioDF = VarRatioDF.reset_index()\n",
    "# VarRatioDF = pd.concat([VarRatioDF, labelDF], axis=1).iloc[:, 1:]\n",
    "# VarRatioDF.columns = [f\"{n}\" for n in range(m*2)] + [\"target\"]\n",
    "# VarRatioDF"
   ]
  },
  {
   "cell_type": "code",
   "execution_count": null,
   "metadata": {},
   "outputs": [],
   "source": [
    "leftVarRatioDF = pd.DataFrame(MAVFeature(CSP_passed_left_data))\n",
    "rightVarRatioDF = pd.DataFrame(MAVFeature(CSP_passed_right_data))\n",
    "tongueVarRatioDF = pd.DataFrame(MAVFeature(CSP_passed_tongue_data))\n",
    "footVarRatioDF = pd.DataFrame(MAVFeature(CSP_passed_foot_data))\n",
    "\n",
    "VarRatioDF = pd.concat([leftVarRatioDF, rightVarRatioDF, tongueVarRatioDF, footVarRatioDF], axis=0)\n",
    "labelDF = pd.DataFrame([i for i in range(4) for j in range(minTrialsNum)])\n",
    "\n",
    "VarRatioDF = VarRatioDF.reset_index()\n",
    "VarRatioDF = pd.concat([VarRatioDF, labelDF], axis=1).iloc[:, 1:]\n",
    "VarRatioDF.columns = [f\"{n}\" for n in range(25)] + [\"target\"]\n",
    "VarRatioDF"
   ]
  },
  {
   "cell_type": "code",
   "execution_count": null,
   "metadata": {},
   "outputs": [],
   "source": [
    "x = VarRatioDF.drop(['target'], axis=1).values \n",
    "y = VarRatioDF['target'].values # 종속변인 추출\n",
    "x = StandardScaler().fit_transform(x)\n",
    "pd.DataFrame(x)"
   ]
  },
  {
   "cell_type": "code",
   "execution_count": null,
   "metadata": {},
   "outputs": [],
   "source": [
    "plotDF3D(data=VarRatioDF, num_of_classes=4)"
   ]
  },
  {
   "cell_type": "code",
   "execution_count": null,
   "metadata": {},
   "outputs": [],
   "source": [
    "# cross_validation(\"linear\", VarRatioDF.drop(['label'], axis=1).values, labelDF)\n",
    "# cross_validation(\"rbf\", VarRatioDF.drop(['label'], axis=1).values, labelDF)"
   ]
  },
  {
   "cell_type": "code",
   "execution_count": null,
   "metadata": {},
   "outputs": [],
   "source": [
    "# n_componunts = 3\n",
    "# PCA = PrincipalComponuntAnalysis(n_componunts=n_componunts, data=x)\n",
    "# principalDF = PCA.principalDf"
   ]
  },
  {
   "cell_type": "code",
   "execution_count": null,
   "metadata": {},
   "outputs": [],
   "source": [
    "# sum(PCA.explained_variance_ratio_())"
   ]
  },
  {
   "cell_type": "code",
   "execution_count": null,
   "metadata": {},
   "outputs": [],
   "source": [
    "# cross_validation(\"linear\", principalDF, labelDF)\n",
    "# cross_validation(\"rbf\", principalDF, labelDF)"
   ]
  },
  {
   "cell_type": "code",
   "execution_count": null,
   "metadata": {},
   "outputs": [],
   "source": [
    "# df = pd.concat([principalDF, labelDF], axis=1)\n",
    "# plotDF3D(data=df, num_of_classes=4)"
   ]
  },
  {
   "cell_type": "code",
   "execution_count": null,
   "metadata": {},
   "outputs": [],
   "source": [
    "np.save(currDir+\"/test.npy\", VarRatioDF)"
   ]
  },
  {
   "cell_type": "code",
   "execution_count": null,
   "metadata": {},
   "outputs": [],
   "source": [
    "LDA_DF = pd.concat([pd.DataFrame(LDATransform(x, labelDF, 3, \"eigen\")), labelDF], axis=1)\n",
    "LDA_DF.columns = [f\"axis{i+1}\" for i in range(3)] + [\"label\"]"
   ]
  },
  {
   "cell_type": "code",
   "execution_count": null,
   "metadata": {},
   "outputs": [],
   "source": [
    "cross_validation(\"linear\", LDA_DF.loc[:,:\"axis3\"], labelDF)\n",
    "cross_validation(\"rbf\", LDA_DF.loc[:,:\"axis3\"], labelDF)"
   ]
  },
  {
   "cell_type": "code",
   "execution_count": null,
   "metadata": {},
   "outputs": [],
   "source": [
    "plotDF3D(data=LDA_DF, num_of_classes=4)"
   ]
  },
  {
   "cell_type": "code",
   "execution_count": null,
   "metadata": {},
   "outputs": [],
   "source": [
    "scaler = StandardScaler()\n",
    "scaler.fit(LDA_DF.loc[:, :\"axis3\"])\n",
    "LDA_DF_Scaled = pd.concat([pd.DataFrame(scaler.transform(LDA_DF.loc[:, :\"axis3\"])), labelDF], axis=1)\n",
    "LDA_DF_Scaled.columns = [f\"axis{i+1}\" for i in range(3)] + [\"label\"]"
   ]
  },
  {
   "cell_type": "code",
   "execution_count": null,
   "metadata": {},
   "outputs": [],
   "source": [
    "cross_validation(\"linear\", LDA_DF_Scaled.loc[:,:\"axis3\"], labelDF)\n",
    "cross_validation(\"rbf\", LDA_DF_Scaled.loc[:,:\"axis3\"], labelDF)"
   ]
  },
  {
   "cell_type": "code",
   "execution_count": null,
   "metadata": {},
   "outputs": [],
   "source": [
    "np.save(currDir+\"/test.npy\", LDA_DF_Scaled)"
   ]
  },
  {
   "cell_type": "code",
   "execution_count": null,
   "metadata": {},
   "outputs": [],
   "source": []
  }
 ],
 "metadata": {
  "kernelspec": {
   "display_name": "Python 3",
   "language": "python",
   "name": "python3"
  },
  "language_info": {
   "codemirror_mode": {
    "name": "ipython",
    "version": 3
   },
   "file_extension": ".py",
   "mimetype": "text/x-python",
   "name": "python",
   "nbconvert_exporter": "python",
   "pygments_lexer": "ipython3",
   "version": "3.10.5"
  },
  "orig_nbformat": 4
 },
 "nbformat": 4,
 "nbformat_minor": 2
}
